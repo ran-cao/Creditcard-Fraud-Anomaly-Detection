{
  "nbformat": 4,
  "nbformat_minor": 0,
  "metadata": {
    "colab": {
      "name": "Untitled2.ipynb",
      "provenance": [],
      "collapsed_sections": [
        "SwHMoqID7Pft",
        "lGzN0oaW9Sh7"
      ],
      "authorship_tag": "ABX9TyMGzdSxKRv4agA5oy/A8Qd0",
      "include_colab_link": true
    },
    "kernelspec": {
      "name": "python3",
      "display_name": "Python 3"
    }
  },
  "cells": [
    {
      "cell_type": "markdown",
      "metadata": {
        "id": "view-in-github",
        "colab_type": "text"
      },
      "source": [
        "<a href=\"https://colab.research.google.com/github/ran-cao/Creditcard-Fraud-Anomaly-Detection/blob/master/Pyod%20Knn%2C%20PCA%2C%20IForest%2C%20AutoEncoder.ipynb\" target=\"_parent\"><img src=\"https://colab.research.google.com/assets/colab-badge.svg\" alt=\"Open In Colab\"/></a>"
      ]
    },
    {
      "cell_type": "code",
      "metadata": {
        "id": "VB5GMK32zcmw"
      },
      "source": [
        "import pandas as pd\n",
        "import numpy as np\n",
        "import matplotlib.pyplot as plt\n",
        "import seaborn as sns\n",
        "%matplotlib inline"
      ],
      "execution_count": 1,
      "outputs": []
    },
    {
      "cell_type": "code",
      "metadata": {
        "id": "tYo9BH2E46TZ",
        "outputId": "e58b6c8f-cb8c-494e-9366-c4ce82c01967",
        "colab": {
          "base_uri": "https://localhost:8080/"
        }
      },
      "source": [
        "from google.colab import drive\n",
        "drive.mount('/content/gdrive', force_remount= True)"
      ],
      "execution_count": 2,
      "outputs": [
        {
          "output_type": "stream",
          "text": [
            "Mounted at /content/gdrive\n"
          ],
          "name": "stdout"
        }
      ]
    },
    {
      "cell_type": "code",
      "metadata": {
        "id": "956cGuTTzJ-v"
      },
      "source": [
        "ccard = pd.read_csv('/content/gdrive/My Drive/anomaly detection/purchase_credit_card.csv')"
      ],
      "execution_count": 3,
      "outputs": []
    },
    {
      "cell_type": "code",
      "metadata": {
        "id": "V07R5YHzznBK",
        "outputId": "2d852573-afa8-43bc-9ac2-39d5f7cca1a5",
        "colab": {
          "base_uri": "https://localhost:8080/",
          "height": 323
        }
      },
      "source": [
        "ccard.info()"
      ],
      "execution_count": null,
      "outputs": [
        {
          "output_type": "stream",
          "text": [
            "<class 'pandas.core.frame.DataFrame'>\n",
            "RangeIndex: 442458 entries, 0 to 442457\n",
            "Data columns (total 11 columns):\n",
            " #   Column                        Non-Null Count   Dtype  \n",
            "---  ------                        --------------   -----  \n",
            " 0   Year-Month                    442458 non-null  int64  \n",
            " 1   Agency Number                 442458 non-null  int64  \n",
            " 2   Agency Name                   442458 non-null  object \n",
            " 3   Cardholder Last Name          442458 non-null  object \n",
            " 4   Cardholder First Initial      442458 non-null  object \n",
            " 5   Description                   442458 non-null  object \n",
            " 6   Amount                        442458 non-null  float64\n",
            " 7   Vendor                        442458 non-null  object \n",
            " 8   Transaction Date              442458 non-null  object \n",
            " 9   Posted Date                   442458 non-null  object \n",
            " 10  Merchant Category Code (MCC)  442458 non-null  object \n",
            "dtypes: float64(1), int64(2), object(8)\n",
            "memory usage: 37.1+ MB\n"
          ],
          "name": "stdout"
        }
      ]
    },
    {
      "cell_type": "code",
      "metadata": {
        "id": "lXsCPeM-z5Pz",
        "outputId": "198ad2a5-6407-4be6-ae2d-36f19a39f310",
        "colab": {
          "base_uri": "https://localhost:8080/",
          "height": 442
        }
      },
      "source": [
        "ccard.head()"
      ],
      "execution_count": null,
      "outputs": [
        {
          "output_type": "execute_result",
          "data": {
            "text/html": [
              "<div>\n",
              "<style scoped>\n",
              "    .dataframe tbody tr th:only-of-type {\n",
              "        vertical-align: middle;\n",
              "    }\n",
              "\n",
              "    .dataframe tbody tr th {\n",
              "        vertical-align: top;\n",
              "    }\n",
              "\n",
              "    .dataframe thead th {\n",
              "        text-align: right;\n",
              "    }\n",
              "</style>\n",
              "<table border=\"1\" class=\"dataframe\">\n",
              "  <thead>\n",
              "    <tr style=\"text-align: right;\">\n",
              "      <th></th>\n",
              "      <th>Year-Month</th>\n",
              "      <th>Agency Number</th>\n",
              "      <th>Agency Name</th>\n",
              "      <th>Cardholder Last Name</th>\n",
              "      <th>Cardholder First Initial</th>\n",
              "      <th>Description</th>\n",
              "      <th>Amount</th>\n",
              "      <th>Vendor</th>\n",
              "      <th>Transaction Date</th>\n",
              "      <th>Posted Date</th>\n",
              "      <th>Merchant Category Code (MCC)</th>\n",
              "    </tr>\n",
              "  </thead>\n",
              "  <tbody>\n",
              "    <tr>\n",
              "      <th>0</th>\n",
              "      <td>201307</td>\n",
              "      <td>1000</td>\n",
              "      <td>OKLAHOMA STATE UNIVERSITY</td>\n",
              "      <td>Mason</td>\n",
              "      <td>C</td>\n",
              "      <td>GENERAL PURCHASE</td>\n",
              "      <td>890.00</td>\n",
              "      <td>NACAS</td>\n",
              "      <td>07/30/2013 12:00:00 AM</td>\n",
              "      <td>07/31/2013 12:00:00 AM</td>\n",
              "      <td>CHARITABLE AND SOCIAL SERVICE ORGANIZATIONS</td>\n",
              "    </tr>\n",
              "    <tr>\n",
              "      <th>1</th>\n",
              "      <td>201307</td>\n",
              "      <td>1000</td>\n",
              "      <td>OKLAHOMA STATE UNIVERSITY</td>\n",
              "      <td>Mason</td>\n",
              "      <td>C</td>\n",
              "      <td>ROOM CHARGES</td>\n",
              "      <td>368.96</td>\n",
              "      <td>SHERATON HOTEL</td>\n",
              "      <td>07/30/2013 12:00:00 AM</td>\n",
              "      <td>07/31/2013 12:00:00 AM</td>\n",
              "      <td>SHERATON</td>\n",
              "    </tr>\n",
              "    <tr>\n",
              "      <th>2</th>\n",
              "      <td>201307</td>\n",
              "      <td>1000</td>\n",
              "      <td>OKLAHOMA STATE UNIVERSITY</td>\n",
              "      <td>Massey</td>\n",
              "      <td>J</td>\n",
              "      <td>GENERAL PURCHASE</td>\n",
              "      <td>165.82</td>\n",
              "      <td>SEARS.COM 9300</td>\n",
              "      <td>07/29/2013 12:00:00 AM</td>\n",
              "      <td>07/31/2013 12:00:00 AM</td>\n",
              "      <td>DIRCT MARKETING/DIRCT MARKETERS--NOT ELSEWHERE...</td>\n",
              "    </tr>\n",
              "    <tr>\n",
              "      <th>3</th>\n",
              "      <td>201307</td>\n",
              "      <td>1000</td>\n",
              "      <td>OKLAHOMA STATE UNIVERSITY</td>\n",
              "      <td>Massey</td>\n",
              "      <td>T</td>\n",
              "      <td>GENERAL PURCHASE</td>\n",
              "      <td>96.39</td>\n",
              "      <td>WAL-MART #0137</td>\n",
              "      <td>07/30/2013 12:00:00 AM</td>\n",
              "      <td>07/31/2013 12:00:00 AM</td>\n",
              "      <td>GROCERY STORES,AND SUPERMARKETS</td>\n",
              "    </tr>\n",
              "    <tr>\n",
              "      <th>4</th>\n",
              "      <td>201307</td>\n",
              "      <td>1000</td>\n",
              "      <td>OKLAHOMA STATE UNIVERSITY</td>\n",
              "      <td>Mauro-Herrera</td>\n",
              "      <td>M</td>\n",
              "      <td>HAMMERMILL COPY PLUS COPY EA</td>\n",
              "      <td>125.96</td>\n",
              "      <td>STAPLES DIRECT</td>\n",
              "      <td>07/30/2013 12:00:00 AM</td>\n",
              "      <td>07/31/2013 12:00:00 AM</td>\n",
              "      <td>STATIONERY, OFFICE SUPPLIES, PRINTING AND WRIT...</td>\n",
              "    </tr>\n",
              "  </tbody>\n",
              "</table>\n",
              "</div>"
            ],
            "text/plain": [
              "   Year-Month  ...                       Merchant Category Code (MCC)\n",
              "0      201307  ...        CHARITABLE AND SOCIAL SERVICE ORGANIZATIONS\n",
              "1      201307  ...                                           SHERATON\n",
              "2      201307  ...  DIRCT MARKETING/DIRCT MARKETERS--NOT ELSEWHERE...\n",
              "3      201307  ...                    GROCERY STORES,AND SUPERMARKETS\n",
              "4      201307  ...  STATIONERY, OFFICE SUPPLIES, PRINTING AND WRIT...\n",
              "\n",
              "[5 rows x 11 columns]"
            ]
          },
          "metadata": {
            "tags": []
          },
          "execution_count": 9
        }
      ]
    },
    {
      "cell_type": "markdown",
      "metadata": {
        "id": "9FwGCn4k347o"
      },
      "source": [
        "# EDA"
      ]
    },
    {
      "cell_type": "code",
      "metadata": {
        "id": "njIPKzjz4GDc",
        "outputId": "06ddce23-3d18-4626-da92-9c139d218702",
        "colab": {
          "base_uri": "https://localhost:8080/",
          "height": 170
        }
      },
      "source": [
        "ccard['Amount'].describe()"
      ],
      "execution_count": null,
      "outputs": [
        {
          "output_type": "execute_result",
          "data": {
            "text/plain": [
              "count    4.424580e+05\n",
              "mean     4.249912e+02\n",
              "std      5.266509e+03\n",
              "min     -4.286304e+04\n",
              "25%      3.091000e+01\n",
              "50%      1.048900e+02\n",
              "75%      3.450000e+02\n",
              "max      1.903858e+06\n",
              "Name: Amount, dtype: float64"
            ]
          },
          "metadata": {
            "tags": []
          },
          "execution_count": 10
        }
      ]
    },
    {
      "cell_type": "code",
      "metadata": {
        "id": "YfgwE0c-34mS",
        "outputId": "b6d8f7dc-2dcd-4b82-ccf1-170273cf5081",
        "colab": {
          "base_uri": "https://localhost:8080/",
          "height": 513
        }
      },
      "source": [
        "plt.figure(figsize=(15,5))\n",
        "txt = ccard['Agency Name'].value_counts()[:20].index\n",
        "\n",
        "chart = sns.countplot(\n",
        "    x='Agency Name' ,data=ccard , order=txt\n",
        ")\n",
        "\n",
        "_ = chart.set_xticklabels(chart.get_xticklabels(), rotation=45)\n",
        "plt.rcParams[\"axes.labelsize\"] = 10"
      ],
      "execution_count": null,
      "outputs": [
        {
          "output_type": "display_data",
          "data": {
            "image/png": "[encoded data removed]",
            "text/plain": [
              "<Figure size 1080x360 with 1 Axes>"
            ]
          },
          "metadata": {
            "tags": [],
            "needs_background": "light"
          }
        }
      ]
    },
    {
      "cell_type": "markdown",
      "metadata": {
        "id": "RbtHkzCzX6bN"
      },
      "source": [
        "# **Feature Engineering**\n",
        "\n",
        "8 new feartues are created, in each transactional level\n",
        "\n",
        "4 ratios are detailed:\n",
        "\n",
        "\n",
        "*   each agency average spending on each **merchant** category\n",
        "*   each agency monthly spending on each **merchant** category\n",
        "*   each agent's max spending over each month under each **vendor**\n",
        "*   track the individual **cardholer** average spending\n",
        "\n",
        "4 ratios are global/ general agency level: \n",
        "*   track the seasonal (3 months) maximum spending of each agency and create ratios\n",
        "*  each agency average spending\n",
        "*  each agency historical maximum spending\n",
        "*  each agency historical minimum spending (since here we are not considering the effect of negative amount of the creditcard transactions, we want to find the minimum non-negative, non-zero spending of each cardholder). Track how much did the transaction amount exceed the minimum spending\n",
        "\n",
        "Note: only study the positive transaction amount\n"
      ]
    },
    {
      "cell_type": "markdown",
      "metadata": {
        "id": "bMvqS_0_2HZM"
      },
      "source": [
        "## first feature: each agency average spending on each merchant category"
      ]
    },
    {
      "cell_type": "code",
      "metadata": {
        "id": "VWgrpSDHkzGx"
      },
      "source": [
        "# create a copy of previous dataframe that only containing the positive amount\n",
        "ccard2 = ccard[ccard['Amount'] > 0]"
      ],
      "execution_count": 4,
      "outputs": []
    },
    {
      "cell_type": "code",
      "metadata": {
        "id": "VXsWf78HrQLE"
      },
      "source": [
        "ccard2.columns = ['Year-Month',\t'Agency_Number',\t'Agency_Name',\t'Cardholder_LastName', 'Cardholder_FirstInitial',\t'Description',\t'Amount',\t'Vendor',\t'Transaction_Date',\t'Posted_Date',\t'Merchant_Category']"
      ],
      "execution_count": 5,
      "outputs": []
    },
    {
      "cell_type": "code",
      "metadata": {
        "id": "5ryXZwY3mnYa",
        "outputId": "ab389ecf-201e-4b1d-fe07-4ee3b5da76c7",
        "colab": {
          "base_uri": "https://localhost:8080/",
          "height": 289
        }
      },
      "source": [
        "avg_agency = ccard2.groupby(['Agency_Name','Merchant_Category'])['Amount'].mean().reset_index()\n",
        "avg_agency.columns = ['Agency_Name','Merchant_Category','Agency_Merchant_AvgSpending']\n",
        "avg_agency.head()"
      ],
      "execution_count": 6,
      "outputs": [
        {
          "output_type": "execute_result",
          "data": {
            "text/html": [
              "<div>\n",
              "<style scoped>\n",
              "    .dataframe tbody tr th:only-of-type {\n",
              "        vertical-align: middle;\n",
              "    }\n",
              "\n",
              "    .dataframe tbody tr th {\n",
              "        vertical-align: top;\n",
              "    }\n",
              "\n",
              "    .dataframe thead th {\n",
              "        text-align: right;\n",
              "    }\n",
              "</style>\n",
              "<table border=\"1\" class=\"dataframe\">\n",
              "  <thead>\n",
              "    <tr style=\"text-align: right;\">\n",
              "      <th></th>\n",
              "      <th>Agency_Name</th>\n",
              "      <th>Merchant_Category</th>\n",
              "      <th>Agency_Merchant_AvgSpending</th>\n",
              "    </tr>\n",
              "  </thead>\n",
              "  <tbody>\n",
              "    <tr>\n",
              "      <th>0</th>\n",
              "      <td>ARDMORE HIGHER EDUCATION CENTER</td>\n",
              "      <td>BUSINESS SERVICES NOT ELSEWHERE CLASSIFIED</td>\n",
              "      <td>115.120000</td>\n",
              "    </tr>\n",
              "    <tr>\n",
              "      <th>1</th>\n",
              "      <td>ARDMORE HIGHER EDUCATION CENTER</td>\n",
              "      <td>CATALOG MERCHANTS</td>\n",
              "      <td>309.157500</td>\n",
              "    </tr>\n",
              "    <tr>\n",
              "      <th>2</th>\n",
              "      <td>ARDMORE HIGHER EDUCATION CENTER</td>\n",
              "      <td>COMPUTER NETWORK/INFORMATION SERVICES</td>\n",
              "      <td>18.340000</td>\n",
              "    </tr>\n",
              "    <tr>\n",
              "      <th>3</th>\n",
              "      <td>ARDMORE HIGHER EDUCATION CENTER</td>\n",
              "      <td>DRUG STORES AND PHARMACIES</td>\n",
              "      <td>153.450000</td>\n",
              "    </tr>\n",
              "    <tr>\n",
              "      <th>4</th>\n",
              "      <td>ARDMORE HIGHER EDUCATION CENTER</td>\n",
              "      <td>GROCERY STORES,AND SUPERMARKETS</td>\n",
              "      <td>74.525455</td>\n",
              "    </tr>\n",
              "  </tbody>\n",
              "</table>\n",
              "</div>"
            ],
            "text/plain": [
              "                       Agency_Name  ... Agency_Merchant_AvgSpending\n",
              "0  ARDMORE HIGHER EDUCATION CENTER  ...                  115.120000\n",
              "1  ARDMORE HIGHER EDUCATION CENTER  ...                  309.157500\n",
              "2  ARDMORE HIGHER EDUCATION CENTER  ...                   18.340000\n",
              "3  ARDMORE HIGHER EDUCATION CENTER  ...                  153.450000\n",
              "4  ARDMORE HIGHER EDUCATION CENTER  ...                   74.525455\n",
              "\n",
              "[5 rows x 3 columns]"
            ]
          },
          "metadata": {
            "tags": []
          },
          "execution_count": 6
        }
      ]
    },
    {
      "cell_type": "code",
      "metadata": {
        "id": "fSQDgSuwm0NY",
        "outputId": "588b1a9d-2c6f-4630-e0bc-c6d7f3709494",
        "colab": {
          "base_uri": "https://localhost:8080/",
          "height": 298
        }
      },
      "source": [
        "# Join back to original table\n",
        "ccard2 = ccard2.merge(avg_agency,on=['Agency_Name','Merchant_Category'],how='left')\n",
        "ccard2['Agency_Merchant_AvgSpending_Ratio'] = ccard2['Amount']/ccard2['Agency_Merchant_AvgSpending']\n",
        "ccard2.head(3)"
      ],
      "execution_count": 7,
      "outputs": [
        {
          "output_type": "execute_result",
          "data": {
            "text/html": [
              "<div>\n",
              "<style scoped>\n",
              "    .dataframe tbody tr th:only-of-type {\n",
              "        vertical-align: middle;\n",
              "    }\n",
              "\n",
              "    .dataframe tbody tr th {\n",
              "        vertical-align: top;\n",
              "    }\n",
              "\n",
              "    .dataframe thead th {\n",
              "        text-align: right;\n",
              "    }\n",
              "</style>\n",
              "<table border=\"1\" class=\"dataframe\">\n",
              "  <thead>\n",
              "    <tr style=\"text-align: right;\">\n",
              "      <th></th>\n",
              "      <th>Year-Month</th>\n",
              "      <th>Agency_Number</th>\n",
              "      <th>Agency_Name</th>\n",
              "      <th>Cardholder_LastName</th>\n",
              "      <th>Cardholder_FirstInitial</th>\n",
              "      <th>Description</th>\n",
              "      <th>Amount</th>\n",
              "      <th>Vendor</th>\n",
              "      <th>Transaction_Date</th>\n",
              "      <th>Posted_Date</th>\n",
              "      <th>Merchant_Category</th>\n",
              "      <th>Agency_Merchant_AvgSpending</th>\n",
              "      <th>Agency_Merchant_AvgSpending_Ratio</th>\n",
              "    </tr>\n",
              "  </thead>\n",
              "  <tbody>\n",
              "    <tr>\n",
              "      <th>0</th>\n",
              "      <td>201307</td>\n",
              "      <td>1000</td>\n",
              "      <td>OKLAHOMA STATE UNIVERSITY</td>\n",
              "      <td>Mason</td>\n",
              "      <td>C</td>\n",
              "      <td>GENERAL PURCHASE</td>\n",
              "      <td>890.00</td>\n",
              "      <td>NACAS</td>\n",
              "      <td>07/30/2013 12:00:00 AM</td>\n",
              "      <td>07/31/2013 12:00:00 AM</td>\n",
              "      <td>CHARITABLE AND SOCIAL SERVICE ORGANIZATIONS</td>\n",
              "      <td>449.628734</td>\n",
              "      <td>1.979411</td>\n",
              "    </tr>\n",
              "    <tr>\n",
              "      <th>1</th>\n",
              "      <td>201307</td>\n",
              "      <td>1000</td>\n",
              "      <td>OKLAHOMA STATE UNIVERSITY</td>\n",
              "      <td>Mason</td>\n",
              "      <td>C</td>\n",
              "      <td>ROOM CHARGES</td>\n",
              "      <td>368.96</td>\n",
              "      <td>SHERATON HOTEL</td>\n",
              "      <td>07/30/2013 12:00:00 AM</td>\n",
              "      <td>07/31/2013 12:00:00 AM</td>\n",
              "      <td>SHERATON</td>\n",
              "      <td>470.991494</td>\n",
              "      <td>0.783369</td>\n",
              "    </tr>\n",
              "    <tr>\n",
              "      <th>2</th>\n",
              "      <td>201307</td>\n",
              "      <td>1000</td>\n",
              "      <td>OKLAHOMA STATE UNIVERSITY</td>\n",
              "      <td>Massey</td>\n",
              "      <td>J</td>\n",
              "      <td>GENERAL PURCHASE</td>\n",
              "      <td>165.82</td>\n",
              "      <td>SEARS.COM 9300</td>\n",
              "      <td>07/29/2013 12:00:00 AM</td>\n",
              "      <td>07/31/2013 12:00:00 AM</td>\n",
              "      <td>DIRCT MARKETING/DIRCT MARKETERS--NOT ELSEWHERE...</td>\n",
              "      <td>415.132419</td>\n",
              "      <td>0.399439</td>\n",
              "    </tr>\n",
              "  </tbody>\n",
              "</table>\n",
              "</div>"
            ],
            "text/plain": [
              "   Year-Month  ...  Agency_Merchant_AvgSpending_Ratio\n",
              "0      201307  ...                           1.979411\n",
              "1      201307  ...                           0.783369\n",
              "2      201307  ...                           0.399439\n",
              "\n",
              "[3 rows x 13 columns]"
            ]
          },
          "metadata": {
            "tags": []
          },
          "execution_count": 7
        }
      ]
    },
    {
      "cell_type": "markdown",
      "metadata": {
        "id": "J3zT3F-Y9KLg"
      },
      "source": [
        "## Feature 2: each agency monthly spending on each merchant category"
      ]
    },
    {
      "cell_type": "code",
      "metadata": {
        "id": "1W_lIMCjsMkJ",
        "outputId": "da81696c-f672-4fb3-8d17-b2f372cede67",
        "colab": {
          "base_uri": "https://localhost:8080/",
          "height": 306
        }
      },
      "source": [
        "per_agency_category = ccard2.groupby(['Agency_Name','Merchant_Category','Year-Month'])['Amount'].mean().reset_index()\n",
        "per_agency_category.columns = ['Agency_Name','Merchant_Category','Year-Month','Agency_Merchant_Monthly_AvgSpending']\n",
        "per_agency_category.head()"
      ],
      "execution_count": 8,
      "outputs": [
        {
          "output_type": "execute_result",
          "data": {
            "text/html": [
              "<div>\n",
              "<style scoped>\n",
              "    .dataframe tbody tr th:only-of-type {\n",
              "        vertical-align: middle;\n",
              "    }\n",
              "\n",
              "    .dataframe tbody tr th {\n",
              "        vertical-align: top;\n",
              "    }\n",
              "\n",
              "    .dataframe thead th {\n",
              "        text-align: right;\n",
              "    }\n",
              "</style>\n",
              "<table border=\"1\" class=\"dataframe\">\n",
              "  <thead>\n",
              "    <tr style=\"text-align: right;\">\n",
              "      <th></th>\n",
              "      <th>Agency_Name</th>\n",
              "      <th>Merchant_Category</th>\n",
              "      <th>Year-Month</th>\n",
              "      <th>Agency_Merchant_Monthly_AvgSpending</th>\n",
              "    </tr>\n",
              "  </thead>\n",
              "  <tbody>\n",
              "    <tr>\n",
              "      <th>0</th>\n",
              "      <td>ARDMORE HIGHER EDUCATION CENTER</td>\n",
              "      <td>BUSINESS SERVICES NOT ELSEWHERE CLASSIFIED</td>\n",
              "      <td>201311</td>\n",
              "      <td>115.120</td>\n",
              "    </tr>\n",
              "    <tr>\n",
              "      <th>1</th>\n",
              "      <td>ARDMORE HIGHER EDUCATION CENTER</td>\n",
              "      <td>CATALOG MERCHANTS</td>\n",
              "      <td>201308</td>\n",
              "      <td>669.080</td>\n",
              "    </tr>\n",
              "    <tr>\n",
              "      <th>2</th>\n",
              "      <td>ARDMORE HIGHER EDUCATION CENTER</td>\n",
              "      <td>CATALOG MERCHANTS</td>\n",
              "      <td>201310</td>\n",
              "      <td>334.540</td>\n",
              "    </tr>\n",
              "    <tr>\n",
              "      <th>3</th>\n",
              "      <td>ARDMORE HIGHER EDUCATION CENTER</td>\n",
              "      <td>CATALOG MERCHANTS</td>\n",
              "      <td>201311</td>\n",
              "      <td>116.505</td>\n",
              "    </tr>\n",
              "    <tr>\n",
              "      <th>4</th>\n",
              "      <td>ARDMORE HIGHER EDUCATION CENTER</td>\n",
              "      <td>COMPUTER NETWORK/INFORMATION SERVICES</td>\n",
              "      <td>201310</td>\n",
              "      <td>18.340</td>\n",
              "    </tr>\n",
              "  </tbody>\n",
              "</table>\n",
              "</div>"
            ],
            "text/plain": [
              "                       Agency_Name  ... Agency_Merchant_Monthly_AvgSpending\n",
              "0  ARDMORE HIGHER EDUCATION CENTER  ...                             115.120\n",
              "1  ARDMORE HIGHER EDUCATION CENTER  ...                             669.080\n",
              "2  ARDMORE HIGHER EDUCATION CENTER  ...                             334.540\n",
              "3  ARDMORE HIGHER EDUCATION CENTER  ...                             116.505\n",
              "4  ARDMORE HIGHER EDUCATION CENTER  ...                              18.340\n",
              "\n",
              "[5 rows x 4 columns]"
            ]
          },
          "metadata": {
            "tags": []
          },
          "execution_count": 8
        }
      ]
    },
    {
      "cell_type": "code",
      "metadata": {
        "id": "A4ewsdHPsRos",
        "outputId": "4cec17b8-5028-4da8-aac5-ca8abfb65c18",
        "colab": {
          "base_uri": "https://localhost:8080/",
          "height": 298
        }
      },
      "source": [
        "# Join back to original table\n",
        "ccard2 = ccard2.merge(per_agency_category,on=['Agency_Name','Merchant_Category','Year-Month'],how='left')\n",
        "ccard2['Agency_Merchant_Monthly_AvgSpending_Ratio'] = ccard2['Amount']/ccard2['Agency_Merchant_Monthly_AvgSpending']\n",
        "ccard2.head(3)"
      ],
      "execution_count": 9,
      "outputs": [
        {
          "output_type": "execute_result",
          "data": {
            "text/html": [
              "<div>\n",
              "<style scoped>\n",
              "    .dataframe tbody tr th:only-of-type {\n",
              "        vertical-align: middle;\n",
              "    }\n",
              "\n",
              "    .dataframe tbody tr th {\n",
              "        vertical-align: top;\n",
              "    }\n",
              "\n",
              "    .dataframe thead th {\n",
              "        text-align: right;\n",
              "    }\n",
              "</style>\n",
              "<table border=\"1\" class=\"dataframe\">\n",
              "  <thead>\n",
              "    <tr style=\"text-align: right;\">\n",
              "      <th></th>\n",
              "      <th>Year-Month</th>\n",
              "      <th>Agency_Number</th>\n",
              "      <th>Agency_Name</th>\n",
              "      <th>Cardholder_LastName</th>\n",
              "      <th>Cardholder_FirstInitial</th>\n",
              "      <th>Description</th>\n",
              "      <th>Amount</th>\n",
              "      <th>Vendor</th>\n",
              "      <th>Transaction_Date</th>\n",
              "      <th>Posted_Date</th>\n",
              "      <th>Merchant_Category</th>\n",
              "      <th>Agency_Merchant_AvgSpending</th>\n",
              "      <th>Agency_Merchant_AvgSpending_Ratio</th>\n",
              "      <th>Agency_Merchant_Monthly_AvgSpending</th>\n",
              "      <th>Agency_Merchant_Monthly_AvgSpending_Ratio</th>\n",
              "    </tr>\n",
              "  </thead>\n",
              "  <tbody>\n",
              "    <tr>\n",
              "      <th>0</th>\n",
              "      <td>201307</td>\n",
              "      <td>1000</td>\n",
              "      <td>OKLAHOMA STATE UNIVERSITY</td>\n",
              "      <td>Mason</td>\n",
              "      <td>C</td>\n",
              "      <td>GENERAL PURCHASE</td>\n",
              "      <td>890.00</td>\n",
              "      <td>NACAS</td>\n",
              "      <td>07/30/2013 12:00:00 AM</td>\n",
              "      <td>07/31/2013 12:00:00 AM</td>\n",
              "      <td>CHARITABLE AND SOCIAL SERVICE ORGANIZATIONS</td>\n",
              "      <td>449.628734</td>\n",
              "      <td>1.979411</td>\n",
              "      <td>509.665227</td>\n",
              "      <td>1.746244</td>\n",
              "    </tr>\n",
              "    <tr>\n",
              "      <th>1</th>\n",
              "      <td>201307</td>\n",
              "      <td>1000</td>\n",
              "      <td>OKLAHOMA STATE UNIVERSITY</td>\n",
              "      <td>Mason</td>\n",
              "      <td>C</td>\n",
              "      <td>ROOM CHARGES</td>\n",
              "      <td>368.96</td>\n",
              "      <td>SHERATON HOTEL</td>\n",
              "      <td>07/30/2013 12:00:00 AM</td>\n",
              "      <td>07/31/2013 12:00:00 AM</td>\n",
              "      <td>SHERATON</td>\n",
              "      <td>470.991494</td>\n",
              "      <td>0.783369</td>\n",
              "      <td>491.115238</td>\n",
              "      <td>0.751270</td>\n",
              "    </tr>\n",
              "    <tr>\n",
              "      <th>2</th>\n",
              "      <td>201307</td>\n",
              "      <td>1000</td>\n",
              "      <td>OKLAHOMA STATE UNIVERSITY</td>\n",
              "      <td>Massey</td>\n",
              "      <td>J</td>\n",
              "      <td>GENERAL PURCHASE</td>\n",
              "      <td>165.82</td>\n",
              "      <td>SEARS.COM 9300</td>\n",
              "      <td>07/29/2013 12:00:00 AM</td>\n",
              "      <td>07/31/2013 12:00:00 AM</td>\n",
              "      <td>DIRCT MARKETING/DIRCT MARKETERS--NOT ELSEWHERE...</td>\n",
              "      <td>415.132419</td>\n",
              "      <td>0.399439</td>\n",
              "      <td>403.522222</td>\n",
              "      <td>0.410932</td>\n",
              "    </tr>\n",
              "  </tbody>\n",
              "</table>\n",
              "</div>"
            ],
            "text/plain": [
              "   Year-Month  ...  Agency_Merchant_Monthly_AvgSpending_Ratio\n",
              "0      201307  ...                                   1.746244\n",
              "1      201307  ...                                   0.751270\n",
              "2      201307  ...                                   0.410932\n",
              "\n",
              "[3 rows x 15 columns]"
            ]
          },
          "metadata": {
            "tags": []
          },
          "execution_count": 9
        }
      ]
    },
    {
      "cell_type": "markdown",
      "metadata": {
        "id": "dcq251IRpfqa"
      },
      "source": [
        "## Third feature: each agent's max spending over each month under each vendor  "
      ]
    },
    {
      "cell_type": "code",
      "metadata": {
        "id": "RRpxm_Ccs53d",
        "outputId": "ef94ba5e-9bfb-4558-a717-e01b395ed172",
        "colab": {
          "base_uri": "https://localhost:8080/",
          "height": 204
        }
      },
      "source": [
        "max_monthly_vendor = ccard2.groupby(['Agency_Name','Vendor','Year-Month'])['Amount'].max().reset_index()\n",
        "max_monthly_vendor.columns = ['Agency_Name','Vendor','Year-Month','Monthly_Max_VendorSpending']\n",
        "max_monthly_vendor.head()"
      ],
      "execution_count": 10,
      "outputs": [
        {
          "output_type": "execute_result",
          "data": {
            "text/html": [
              "<div>\n",
              "<style scoped>\n",
              "    .dataframe tbody tr th:only-of-type {\n",
              "        vertical-align: middle;\n",
              "    }\n",
              "\n",
              "    .dataframe tbody tr th {\n",
              "        vertical-align: top;\n",
              "    }\n",
              "\n",
              "    .dataframe thead th {\n",
              "        text-align: right;\n",
              "    }\n",
              "</style>\n",
              "<table border=\"1\" class=\"dataframe\">\n",
              "  <thead>\n",
              "    <tr style=\"text-align: right;\">\n",
              "      <th></th>\n",
              "      <th>Agency_Name</th>\n",
              "      <th>Vendor</th>\n",
              "      <th>Year-Month</th>\n",
              "      <th>Monthly_Max_VendorSpending</th>\n",
              "    </tr>\n",
              "  </thead>\n",
              "  <tbody>\n",
              "    <tr>\n",
              "      <th>0</th>\n",
              "      <td>ARDMORE HIGHER EDUCATION CENTER</td>\n",
              "      <td>AGRI PRODUCTS</td>\n",
              "      <td>201312</td>\n",
              "      <td>92.50</td>\n",
              "    </tr>\n",
              "    <tr>\n",
              "      <th>1</th>\n",
              "      <td>ARDMORE HIGHER EDUCATION CENTER</td>\n",
              "      <td>CDW GOVERNMENT</td>\n",
              "      <td>201308</td>\n",
              "      <td>669.08</td>\n",
              "    </tr>\n",
              "    <tr>\n",
              "      <th>2</th>\n",
              "      <td>ARDMORE HIGHER EDUCATION CENTER</td>\n",
              "      <td>CDW GOVERNMENT</td>\n",
              "      <td>201310</td>\n",
              "      <td>334.54</td>\n",
              "    </tr>\n",
              "    <tr>\n",
              "      <th>3</th>\n",
              "      <td>ARDMORE HIGHER EDUCATION CENTER</td>\n",
              "      <td>CDW GOVERNMENT</td>\n",
              "      <td>201311</td>\n",
              "      <td>194.85</td>\n",
              "    </tr>\n",
              "    <tr>\n",
              "      <th>4</th>\n",
              "      <td>ARDMORE HIGHER EDUCATION CENTER</td>\n",
              "      <td>COUNTY BUILDING CE</td>\n",
              "      <td>201307</td>\n",
              "      <td>58.44</td>\n",
              "    </tr>\n",
              "  </tbody>\n",
              "</table>\n",
              "</div>"
            ],
            "text/plain": [
              "                       Agency_Name  ... Monthly_Max_VendorSpending\n",
              "0  ARDMORE HIGHER EDUCATION CENTER  ...                      92.50\n",
              "1  ARDMORE HIGHER EDUCATION CENTER  ...                     669.08\n",
              "2  ARDMORE HIGHER EDUCATION CENTER  ...                     334.54\n",
              "3  ARDMORE HIGHER EDUCATION CENTER  ...                     194.85\n",
              "4  ARDMORE HIGHER EDUCATION CENTER  ...                      58.44\n",
              "\n",
              "[5 rows x 4 columns]"
            ]
          },
          "metadata": {
            "tags": []
          },
          "execution_count": 10
        }
      ]
    },
    {
      "cell_type": "code",
      "metadata": {
        "id": "Wdvui0o_s9QT",
        "outputId": "a3f5a25a-5e95-43e3-880b-763f3287c464",
        "colab": {
          "base_uri": "https://localhost:8080/",
          "height": 298
        }
      },
      "source": [
        "#Join back to original table & create ratio \n",
        "ccard2 = ccard2.merge(max_monthly_vendor,on=['Agency_Name','Vendor','Year-Month'],how='left')\n",
        "ccard2['Monthly_Max_VendorSpending_Ratio'] = ccard2['Amount']/ccard2['Monthly_Max_VendorSpending']\n",
        "ccard2.head(3)"
      ],
      "execution_count": 11,
      "outputs": [
        {
          "output_type": "execute_result",
          "data": {
            "text/html": [
              "<div>\n",
              "<style scoped>\n",
              "    .dataframe tbody tr th:only-of-type {\n",
              "        vertical-align: middle;\n",
              "    }\n",
              "\n",
              "    .dataframe tbody tr th {\n",
              "        vertical-align: top;\n",
              "    }\n",
              "\n",
              "    .dataframe thead th {\n",
              "        text-align: right;\n",
              "    }\n",
              "</style>\n",
              "<table border=\"1\" class=\"dataframe\">\n",
              "  <thead>\n",
              "    <tr style=\"text-align: right;\">\n",
              "      <th></th>\n",
              "      <th>Year-Month</th>\n",
              "      <th>Agency_Number</th>\n",
              "      <th>Agency_Name</th>\n",
              "      <th>Cardholder_LastName</th>\n",
              "      <th>Cardholder_FirstInitial</th>\n",
              "      <th>Description</th>\n",
              "      <th>Amount</th>\n",
              "      <th>Vendor</th>\n",
              "      <th>Transaction_Date</th>\n",
              "      <th>Posted_Date</th>\n",
              "      <th>Merchant_Category</th>\n",
              "      <th>Agency_Merchant_AvgSpending</th>\n",
              "      <th>Agency_Merchant_AvgSpending_Ratio</th>\n",
              "      <th>Agency_Merchant_Monthly_AvgSpending</th>\n",
              "      <th>Agency_Merchant_Monthly_AvgSpending_Ratio</th>\n",
              "      <th>Monthly_Max_VendorSpending</th>\n",
              "      <th>Monthly_Max_VendorSpending_Ratio</th>\n",
              "    </tr>\n",
              "  </thead>\n",
              "  <tbody>\n",
              "    <tr>\n",
              "      <th>0</th>\n",
              "      <td>201307</td>\n",
              "      <td>1000</td>\n",
              "      <td>OKLAHOMA STATE UNIVERSITY</td>\n",
              "      <td>Mason</td>\n",
              "      <td>C</td>\n",
              "      <td>GENERAL PURCHASE</td>\n",
              "      <td>890.00</td>\n",
              "      <td>NACAS</td>\n",
              "      <td>07/30/2013 12:00:00 AM</td>\n",
              "      <td>07/31/2013 12:00:00 AM</td>\n",
              "      <td>CHARITABLE AND SOCIAL SERVICE ORGANIZATIONS</td>\n",
              "      <td>449.628734</td>\n",
              "      <td>1.979411</td>\n",
              "      <td>509.665227</td>\n",
              "      <td>1.746244</td>\n",
              "      <td>970.00</td>\n",
              "      <td>0.917526</td>\n",
              "    </tr>\n",
              "    <tr>\n",
              "      <th>1</th>\n",
              "      <td>201307</td>\n",
              "      <td>1000</td>\n",
              "      <td>OKLAHOMA STATE UNIVERSITY</td>\n",
              "      <td>Mason</td>\n",
              "      <td>C</td>\n",
              "      <td>ROOM CHARGES</td>\n",
              "      <td>368.96</td>\n",
              "      <td>SHERATON HOTEL</td>\n",
              "      <td>07/30/2013 12:00:00 AM</td>\n",
              "      <td>07/31/2013 12:00:00 AM</td>\n",
              "      <td>SHERATON</td>\n",
              "      <td>470.991494</td>\n",
              "      <td>0.783369</td>\n",
              "      <td>491.115238</td>\n",
              "      <td>0.751270</td>\n",
              "      <td>368.96</td>\n",
              "      <td>1.000000</td>\n",
              "    </tr>\n",
              "    <tr>\n",
              "      <th>2</th>\n",
              "      <td>201307</td>\n",
              "      <td>1000</td>\n",
              "      <td>OKLAHOMA STATE UNIVERSITY</td>\n",
              "      <td>Massey</td>\n",
              "      <td>J</td>\n",
              "      <td>GENERAL PURCHASE</td>\n",
              "      <td>165.82</td>\n",
              "      <td>SEARS.COM 9300</td>\n",
              "      <td>07/29/2013 12:00:00 AM</td>\n",
              "      <td>07/31/2013 12:00:00 AM</td>\n",
              "      <td>DIRCT MARKETING/DIRCT MARKETERS--NOT ELSEWHERE...</td>\n",
              "      <td>415.132419</td>\n",
              "      <td>0.399439</td>\n",
              "      <td>403.522222</td>\n",
              "      <td>0.410932</td>\n",
              "      <td>165.82</td>\n",
              "      <td>1.000000</td>\n",
              "    </tr>\n",
              "  </tbody>\n",
              "</table>\n",
              "</div>"
            ],
            "text/plain": [
              "   Year-Month  ...  Monthly_Max_VendorSpending_Ratio\n",
              "0      201307  ...                          0.917526\n",
              "1      201307  ...                          1.000000\n",
              "2      201307  ...                          1.000000\n",
              "\n",
              "[3 rows x 17 columns]"
            ]
          },
          "metadata": {
            "tags": []
          },
          "execution_count": 11
        }
      ]
    },
    {
      "cell_type": "markdown",
      "metadata": {
        "id": "b8Sm14osrblq"
      },
      "source": [
        "## Fourth feature: track the individual cardholer average spending \n",
        "\n"
      ]
    },
    {
      "cell_type": "code",
      "metadata": {
        "id": "emmSn2Y6tOo3",
        "outputId": "49fb2b14-a5bf-43e1-f33a-2d98ed226dfa",
        "colab": {
          "base_uri": "https://localhost:8080/",
          "height": 204
        }
      },
      "source": [
        "individual = ccard2.groupby(['Agency_Name','Cardholder_LastName','Cardholder_FirstInitial'])['Amount'].mean().reset_index()\n",
        "individual.columns = ['Agency_Name','Cardholder_LastName','Cardholder_FirstInitial','cardholer_AvgSpending']\n",
        "individual.head()"
      ],
      "execution_count": 12,
      "outputs": [
        {
          "output_type": "execute_result",
          "data": {
            "text/html": [
              "<div>\n",
              "<style scoped>\n",
              "    .dataframe tbody tr th:only-of-type {\n",
              "        vertical-align: middle;\n",
              "    }\n",
              "\n",
              "    .dataframe tbody tr th {\n",
              "        vertical-align: top;\n",
              "    }\n",
              "\n",
              "    .dataframe thead th {\n",
              "        text-align: right;\n",
              "    }\n",
              "</style>\n",
              "<table border=\"1\" class=\"dataframe\">\n",
              "  <thead>\n",
              "    <tr style=\"text-align: right;\">\n",
              "      <th></th>\n",
              "      <th>Agency_Name</th>\n",
              "      <th>Cardholder_LastName</th>\n",
              "      <th>Cardholder_FirstInitial</th>\n",
              "      <th>cardholer_AvgSpending</th>\n",
              "    </tr>\n",
              "  </thead>\n",
              "  <tbody>\n",
              "    <tr>\n",
              "      <th>0</th>\n",
              "      <td>ARDMORE HIGHER EDUCATION CENTER</td>\n",
              "      <td>Pollard</td>\n",
              "      <td>C</td>\n",
              "      <td>124.993333</td>\n",
              "    </tr>\n",
              "    <tr>\n",
              "      <th>1</th>\n",
              "      <td>ARDMORE HIGHER EDUCATION CENTER</td>\n",
              "      <td>Ray</td>\n",
              "      <td>M</td>\n",
              "      <td>160.757407</td>\n",
              "    </tr>\n",
              "    <tr>\n",
              "      <th>2</th>\n",
              "      <td>ARDMORE HIGHER EDUCATION CENTER</td>\n",
              "      <td>Stoker</td>\n",
              "      <td>C</td>\n",
              "      <td>136.262500</td>\n",
              "    </tr>\n",
              "    <tr>\n",
              "      <th>3</th>\n",
              "      <td>ATTORNEY GENERAL</td>\n",
              "      <td>Baustert</td>\n",
              "      <td>J</td>\n",
              "      <td>1367.959500</td>\n",
              "    </tr>\n",
              "    <tr>\n",
              "      <th>4</th>\n",
              "      <td>ATTORNEY GENERAL</td>\n",
              "      <td>Brown</td>\n",
              "      <td>A</td>\n",
              "      <td>179.335405</td>\n",
              "    </tr>\n",
              "  </tbody>\n",
              "</table>\n",
              "</div>"
            ],
            "text/plain": [
              "                       Agency_Name  ... cardholer_AvgSpending\n",
              "0  ARDMORE HIGHER EDUCATION CENTER  ...            124.993333\n",
              "1  ARDMORE HIGHER EDUCATION CENTER  ...            160.757407\n",
              "2  ARDMORE HIGHER EDUCATION CENTER  ...            136.262500\n",
              "3                 ATTORNEY GENERAL  ...           1367.959500\n",
              "4                 ATTORNEY GENERAL  ...            179.335405\n",
              "\n",
              "[5 rows x 4 columns]"
            ]
          },
          "metadata": {
            "tags": []
          },
          "execution_count": 12
        }
      ]
    },
    {
      "cell_type": "code",
      "metadata": {
        "id": "HGMA7erdtRwS",
        "outputId": "db06960d-fabd-4e67-8eb3-e50c2aa76907",
        "colab": {
          "base_uri": "https://localhost:8080/",
          "height": 298
        }
      },
      "source": [
        "# Join back to original table and create feature\n",
        "ccard2 = ccard2.merge(individual,on=['Agency_Name','Cardholder_LastName','Cardholder_FirstInitial'],how='left')\n",
        "ccard2['cardholer_AvgSpending_Ratio'] = ccard2['Amount']/ccard2['cardholer_AvgSpending']\n",
        "ccard2.head(3)"
      ],
      "execution_count": 13,
      "outputs": [
        {
          "output_type": "execute_result",
          "data": {
            "text/html": [
              "<div>\n",
              "<style scoped>\n",
              "    .dataframe tbody tr th:only-of-type {\n",
              "        vertical-align: middle;\n",
              "    }\n",
              "\n",
              "    .dataframe tbody tr th {\n",
              "        vertical-align: top;\n",
              "    }\n",
              "\n",
              "    .dataframe thead th {\n",
              "        text-align: right;\n",
              "    }\n",
              "</style>\n",
              "<table border=\"1\" class=\"dataframe\">\n",
              "  <thead>\n",
              "    <tr style=\"text-align: right;\">\n",
              "      <th></th>\n",
              "      <th>Year-Month</th>\n",
              "      <th>Agency_Number</th>\n",
              "      <th>Agency_Name</th>\n",
              "      <th>Cardholder_LastName</th>\n",
              "      <th>Cardholder_FirstInitial</th>\n",
              "      <th>Description</th>\n",
              "      <th>Amount</th>\n",
              "      <th>Vendor</th>\n",
              "      <th>Transaction_Date</th>\n",
              "      <th>Posted_Date</th>\n",
              "      <th>Merchant_Category</th>\n",
              "      <th>Agency_Merchant_AvgSpending</th>\n",
              "      <th>Agency_Merchant_AvgSpending_Ratio</th>\n",
              "      <th>Agency_Merchant_Monthly_AvgSpending</th>\n",
              "      <th>Agency_Merchant_Monthly_AvgSpending_Ratio</th>\n",
              "      <th>Monthly_Max_VendorSpending</th>\n",
              "      <th>Monthly_Max_VendorSpending_Ratio</th>\n",
              "      <th>cardholer_AvgSpending</th>\n",
              "      <th>cardholer_AvgSpending_Ratio</th>\n",
              "    </tr>\n",
              "  </thead>\n",
              "  <tbody>\n",
              "    <tr>\n",
              "      <th>0</th>\n",
              "      <td>201307</td>\n",
              "      <td>1000</td>\n",
              "      <td>OKLAHOMA STATE UNIVERSITY</td>\n",
              "      <td>Mason</td>\n",
              "      <td>C</td>\n",
              "      <td>GENERAL PURCHASE</td>\n",
              "      <td>890.00</td>\n",
              "      <td>NACAS</td>\n",
              "      <td>07/30/2013 12:00:00 AM</td>\n",
              "      <td>07/31/2013 12:00:00 AM</td>\n",
              "      <td>CHARITABLE AND SOCIAL SERVICE ORGANIZATIONS</td>\n",
              "      <td>449.628734</td>\n",
              "      <td>1.979411</td>\n",
              "      <td>509.665227</td>\n",
              "      <td>1.746244</td>\n",
              "      <td>970.00</td>\n",
              "      <td>0.917526</td>\n",
              "      <td>359.168832</td>\n",
              "      <td>2.477943</td>\n",
              "    </tr>\n",
              "    <tr>\n",
              "      <th>1</th>\n",
              "      <td>201307</td>\n",
              "      <td>1000</td>\n",
              "      <td>OKLAHOMA STATE UNIVERSITY</td>\n",
              "      <td>Mason</td>\n",
              "      <td>C</td>\n",
              "      <td>ROOM CHARGES</td>\n",
              "      <td>368.96</td>\n",
              "      <td>SHERATON HOTEL</td>\n",
              "      <td>07/30/2013 12:00:00 AM</td>\n",
              "      <td>07/31/2013 12:00:00 AM</td>\n",
              "      <td>SHERATON</td>\n",
              "      <td>470.991494</td>\n",
              "      <td>0.783369</td>\n",
              "      <td>491.115238</td>\n",
              "      <td>0.751270</td>\n",
              "      <td>368.96</td>\n",
              "      <td>1.000000</td>\n",
              "      <td>359.168832</td>\n",
              "      <td>1.027261</td>\n",
              "    </tr>\n",
              "    <tr>\n",
              "      <th>2</th>\n",
              "      <td>201307</td>\n",
              "      <td>1000</td>\n",
              "      <td>OKLAHOMA STATE UNIVERSITY</td>\n",
              "      <td>Massey</td>\n",
              "      <td>J</td>\n",
              "      <td>GENERAL PURCHASE</td>\n",
              "      <td>165.82</td>\n",
              "      <td>SEARS.COM 9300</td>\n",
              "      <td>07/29/2013 12:00:00 AM</td>\n",
              "      <td>07/31/2013 12:00:00 AM</td>\n",
              "      <td>DIRCT MARKETING/DIRCT MARKETERS--NOT ELSEWHERE...</td>\n",
              "      <td>415.132419</td>\n",
              "      <td>0.399439</td>\n",
              "      <td>403.522222</td>\n",
              "      <td>0.410932</td>\n",
              "      <td>165.82</td>\n",
              "      <td>1.000000</td>\n",
              "      <td>430.372455</td>\n",
              "      <td>0.385294</td>\n",
              "    </tr>\n",
              "  </tbody>\n",
              "</table>\n",
              "</div>"
            ],
            "text/plain": [
              "   Year-Month  ...  cardholer_AvgSpending_Ratio\n",
              "0      201307  ...                     2.477943\n",
              "1      201307  ...                     1.027261\n",
              "2      201307  ...                     0.385294\n",
              "\n",
              "[3 rows x 19 columns]"
            ]
          },
          "metadata": {
            "tags": []
          },
          "execution_count": 13
        }
      ]
    },
    {
      "cell_type": "markdown",
      "metadata": {
        "id": "PGxedzZ8XSs_"
      },
      "source": [
        "Create four global (general) features to track the agency performance in terms of the agency level"
      ]
    },
    {
      "cell_type": "markdown",
      "metadata": {
        "id": "7a7iOH_zcdQh"
      },
      "source": [
        "## Fifth Feature: each agency average spending"
      ]
    },
    {
      "cell_type": "code",
      "metadata": {
        "id": "bXhey7ZcuCMF",
        "outputId": "36020998-43d7-473a-c18a-1369fbd616a8",
        "colab": {
          "base_uri": "https://localhost:8080/",
          "height": 142
        }
      },
      "source": [
        "Agency_Avgspending = ccard2.groupby(['Agency_Name'])['Amount'].mean().reset_index()\n",
        "Agency_Avgspending.columns = ['Agency_Name','Agency_AvgSpending']\n",
        "Agency_Avgspending.head(3)"
      ],
      "execution_count": 14,
      "outputs": [
        {
          "output_type": "execute_result",
          "data": {
            "text/html": [
              "<div>\n",
              "<style scoped>\n",
              "    .dataframe tbody tr th:only-of-type {\n",
              "        vertical-align: middle;\n",
              "    }\n",
              "\n",
              "    .dataframe tbody tr th {\n",
              "        vertical-align: top;\n",
              "    }\n",
              "\n",
              "    .dataframe thead th {\n",
              "        text-align: right;\n",
              "    }\n",
              "</style>\n",
              "<table border=\"1\" class=\"dataframe\">\n",
              "  <thead>\n",
              "    <tr style=\"text-align: right;\">\n",
              "      <th></th>\n",
              "      <th>Agency_Name</th>\n",
              "      <th>Agency_AvgSpending</th>\n",
              "    </tr>\n",
              "  </thead>\n",
              "  <tbody>\n",
              "    <tr>\n",
              "      <th>0</th>\n",
              "      <td>ARDMORE HIGHER EDUCATION CENTER</td>\n",
              "      <td>147.883889</td>\n",
              "    </tr>\n",
              "    <tr>\n",
              "      <th>1</th>\n",
              "      <td>ATTORNEY GENERAL</td>\n",
              "      <td>467.489798</td>\n",
              "    </tr>\n",
              "    <tr>\n",
              "      <th>2</th>\n",
              "      <td>BD. OF CHEM. TEST ALCOHOL/DRUG</td>\n",
              "      <td>389.371358</td>\n",
              "    </tr>\n",
              "  </tbody>\n",
              "</table>\n",
              "</div>"
            ],
            "text/plain": [
              "                       Agency_Name  Agency_AvgSpending\n",
              "0  ARDMORE HIGHER EDUCATION CENTER          147.883889\n",
              "1                 ATTORNEY GENERAL          467.489798\n",
              "2   BD. OF CHEM. TEST ALCOHOL/DRUG          389.371358"
            ]
          },
          "metadata": {
            "tags": []
          },
          "execution_count": 14
        }
      ]
    },
    {
      "cell_type": "code",
      "metadata": {
        "id": "SZZ_i7fduFBR",
        "outputId": "0abbf8ae-42ec-489c-abe6-2bec0e1069e0",
        "colab": {
          "base_uri": "https://localhost:8080/",
          "height": 298
        }
      },
      "source": [
        "# Join back to original table & create ratio\n",
        "ccard2 = ccard2.merge(Agency_Avgspending,on=['Agency_Name'],how='left')\n",
        "ccard2['Agency_AvgSpending_Ratio'] = ccard2['Amount']/ccard2['Agency_AvgSpending']\n",
        "ccard2.head(3)"
      ],
      "execution_count": 15,
      "outputs": [
        {
          "output_type": "execute_result",
          "data": {
            "text/html": [
              "<div>\n",
              "<style scoped>\n",
              "    .dataframe tbody tr th:only-of-type {\n",
              "        vertical-align: middle;\n",
              "    }\n",
              "\n",
              "    .dataframe tbody tr th {\n",
              "        vertical-align: top;\n",
              "    }\n",
              "\n",
              "    .dataframe thead th {\n",
              "        text-align: right;\n",
              "    }\n",
              "</style>\n",
              "<table border=\"1\" class=\"dataframe\">\n",
              "  <thead>\n",
              "    <tr style=\"text-align: right;\">\n",
              "      <th></th>\n",
              "      <th>Year-Month</th>\n",
              "      <th>Agency_Number</th>\n",
              "      <th>Agency_Name</th>\n",
              "      <th>Cardholder_LastName</th>\n",
              "      <th>Cardholder_FirstInitial</th>\n",
              "      <th>Description</th>\n",
              "      <th>Amount</th>\n",
              "      <th>Vendor</th>\n",
              "      <th>Transaction_Date</th>\n",
              "      <th>Posted_Date</th>\n",
              "      <th>Merchant_Category</th>\n",
              "      <th>Agency_Merchant_AvgSpending</th>\n",
              "      <th>Agency_Merchant_AvgSpending_Ratio</th>\n",
              "      <th>Agency_Merchant_Monthly_AvgSpending</th>\n",
              "      <th>Agency_Merchant_Monthly_AvgSpending_Ratio</th>\n",
              "      <th>Monthly_Max_VendorSpending</th>\n",
              "      <th>Monthly_Max_VendorSpending_Ratio</th>\n",
              "      <th>cardholer_AvgSpending</th>\n",
              "      <th>cardholer_AvgSpending_Ratio</th>\n",
              "      <th>Agency_AvgSpending</th>\n",
              "      <th>Agency_AvgSpending_Ratio</th>\n",
              "    </tr>\n",
              "  </thead>\n",
              "  <tbody>\n",
              "    <tr>\n",
              "      <th>0</th>\n",
              "      <td>201307</td>\n",
              "      <td>1000</td>\n",
              "      <td>OKLAHOMA STATE UNIVERSITY</td>\n",
              "      <td>Mason</td>\n",
              "      <td>C</td>\n",
              "      <td>GENERAL PURCHASE</td>\n",
              "      <td>890.00</td>\n",
              "      <td>NACAS</td>\n",
              "      <td>07/30/2013 12:00:00 AM</td>\n",
              "      <td>07/31/2013 12:00:00 AM</td>\n",
              "      <td>CHARITABLE AND SOCIAL SERVICE ORGANIZATIONS</td>\n",
              "      <td>449.628734</td>\n",
              "      <td>1.979411</td>\n",
              "      <td>509.665227</td>\n",
              "      <td>1.746244</td>\n",
              "      <td>970.00</td>\n",
              "      <td>0.917526</td>\n",
              "      <td>359.168832</td>\n",
              "      <td>2.477943</td>\n",
              "      <td>306.916878</td>\n",
              "      <td>2.899808</td>\n",
              "    </tr>\n",
              "    <tr>\n",
              "      <th>1</th>\n",
              "      <td>201307</td>\n",
              "      <td>1000</td>\n",
              "      <td>OKLAHOMA STATE UNIVERSITY</td>\n",
              "      <td>Mason</td>\n",
              "      <td>C</td>\n",
              "      <td>ROOM CHARGES</td>\n",
              "      <td>368.96</td>\n",
              "      <td>SHERATON HOTEL</td>\n",
              "      <td>07/30/2013 12:00:00 AM</td>\n",
              "      <td>07/31/2013 12:00:00 AM</td>\n",
              "      <td>SHERATON</td>\n",
              "      <td>470.991494</td>\n",
              "      <td>0.783369</td>\n",
              "      <td>491.115238</td>\n",
              "      <td>0.751270</td>\n",
              "      <td>368.96</td>\n",
              "      <td>1.000000</td>\n",
              "      <td>359.168832</td>\n",
              "      <td>1.027261</td>\n",
              "      <td>306.916878</td>\n",
              "      <td>1.202150</td>\n",
              "    </tr>\n",
              "    <tr>\n",
              "      <th>2</th>\n",
              "      <td>201307</td>\n",
              "      <td>1000</td>\n",
              "      <td>OKLAHOMA STATE UNIVERSITY</td>\n",
              "      <td>Massey</td>\n",
              "      <td>J</td>\n",
              "      <td>GENERAL PURCHASE</td>\n",
              "      <td>165.82</td>\n",
              "      <td>SEARS.COM 9300</td>\n",
              "      <td>07/29/2013 12:00:00 AM</td>\n",
              "      <td>07/31/2013 12:00:00 AM</td>\n",
              "      <td>DIRCT MARKETING/DIRCT MARKETERS--NOT ELSEWHERE...</td>\n",
              "      <td>415.132419</td>\n",
              "      <td>0.399439</td>\n",
              "      <td>403.522222</td>\n",
              "      <td>0.410932</td>\n",
              "      <td>165.82</td>\n",
              "      <td>1.000000</td>\n",
              "      <td>430.372455</td>\n",
              "      <td>0.385294</td>\n",
              "      <td>306.916878</td>\n",
              "      <td>0.540277</td>\n",
              "    </tr>\n",
              "  </tbody>\n",
              "</table>\n",
              "</div>"
            ],
            "text/plain": [
              "   Year-Month  Agency_Number  ... Agency_AvgSpending Agency_AvgSpending_Ratio\n",
              "0      201307           1000  ...         306.916878                 2.899808\n",
              "1      201307           1000  ...         306.916878                 1.202150\n",
              "2      201307           1000  ...         306.916878                 0.540277\n",
              "\n",
              "[3 rows x 21 columns]"
            ]
          },
          "metadata": {
            "tags": []
          },
          "execution_count": 15
        }
      ]
    },
    {
      "cell_type": "markdown",
      "metadata": {
        "id": "V6gVKC75d1IT"
      },
      "source": [
        "## Sixth Feature: each agency maximum spending"
      ]
    },
    {
      "cell_type": "code",
      "metadata": {
        "id": "0P27vLUWuePm",
        "outputId": "af57d3a4-921e-4cab-adc4-98c9e3cb9de8",
        "colab": {
          "base_uri": "https://localhost:8080/",
          "height": 142
        }
      },
      "source": [
        "Agency_Maxspending = ccard2.groupby(['Agency_Name'])['Amount'].max().reset_index()\n",
        "Agency_Maxspending.columns = ['Agency_Name','Agency_MaxSpending']\n",
        "Agency_Maxspending.head(3)"
      ],
      "execution_count": 16,
      "outputs": [
        {
          "output_type": "execute_result",
          "data": {
            "text/html": [
              "<div>\n",
              "<style scoped>\n",
              "    .dataframe tbody tr th:only-of-type {\n",
              "        vertical-align: middle;\n",
              "    }\n",
              "\n",
              "    .dataframe tbody tr th {\n",
              "        vertical-align: top;\n",
              "    }\n",
              "\n",
              "    .dataframe thead th {\n",
              "        text-align: right;\n",
              "    }\n",
              "</style>\n",
              "<table border=\"1\" class=\"dataframe\">\n",
              "  <thead>\n",
              "    <tr style=\"text-align: right;\">\n",
              "      <th></th>\n",
              "      <th>Agency_Name</th>\n",
              "      <th>Agency_MaxSpending</th>\n",
              "    </tr>\n",
              "  </thead>\n",
              "  <tbody>\n",
              "    <tr>\n",
              "      <th>0</th>\n",
              "      <td>ARDMORE HIGHER EDUCATION CENTER</td>\n",
              "      <td>750.17</td>\n",
              "    </tr>\n",
              "    <tr>\n",
              "      <th>1</th>\n",
              "      <td>ATTORNEY GENERAL</td>\n",
              "      <td>15223.30</td>\n",
              "    </tr>\n",
              "    <tr>\n",
              "      <th>2</th>\n",
              "      <td>BD. OF CHEM. TEST ALCOHOL/DRUG</td>\n",
              "      <td>1580.00</td>\n",
              "    </tr>\n",
              "  </tbody>\n",
              "</table>\n",
              "</div>"
            ],
            "text/plain": [
              "                       Agency_Name  Agency_MaxSpending\n",
              "0  ARDMORE HIGHER EDUCATION CENTER              750.17\n",
              "1                 ATTORNEY GENERAL            15223.30\n",
              "2   BD. OF CHEM. TEST ALCOHOL/DRUG             1580.00"
            ]
          },
          "metadata": {
            "tags": []
          },
          "execution_count": 16
        }
      ]
    },
    {
      "cell_type": "code",
      "metadata": {
        "id": "5q3MUvbluhE5",
        "outputId": "7d5675bf-70a5-4e24-8d32-7cd7a4738882",
        "colab": {
          "base_uri": "https://localhost:8080/",
          "height": 298
        }
      },
      "source": [
        "# Join back to original table & create ratio\n",
        "ccard2 = ccard2.merge(Agency_Maxspending,on=['Agency_Name'],how='left')\n",
        "ccard2['Agency_MaxSpending_Ratio'] = ccard2['Amount']/ccard2['Agency_MaxSpending']\n",
        "ccard2.head(3)"
      ],
      "execution_count": 17,
      "outputs": [
        {
          "output_type": "execute_result",
          "data": {
            "text/html": [
              "<div>\n",
              "<style scoped>\n",
              "    .dataframe tbody tr th:only-of-type {\n",
              "        vertical-align: middle;\n",
              "    }\n",
              "\n",
              "    .dataframe tbody tr th {\n",
              "        vertical-align: top;\n",
              "    }\n",
              "\n",
              "    .dataframe thead th {\n",
              "        text-align: right;\n",
              "    }\n",
              "</style>\n",
              "<table border=\"1\" class=\"dataframe\">\n",
              "  <thead>\n",
              "    <tr style=\"text-align: right;\">\n",
              "      <th></th>\n",
              "      <th>Year-Month</th>\n",
              "      <th>Agency_Number</th>\n",
              "      <th>Agency_Name</th>\n",
              "      <th>Cardholder_LastName</th>\n",
              "      <th>Cardholder_FirstInitial</th>\n",
              "      <th>Description</th>\n",
              "      <th>Amount</th>\n",
              "      <th>Vendor</th>\n",
              "      <th>Transaction_Date</th>\n",
              "      <th>Posted_Date</th>\n",
              "      <th>Merchant_Category</th>\n",
              "      <th>Agency_Merchant_AvgSpending</th>\n",
              "      <th>Agency_Merchant_AvgSpending_Ratio</th>\n",
              "      <th>Agency_Merchant_Monthly_AvgSpending</th>\n",
              "      <th>Agency_Merchant_Monthly_AvgSpending_Ratio</th>\n",
              "      <th>Monthly_Max_VendorSpending</th>\n",
              "      <th>Monthly_Max_VendorSpending_Ratio</th>\n",
              "      <th>cardholer_AvgSpending</th>\n",
              "      <th>cardholer_AvgSpending_Ratio</th>\n",
              "      <th>Agency_AvgSpending</th>\n",
              "      <th>Agency_AvgSpending_Ratio</th>\n",
              "      <th>Agency_MaxSpending</th>\n",
              "      <th>Agency_MaxSpending_Ratio</th>\n",
              "    </tr>\n",
              "  </thead>\n",
              "  <tbody>\n",
              "    <tr>\n",
              "      <th>0</th>\n",
              "      <td>201307</td>\n",
              "      <td>1000</td>\n",
              "      <td>OKLAHOMA STATE UNIVERSITY</td>\n",
              "      <td>Mason</td>\n",
              "      <td>C</td>\n",
              "      <td>GENERAL PURCHASE</td>\n",
              "      <td>890.00</td>\n",
              "      <td>NACAS</td>\n",
              "      <td>07/30/2013 12:00:00 AM</td>\n",
              "      <td>07/31/2013 12:00:00 AM</td>\n",
              "      <td>CHARITABLE AND SOCIAL SERVICE ORGANIZATIONS</td>\n",
              "      <td>449.628734</td>\n",
              "      <td>1.979411</td>\n",
              "      <td>509.665227</td>\n",
              "      <td>1.746244</td>\n",
              "      <td>970.00</td>\n",
              "      <td>0.917526</td>\n",
              "      <td>359.168832</td>\n",
              "      <td>2.477943</td>\n",
              "      <td>306.916878</td>\n",
              "      <td>2.899808</td>\n",
              "      <td>27967.38</td>\n",
              "      <td>0.031823</td>\n",
              "    </tr>\n",
              "    <tr>\n",
              "      <th>1</th>\n",
              "      <td>201307</td>\n",
              "      <td>1000</td>\n",
              "      <td>OKLAHOMA STATE UNIVERSITY</td>\n",
              "      <td>Mason</td>\n",
              "      <td>C</td>\n",
              "      <td>ROOM CHARGES</td>\n",
              "      <td>368.96</td>\n",
              "      <td>SHERATON HOTEL</td>\n",
              "      <td>07/30/2013 12:00:00 AM</td>\n",
              "      <td>07/31/2013 12:00:00 AM</td>\n",
              "      <td>SHERATON</td>\n",
              "      <td>470.991494</td>\n",
              "      <td>0.783369</td>\n",
              "      <td>491.115238</td>\n",
              "      <td>0.751270</td>\n",
              "      <td>368.96</td>\n",
              "      <td>1.000000</td>\n",
              "      <td>359.168832</td>\n",
              "      <td>1.027261</td>\n",
              "      <td>306.916878</td>\n",
              "      <td>1.202150</td>\n",
              "      <td>27967.38</td>\n",
              "      <td>0.013193</td>\n",
              "    </tr>\n",
              "    <tr>\n",
              "      <th>2</th>\n",
              "      <td>201307</td>\n",
              "      <td>1000</td>\n",
              "      <td>OKLAHOMA STATE UNIVERSITY</td>\n",
              "      <td>Massey</td>\n",
              "      <td>J</td>\n",
              "      <td>GENERAL PURCHASE</td>\n",
              "      <td>165.82</td>\n",
              "      <td>SEARS.COM 9300</td>\n",
              "      <td>07/29/2013 12:00:00 AM</td>\n",
              "      <td>07/31/2013 12:00:00 AM</td>\n",
              "      <td>DIRCT MARKETING/DIRCT MARKETERS--NOT ELSEWHERE...</td>\n",
              "      <td>415.132419</td>\n",
              "      <td>0.399439</td>\n",
              "      <td>403.522222</td>\n",
              "      <td>0.410932</td>\n",
              "      <td>165.82</td>\n",
              "      <td>1.000000</td>\n",
              "      <td>430.372455</td>\n",
              "      <td>0.385294</td>\n",
              "      <td>306.916878</td>\n",
              "      <td>0.540277</td>\n",
              "      <td>27967.38</td>\n",
              "      <td>0.005929</td>\n",
              "    </tr>\n",
              "  </tbody>\n",
              "</table>\n",
              "</div>"
            ],
            "text/plain": [
              "   Year-Month  Agency_Number  ... Agency_MaxSpending Agency_MaxSpending_Ratio\n",
              "0      201307           1000  ...           27967.38                 0.031823\n",
              "1      201307           1000  ...           27967.38                 0.013193\n",
              "2      201307           1000  ...           27967.38                 0.005929\n",
              "\n",
              "[3 rows x 23 columns]"
            ]
          },
          "metadata": {
            "tags": []
          },
          "execution_count": 17
        }
      ]
    },
    {
      "cell_type": "markdown",
      "metadata": {
        "id": "2cvb7Q9XeQIe"
      },
      "source": [
        "## Seventh Feature: each agency historical minimum \"effective\" \"spending\" that is non-negative or non-zero (bigger than 0). Track how much did the transaction amount exceed the minimum spending\n",
        "\n",
        "\n"
      ]
    },
    {
      "cell_type": "code",
      "metadata": {
        "id": "bUcNauZ-utL8",
        "outputId": "aca10d7e-4221-4e1b-9735-484b3ba7cc57",
        "colab": {
          "base_uri": "https://localhost:8080/",
          "height": 142
        }
      },
      "source": [
        "Agency_Minspending = ccard2.groupby(['Agency_Name'])['Amount'].min().reset_index()\n",
        "Agency_Minspending.columns = ['Agency_Name','Agency_MinSpending']\n",
        "Agency_Minspending.head(3)"
      ],
      "execution_count": 18,
      "outputs": [
        {
          "output_type": "execute_result",
          "data": {
            "text/html": [
              "<div>\n",
              "<style scoped>\n",
              "    .dataframe tbody tr th:only-of-type {\n",
              "        vertical-align: middle;\n",
              "    }\n",
              "\n",
              "    .dataframe tbody tr th {\n",
              "        vertical-align: top;\n",
              "    }\n",
              "\n",
              "    .dataframe thead th {\n",
              "        text-align: right;\n",
              "    }\n",
              "</style>\n",
              "<table border=\"1\" class=\"dataframe\">\n",
              "  <thead>\n",
              "    <tr style=\"text-align: right;\">\n",
              "      <th></th>\n",
              "      <th>Agency_Name</th>\n",
              "      <th>Agency_MinSpending</th>\n",
              "    </tr>\n",
              "  </thead>\n",
              "  <tbody>\n",
              "    <tr>\n",
              "      <th>0</th>\n",
              "      <td>ARDMORE HIGHER EDUCATION CENTER</td>\n",
              "      <td>1.00</td>\n",
              "    </tr>\n",
              "    <tr>\n",
              "      <th>1</th>\n",
              "      <td>ATTORNEY GENERAL</td>\n",
              "      <td>0.62</td>\n",
              "    </tr>\n",
              "    <tr>\n",
              "      <th>2</th>\n",
              "      <td>BD. OF CHEM. TEST ALCOHOL/DRUG</td>\n",
              "      <td>9.20</td>\n",
              "    </tr>\n",
              "  </tbody>\n",
              "</table>\n",
              "</div>"
            ],
            "text/plain": [
              "                       Agency_Name  Agency_MinSpending\n",
              "0  ARDMORE HIGHER EDUCATION CENTER                1.00\n",
              "1                 ATTORNEY GENERAL                0.62\n",
              "2   BD. OF CHEM. TEST ALCOHOL/DRUG                9.20"
            ]
          },
          "metadata": {
            "tags": []
          },
          "execution_count": 18
        }
      ]
    },
    {
      "cell_type": "code",
      "metadata": {
        "id": "A5qYgf0puwRG",
        "outputId": "5119b028-5c4f-486c-d022-b1aeee06a295",
        "colab": {
          "base_uri": "https://localhost:8080/",
          "height": 298
        }
      },
      "source": [
        "ccard2 = ccard2.merge(Agency_Minspending,on=['Agency_Name'],how='left')\n",
        "ccard2['Agency_Exceed_MinSpending_Percentage'] = (ccard2['Amount']-ccard2['Agency_MinSpending'])/ccard2['Agency_MinSpending']\n",
        "ccard2.head(3)"
      ],
      "execution_count": 19,
      "outputs": [
        {
          "output_type": "execute_result",
          "data": {
            "text/html": [
              "<div>\n",
              "<style scoped>\n",
              "    .dataframe tbody tr th:only-of-type {\n",
              "        vertical-align: middle;\n",
              "    }\n",
              "\n",
              "    .dataframe tbody tr th {\n",
              "        vertical-align: top;\n",
              "    }\n",
              "\n",
              "    .dataframe thead th {\n",
              "        text-align: right;\n",
              "    }\n",
              "</style>\n",
              "<table border=\"1\" class=\"dataframe\">\n",
              "  <thead>\n",
              "    <tr style=\"text-align: right;\">\n",
              "      <th></th>\n",
              "      <th>Year-Month</th>\n",
              "      <th>Agency_Number</th>\n",
              "      <th>Agency_Name</th>\n",
              "      <th>Cardholder_LastName</th>\n",
              "      <th>Cardholder_FirstInitial</th>\n",
              "      <th>Description</th>\n",
              "      <th>Amount</th>\n",
              "      <th>Vendor</th>\n",
              "      <th>Transaction_Date</th>\n",
              "      <th>Posted_Date</th>\n",
              "      <th>Merchant_Category</th>\n",
              "      <th>Agency_Merchant_AvgSpending</th>\n",
              "      <th>Agency_Merchant_AvgSpending_Ratio</th>\n",
              "      <th>Agency_Merchant_Monthly_AvgSpending</th>\n",
              "      <th>Agency_Merchant_Monthly_AvgSpending_Ratio</th>\n",
              "      <th>Monthly_Max_VendorSpending</th>\n",
              "      <th>Monthly_Max_VendorSpending_Ratio</th>\n",
              "      <th>cardholer_AvgSpending</th>\n",
              "      <th>cardholer_AvgSpending_Ratio</th>\n",
              "      <th>Agency_AvgSpending</th>\n",
              "      <th>Agency_AvgSpending_Ratio</th>\n",
              "      <th>Agency_MaxSpending</th>\n",
              "      <th>Agency_MaxSpending_Ratio</th>\n",
              "      <th>Agency_MinSpending</th>\n",
              "      <th>Agency_Exceed_MinSpending_Percentage</th>\n",
              "    </tr>\n",
              "  </thead>\n",
              "  <tbody>\n",
              "    <tr>\n",
              "      <th>0</th>\n",
              "      <td>201307</td>\n",
              "      <td>1000</td>\n",
              "      <td>OKLAHOMA STATE UNIVERSITY</td>\n",
              "      <td>Mason</td>\n",
              "      <td>C</td>\n",
              "      <td>GENERAL PURCHASE</td>\n",
              "      <td>890.00</td>\n",
              "      <td>NACAS</td>\n",
              "      <td>07/30/2013 12:00:00 AM</td>\n",
              "      <td>07/31/2013 12:00:00 AM</td>\n",
              "      <td>CHARITABLE AND SOCIAL SERVICE ORGANIZATIONS</td>\n",
              "      <td>449.628734</td>\n",
              "      <td>1.979411</td>\n",
              "      <td>509.665227</td>\n",
              "      <td>1.746244</td>\n",
              "      <td>970.00</td>\n",
              "      <td>0.917526</td>\n",
              "      <td>359.168832</td>\n",
              "      <td>2.477943</td>\n",
              "      <td>306.916878</td>\n",
              "      <td>2.899808</td>\n",
              "      <td>27967.38</td>\n",
              "      <td>0.031823</td>\n",
              "      <td>0.01</td>\n",
              "      <td>88999.0</td>\n",
              "    </tr>\n",
              "    <tr>\n",
              "      <th>1</th>\n",
              "      <td>201307</td>\n",
              "      <td>1000</td>\n",
              "      <td>OKLAHOMA STATE UNIVERSITY</td>\n",
              "      <td>Mason</td>\n",
              "      <td>C</td>\n",
              "      <td>ROOM CHARGES</td>\n",
              "      <td>368.96</td>\n",
              "      <td>SHERATON HOTEL</td>\n",
              "      <td>07/30/2013 12:00:00 AM</td>\n",
              "      <td>07/31/2013 12:00:00 AM</td>\n",
              "      <td>SHERATON</td>\n",
              "      <td>470.991494</td>\n",
              "      <td>0.783369</td>\n",
              "      <td>491.115238</td>\n",
              "      <td>0.751270</td>\n",
              "      <td>368.96</td>\n",
              "      <td>1.000000</td>\n",
              "      <td>359.168832</td>\n",
              "      <td>1.027261</td>\n",
              "      <td>306.916878</td>\n",
              "      <td>1.202150</td>\n",
              "      <td>27967.38</td>\n",
              "      <td>0.013193</td>\n",
              "      <td>0.01</td>\n",
              "      <td>36895.0</td>\n",
              "    </tr>\n",
              "    <tr>\n",
              "      <th>2</th>\n",
              "      <td>201307</td>\n",
              "      <td>1000</td>\n",
              "      <td>OKLAHOMA STATE UNIVERSITY</td>\n",
              "      <td>Massey</td>\n",
              "      <td>J</td>\n",
              "      <td>GENERAL PURCHASE</td>\n",
              "      <td>165.82</td>\n",
              "      <td>SEARS.COM 9300</td>\n",
              "      <td>07/29/2013 12:00:00 AM</td>\n",
              "      <td>07/31/2013 12:00:00 AM</td>\n",
              "      <td>DIRCT MARKETING/DIRCT MARKETERS--NOT ELSEWHERE...</td>\n",
              "      <td>415.132419</td>\n",
              "      <td>0.399439</td>\n",
              "      <td>403.522222</td>\n",
              "      <td>0.410932</td>\n",
              "      <td>165.82</td>\n",
              "      <td>1.000000</td>\n",
              "      <td>430.372455</td>\n",
              "      <td>0.385294</td>\n",
              "      <td>306.916878</td>\n",
              "      <td>0.540277</td>\n",
              "      <td>27967.38</td>\n",
              "      <td>0.005929</td>\n",
              "      <td>0.01</td>\n",
              "      <td>16581.0</td>\n",
              "    </tr>\n",
              "  </tbody>\n",
              "</table>\n",
              "</div>"
            ],
            "text/plain": [
              "   Year-Month  ...  Agency_Exceed_MinSpending_Percentage\n",
              "0      201307  ...                               88999.0\n",
              "1      201307  ...                               36895.0\n",
              "2      201307  ...                               16581.0\n",
              "\n",
              "[3 rows x 25 columns]"
            ]
          },
          "metadata": {
            "tags": []
          },
          "execution_count": 19
        }
      ]
    },
    {
      "cell_type": "markdown",
      "metadata": {
        "id": "FonStYnBSvsi"
      },
      "source": [
        "## Take a look at the maximum & minimum of these ratios"
      ]
    },
    {
      "cell_type": "code",
      "metadata": {
        "id": "2WCm681nvK7R",
        "outputId": "f5b5ac94-a7a5-4f10-819a-e7778a59d397",
        "colab": {
          "base_uri": "https://localhost:8080/",
          "height": 34
        }
      },
      "source": [
        "max(ccard2.Agency_Merchant_AvgSpending_Ratio)"
      ],
      "execution_count": null,
      "outputs": [
        {
          "output_type": "execute_result",
          "data": {
            "text/plain": [
              "202.2126389528295"
            ]
          },
          "metadata": {
            "tags": []
          },
          "execution_count": 35
        }
      ]
    },
    {
      "cell_type": "code",
      "metadata": {
        "id": "jnsBIFDAvM42",
        "outputId": "0231ff2e-b772-4a1d-bbe1-6e738fd14066",
        "colab": {
          "base_uri": "https://localhost:8080/",
          "height": 34
        }
      },
      "source": [
        "min(ccard2.Agency_Merchant_AvgSpending_Ratio)"
      ],
      "execution_count": null,
      "outputs": [
        {
          "output_type": "execute_result",
          "data": {
            "text/plain": [
              "4.179975212145165e-06"
            ]
          },
          "metadata": {
            "tags": []
          },
          "execution_count": 36
        }
      ]
    },
    {
      "cell_type": "code",
      "metadata": {
        "id": "yT_dMcK1vSDP",
        "outputId": "6ab05ba6-971e-4024-f6a1-bffd01743bfc",
        "colab": {
          "base_uri": "https://localhost:8080/",
          "height": 34
        }
      },
      "source": [
        "max(ccard2.Agency_Merchant_Monthly_AvgSpending_Ratio)"
      ],
      "execution_count": null,
      "outputs": [
        {
          "output_type": "execute_result",
          "data": {
            "text/plain": [
              "111.97828170019157"
            ]
          },
          "metadata": {
            "tags": []
          },
          "execution_count": 37
        }
      ]
    },
    {
      "cell_type": "code",
      "metadata": {
        "id": "GRGDxjyOvUiX",
        "outputId": "e68fc790-c378-449e-9a28-2b639bf34532",
        "colab": {
          "base_uri": "https://localhost:8080/",
          "height": 34
        }
      },
      "source": [
        "min(ccard2.Agency_Merchant_Monthly_AvgSpending_Ratio)"
      ],
      "execution_count": null,
      "outputs": [
        {
          "output_type": "execute_result",
          "data": {
            "text/plain": [
              "3.656007008885337e-06"
            ]
          },
          "metadata": {
            "tags": []
          },
          "execution_count": 39
        }
      ]
    },
    {
      "cell_type": "code",
      "metadata": {
        "id": "h7GJcbi_wNTd",
        "outputId": "6f3e1c3d-92d8-46f5-b187-08dad2c95938",
        "colab": {
          "base_uri": "https://localhost:8080/",
          "height": 34
        }
      },
      "source": [
        "max(ccard2.Monthly_Max_VendorSpending_Ratio)"
      ],
      "execution_count": null,
      "outputs": [
        {
          "output_type": "execute_result",
          "data": {
            "text/plain": [
              "1.0"
            ]
          },
          "metadata": {
            "tags": []
          },
          "execution_count": 40
        }
      ]
    },
    {
      "cell_type": "code",
      "metadata": {
        "id": "E0Mb3LZ_wbui",
        "outputId": "5660028c-d02e-4ec3-ab37-28dab64563aa",
        "colab": {
          "base_uri": "https://localhost:8080/",
          "height": 34
        }
      },
      "source": [
        "min(ccard2.Monthly_Max_VendorSpending_Ratio)"
      ],
      "execution_count": null,
      "outputs": [
        {
          "output_type": "execute_result",
          "data": {
            "text/plain": [
              "2.2160566601366863e-06"
            ]
          },
          "metadata": {
            "tags": []
          },
          "execution_count": 41
        }
      ]
    },
    {
      "cell_type": "code",
      "metadata": {
        "id": "GPuUrsjxyUpb",
        "outputId": "6447aba4-d7e5-4013-c84f-ab7306aea7a2",
        "colab": {
          "base_uri": "https://localhost:8080/",
          "height": 34
        }
      },
      "source": [
        "max(ccard2.cardholer_AvgSpending_Ratio)"
      ],
      "execution_count": null,
      "outputs": [
        {
          "output_type": "execute_result",
          "data": {
            "text/plain": [
              "106.72871347890951"
            ]
          },
          "metadata": {
            "tags": []
          },
          "execution_count": 44
        }
      ]
    },
    {
      "cell_type": "code",
      "metadata": {
        "id": "E0SqTMnkyQAG",
        "outputId": "766cb0bc-2b09-46ca-a466-b07aeef790d5",
        "colab": {
          "base_uri": "https://localhost:8080/",
          "height": 34
        }
      },
      "source": [
        "min(ccard2.cardholer_AvgSpending_Ratio)"
      ],
      "execution_count": null,
      "outputs": [
        {
          "output_type": "execute_result",
          "data": {
            "text/plain": [
              "8.756954400330042e-08"
            ]
          },
          "metadata": {
            "tags": []
          },
          "execution_count": 42
        }
      ]
    },
    {
      "cell_type": "code",
      "metadata": {
        "id": "rErDgIjqyTUg",
        "outputId": "af6ca459-efe7-43a5-e9fa-8e9a3330dc58",
        "colab": {
          "base_uri": "https://localhost:8080/",
          "height": 34
        }
      },
      "source": [
        "max(ccard2.Agency_AvgSpending_Ratio)"
      ],
      "execution_count": null,
      "outputs": [
        {
          "output_type": "execute_result",
          "data": {
            "text/plain": [
              "4303.243008834281"
            ]
          },
          "metadata": {
            "tags": []
          },
          "execution_count": 45
        }
      ]
    },
    {
      "cell_type": "code",
      "metadata": {
        "id": "ikmAjMJ6yf7Y",
        "outputId": "914a46b3-5080-42d3-bb56-123582b48b06",
        "colab": {
          "base_uri": "https://localhost:8080/",
          "height": 34
        }
      },
      "source": [
        "min(ccard2.Agency_AvgSpending_Ratio)"
      ],
      "execution_count": null,
      "outputs": [
        {
          "output_type": "execute_result",
          "data": {
            "text/plain": [
              "1.4560487827221946e-05"
            ]
          },
          "metadata": {
            "tags": []
          },
          "execution_count": 46
        }
      ]
    },
    {
      "cell_type": "code",
      "metadata": {
        "id": "kaAQGNZlynu3",
        "outputId": "f96dec27-0aac-4452-e506-9e6ec7d50677",
        "colab": {
          "base_uri": "https://localhost:8080/",
          "height": 34
        }
      },
      "source": [
        "max(ccard2.Agency_MaxSpending_Ratio)"
      ],
      "execution_count": null,
      "outputs": [
        {
          "output_type": "execute_result",
          "data": {
            "text/plain": [
              "1.0"
            ]
          },
          "metadata": {
            "tags": []
          },
          "execution_count": 47
        }
      ]
    },
    {
      "cell_type": "code",
      "metadata": {
        "id": "aA8ee-NOyqML",
        "outputId": "c49ed1d2-90d5-4336-d335-743a67ffa8df",
        "colab": {
          "base_uri": "https://localhost:8080/",
          "height": 34
        }
      },
      "source": [
        "min(ccard2.Agency_MaxSpending_Ratio)"
      ],
      "execution_count": null,
      "outputs": [
        {
          "output_type": "execute_result",
          "data": {
            "text/plain": [
              "5.252491549568364e-09"
            ]
          },
          "metadata": {
            "tags": []
          },
          "execution_count": 48
        }
      ]
    },
    {
      "cell_type": "code",
      "metadata": {
        "id": "T30C0eoMywGU",
        "outputId": "8d3736f1-e322-4bf2-ad60-59427cb66400",
        "colab": {
          "base_uri": "https://localhost:8080/",
          "height": 34
        }
      },
      "source": [
        "max(ccard2.Agency_Exceed_MinSpending_Percentage)"
      ],
      "execution_count": null,
      "outputs": [
        {
          "output_type": "execute_result",
          "data": {
            "text/plain": [
              "190385836.0"
            ]
          },
          "metadata": {
            "tags": []
          },
          "execution_count": 49
        }
      ]
    },
    {
      "cell_type": "code",
      "metadata": {
        "id": "EveaMiGMyzPi",
        "outputId": "a8fe87de-2ed7-49a4-fc9d-c804da173ac5",
        "colab": {
          "base_uri": "https://localhost:8080/",
          "height": 34
        }
      },
      "source": [
        "min(ccard2.Agency_Exceed_MinSpending_Percentage)"
      ],
      "execution_count": null,
      "outputs": [
        {
          "output_type": "execute_result",
          "data": {
            "text/plain": [
              "0.0"
            ]
          },
          "metadata": {
            "tags": []
          },
          "execution_count": 50
        }
      ]
    },
    {
      "cell_type": "markdown",
      "metadata": {
        "id": "6Brl2v6ItdmW"
      },
      "source": [
        "The Eighth feature to be used in modeling is the orginal \"Amount\" variable"
      ]
    },
    {
      "cell_type": "code",
      "metadata": {
        "id": "FCQF-Xw1y6ce",
        "outputId": "35579009-fc5b-4e72-ed6c-2b57086898d0",
        "colab": {
          "base_uri": "https://localhost:8080/",
          "height": 34
        }
      },
      "source": [
        "max(ccard2.Amount)"
      ],
      "execution_count": null,
      "outputs": [
        {
          "output_type": "execute_result",
          "data": {
            "text/plain": [
              "1903858.37"
            ]
          },
          "metadata": {
            "tags": []
          },
          "execution_count": 51
        }
      ]
    },
    {
      "cell_type": "code",
      "metadata": {
        "id": "hdiglBx1y8cJ",
        "outputId": "e5031afe-dfa5-4cac-b4be-1a0efabbdcde",
        "colab": {
          "base_uri": "https://localhost:8080/",
          "height": 34
        }
      },
      "source": [
        "min(ccard2.Amount)"
      ],
      "execution_count": null,
      "outputs": [
        {
          "output_type": "execute_result",
          "data": {
            "text/plain": [
              "0.01"
            ]
          },
          "metadata": {
            "tags": []
          },
          "execution_count": 52
        }
      ]
    },
    {
      "cell_type": "markdown",
      "metadata": {
        "id": "DNN7oz3m_iBj"
      },
      "source": [
        "## Get the data ready for modeling\n",
        "Got rid of the variables that is not at the \"transaction\" level, and the character variables"
      ]
    },
    {
      "cell_type": "code",
      "metadata": {
        "id": "9FKbYkgfz1it",
        "outputId": "7fb54181-ecc5-4d13-dbb0-af05b5ca375c",
        "colab": {
          "base_uri": "https://localhost:8080/",
          "height": 221
        }
      },
      "source": [
        "ccard2.columns"
      ],
      "execution_count": null,
      "outputs": [
        {
          "output_type": "execute_result",
          "data": {
            "text/plain": [
              "Index(['Year-Month', 'Agency_Number', 'Agency_Name', 'Cardholder_LastName',\n",
              "       'Cardholder_FirstInitial', 'Description', 'Amount', 'Vendor',\n",
              "       'Transaction_Date', 'Posted_Date', 'Merchant_Category',\n",
              "       'Agency_Merchant_AvgSpending', 'Agency_Merchant_AvgSpending_Ratio',\n",
              "       'Agency_Merchant_Monthly_AvgSpending',\n",
              "       'Agency_Merchant_Monthly_AvgSpending_Ratio',\n",
              "       'Monthly_Max_VendorSpending', 'Monthly_Max_VendorSpending_Ratio',\n",
              "       'cardholer_AvgSpending', 'cardholer_AvgSpending_Ratio',\n",
              "       'Agency_AvgSpending', 'Agency_AvgSpending_Ratio', 'Agency_MaxSpending',\n",
              "       'Agency_MaxSpending_Ratio', 'Agency_MinSpending',\n",
              "       'Agency_Exceed_MinSpending_Percentage'],\n",
              "      dtype='object')"
            ]
          },
          "metadata": {
            "tags": []
          },
          "execution_count": 53
        }
      ]
    },
    {
      "cell_type": "code",
      "metadata": {
        "id": "8JetPb7Dz7dy"
      },
      "source": [
        "ccard3 = ccard2.drop(columns=['Year-Month', 'Agency_Number', 'Agency_Name', 'Cardholder_LastName',\n",
        "       'Cardholder_FirstInitial', 'Description', 'Vendor',\n",
        "       'Transaction_Date', 'Posted_Date', 'Merchant_Category',\n",
        "       'Agency_Merchant_AvgSpending','Agency_Merchant_Monthly_AvgSpending',\n",
        "       'Monthly_Max_VendorSpending', 'Agency_AvgSpending', 'Agency_MaxSpending', 'Agency_MinSpending', 'cardholer_AvgSpending'])"
      ],
      "execution_count": 23,
      "outputs": []
    },
    {
      "cell_type": "code",
      "metadata": {
        "id": "2XQqe3mh0SV6",
        "outputId": "489e017d-7a3c-4505-f22a-7e33998c0d0b",
        "colab": {
          "base_uri": "https://localhost:8080/",
          "height": 162
        }
      },
      "source": [
        "ccard3.head(3)"
      ],
      "execution_count": 24,
      "outputs": [
        {
          "output_type": "execute_result",
          "data": {
            "text/html": [
              "<div>\n",
              "<style scoped>\n",
              "    .dataframe tbody tr th:only-of-type {\n",
              "        vertical-align: middle;\n",
              "    }\n",
              "\n",
              "    .dataframe tbody tr th {\n",
              "        vertical-align: top;\n",
              "    }\n",
              "\n",
              "    .dataframe thead th {\n",
              "        text-align: right;\n",
              "    }\n",
              "</style>\n",
              "<table border=\"1\" class=\"dataframe\">\n",
              "  <thead>\n",
              "    <tr style=\"text-align: right;\">\n",
              "      <th></th>\n",
              "      <th>Amount</th>\n",
              "      <th>Agency_Merchant_AvgSpending_Ratio</th>\n",
              "      <th>Agency_Merchant_Monthly_AvgSpending_Ratio</th>\n",
              "      <th>Monthly_Max_VendorSpending_Ratio</th>\n",
              "      <th>cardholer_AvgSpending_Ratio</th>\n",
              "      <th>Agency_AvgSpending_Ratio</th>\n",
              "      <th>Agency_MaxSpending_Ratio</th>\n",
              "      <th>Agency_Exceed_MinSpending_Percentage</th>\n",
              "    </tr>\n",
              "  </thead>\n",
              "  <tbody>\n",
              "    <tr>\n",
              "      <th>0</th>\n",
              "      <td>890.00</td>\n",
              "      <td>1.979411</td>\n",
              "      <td>1.746244</td>\n",
              "      <td>0.917526</td>\n",
              "      <td>2.477943</td>\n",
              "      <td>2.899808</td>\n",
              "      <td>0.031823</td>\n",
              "      <td>88999.0</td>\n",
              "    </tr>\n",
              "    <tr>\n",
              "      <th>1</th>\n",
              "      <td>368.96</td>\n",
              "      <td>0.783369</td>\n",
              "      <td>0.751270</td>\n",
              "      <td>1.000000</td>\n",
              "      <td>1.027261</td>\n",
              "      <td>1.202150</td>\n",
              "      <td>0.013193</td>\n",
              "      <td>36895.0</td>\n",
              "    </tr>\n",
              "    <tr>\n",
              "      <th>2</th>\n",
              "      <td>165.82</td>\n",
              "      <td>0.399439</td>\n",
              "      <td>0.410932</td>\n",
              "      <td>1.000000</td>\n",
              "      <td>0.385294</td>\n",
              "      <td>0.540277</td>\n",
              "      <td>0.005929</td>\n",
              "      <td>16581.0</td>\n",
              "    </tr>\n",
              "  </tbody>\n",
              "</table>\n",
              "</div>"
            ],
            "text/plain": [
              "   Amount  ...  Agency_Exceed_MinSpending_Percentage\n",
              "0  890.00  ...                               88999.0\n",
              "1  368.96  ...                               36895.0\n",
              "2  165.82  ...                               16581.0\n",
              "\n",
              "[3 rows x 8 columns]"
            ]
          },
          "metadata": {
            "tags": []
          },
          "execution_count": 24
        }
      ]
    },
    {
      "cell_type": "markdown",
      "metadata": {
        "id": "uEhiJMlk_jTT"
      },
      "source": [
        "# **Modeling**"
      ]
    },
    {
      "cell_type": "code",
      "metadata": {
        "id": "zesKc2TNOiqw"
      },
      "source": [
        "from pyod.models.knn import KNN\n",
        "from pyod.utils.data import generate_data\n",
        "from pyod.utils.data import evaluate_print\n",
        "from pyod.utils.example import visualize\n",
        "from sklearn.model_selection import train_test_split"
      ],
      "execution_count": 27,
      "outputs": []
    },
    {
      "cell_type": "code",
      "metadata": {
        "id": "W48FCQsL1C6L",
        "outputId": "70b643c9-103e-4c24-8e60-9662411b8332",
        "colab": {
          "base_uri": "https://localhost:8080/",
          "height": 204
        }
      },
      "source": [
        "from sklearn.preprocessing import StandardScaler\n",
        "X = StandardScaler().fit_transform(ccard3)\n",
        "X = pd.DataFrame(X)\n",
        "X.head()"
      ],
      "execution_count": 25,
      "outputs": [
        {
          "output_type": "execute_result",
          "data": {
            "text/html": [
              "<div>\n",
              "<style scoped>\n",
              "    .dataframe tbody tr th:only-of-type {\n",
              "        vertical-align: middle;\n",
              "    }\n",
              "\n",
              "    .dataframe tbody tr th {\n",
              "        vertical-align: top;\n",
              "    }\n",
              "\n",
              "    .dataframe thead th {\n",
              "        text-align: right;\n",
              "    }\n",
              "</style>\n",
              "<table border=\"1\" class=\"dataframe\">\n",
              "  <thead>\n",
              "    <tr style=\"text-align: right;\">\n",
              "      <th></th>\n",
              "      <th>0</th>\n",
              "      <th>1</th>\n",
              "      <th>2</th>\n",
              "      <th>3</th>\n",
              "      <th>4</th>\n",
              "      <th>5</th>\n",
              "      <th>6</th>\n",
              "      <th>7</th>\n",
              "    </tr>\n",
              "  </thead>\n",
              "  <tbody>\n",
              "    <tr>\n",
              "      <th>0</th>\n",
              "      <td>0.082654</td>\n",
              "      <td>0.442961</td>\n",
              "      <td>0.421547</td>\n",
              "      <td>0.771961</td>\n",
              "      <td>0.812971</td>\n",
              "      <td>0.198875</td>\n",
              "      <td>0.388171</td>\n",
              "      <td>0.154940</td>\n",
              "    </tr>\n",
              "    <tr>\n",
              "      <th>1</th>\n",
              "      <td>-0.014725</td>\n",
              "      <td>-0.097976</td>\n",
              "      <td>-0.140506</td>\n",
              "      <td>0.964083</td>\n",
              "      <td>0.014995</td>\n",
              "      <td>0.021161</td>\n",
              "      <td>-0.007153</td>\n",
              "      <td>0.027913</td>\n",
              "    </tr>\n",
              "    <tr>\n",
              "      <th>2</th>\n",
              "      <td>-0.052690</td>\n",
              "      <td>-0.271618</td>\n",
              "      <td>-0.332760</td>\n",
              "      <td>0.964083</td>\n",
              "      <td>-0.338131</td>\n",
              "      <td>-0.048125</td>\n",
              "      <td>-0.161279</td>\n",
              "      <td>-0.021611</td>\n",
              "    </tr>\n",
              "    <tr>\n",
              "      <th>3</th>\n",
              "      <td>-0.065666</td>\n",
              "      <td>0.239570</td>\n",
              "      <td>0.401657</td>\n",
              "      <td>-0.979991</td>\n",
              "      <td>-0.410595</td>\n",
              "      <td>-0.071805</td>\n",
              "      <td>-0.213957</td>\n",
              "      <td>-0.038537</td>\n",
              "    </tr>\n",
              "    <tr>\n",
              "      <th>4</th>\n",
              "      <td>-0.060140</td>\n",
              "      <td>-0.254685</td>\n",
              "      <td>-0.307307</td>\n",
              "      <td>-0.950844</td>\n",
              "      <td>0.164436</td>\n",
              "      <td>-0.061720</td>\n",
              "      <td>-0.191522</td>\n",
              "      <td>-0.031328</td>\n",
              "    </tr>\n",
              "  </tbody>\n",
              "</table>\n",
              "</div>"
            ],
            "text/plain": [
              "          0         1         2  ...         5         6         7\n",
              "0  0.082654  0.442961  0.421547  ...  0.198875  0.388171  0.154940\n",
              "1 -0.014725 -0.097976 -0.140506  ...  0.021161 -0.007153  0.027913\n",
              "2 -0.052690 -0.271618 -0.332760  ... -0.048125 -0.161279 -0.021611\n",
              "3 -0.065666  0.239570  0.401657  ... -0.071805 -0.213957 -0.038537\n",
              "4 -0.060140 -0.254685 -0.307307  ... -0.061720 -0.191522 -0.031328\n",
              "\n",
              "[5 rows x 8 columns]"
            ]
          },
          "metadata": {
            "tags": []
          },
          "execution_count": 25
        }
      ]
    },
    {
      "cell_type": "code",
      "metadata": {
        "id": "cF5f_0L0us3s"
      },
      "source": [
        "X_train, X_test= train_test_split(X, test_size=0.33, random_state=42)"
      ],
      "execution_count": 28,
      "outputs": []
    },
    {
      "cell_type": "code",
      "metadata": {
        "id": "yq-riKiyFuEL",
        "outputId": "0e846a86-2f9e-493c-a351-90b13e674088",
        "colab": {
          "base_uri": "https://localhost:8080/",
          "height": 204
        }
      },
      "source": [
        "X_train.head()"
      ],
      "execution_count": 29,
      "outputs": [
        {
          "output_type": "execute_result",
          "data": {
            "text/html": [
              "<div>\n",
              "<style scoped>\n",
              "    .dataframe tbody tr th:only-of-type {\n",
              "        vertical-align: middle;\n",
              "    }\n",
              "\n",
              "    .dataframe tbody tr th {\n",
              "        vertical-align: top;\n",
              "    }\n",
              "\n",
              "    .dataframe thead th {\n",
              "        text-align: right;\n",
              "    }\n",
              "</style>\n",
              "<table border=\"1\" class=\"dataframe\">\n",
              "  <thead>\n",
              "    <tr style=\"text-align: right;\">\n",
              "      <th></th>\n",
              "      <th>0</th>\n",
              "      <th>1</th>\n",
              "      <th>2</th>\n",
              "      <th>3</th>\n",
              "      <th>4</th>\n",
              "      <th>5</th>\n",
              "      <th>6</th>\n",
              "      <th>7</th>\n",
              "    </tr>\n",
              "  </thead>\n",
              "  <tbody>\n",
              "    <tr>\n",
              "      <th>186422</th>\n",
              "      <td>0.045948</td>\n",
              "      <td>0.117947</td>\n",
              "      <td>0.145817</td>\n",
              "      <td>0.964083</td>\n",
              "      <td>0.484865</td>\n",
              "      <td>0.103909</td>\n",
              "      <td>-0.158216</td>\n",
              "      <td>0.107059</td>\n",
              "    </tr>\n",
              "    <tr>\n",
              "      <th>407795</th>\n",
              "      <td>0.005654</td>\n",
              "      <td>-0.059302</td>\n",
              "      <td>-0.149380</td>\n",
              "      <td>0.964083</td>\n",
              "      <td>0.442514</td>\n",
              "      <td>0.039070</td>\n",
              "      <td>-0.198276</td>\n",
              "      <td>0.054497</td>\n",
              "    </tr>\n",
              "    <tr>\n",
              "      <th>370282</th>\n",
              "      <td>0.269318</td>\n",
              "      <td>1.494071</td>\n",
              "      <td>1.520460</td>\n",
              "      <td>0.964083</td>\n",
              "      <td>3.981806</td>\n",
              "      <td>0.539534</td>\n",
              "      <td>1.145966</td>\n",
              "      <td>0.398436</td>\n",
              "    </tr>\n",
              "    <tr>\n",
              "      <th>11084</th>\n",
              "      <td>-0.058564</td>\n",
              "      <td>-0.302891</td>\n",
              "      <td>-0.322499</td>\n",
              "      <td>-1.175433</td>\n",
              "      <td>-0.305470</td>\n",
              "      <td>-0.058845</td>\n",
              "      <td>-0.185126</td>\n",
              "      <td>-0.029273</td>\n",
              "    </tr>\n",
              "    <tr>\n",
              "      <th>12798</th>\n",
              "      <td>0.381569</td>\n",
              "      <td>3.055217</td>\n",
              "      <td>0.438762</td>\n",
              "      <td>0.964083</td>\n",
              "      <td>3.697464</td>\n",
              "      <td>0.744391</td>\n",
              "      <td>1.601668</td>\n",
              "      <td>0.544863</td>\n",
              "    </tr>\n",
              "  </tbody>\n",
              "</table>\n",
              "</div>"
            ],
            "text/plain": [
              "               0         1         2  ...         5         6         7\n",
              "186422  0.045948  0.117947  0.145817  ...  0.103909 -0.158216  0.107059\n",
              "407795  0.005654 -0.059302 -0.149380  ...  0.039070 -0.198276  0.054497\n",
              "370282  0.269318  1.494071  1.520460  ...  0.539534  1.145966  0.398436\n",
              "11084  -0.058564 -0.302891 -0.322499  ... -0.058845 -0.185126 -0.029273\n",
              "12798   0.381569  3.055217  0.438762  ...  0.744391  1.601668  0.544863\n",
              "\n",
              "[5 rows x 8 columns]"
            ]
          },
          "metadata": {
            "tags": []
          },
          "execution_count": 29
        }
      ]
    },
    {
      "cell_type": "code",
      "metadata": {
        "id": "0DfZpywA1QfH",
        "outputId": "85437083-701b-4151-9fb3-89293263ffa6",
        "colab": {
          "base_uri": "https://localhost:8080/",
          "height": 204
        }
      },
      "source": [
        "X_test.head()"
      ],
      "execution_count": 30,
      "outputs": [
        {
          "output_type": "execute_result",
          "data": {
            "text/html": [
              "<div>\n",
              "<style scoped>\n",
              "    .dataframe tbody tr th:only-of-type {\n",
              "        vertical-align: middle;\n",
              "    }\n",
              "\n",
              "    .dataframe tbody tr th {\n",
              "        vertical-align: top;\n",
              "    }\n",
              "\n",
              "    .dataframe thead th {\n",
              "        text-align: right;\n",
              "    }\n",
              "</style>\n",
              "<table border=\"1\" class=\"dataframe\">\n",
              "  <thead>\n",
              "    <tr style=\"text-align: right;\">\n",
              "      <th></th>\n",
              "      <th>0</th>\n",
              "      <th>1</th>\n",
              "      <th>2</th>\n",
              "      <th>3</th>\n",
              "      <th>4</th>\n",
              "      <th>5</th>\n",
              "      <th>6</th>\n",
              "      <th>7</th>\n",
              "    </tr>\n",
              "  </thead>\n",
              "  <tbody>\n",
              "    <tr>\n",
              "      <th>4161</th>\n",
              "      <td>0.027761</td>\n",
              "      <td>-0.204454</td>\n",
              "      <td>-0.293018</td>\n",
              "      <td>-0.524047</td>\n",
              "      <td>0.405679</td>\n",
              "      <td>0.098698</td>\n",
              "      <td>0.165327</td>\n",
              "      <td>0.083335</td>\n",
              "    </tr>\n",
              "    <tr>\n",
              "      <th>209653</th>\n",
              "      <td>-0.069430</td>\n",
              "      <td>-0.305190</td>\n",
              "      <td>-0.345507</td>\n",
              "      <td>-0.791959</td>\n",
              "      <td>-0.467267</td>\n",
              "      <td>-0.086640</td>\n",
              "      <td>-0.286240</td>\n",
              "      <td>-0.043447</td>\n",
              "    </tr>\n",
              "    <tr>\n",
              "      <th>401656</th>\n",
              "      <td>-0.076766</td>\n",
              "      <td>0.089608</td>\n",
              "      <td>0.277440</td>\n",
              "      <td>0.964083</td>\n",
              "      <td>-0.473237</td>\n",
              "      <td>-0.093554</td>\n",
              "      <td>-0.280215</td>\n",
              "      <td>-0.053016</td>\n",
              "    </tr>\n",
              "    <tr>\n",
              "      <th>130740</th>\n",
              "      <td>-0.076210</td>\n",
              "      <td>-0.309715</td>\n",
              "      <td>-0.213259</td>\n",
              "      <td>-0.546639</td>\n",
              "      <td>-0.512045</td>\n",
              "      <td>-0.093152</td>\n",
              "      <td>-0.273186</td>\n",
              "      <td>-0.052292</td>\n",
              "    </tr>\n",
              "    <tr>\n",
              "      <th>192415</th>\n",
              "      <td>0.012195</td>\n",
              "      <td>0.092886</td>\n",
              "      <td>0.356503</td>\n",
              "      <td>0.964083</td>\n",
              "      <td>4.376190</td>\n",
              "      <td>0.049596</td>\n",
              "      <td>-0.191773</td>\n",
              "      <td>0.063029</td>\n",
              "    </tr>\n",
              "  </tbody>\n",
              "</table>\n",
              "</div>"
            ],
            "text/plain": [
              "               0         1         2  ...         5         6         7\n",
              "4161    0.027761 -0.204454 -0.293018  ...  0.098698  0.165327  0.083335\n",
              "209653 -0.069430 -0.305190 -0.345507  ... -0.086640 -0.286240 -0.043447\n",
              "401656 -0.076766  0.089608  0.277440  ... -0.093554 -0.280215 -0.053016\n",
              "130740 -0.076210 -0.309715 -0.213259  ... -0.093152 -0.273186 -0.052292\n",
              "192415  0.012195  0.092886  0.356503  ...  0.049596 -0.191773  0.063029\n",
              "\n",
              "[5 rows x 8 columns]"
            ]
          },
          "metadata": {
            "tags": []
          },
          "execution_count": 30
        }
      ]
    },
    {
      "cell_type": "code",
      "metadata": {
        "id": "BTWRAK-81Vse"
      },
      "source": [
        "X_test1=X_test.reset_index()\n",
        "X_test1=X_test1.drop(['index'], axis = 1) "
      ],
      "execution_count": 31,
      "outputs": []
    },
    {
      "cell_type": "markdown",
      "metadata": {
        "id": "SwHMoqID7Pft"
      },
      "source": [
        "## IForest: \n",
        "**based on the idea that \"an outlier should be the easiest to be isolated\", to isolate anomalies instead of profiling normal data points. Anomalies are isolated closer to the root of the tree; whereas normal points are isolated at the deeper end of the tree.**\n",
        "\n",
        "Create three models: clf1, clf2,and clf3\n",
        "Model 1: max_samples = 100\n",
        "Model 2: max_samples = 1000\n",
        "Model 3: max_samples = 5000\n",
        "\n",
        "\n",
        "\n"
      ]
    },
    {
      "cell_type": "markdown",
      "metadata": {
        "id": "68UdAEOa7bap"
      },
      "source": [
        "### IForest Model 1"
      ]
    },
    {
      "cell_type": "code",
      "metadata": {
        "id": "t1_Iy6hkxABj",
        "outputId": "a729fd9b-de32-442e-b82a-76463dcfe6cb",
        "colab": {
          "base_uri": "https://localhost:8080/",
          "height": 68
        }
      },
      "source": [
        "clf1 = IForest(behaviour=\"new\", max_samples=100) \n",
        "clf1.fit(X_train)"
      ],
      "execution_count": null,
      "outputs": [
        {
          "output_type": "execute_result",
          "data": {
            "text/plain": [
              "IForest(behaviour='new', bootstrap=False, contamination=0.1, max_features=1.0,\n",
              "    max_samples=100, n_estimators=100, n_jobs=1, random_state=None,\n",
              "    verbose=0)"
            ]
          },
          "metadata": {
            "tags": []
          },
          "execution_count": 193
        }
      ]
    },
    {
      "cell_type": "markdown",
      "metadata": {
        "id": "HqINePh27yJj"
      },
      "source": [
        "After modeling, there is an anomaly score for each observation in the training dataset X_Train."
      ]
    },
    {
      "cell_type": "code",
      "metadata": {
        "id": "3aVj0KiO7yn2",
        "outputId": "3b4af759-4b48-4915-ffcc-737ebcfc3d97",
        "colab": {
          "base_uri": "https://localhost:8080/",
          "height": 119
        }
      },
      "source": [
        "# clf.decision_function: Predict raw anomaly score of X using the fitted detector.\n",
        "# We apply the model to the test data X_test to get the outlier scores.\n",
        "y_test_scores = clf1.decision_function(X_test)  # outlier scores\n",
        "y_test_scores = pd.Series(y_test_scores)\n",
        "y_test_scores.head()"
      ],
      "execution_count": null,
      "outputs": [
        {
          "output_type": "execute_result",
          "data": {
            "text/plain": [
              "0   -0.034358\n",
              "1   -0.155301\n",
              "2   -0.151810\n",
              "3   -0.164190\n",
              "4   -0.042421\n",
              "dtype: float64"
            ]
          },
          "metadata": {
            "tags": []
          },
          "execution_count": 195
        }
      ]
    },
    {
      "cell_type": "code",
      "metadata": {
        "id": "ttUcB3bvxtJu",
        "outputId": "57ccbbe8-b1be-48a8-c768-6085eb2090c5",
        "colab": {
          "base_uri": "https://localhost:8080/",
          "height": 281
        }
      },
      "source": [
        "import matplotlib.pyplot as plt\n",
        "plt.hist(y_test_scores, bins='auto')  # arguments are passed to np.histogram\n",
        "plt.title(\"Histogram with 'auto' bins\")\n",
        "plt.show()"
      ],
      "execution_count": null,
      "outputs": [
        {
          "output_type": "display_data",
          "data": {
            "image/png": "[encoded data removed]",
            "text/plain": [
              "<Figure size 432x288 with 1 Axes>"
            ]
          },
          "metadata": {
            "tags": [],
            "needs_background": "light"
          }
        }
      ]
    },
    {
      "cell_type": "markdown",
      "metadata": {
        "id": "qMBTFQ2Y7-_o"
      },
      "source": [
        "The graph is hard to tell the outliers as it's very smooth, and I believe the reason is that there're too many data points. From the graph above, the cutting point is set to be 0.2"
      ]
    },
    {
      "cell_type": "code",
      "metadata": {
        "id": "GQi34bxm-vbU",
        "outputId": "dc4582b8-d28d-4ac7-dca8-d80ef7b24d3c",
        "colab": {
          "base_uri": "https://localhost:8080/",
          "height": 281
        }
      },
      "source": [
        "#zoom in \n",
        "plt.hist(y_test_scores, bins=40, range=(0,0.3))  \n",
        "plt.title(\"Histogram with 40 bins\")\n",
        "axes = plt.gca()\n",
        "axes.set_ylim([0,1000])\n",
        "plt.show()"
      ],
      "execution_count": null,
      "outputs": [
        {
          "output_type": "display_data",
          "data": {
            "image/png": "[encoded data removed]",
            "text/plain": [
              "<Figure size 432x288 with 1 Axes>"
            ]
          },
          "metadata": {
            "tags": [],
            "needs_background": "light"
          }
        }
      ]
    },
    {
      "cell_type": "code",
      "metadata": {
        "id": "2KNCn_nqyRpz"
      },
      "source": [
        "df_test_ifor1 = X_test1.copy()\n",
        "df_test_ifor1['score'] = y_test_scores"
      ],
      "execution_count": null,
      "outputs": []
    },
    {
      "cell_type": "code",
      "metadata": {
        "id": "iCQzVSrSy-ty",
        "outputId": "6b6cd7ea-61a6-44b4-9105-f628a1dbeba4",
        "colab": {
          "base_uri": "https://localhost:8080/",
          "height": 68
        }
      },
      "source": [
        "df_test_ifor1['cluster'] = np.where(df_test_ifor1['score']<0.2, 0, 1)\n",
        "df_test_ifor1['cluster'].value_counts()"
      ],
      "execution_count": null,
      "outputs": [
        {
          "output_type": "execute_result",
          "data": {
            "text/plain": [
              "0    140201\n",
              "1      1015\n",
              "Name: cluster, dtype: int64"
            ]
          },
          "metadata": {
            "tags": []
          },
          "execution_count": 426
        }
      ]
    },
    {
      "cell_type": "code",
      "metadata": {
        "id": "-FnT4B2U8E0w",
        "outputId": "ac50f2e5-6003-4fe1-d3ed-76e1d0e07a79",
        "colab": {
          "base_uri": "https://localhost:8080/",
          "height": 142
        }
      },
      "source": [
        "df_test_ifor1.groupby('cluster').mean()"
      ],
      "execution_count": null,
      "outputs": [
        {
          "output_type": "execute_result",
          "data": {
            "text/html": [
              "<div>\n",
              "<style scoped>\n",
              "    .dataframe tbody tr th:only-of-type {\n",
              "        vertical-align: middle;\n",
              "    }\n",
              "\n",
              "    .dataframe tbody tr th {\n",
              "        vertical-align: top;\n",
              "    }\n",
              "\n",
              "    .dataframe thead th {\n",
              "        text-align: right;\n",
              "    }\n",
              "</style>\n",
              "<table border=\"1\" class=\"dataframe\">\n",
              "  <thead>\n",
              "    <tr style=\"text-align: right;\">\n",
              "      <th></th>\n",
              "      <th>0</th>\n",
              "      <th>1</th>\n",
              "      <th>2</th>\n",
              "      <th>3</th>\n",
              "      <th>4</th>\n",
              "      <th>5</th>\n",
              "      <th>6</th>\n",
              "      <th>7</th>\n",
              "      <th>8</th>\n",
              "      <th>score</th>\n",
              "    </tr>\n",
              "    <tr>\n",
              "      <th>cluster</th>\n",
              "      <th></th>\n",
              "      <th></th>\n",
              "      <th></th>\n",
              "      <th></th>\n",
              "      <th></th>\n",
              "      <th></th>\n",
              "      <th></th>\n",
              "      <th></th>\n",
              "      <th></th>\n",
              "      <th></th>\n",
              "    </tr>\n",
              "  </thead>\n",
              "  <tbody>\n",
              "    <tr>\n",
              "      <th>0</th>\n",
              "      <td>-0.020514</td>\n",
              "      <td>-0.024014</td>\n",
              "      <td>-0.042531</td>\n",
              "      <td>-0.040094</td>\n",
              "      <td>-0.008565</td>\n",
              "      <td>-0.019344</td>\n",
              "      <td>-0.033931</td>\n",
              "      <td>-0.012454</td>\n",
              "      <td>-0.036929</td>\n",
              "      <td>-0.114428</td>\n",
              "    </tr>\n",
              "    <tr>\n",
              "      <th>1</th>\n",
              "      <td>3.173201</td>\n",
              "      <td>3.234965</td>\n",
              "      <td>6.018497</td>\n",
              "      <td>5.428900</td>\n",
              "      <td>0.864070</td>\n",
              "      <td>2.859029</td>\n",
              "      <td>4.392904</td>\n",
              "      <td>1.894587</td>\n",
              "      <td>5.068856</td>\n",
              "      <td>0.230166</td>\n",
              "    </tr>\n",
              "  </tbody>\n",
              "</table>\n",
              "</div>"
            ],
            "text/plain": [
              "                0         1         2  ...         7         8     score\n",
              "cluster                                ...                              \n",
              "0       -0.020514 -0.024014 -0.042531  ... -0.012454 -0.036929 -0.114428\n",
              "1        3.173201  3.234965  6.018497  ...  1.894587  5.068856  0.230166\n",
              "\n",
              "[2 rows x 10 columns]"
            ]
          },
          "metadata": {
            "tags": []
          },
          "execution_count": 428
        }
      ]
    },
    {
      "cell_type": "markdown",
      "metadata": {
        "id": "I2bBoRdk1Dxt"
      },
      "source": [
        "Out of 141216 rows creditcard transaction data in the test dataset, 1015 transactions are labeled to be outliers (0.72%). The summary statistics show that cluster 1 (outlier group) has all large positive values for these standardized values"
      ]
    },
    {
      "cell_type": "markdown",
      "metadata": {
        "id": "f6O2c6wfyH3C"
      },
      "source": [
        "### IForest Model2 "
      ]
    },
    {
      "cell_type": "code",
      "metadata": {
        "id": "kuEOHeRsyJpe",
        "outputId": "8ef8ff17-6904-4b60-d65f-f50f5dde40a0",
        "colab": {
          "base_uri": "https://localhost:8080/",
          "height": 68
        }
      },
      "source": [
        "clf2 = IForest(behaviour=\"new\", max_samples=1000) \n",
        "clf2.fit(X_train)"
      ],
      "execution_count": null,
      "outputs": [
        {
          "output_type": "execute_result",
          "data": {
            "text/plain": [
              "IForest(behaviour='new', bootstrap=False, contamination=0.1, max_features=1.0,\n",
              "    max_samples=1000, n_estimators=100, n_jobs=1, random_state=None,\n",
              "    verbose=0)"
            ]
          },
          "metadata": {
            "tags": []
          },
          "execution_count": 200
        }
      ]
    },
    {
      "cell_type": "code",
      "metadata": {
        "id": "EjrhyaaXyXLJ",
        "outputId": "a183f8b5-5b23-43c4-c4fd-cb65daad1ed2",
        "colab": {
          "base_uri": "https://localhost:8080/",
          "height": 119
        }
      },
      "source": [
        "y_test_scores2 = clf2.decision_function(X_test)  # outlier scores\n",
        "y_test_scores2 = pd.Series(y_test_scores2)\n",
        "y_test_scores2.head()"
      ],
      "execution_count": null,
      "outputs": [
        {
          "output_type": "execute_result",
          "data": {
            "text/plain": [
              "0    0.001073\n",
              "1   -0.081870\n",
              "2   -0.080005\n",
              "3   -0.080695\n",
              "4    0.018664\n",
              "dtype: float64"
            ]
          },
          "metadata": {
            "tags": []
          },
          "execution_count": 201
        }
      ]
    },
    {
      "cell_type": "code",
      "metadata": {
        "id": "fJ6gCdlSyeDI",
        "outputId": "8759b4bb-fc99-4027-e2cc-68e7cef8d169",
        "colab": {
          "base_uri": "https://localhost:8080/",
          "height": 281
        }
      },
      "source": [
        "import matplotlib.pyplot as plt\n",
        "plt.hist(y_test_scores2, bins='auto')  # arguments are passed to np.histogram\n",
        "plt.title(\"Histogram with 'auto' bins\")\n",
        "plt.show()"
      ],
      "execution_count": null,
      "outputs": [
        {
          "output_type": "display_data",
          "data": {
            "image/png": "[encoded data removed]",
            "text/plain": [
              "<Figure size 432x288 with 1 Axes>"
            ]
          },
          "metadata": {
            "tags": [],
            "needs_background": "light"
          }
        }
      ]
    },
    {
      "cell_type": "markdown",
      "metadata": {
        "id": "5UXledHM0W9g"
      },
      "source": [
        "Similar to the last one, the graph is smooth."
      ]
    },
    {
      "cell_type": "code",
      "metadata": {
        "id": "TPihuMrt980O",
        "outputId": "b0a46556-5c5b-46c1-ce40-1399d9417883",
        "colab": {
          "base_uri": "https://localhost:8080/",
          "height": 281
        }
      },
      "source": [
        "# zoom in \n",
        "plt.hist(y_test_scores2, bins=40, range = (0,0.4))  # arguments are passed to np.histogram\n",
        "plt.title(\"Histogram with 40 bins\")\n",
        "axes = plt.gca()\n",
        "axes.set_ylim([0,500])\n",
        "plt.show()"
      ],
      "execution_count": null,
      "outputs": [
        {
          "output_type": "display_data",
          "data": {
            "image/png": "[encoded data removed]",
            "text/plain": [
              "<Figure size 432x288 with 1 Axes>"
            ]
          },
          "metadata": {
            "tags": [],
            "needs_background": "light"
          }
        }
      ]
    },
    {
      "cell_type": "markdown",
      "metadata": {
        "id": "kqltRP_G-QjD"
      },
      "source": [
        "0.2 is set to be the cutting point"
      ]
    },
    {
      "cell_type": "code",
      "metadata": {
        "id": "wSwW39a60kRj"
      },
      "source": [
        "df_test_ifor2 = X_test1.copy()\n",
        "df_test_ifor2['score'] = y_test_scores2"
      ],
      "execution_count": null,
      "outputs": []
    },
    {
      "cell_type": "code",
      "metadata": {
        "id": "gD4jInaS-XTQ",
        "outputId": "c600af3c-ed1c-4974-9b4c-f313bc924a47",
        "colab": {
          "base_uri": "https://localhost:8080/",
          "height": 68
        }
      },
      "source": [
        "df_test_ifor2['cluster'] = np.where(df_test_ifor2['score']<0.2, 0, 1)\n",
        "df_test_ifor2['cluster'].value_counts()"
      ],
      "execution_count": null,
      "outputs": [
        {
          "output_type": "execute_result",
          "data": {
            "text/plain": [
              "0    139695\n",
              "1      1521\n",
              "Name: cluster, dtype: int64"
            ]
          },
          "metadata": {
            "tags": []
          },
          "execution_count": 485
        }
      ]
    },
    {
      "cell_type": "code",
      "metadata": {
        "id": "wpDCwyqs-fCp",
        "outputId": "b931cf16-7d8b-4b0c-ff67-0cfd6d9ae268",
        "colab": {
          "base_uri": "https://localhost:8080/",
          "height": 142
        }
      },
      "source": [
        "df_test_ifor2.groupby('cluster').mean()"
      ],
      "execution_count": null,
      "outputs": [
        {
          "output_type": "execute_result",
          "data": {
            "text/html": [
              "<div>\n",
              "<style scoped>\n",
              "    .dataframe tbody tr th:only-of-type {\n",
              "        vertical-align: middle;\n",
              "    }\n",
              "\n",
              "    .dataframe tbody tr th {\n",
              "        vertical-align: top;\n",
              "    }\n",
              "\n",
              "    .dataframe thead th {\n",
              "        text-align: right;\n",
              "    }\n",
              "</style>\n",
              "<table border=\"1\" class=\"dataframe\">\n",
              "  <thead>\n",
              "    <tr style=\"text-align: right;\">\n",
              "      <th></th>\n",
              "      <th>0</th>\n",
              "      <th>1</th>\n",
              "      <th>2</th>\n",
              "      <th>3</th>\n",
              "      <th>4</th>\n",
              "      <th>5</th>\n",
              "      <th>6</th>\n",
              "      <th>7</th>\n",
              "      <th>8</th>\n",
              "      <th>score</th>\n",
              "    </tr>\n",
              "    <tr>\n",
              "      <th>cluster</th>\n",
              "      <th></th>\n",
              "      <th></th>\n",
              "      <th></th>\n",
              "      <th></th>\n",
              "      <th></th>\n",
              "      <th></th>\n",
              "      <th></th>\n",
              "      <th></th>\n",
              "      <th></th>\n",
              "      <th></th>\n",
              "    </tr>\n",
              "  </thead>\n",
              "  <tbody>\n",
              "    <tr>\n",
              "      <th>0</th>\n",
              "      <td>-0.023434</td>\n",
              "      <td>-0.035645</td>\n",
              "      <td>-0.054509</td>\n",
              "      <td>-0.051941</td>\n",
              "      <td>-0.010717</td>\n",
              "      <td>-0.022472</td>\n",
              "      <td>-0.049614</td>\n",
              "      <td>-0.014081</td>\n",
              "      <td>-0.046948</td>\n",
              "      <td>-0.059685</td>\n",
              "    </tr>\n",
              "    <tr>\n",
              "      <th>1</th>\n",
              "      <td>2.378916</td>\n",
              "      <td>3.218988</td>\n",
              "      <td>5.102272</td>\n",
              "      <td>4.697584</td>\n",
              "      <td>0.771413</td>\n",
              "      <td>2.188766</td>\n",
              "      <td>4.360574</td>\n",
              "      <td>1.409545</td>\n",
              "      <td>4.290399</td>\n",
              "      <td>0.264502</td>\n",
              "    </tr>\n",
              "  </tbody>\n",
              "</table>\n",
              "</div>"
            ],
            "text/plain": [
              "                0         1         2  ...         7         8     score\n",
              "cluster                                ...                              \n",
              "0       -0.023434 -0.035645 -0.054509  ... -0.014081 -0.046948 -0.059685\n",
              "1        2.378916  3.218988  5.102272  ...  1.409545  4.290399  0.264502\n",
              "\n",
              "[2 rows x 10 columns]"
            ]
          },
          "metadata": {
            "tags": []
          },
          "execution_count": 487
        }
      ]
    },
    {
      "cell_type": "markdown",
      "metadata": {
        "id": "fD52vvvt199K"
      },
      "source": [
        "Out of 141216 rows creditcard transaction data in the test dataset, 1521 transactions are labeled to be outliers (1.08%). The summary statistics show that cluster 1 (outlier group) has all large positive values for these standardized values. Comparing to the model 1, as the cutting off line was pushed right further, the standardized values of outlier group got larger."
      ]
    },
    {
      "cell_type": "markdown",
      "metadata": {
        "id": "SDBk7vFTy0OI"
      },
      "source": [
        "### IForest Model 3"
      ]
    },
    {
      "cell_type": "code",
      "metadata": {
        "id": "1o9VZf4ty16T",
        "outputId": "25a0dcee-619b-448c-b793-a2fc82c0fe62",
        "colab": {
          "base_uri": "https://localhost:8080/",
          "height": 68
        }
      },
      "source": [
        "clf3 = IForest(behaviour=\"new\", max_samples=10000) \n",
        "clf3.fit(X_train)"
      ],
      "execution_count": null,
      "outputs": [
        {
          "output_type": "execute_result",
          "data": {
            "text/plain": [
              "IForest(behaviour='new', bootstrap=False, contamination=0.1, max_features=1.0,\n",
              "    max_samples=10000, n_estimators=100, n_jobs=1, random_state=None,\n",
              "    verbose=0)"
            ]
          },
          "metadata": {
            "tags": []
          },
          "execution_count": 203
        }
      ]
    },
    {
      "cell_type": "code",
      "metadata": {
        "id": "l0fUdUurzFmR",
        "outputId": "74632033-56d8-4ee7-cc1f-c3f908bb0553",
        "colab": {
          "base_uri": "https://localhost:8080/",
          "height": 119
        }
      },
      "source": [
        "# clf.decision_function: Predict raw anomaly score of X using the fitted detector.\n",
        "y_test_scores3 = clf3.decision_function(X_test)  # outlier scores\n",
        "y_test_scores3 = pd.Series(y_test_scores3)\n",
        "y_test_scores3.head()"
      ],
      "execution_count": null,
      "outputs": [
        {
          "output_type": "execute_result",
          "data": {
            "text/plain": [
              "0   -0.011554\n",
              "1   -0.050470\n",
              "2   -0.053795\n",
              "3   -0.044519\n",
              "4    0.018538\n",
              "dtype: float64"
            ]
          },
          "metadata": {
            "tags": []
          },
          "execution_count": 204
        }
      ]
    },
    {
      "cell_type": "code",
      "metadata": {
        "id": "tgvibXds9aH5",
        "outputId": "1769f9f0-0e45-4cb2-ca95-fe48d27ddbf7",
        "colab": {
          "base_uri": "https://localhost:8080/",
          "height": 281
        }
      },
      "source": [
        "import matplotlib.pyplot as plt\n",
        "plt.hist(y_test_scores3, bins=40, range=(0,0.2))  # arguments are passed to np.histogram\n",
        "plt.title(\"Histogram with 40 bins\")\n",
        "axes = plt.gca()\n",
        "axes.set_ylim([0,300])\n",
        "plt.show()"
      ],
      "execution_count": null,
      "outputs": [
        {
          "output_type": "display_data",
          "data": {
            "image/png": "[encoded data removed]",
            "text/plain": [
              "<Figure size 432x288 with 1 Axes>"
            ]
          },
          "metadata": {
            "tags": [],
            "needs_background": "light"
          }
        }
      ]
    },
    {
      "cell_type": "markdown",
      "metadata": {
        "id": "9AF6nPma9hyD"
      },
      "source": [
        "0.175 is set to be the cutting point"
      ]
    },
    {
      "cell_type": "code",
      "metadata": {
        "id": "ZloXT-4L2YFs"
      },
      "source": [
        "df_test_ifor3 = X_test1.copy()\n",
        "df_test_ifor3['score'] = y_test_scores3"
      ],
      "execution_count": null,
      "outputs": []
    },
    {
      "cell_type": "code",
      "metadata": {
        "id": "SBGFGkDb9ncM",
        "outputId": "4bbe29d0-b3c6-4b38-aaf5-a199103dcc3a",
        "colab": {
          "base_uri": "https://localhost:8080/",
          "height": 68
        }
      },
      "source": [
        "df_test_ifor3['cluster'] = np.where(df_test_ifor3['score']<0.175, 0, 1)\n",
        "df_test_ifor3['cluster'].value_counts()"
      ],
      "execution_count": null,
      "outputs": [
        {
          "output_type": "execute_result",
          "data": {
            "text/plain": [
              "0    140325\n",
              "1       891\n",
              "Name: cluster, dtype: int64"
            ]
          },
          "metadata": {
            "tags": []
          },
          "execution_count": 476
        }
      ]
    },
    {
      "cell_type": "code",
      "metadata": {
        "id": "5tLHprKP9r6n",
        "outputId": "66f28e96-0cd6-4093-8c45-91b6fb162437",
        "colab": {
          "base_uri": "https://localhost:8080/",
          "height": 142
        }
      },
      "source": [
        "df_test_ifor3.groupby('cluster').mean()"
      ],
      "execution_count": null,
      "outputs": [
        {
          "output_type": "execute_result",
          "data": {
            "text/html": [
              "<div>\n",
              "<style scoped>\n",
              "    .dataframe tbody tr th:only-of-type {\n",
              "        vertical-align: middle;\n",
              "    }\n",
              "\n",
              "    .dataframe tbody tr th {\n",
              "        vertical-align: top;\n",
              "    }\n",
              "\n",
              "    .dataframe thead th {\n",
              "        text-align: right;\n",
              "    }\n",
              "</style>\n",
              "<table border=\"1\" class=\"dataframe\">\n",
              "  <thead>\n",
              "    <tr style=\"text-align: right;\">\n",
              "      <th></th>\n",
              "      <th>0</th>\n",
              "      <th>1</th>\n",
              "      <th>2</th>\n",
              "      <th>3</th>\n",
              "      <th>4</th>\n",
              "      <th>5</th>\n",
              "      <th>6</th>\n",
              "      <th>7</th>\n",
              "      <th>8</th>\n",
              "      <th>score</th>\n",
              "    </tr>\n",
              "    <tr>\n",
              "      <th>cluster</th>\n",
              "      <th></th>\n",
              "      <th></th>\n",
              "      <th></th>\n",
              "      <th></th>\n",
              "      <th></th>\n",
              "      <th></th>\n",
              "      <th></th>\n",
              "      <th></th>\n",
              "      <th></th>\n",
              "      <th></th>\n",
              "    </tr>\n",
              "  </thead>\n",
              "  <tbody>\n",
              "    <tr>\n",
              "      <th>0</th>\n",
              "      <td>-0.020051</td>\n",
              "      <td>-0.027389</td>\n",
              "      <td>-0.038653</td>\n",
              "      <td>-0.035284</td>\n",
              "      <td>-0.006454</td>\n",
              "      <td>-0.017519</td>\n",
              "      <td>-0.036371</td>\n",
              "      <td>-0.011151</td>\n",
              "      <td>-0.029057</td>\n",
              "      <td>-0.038472</td>\n",
              "    </tr>\n",
              "    <tr>\n",
              "      <th>1</th>\n",
              "      <td>3.544750</td>\n",
              "      <td>4.220099</td>\n",
              "      <td>6.251323</td>\n",
              "      <td>5.432524</td>\n",
              "      <td>0.653082</td>\n",
              "      <td>2.972224</td>\n",
              "      <td>5.393286</td>\n",
              "      <td>1.954719</td>\n",
              "      <td>4.539651</td>\n",
              "      <td>0.260102</td>\n",
              "    </tr>\n",
              "  </tbody>\n",
              "</table>\n",
              "</div>"
            ],
            "text/plain": [
              "                0         1         2  ...         7         8     score\n",
              "cluster                                ...                              \n",
              "0       -0.020051 -0.027389 -0.038653  ... -0.011151 -0.029057 -0.038472\n",
              "1        3.544750  4.220099  6.251323  ...  1.954719  4.539651  0.260102\n",
              "\n",
              "[2 rows x 10 columns]"
            ]
          },
          "metadata": {
            "tags": []
          },
          "execution_count": 478
        }
      ]
    },
    {
      "cell_type": "markdown",
      "metadata": {
        "id": "Oh4EqfMN3dP_"
      },
      "source": [
        "Out of 141216 rows creditcard transaction data in the test dataset, 891 transactions are labeled to be outliers (0.63%). "
      ]
    },
    {
      "cell_type": "markdown",
      "metadata": {
        "id": "aAKu1epqzepj"
      },
      "source": [
        "### IForest Model 4"
      ]
    },
    {
      "cell_type": "code",
      "metadata": {
        "id": "QvcBC3Suzf1V",
        "outputId": "5fca6a82-f581-4f9c-889d-8307342c5a08",
        "colab": {
          "base_uri": "https://localhost:8080/",
          "height": 68
        }
      },
      "source": [
        "clf4 = IForest(behaviour=\"new\", max_samples=100000) \n",
        "clf4.fit(X_train)"
      ],
      "execution_count": null,
      "outputs": [
        {
          "output_type": "execute_result",
          "data": {
            "text/plain": [
              "IForest(behaviour='new', bootstrap=False, contamination=0.1, max_features=1.0,\n",
              "    max_samples=100000, n_estimators=100, n_jobs=1, random_state=None,\n",
              "    verbose=0)"
            ]
          },
          "metadata": {
            "tags": []
          },
          "execution_count": 390
        }
      ]
    },
    {
      "cell_type": "code",
      "metadata": {
        "id": "4HD1ZvfN0KHf",
        "outputId": "6011d60f-dadb-45c1-d6f1-fbfd5a187824",
        "colab": {
          "base_uri": "https://localhost:8080/",
          "height": 119
        }
      },
      "source": [
        "y_test_scores4 = clf4.decision_function(X_test)  # outlier scores\n",
        "y_test_scores4 = pd.Series(y_test_scores4)\n",
        "y_test_scores4.head()"
      ],
      "execution_count": null,
      "outputs": [
        {
          "output_type": "execute_result",
          "data": {
            "text/plain": [
              "0   -0.003349\n",
              "1   -0.030307\n",
              "2   -0.042196\n",
              "3   -0.025527\n",
              "4    0.001778\n",
              "dtype: float64"
            ]
          },
          "metadata": {
            "tags": []
          },
          "execution_count": 207
        }
      ]
    },
    {
      "cell_type": "code",
      "metadata": {
        "id": "TTSlo15F9Nuz",
        "outputId": "6a5f4e01-65a0-4308-bf8b-e790ec57f535",
        "colab": {
          "base_uri": "https://localhost:8080/",
          "height": 281
        }
      },
      "source": [
        "import matplotlib.pyplot as plt\n",
        "plt.hist(y_test_scores4, bins=40, range=(0,0.2))  # arguments are passed to np.histogram\n",
        "plt.title(\"Histogram with 40 bins\")\n",
        "axes = plt.gca()\n",
        "axes.set_ylim([0,300])\n",
        "plt.show()"
      ],
      "execution_count": null,
      "outputs": [
        {
          "output_type": "display_data",
          "data": {
            "image/png": "[encoded data removed]",
            "text/plain": [
              "<Figure size 432x288 with 1 Axes>"
            ]
          },
          "metadata": {
            "tags": [],
            "needs_background": "light"
          }
        }
      ]
    },
    {
      "cell_type": "markdown",
      "metadata": {
        "id": "AXNhruDz4inz"
      },
      "source": [
        "Set the cutting off point to be 0.1 as the data tend to be discontinous when data is greater than 0.1 "
      ]
    },
    {
      "cell_type": "code",
      "metadata": {
        "id": "sjPdbIJQ4eaD"
      },
      "source": [
        "df_test_ifor4 = X_test1.copy()\n",
        "df_test_ifor4['score'] = y_test_scores4"
      ],
      "execution_count": null,
      "outputs": []
    },
    {
      "cell_type": "code",
      "metadata": {
        "id": "RMQRlo1w4wqB",
        "outputId": "4a258618-b434-428d-a77c-5be65b80549a",
        "colab": {
          "base_uri": "https://localhost:8080/",
          "height": 68
        }
      },
      "source": [
        "df_test_ifor4['cluster'] = np.where(df_test_ifor4['score']<0.1, 0, 1)\n",
        "df_test_ifor4['cluster'].value_counts()"
      ],
      "execution_count": null,
      "outputs": [
        {
          "output_type": "execute_result",
          "data": {
            "text/plain": [
              "0    140052\n",
              "1      1164\n",
              "Name: cluster, dtype: int64"
            ]
          },
          "metadata": {
            "tags": []
          },
          "execution_count": 447
        }
      ]
    },
    {
      "cell_type": "code",
      "metadata": {
        "id": "Ze7mDe2849l-",
        "outputId": "df3d91c8-fbed-4a84-e6d0-626435258815",
        "colab": {
          "base_uri": "https://localhost:8080/",
          "height": 142
        }
      },
      "source": [
        "df_test_ifor4.groupby('cluster').mean()"
      ],
      "execution_count": null,
      "outputs": [
        {
          "output_type": "execute_result",
          "data": {
            "text/html": [
              "<div>\n",
              "<style scoped>\n",
              "    .dataframe tbody tr th:only-of-type {\n",
              "        vertical-align: middle;\n",
              "    }\n",
              "\n",
              "    .dataframe tbody tr th {\n",
              "        vertical-align: top;\n",
              "    }\n",
              "\n",
              "    .dataframe thead th {\n",
              "        text-align: right;\n",
              "    }\n",
              "</style>\n",
              "<table border=\"1\" class=\"dataframe\">\n",
              "  <thead>\n",
              "    <tr style=\"text-align: right;\">\n",
              "      <th></th>\n",
              "      <th>0</th>\n",
              "      <th>1</th>\n",
              "      <th>2</th>\n",
              "      <th>3</th>\n",
              "      <th>4</th>\n",
              "      <th>5</th>\n",
              "      <th>6</th>\n",
              "      <th>7</th>\n",
              "      <th>8</th>\n",
              "      <th>score</th>\n",
              "    </tr>\n",
              "    <tr>\n",
              "      <th>cluster</th>\n",
              "      <th></th>\n",
              "      <th></th>\n",
              "      <th></th>\n",
              "      <th></th>\n",
              "      <th></th>\n",
              "      <th></th>\n",
              "      <th></th>\n",
              "      <th></th>\n",
              "      <th></th>\n",
              "      <th></th>\n",
              "    </tr>\n",
              "  </thead>\n",
              "  <tbody>\n",
              "    <tr>\n",
              "      <th>0</th>\n",
              "      <td>-0.020919</td>\n",
              "      <td>-0.030881</td>\n",
              "      <td>-0.043088</td>\n",
              "      <td>-0.039581</td>\n",
              "      <td>-0.006584</td>\n",
              "      <td>-0.018643</td>\n",
              "      <td>-0.042040</td>\n",
              "      <td>-0.011684</td>\n",
              "      <td>-0.035150</td>\n",
              "      <td>-0.026958</td>\n",
              "    </tr>\n",
              "    <tr>\n",
              "      <th>1</th>\n",
              "      <td>2.813165</td>\n",
              "      <td>3.644038</td>\n",
              "      <td>5.309720</td>\n",
              "      <td>4.667120</td>\n",
              "      <td>0.513992</td>\n",
              "      <td>2.406321</td>\n",
              "      <td>4.801895</td>\n",
              "      <td>1.557768</td>\n",
              "      <td>4.201203</td>\n",
              "      <td>0.169354</td>\n",
              "    </tr>\n",
              "  </tbody>\n",
              "</table>\n",
              "</div>"
            ],
            "text/plain": [
              "                0         1         2  ...         7         8     score\n",
              "cluster                                ...                              \n",
              "0       -0.020919 -0.030881 -0.043088  ... -0.011684 -0.035150 -0.026958\n",
              "1        2.813165  3.644038  5.309720  ...  1.557768  4.201203  0.169354\n",
              "\n",
              "[2 rows x 10 columns]"
            ]
          },
          "metadata": {
            "tags": []
          },
          "execution_count": 448
        }
      ]
    },
    {
      "cell_type": "markdown",
      "metadata": {
        "id": "NwifB9cu5GEC"
      },
      "source": [
        "Out of 141216 rows creditcard transaction data in the test dataset, 1164 transactions are labeled to be outliers (0.82%). "
      ]
    },
    {
      "cell_type": "markdown",
      "metadata": {
        "id": "xPVEqNC7nWrJ"
      },
      "source": [
        "### Achieve Model Stability by Aggregating Multiple Models\n",
        "\n",
        "Unsupervised techniques can detect many outliers. But due to its unspervised nature it is not stable, meaning overfitting to a specific dataset.\n",
        "The solution is to train multiple models then aggregate the scores.\n",
        "There are four methods to aggregate the outcome:\n",
        "\n",
        "(1) Average: average scores of all detectors.\n",
        "\n",
        "(2) Maximum of Maximum (MOM)\n",
        "\n",
        "(3) Average of Maximum (AOM)\n",
        "\n",
        "(4) Maximum of Average (MOA)"
      ]
    },
    {
      "cell_type": "code",
      "metadata": {
        "id": "sv7nzUj80bTL"
      },
      "source": [
        "from pyod.models.combination import aom, moa, average, maximization\n",
        "from pyod.utils.utility import standardizer\n",
        "from pyod.utils.data import generate_data\n",
        "from pyod.utils.data import evaluate_print"
      ],
      "execution_count": null,
      "outputs": []
    },
    {
      "cell_type": "code",
      "metadata": {
        "id": "-kC3cxGn6ole"
      },
      "source": [
        "# The predictions of the training data can be obtained by clf.decision_scores_.\n",
        "# It is already generated during the model building process.\n",
        "train_scores = pd.DataFrame({'clf1': clf1.decision_scores_,\n",
        "                             'clf2': clf2.decision_scores_,\n",
        "                             'clf3': clf3.decision_scores_,\n",
        "                             'clf4': clf3.decision_scores_\n",
        "                            })\n",
        "\n",
        "# The predictions of the test data need to be predicted using clf.decision_function(X_test)\n",
        "test_scores  = pd.DataFrame({'clf1': clf1.decision_function(X_test),\n",
        "                             'clf2': clf2.decision_function(X_test),\n",
        "                             'clf3': clf3.decision_function(X_test),\n",
        "                             'clf4': clf3.decision_function(X_test)\n",
        "                            })"
      ],
      "execution_count": null,
      "outputs": []
    },
    {
      "cell_type": "code",
      "metadata": {
        "id": "-kyl82KN06sO",
        "outputId": "6c645f33-b34c-4311-e52b-fc78dce62504",
        "colab": {
          "base_uri": "https://localhost:8080/",
          "height": 204
        }
      },
      "source": [
        "train_scores.head()"
      ],
      "execution_count": null,
      "outputs": [
        {
          "output_type": "execute_result",
          "data": {
            "text/html": [
              "<div>\n",
              "<style scoped>\n",
              "    .dataframe tbody tr th:only-of-type {\n",
              "        vertical-align: middle;\n",
              "    }\n",
              "\n",
              "    .dataframe tbody tr th {\n",
              "        vertical-align: top;\n",
              "    }\n",
              "\n",
              "    .dataframe thead th {\n",
              "        text-align: right;\n",
              "    }\n",
              "</style>\n",
              "<table border=\"1\" class=\"dataframe\">\n",
              "  <thead>\n",
              "    <tr style=\"text-align: right;\">\n",
              "      <th></th>\n",
              "      <th>clf1</th>\n",
              "      <th>clf2</th>\n",
              "      <th>clf3</th>\n",
              "      <th>clf4</th>\n",
              "    </tr>\n",
              "  </thead>\n",
              "  <tbody>\n",
              "    <tr>\n",
              "      <th>0</th>\n",
              "      <td>-0.077181</td>\n",
              "      <td>-0.059068</td>\n",
              "      <td>-0.045846</td>\n",
              "      <td>-0.045846</td>\n",
              "    </tr>\n",
              "    <tr>\n",
              "      <th>1</th>\n",
              "      <td>-0.105822</td>\n",
              "      <td>-0.072291</td>\n",
              "      <td>-0.052804</td>\n",
              "      <td>-0.052804</td>\n",
              "    </tr>\n",
              "    <tr>\n",
              "      <th>2</th>\n",
              "      <td>0.110744</td>\n",
              "      <td>0.081720</td>\n",
              "      <td>0.029147</td>\n",
              "      <td>0.029147</td>\n",
              "    </tr>\n",
              "    <tr>\n",
              "      <th>3</th>\n",
              "      <td>-0.140906</td>\n",
              "      <td>-0.078093</td>\n",
              "      <td>-0.050999</td>\n",
              "      <td>-0.050999</td>\n",
              "    </tr>\n",
              "    <tr>\n",
              "      <th>4</th>\n",
              "      <td>0.150849</td>\n",
              "      <td>0.132334</td>\n",
              "      <td>0.055131</td>\n",
              "      <td>0.055131</td>\n",
              "    </tr>\n",
              "  </tbody>\n",
              "</table>\n",
              "</div>"
            ],
            "text/plain": [
              "       clf1      clf2      clf3      clf4\n",
              "0 -0.077181 -0.059068 -0.045846 -0.045846\n",
              "1 -0.105822 -0.072291 -0.052804 -0.052804\n",
              "2  0.110744  0.081720  0.029147  0.029147\n",
              "3 -0.140906 -0.078093 -0.050999 -0.050999\n",
              "4  0.150849  0.132334  0.055131  0.055131"
            ]
          },
          "metadata": {
            "tags": []
          },
          "execution_count": 215
        }
      ]
    },
    {
      "cell_type": "code",
      "metadata": {
        "id": "-z3WevCk05Ti"
      },
      "source": [
        "# Although we did standardization before, it was for the variables.\n",
        "# Now we do the standardization for the decision scores\n",
        "train_scores_norm, test_scores_norm = standardizer(train_scores,test_scores)"
      ],
      "execution_count": null,
      "outputs": []
    },
    {
      "cell_type": "markdown",
      "metadata": {
        "id": "CbazMTqa6z-0"
      },
      "source": [
        "Average\n",
        "\n",
        "The \"average\" function in PyOD averages the outlier scores from multiple estimators"
      ]
    },
    {
      "cell_type": "code",
      "metadata": {
        "id": "fKl2dKCi1KYg",
        "outputId": "62f20f55-0f67-4b9f-b04c-7571c2deb734",
        "colab": {
          "base_uri": "https://localhost:8080/",
          "height": 51
        }
      },
      "source": [
        "# Combination by average\n",
        "y_by_average = average(test_scores_norm)\n",
        "y_by_average[1:10]"
      ],
      "execution_count": null,
      "outputs": [
        {
          "output_type": "execute_result",
          "data": {
            "text/plain": [
              "array([-0.42036042, -0.44187785, -0.37042011,  1.22483123, -0.59599304,\n",
              "       -0.63886318,  0.39344822, -0.68339878, -0.39642173])"
            ]
          },
          "metadata": {
            "tags": []
          },
          "execution_count": 218
        }
      ]
    },
    {
      "cell_type": "code",
      "metadata": {
        "id": "ZemeSR2N8j6C",
        "outputId": "a46b91d3-bd39-4b21-fc12-ae102f296d2f",
        "colab": {
          "base_uri": "https://localhost:8080/",
          "height": 281
        }
      },
      "source": [
        "# Combination by average\n",
        "y_by_average = average(test_scores_norm)\n",
        "             \n",
        "import matplotlib.pyplot as plt\n",
        "plt.hist(y_by_average, bins=40, range=(0,10))  # arguments are passed to np.histogram\n",
        "plt.title(\"Combination by average\")\n",
        "axes = plt.gca()\n",
        "axes.set_ylim([0,200])\n",
        "plt.show()"
      ],
      "execution_count": null,
      "outputs": [
        {
          "output_type": "display_data",
          "data": {
            "image/png": "[encoded data removed]",
            "text/plain": [
              "<Figure size 432x288 with 1 Axes>"
            ]
          },
          "metadata": {
            "tags": [],
            "needs_background": "light"
          }
        }
      ]
    },
    {
      "cell_type": "markdown",
      "metadata": {
        "id": "WBer-A5Q6AA4"
      },
      "source": [
        "set the cutting off point to be 7"
      ]
    },
    {
      "cell_type": "code",
      "metadata": {
        "id": "clMaxI4l6EBA"
      },
      "source": [
        "df_test_iforavg = X_test1.copy()\n",
        "df_test_iforavg['score'] = y_by_average"
      ],
      "execution_count": null,
      "outputs": []
    },
    {
      "cell_type": "code",
      "metadata": {
        "id": "PrE5PMIN6NKo",
        "outputId": "b52e7e47-c220-473d-db7f-15fd3edd0e90",
        "colab": {
          "base_uri": "https://localhost:8080/",
          "height": 68
        }
      },
      "source": [
        "df_test_iforavg['cluster'] = np.where(df_test_iforavg['score']<7, 0, 1)\n",
        "df_test_iforavg['cluster'].value_counts()"
      ],
      "execution_count": null,
      "outputs": [
        {
          "output_type": "execute_result",
          "data": {
            "text/plain": [
              "0    141005\n",
              "1       211\n",
              "Name: cluster, dtype: int64"
            ]
          },
          "metadata": {
            "tags": []
          },
          "execution_count": 469
        }
      ]
    },
    {
      "cell_type": "code",
      "metadata": {
        "id": "hSgsDjGn6ZZV",
        "outputId": "d29fc837-cac2-4d2d-8be5-2f29cfc9155c",
        "colab": {
          "base_uri": "https://localhost:8080/",
          "height": 142
        }
      },
      "source": [
        "df_test_iforavg.groupby('cluster').mean()"
      ],
      "execution_count": null,
      "outputs": [
        {
          "output_type": "execute_result",
          "data": {
            "text/html": [
              "<div>\n",
              "<style scoped>\n",
              "    .dataframe tbody tr th:only-of-type {\n",
              "        vertical-align: middle;\n",
              "    }\n",
              "\n",
              "    .dataframe tbody tr th {\n",
              "        vertical-align: top;\n",
              "    }\n",
              "\n",
              "    .dataframe thead th {\n",
              "        text-align: right;\n",
              "    }\n",
              "</style>\n",
              "<table border=\"1\" class=\"dataframe\">\n",
              "  <thead>\n",
              "    <tr style=\"text-align: right;\">\n",
              "      <th></th>\n",
              "      <th>0</th>\n",
              "      <th>1</th>\n",
              "      <th>2</th>\n",
              "      <th>3</th>\n",
              "      <th>4</th>\n",
              "      <th>5</th>\n",
              "      <th>6</th>\n",
              "      <th>7</th>\n",
              "      <th>8</th>\n",
              "      <th>score</th>\n",
              "    </tr>\n",
              "    <tr>\n",
              "      <th>cluster</th>\n",
              "      <th></th>\n",
              "      <th></th>\n",
              "      <th></th>\n",
              "      <th></th>\n",
              "      <th></th>\n",
              "      <th></th>\n",
              "      <th></th>\n",
              "      <th></th>\n",
              "      <th></th>\n",
              "      <th></th>\n",
              "    </tr>\n",
              "  </thead>\n",
              "  <tbody>\n",
              "    <tr>\n",
              "      <th>0</th>\n",
              "      <td>-0.013639</td>\n",
              "      <td>-0.013115</td>\n",
              "      <td>-0.017868</td>\n",
              "      <td>-0.014654</td>\n",
              "      <td>-0.003547</td>\n",
              "      <td>-0.010890</td>\n",
              "      <td>-0.012989</td>\n",
              "      <td>-0.007644</td>\n",
              "      <td>-0.012531</td>\n",
              "      <td>-0.012152</td>\n",
              "    </tr>\n",
              "    <tr>\n",
              "      <th>1</th>\n",
              "      <td>10.748514</td>\n",
              "      <td>8.369446</td>\n",
              "      <td>12.632132</td>\n",
              "      <td>9.266991</td>\n",
              "      <td>0.836209</td>\n",
              "      <td>8.177459</td>\n",
              "      <td>7.265907</td>\n",
              "      <td>5.947146</td>\n",
              "      <td>8.219073</td>\n",
              "      <td>8.097733</td>\n",
              "    </tr>\n",
              "  </tbody>\n",
              "</table>\n",
              "</div>"
            ],
            "text/plain": [
              "                 0         1          2  ...         7         8     score\n",
              "cluster                                  ...                              \n",
              "0        -0.013639 -0.013115  -0.017868  ... -0.007644 -0.012531 -0.012152\n",
              "1        10.748514  8.369446  12.632132  ...  5.947146  8.219073  8.097733\n",
              "\n",
              "[2 rows x 10 columns]"
            ]
          },
          "metadata": {
            "tags": []
          },
          "execution_count": 470
        }
      ]
    },
    {
      "cell_type": "markdown",
      "metadata": {
        "id": "CIAXtHdq82ma"
      },
      "source": [
        "Out of 141216 rows creditcard transaction data in the test dataset, 211 transactions are labeled to be outliers (0.15%)."
      ]
    },
    {
      "cell_type": "markdown",
      "metadata": {
        "id": "5HhcoFLm6gNd"
      },
      "source": [
        "Maximum of maximum"
      ]
    },
    {
      "cell_type": "code",
      "metadata": {
        "id": "H-eudPFk6r30",
        "outputId": "002e0a76-0946-4f3e-aef3-835661393338",
        "colab": {
          "base_uri": "https://localhost:8080/",
          "height": 281
        }
      },
      "source": [
        "# Combination by max\n",
        "y_by_maximization = maximization(test_scores_norm)\n",
        "             \n",
        "import matplotlib.pyplot as plt\n",
        "plt.hist(y_by_maximization, bins=40, range=(0,15))  # arguments are passed to np.histogram\n",
        "plt.title(\"Combination by max\")\n",
        "axes = plt.gca()\n",
        "axes.set_ylim([0,100])\n",
        "plt.show()"
      ],
      "execution_count": null,
      "outputs": [
        {
          "output_type": "display_data",
          "data": {
            "image/png": "[encoded data removed]",
            "text/plain": [
              "<Figure size 432x288 with 1 Axes>"
            ]
          },
          "metadata": {
            "tags": [],
            "needs_background": "light"
          }
        }
      ]
    },
    {
      "cell_type": "markdown",
      "metadata": {
        "id": "1PQFt6gC7iyy"
      },
      "source": [
        "The cutting off point is >=6"
      ]
    },
    {
      "cell_type": "code",
      "metadata": {
        "id": "Hwob-A8X7lq9"
      },
      "source": [
        "df_test_iformax = X_test1.copy()\n",
        "df_test_iformax['score'] = y_by_maximization"
      ],
      "execution_count": null,
      "outputs": []
    },
    {
      "cell_type": "code",
      "metadata": {
        "id": "emh2yLJu74Fg",
        "outputId": "0ad5d6b5-daae-47e4-f5ed-2e256d4d2048",
        "colab": {
          "base_uri": "https://localhost:8080/",
          "height": 68
        }
      },
      "source": [
        "df_test_iformax['cluster'] = np.where(df_test_iformax['score']<=6, 0, 1)\n",
        "df_test_iformax['cluster'].value_counts()"
      ],
      "execution_count": null,
      "outputs": [
        {
          "output_type": "execute_result",
          "data": {
            "text/plain": [
              "0    140587\n",
              "1       629\n",
              "Name: cluster, dtype: int64"
            ]
          },
          "metadata": {
            "tags": []
          },
          "execution_count": 465
        }
      ]
    },
    {
      "cell_type": "code",
      "metadata": {
        "id": "WcRkJtCa8LsY",
        "outputId": "3a683107-d8a1-41c7-e0e4-bbf7bba172b2",
        "colab": {
          "base_uri": "https://localhost:8080/",
          "height": 142
        }
      },
      "source": [
        "df_test_iformax.groupby('cluster').mean()"
      ],
      "execution_count": null,
      "outputs": [
        {
          "output_type": "execute_result",
          "data": {
            "text/html": [
              "<div>\n",
              "<style scoped>\n",
              "    .dataframe tbody tr th:only-of-type {\n",
              "        vertical-align: middle;\n",
              "    }\n",
              "\n",
              "    .dataframe tbody tr th {\n",
              "        vertical-align: top;\n",
              "    }\n",
              "\n",
              "    .dataframe thead th {\n",
              "        text-align: right;\n",
              "    }\n",
              "</style>\n",
              "<table border=\"1\" class=\"dataframe\">\n",
              "  <thead>\n",
              "    <tr style=\"text-align: right;\">\n",
              "      <th></th>\n",
              "      <th>0</th>\n",
              "      <th>1</th>\n",
              "      <th>2</th>\n",
              "      <th>3</th>\n",
              "      <th>4</th>\n",
              "      <th>5</th>\n",
              "      <th>6</th>\n",
              "      <th>7</th>\n",
              "      <th>8</th>\n",
              "      <th>score</th>\n",
              "    </tr>\n",
              "    <tr>\n",
              "      <th>cluster</th>\n",
              "      <th></th>\n",
              "      <th></th>\n",
              "      <th></th>\n",
              "      <th></th>\n",
              "      <th></th>\n",
              "      <th></th>\n",
              "      <th></th>\n",
              "      <th></th>\n",
              "      <th></th>\n",
              "      <th></th>\n",
              "    </tr>\n",
              "  </thead>\n",
              "  <tbody>\n",
              "    <tr>\n",
              "      <th>0</th>\n",
              "      <td>-0.018067</td>\n",
              "      <td>-0.023430</td>\n",
              "      <td>-0.032453</td>\n",
              "      <td>-0.029316</td>\n",
              "      <td>-0.005540</td>\n",
              "      <td>-0.015466</td>\n",
              "      <td>-0.028519</td>\n",
              "      <td>-0.010290</td>\n",
              "      <td>-0.023545</td>\n",
              "      <td>0.137081</td>\n",
              "    </tr>\n",
              "    <tr>\n",
              "      <th>1</th>\n",
              "      <td>4.586186</td>\n",
              "      <td>5.104517</td>\n",
              "      <td>7.485463</td>\n",
              "      <td>6.376127</td>\n",
              "      <td>0.723542</td>\n",
              "      <td>3.758770</td>\n",
              "      <td>5.899780</td>\n",
              "      <td>2.581305</td>\n",
              "      <td>5.210534</td>\n",
              "      <td>8.003431</td>\n",
              "    </tr>\n",
              "  </tbody>\n",
              "</table>\n",
              "</div>"
            ],
            "text/plain": [
              "                0         1         2  ...         7         8     score\n",
              "cluster                                ...                              \n",
              "0       -0.018067 -0.023430 -0.032453  ... -0.010290 -0.023545  0.137081\n",
              "1        4.586186  5.104517  7.485463  ...  2.581305  5.210534  8.003431\n",
              "\n",
              "[2 rows x 10 columns]"
            ]
          },
          "metadata": {
            "tags": []
          },
          "execution_count": 466
        }
      ]
    },
    {
      "cell_type": "markdown",
      "metadata": {
        "id": "jsqUKuCJ89Fz"
      },
      "source": [
        "Out of 141216 rows creditcard transaction data in the test dataset, 629 transactions are labeled to be outliers (0.45%)."
      ]
    },
    {
      "cell_type": "markdown",
      "metadata": {
        "id": "JmBSbebd_RAJ"
      },
      "source": [
        "### IForest Conclusion\n",
        "The general statistis of the IForest result is:\n",
        "\n",
        "\n",
        "*   Outlier group contains less than 1% of overall test transaction data \n",
        "*   For all these models, the summary statistics show that cluster 1 (outlier group) has all large positive values for these standardized values, except for column 4 (the ratio of each transaction comparing to the maximum monthly spending under different vendors for each agency). The columns with the highest values is column 3 (the ratio of each transaction comparing to the average monthly spending under different merchants for each agency).\n",
        "\n"
      ]
    },
    {
      "cell_type": "markdown",
      "metadata": {
        "id": "lGzN0oaW9Sh7"
      },
      "source": [
        "## Autoencoder:  \n",
        "the autoencoder techniques can perform non-linear transformations with their non-linear activation function and multiple layers. \n",
        "\n",
        "build three models: clf1, clf2, and clf3\n",
        "\n",
        "*   auto1 has hidden_neurons = [9, 2, 2, 9]\n",
        "*   auto2 has hidden_neurons = [9, 4, 2, 4, 9]\n",
        "*   auto3 has hidden_neurons = [9, 6, 4, 2, 4, 6, 9]\n",
        "\n",
        "The number of the hidden layers and the number of neutrons in a hidden layer: if there are too many hidden layers or too many neutrons, the model tends to overfit; otherwise the model tends to underfit"
      ]
    },
    {
      "cell_type": "code",
      "metadata": {
        "id": "tLEftSCi2dTF"
      },
      "source": [
        "from pyod.models.auto_encoder import AutoEncoder"
      ],
      "execution_count": null,
      "outputs": []
    },
    {
      "cell_type": "markdown",
      "metadata": {
        "id": "mblnlVeJq3mo"
      },
      "source": [
        "### AutoEncoder Model 1"
      ]
    },
    {
      "cell_type": "code",
      "metadata": {
        "id": "BYHb38de1VDC",
        "outputId": "80ce19d2-4606-4dc8-9dbf-d9596941d07b",
        "colab": {
          "base_uri": "https://localhost:8080/",
          "height": 1000
        }
      },
      "source": [
        "auto1 = AutoEncoder(hidden_neurons =[9, 2, 2, 9])\n",
        "auto1.fit(X_train)"
      ],
      "execution_count": null,
      "outputs": [
        {
          "output_type": "stream",
          "text": [
            "Model: \"sequential\"\n",
            "_________________________________________________________________\n",
            "Layer (type)                 Output Shape              Param #   \n",
            "=================================================================\n",
            "dense (Dense)                (None, 9)                 90        \n",
            "_________________________________________________________________\n",
            "dropout (Dropout)            (None, 9)                 0         \n",
            "_________________________________________________________________\n",
            "dense_1 (Dense)              (None, 9)                 90        \n",
            "_________________________________________________________________\n",
            "dropout_1 (Dropout)          (None, 9)                 0         \n",
            "_________________________________________________________________\n",
            "dense_2 (Dense)              (None, 9)                 90        \n",
            "_________________________________________________________________\n",
            "dropout_2 (Dropout)          (None, 9)                 0         \n",
            "_________________________________________________________________\n",
            "dense_3 (Dense)              (None, 2)                 20        \n",
            "_________________________________________________________________\n",
            "dropout_3 (Dropout)          (None, 2)                 0         \n",
            "_________________________________________________________________\n",
            "dense_4 (Dense)              (None, 2)                 6         \n",
            "_________________________________________________________________\n",
            "dropout_4 (Dropout)          (None, 2)                 0         \n",
            "_________________________________________________________________\n",
            "dense_5 (Dense)              (None, 9)                 27        \n",
            "_________________________________________________________________\n",
            "dropout_5 (Dropout)          (None, 9)                 0         \n",
            "_________________________________________________________________\n",
            "dense_6 (Dense)              (None, 9)                 90        \n",
            "=================================================================\n",
            "Total params: 413\n",
            "Trainable params: 413\n",
            "Non-trainable params: 0\n",
            "_________________________________________________________________\n",
            "None\n",
            "Epoch 1/100\n",
            "8064/8064 [==============================] - 13s 2ms/step - loss: 1.1127 - val_loss: 0.5933\n",
            "Epoch 2/100\n",
            "8064/8064 [==============================] - 13s 2ms/step - loss: 1.0465 - val_loss: 0.5902\n",
            "Epoch 3/100\n",
            "8064/8064 [==============================] - 13s 2ms/step - loss: 1.0457 - val_loss: 0.5900\n",
            "Epoch 4/100\n",
            "8064/8064 [==============================] - 13s 2ms/step - loss: 1.0456 - val_loss: 0.5899\n",
            "Epoch 5/100\n",
            "8064/8064 [==============================] - 16s 2ms/step - loss: 1.0456 - val_loss: 0.5899\n",
            "Epoch 6/100\n",
            "8064/8064 [==============================] - 13s 2ms/step - loss: 1.0456 - val_loss: 0.5899\n",
            "Epoch 7/100\n",
            "8064/8064 [==============================] - 13s 2ms/step - loss: 1.0456 - val_loss: 0.5898\n",
            "Epoch 8/100\n",
            "8064/8064 [==============================] - 13s 2ms/step - loss: 1.0456 - val_loss: 0.5898\n",
            "Epoch 9/100\n",
            "8064/8064 [==============================] - 13s 2ms/step - loss: 1.0456 - val_loss: 0.5898\n",
            "Epoch 10/100\n",
            "8064/8064 [==============================] - 13s 2ms/step - loss: 1.0456 - val_loss: 0.5898\n",
            "Epoch 11/100\n",
            "8064/8064 [==============================] - 13s 2ms/step - loss: 1.0456 - val_loss: 0.5898\n",
            "Epoch 12/100\n",
            "8064/8064 [==============================] - 13s 2ms/step - loss: 1.0456 - val_loss: 0.5898\n",
            "Epoch 13/100\n",
            "8064/8064 [==============================] - 13s 2ms/step - loss: 1.0456 - val_loss: 0.5898\n",
            "Epoch 14/100\n",
            "8064/8064 [==============================] - 13s 2ms/step - loss: 1.0456 - val_loss: 0.5898\n",
            "Epoch 15/100\n",
            "8064/8064 [==============================] - 13s 2ms/step - loss: 1.0456 - val_loss: 0.5898\n",
            "Epoch 16/100\n",
            "8064/8064 [==============================] - 13s 2ms/step - loss: 1.0456 - val_loss: 0.5898\n",
            "Epoch 17/100\n",
            "8064/8064 [==============================] - 13s 2ms/step - loss: 1.0456 - val_loss: 0.5898\n",
            "Epoch 18/100\n",
            "8064/8064 [==============================] - 13s 2ms/step - loss: 1.0456 - val_loss: 0.5898\n",
            "Epoch 19/100\n",
            "8064/8064 [==============================] - 13s 2ms/step - loss: 1.0456 - val_loss: 0.5898\n",
            "Epoch 20/100\n",
            "8064/8064 [==============================] - 13s 2ms/step - loss: 1.0456 - val_loss: 0.5898\n",
            "Epoch 21/100\n",
            "8064/8064 [==============================] - 13s 2ms/step - loss: 1.0456 - val_loss: 0.5898\n",
            "Epoch 22/100\n",
            "8064/8064 [==============================] - 13s 2ms/step - loss: 1.0456 - val_loss: 0.5898\n",
            "Epoch 23/100\n",
            "8064/8064 [==============================] - 13s 2ms/step - loss: 1.0456 - val_loss: 0.5898\n",
            "Epoch 24/100\n",
            "8064/8064 [==============================] - 13s 2ms/step - loss: 1.0456 - val_loss: 0.5898\n",
            "Epoch 25/100\n",
            "8064/8064 [==============================] - 13s 2ms/step - loss: 1.0456 - val_loss: 0.5898\n",
            "Epoch 26/100\n",
            "8064/8064 [==============================] - 13s 2ms/step - loss: 1.0456 - val_loss: 0.5898\n",
            "Epoch 27/100\n",
            "8064/8064 [==============================] - 13s 2ms/step - loss: 1.0456 - val_loss: 0.5898\n",
            "Epoch 28/100\n",
            "8064/8064 [==============================] - 13s 2ms/step - loss: 1.0456 - val_loss: 0.5898\n",
            "Epoch 29/100\n",
            "8064/8064 [==============================] - 13s 2ms/step - loss: 1.0456 - val_loss: 0.5898\n",
            "Epoch 30/100\n",
            "8064/8064 [==============================] - 13s 2ms/step - loss: 1.0456 - val_loss: 0.5898\n",
            "Epoch 31/100\n",
            "8064/8064 [==============================] - 14s 2ms/step - loss: 1.0456 - val_loss: 0.5898\n",
            "Epoch 32/100\n",
            "8064/8064 [==============================] - 13s 2ms/step - loss: 1.0456 - val_loss: 0.5898\n",
            "Epoch 33/100\n",
            "8064/8064 [==============================] - 13s 2ms/step - loss: 1.0456 - val_loss: 0.5898\n",
            "Epoch 34/100\n",
            "8064/8064 [==============================] - 13s 2ms/step - loss: 1.0456 - val_loss: 0.5898\n",
            "Epoch 35/100\n",
            "8064/8064 [==============================] - 13s 2ms/step - loss: 1.0456 - val_loss: 0.5898\n",
            "Epoch 36/100\n",
            "8064/8064 [==============================] - 13s 2ms/step - loss: 1.0456 - val_loss: 0.5898\n",
            "Epoch 37/100\n",
            "8064/8064 [==============================] - 13s 2ms/step - loss: 1.0456 - val_loss: 0.5898\n",
            "Epoch 38/100\n",
            "8064/8064 [==============================] - 13s 2ms/step - loss: 1.0456 - val_loss: 0.5898\n",
            "Epoch 39/100\n",
            "8064/8064 [==============================] - 13s 2ms/step - loss: 1.0456 - val_loss: 0.5898\n",
            "Epoch 40/100\n",
            "8064/8064 [==============================] - 13s 2ms/step - loss: 1.0456 - val_loss: 0.5898\n",
            "Epoch 41/100\n",
            "8064/8064 [==============================] - 13s 2ms/step - loss: 1.0456 - val_loss: 0.5898\n",
            "Epoch 42/100\n",
            "8064/8064 [==============================] - 13s 2ms/step - loss: 1.0456 - val_loss: 0.5898\n",
            "Epoch 43/100\n",
            "8064/8064 [==============================] - 13s 2ms/step - loss: 1.0456 - val_loss: 0.5898\n",
            "Epoch 44/100\n",
            "8064/8064 [==============================] - 14s 2ms/step - loss: 1.0456 - val_loss: 0.5898\n",
            "Epoch 45/100\n",
            "8064/8064 [==============================] - 13s 2ms/step - loss: 1.0456 - val_loss: 0.5898\n",
            "Epoch 46/100\n",
            "8064/8064 [==============================] - 13s 2ms/step - loss: 1.0456 - val_loss: 0.5898\n",
            "Epoch 47/100\n",
            "8064/8064 [==============================] - 13s 2ms/step - loss: 1.0456 - val_loss: 0.5898\n",
            "Epoch 48/100\n",
            "8064/8064 [==============================] - 13s 2ms/step - loss: 1.0456 - val_loss: 0.5898\n",
            "Epoch 49/100\n",
            "8064/8064 [==============================] - 13s 2ms/step - loss: 1.0456 - val_loss: 0.5898\n",
            "Epoch 50/100\n",
            "8064/8064 [==============================] - 13s 2ms/step - loss: 1.0456 - val_loss: 0.5898\n",
            "Epoch 51/100\n",
            "8064/8064 [==============================] - 15s 2ms/step - loss: 1.0456 - val_loss: 0.5898\n",
            "Epoch 52/100\n",
            "8064/8064 [==============================] - 15s 2ms/step - loss: 1.0456 - val_loss: 0.5898\n",
            "Epoch 53/100\n",
            "8064/8064 [==============================] - 13s 2ms/step - loss: 1.0456 - val_loss: 0.5898\n",
            "Epoch 54/100\n",
            "8064/8064 [==============================] - 13s 2ms/step - loss: 1.0456 - val_loss: 0.5898\n",
            "Epoch 55/100\n",
            "8064/8064 [==============================] - 14s 2ms/step - loss: 1.0456 - val_loss: 0.5898\n",
            "Epoch 56/100\n",
            "8064/8064 [==============================] - 13s 2ms/step - loss: 1.0456 - val_loss: 0.5898\n",
            "Epoch 57/100\n",
            "8064/8064 [==============================] - 13s 2ms/step - loss: 1.0456 - val_loss: 0.5898\n",
            "Epoch 58/100\n",
            "8064/8064 [==============================] - 13s 2ms/step - loss: 1.0456 - val_loss: 0.5898\n",
            "Epoch 59/100\n",
            "8064/8064 [==============================] - 13s 2ms/step - loss: 1.0456 - val_loss: 0.5898\n",
            "Epoch 60/100\n",
            "8064/8064 [==============================] - 13s 2ms/step - loss: 1.0456 - val_loss: 0.5898\n",
            "Epoch 61/100\n",
            "8064/8064 [==============================] - 13s 2ms/step - loss: 1.0456 - val_loss: 0.5898\n",
            "Epoch 62/100\n",
            "8064/8064 [==============================] - 13s 2ms/step - loss: 1.0456 - val_loss: 0.5898\n",
            "Epoch 63/100\n",
            "8064/8064 [==============================] - 13s 2ms/step - loss: 1.0456 - val_loss: 0.5898\n",
            "Epoch 64/100\n",
            "8064/8064 [==============================] - 13s 2ms/step - loss: 1.0456 - val_loss: 0.5898\n",
            "Epoch 65/100\n",
            "8064/8064 [==============================] - 13s 2ms/step - loss: 1.0456 - val_loss: 0.5898\n",
            "Epoch 66/100\n",
            "8064/8064 [==============================] - 13s 2ms/step - loss: 1.0456 - val_loss: 0.5898\n",
            "Epoch 67/100\n",
            "8064/8064 [==============================] - 14s 2ms/step - loss: 1.0456 - val_loss: 0.5898\n",
            "Epoch 68/100\n",
            "8064/8064 [==============================] - 13s 2ms/step - loss: 1.0456 - val_loss: 0.5898\n",
            "Epoch 69/100\n",
            "8064/8064 [==============================] - 13s 2ms/step - loss: 1.0456 - val_loss: 0.5898\n",
            "Epoch 70/100\n",
            "8064/8064 [==============================] - 13s 2ms/step - loss: 1.0456 - val_loss: 0.5898\n",
            "Epoch 71/100\n",
            "8064/8064 [==============================] - 13s 2ms/step - loss: 1.0456 - val_loss: 0.5898\n",
            "Epoch 72/100\n",
            "8064/8064 [==============================] - 13s 2ms/step - loss: 1.0456 - val_loss: 0.5898\n",
            "Epoch 73/100\n",
            "8064/8064 [==============================] - 13s 2ms/step - loss: 1.0456 - val_loss: 0.5898\n",
            "Epoch 74/100\n",
            "8064/8064 [==============================] - 14s 2ms/step - loss: 1.0456 - val_loss: 0.5898\n",
            "Epoch 75/100\n",
            "8064/8064 [==============================] - 13s 2ms/step - loss: 1.0456 - val_loss: 0.5898\n",
            "Epoch 76/100\n",
            "8064/8064 [==============================] - 13s 2ms/step - loss: 1.0456 - val_loss: 0.5898\n",
            "Epoch 77/100\n",
            "8064/8064 [==============================] - 13s 2ms/step - loss: 1.0456 - val_loss: 0.5898\n",
            "Epoch 78/100\n",
            "8064/8064 [==============================] - 14s 2ms/step - loss: 1.0456 - val_loss: 0.5898\n",
            "Epoch 79/100\n",
            "8064/8064 [==============================] - 13s 2ms/step - loss: 1.0456 - val_loss: 0.5898\n",
            "Epoch 80/100\n",
            "8064/8064 [==============================] - 13s 2ms/step - loss: 1.0456 - val_loss: 0.5898\n",
            "Epoch 81/100\n",
            "8064/8064 [==============================] - 13s 2ms/step - loss: 1.0456 - val_loss: 0.5898\n",
            "Epoch 82/100\n",
            "8064/8064 [==============================] - 13s 2ms/step - loss: 1.0456 - val_loss: 0.5898\n",
            "Epoch 83/100\n",
            "8064/8064 [==============================] - 13s 2ms/step - loss: 1.0456 - val_loss: 0.5898\n",
            "Epoch 84/100\n",
            "8064/8064 [==============================] - 13s 2ms/step - loss: 1.0456 - val_loss: 0.5898\n",
            "Epoch 85/100\n",
            "8064/8064 [==============================] - 13s 2ms/step - loss: 1.0456 - val_loss: 0.5898\n",
            "Epoch 86/100\n",
            "8064/8064 [==============================] - 13s 2ms/step - loss: 1.0456 - val_loss: 0.5898\n",
            "Epoch 87/100\n",
            "8064/8064 [==============================] - 13s 2ms/step - loss: 1.0456 - val_loss: 0.5898\n",
            "Epoch 88/100\n",
            "8064/8064 [==============================] - 13s 2ms/step - loss: 1.0456 - val_loss: 0.5898\n",
            "Epoch 89/100\n",
            "8064/8064 [==============================] - 13s 2ms/step - loss: 1.0456 - val_loss: 0.5898\n",
            "Epoch 90/100\n",
            "8064/8064 [==============================] - 13s 2ms/step - loss: 1.0456 - val_loss: 0.5898\n",
            "Epoch 91/100\n",
            "8064/8064 [==============================] - 13s 2ms/step - loss: 1.0456 - val_loss: 0.5898\n",
            "Epoch 92/100\n",
            "8064/8064 [==============================] - 13s 2ms/step - loss: 1.0456 - val_loss: 0.5898\n",
            "Epoch 93/100\n",
            "8064/8064 [==============================] - 13s 2ms/step - loss: 1.0456 - val_loss: 0.5898\n",
            "Epoch 94/100\n",
            "8064/8064 [==============================] - 13s 2ms/step - loss: 1.0456 - val_loss: 0.5898\n",
            "Epoch 95/100\n",
            "8064/8064 [==============================] - 13s 2ms/step - loss: 1.0456 - val_loss: 0.5898\n",
            "Epoch 96/100\n",
            "8064/8064 [==============================] - 13s 2ms/step - loss: 1.0456 - val_loss: 0.5898\n",
            "Epoch 97/100\n",
            "8064/8064 [==============================] - 13s 2ms/step - loss: 1.0456 - val_loss: 0.5898\n",
            "Epoch 98/100\n",
            "8064/8064 [==============================] - 16s 2ms/step - loss: 1.0456 - val_loss: 0.5898\n",
            "Epoch 99/100\n",
            "8064/8064 [==============================] - 13s 2ms/step - loss: 1.0456 - val_loss: 0.5898\n",
            "Epoch 100/100\n",
            "8064/8064 [==============================] - 13s 2ms/step - loss: 1.0456 - val_loss: 0.5898\n"
          ],
          "name": "stdout"
        },
        {
          "output_type": "execute_result",
          "data": {
            "text/plain": [
              "AutoEncoder(batch_size=32, contamination=0.1, dropout_rate=0.2, epochs=100,\n",
              "      hidden_activation='relu', hidden_neurons=[9, 2, 2, 9],\n",
              "      l2_regularizer=0.1,\n",
              "      loss=<function mean_squared_error at 0x7f21d8d7f510>,\n",
              "      optimizer='adam', output_activation='sigmoid', preprocessing=True,\n",
              "      random_state=None, validation_size=0.1, verbose=1)"
            ]
          },
          "metadata": {
            "tags": []
          },
          "execution_count": 222
        }
      ]
    },
    {
      "cell_type": "code",
      "metadata": {
        "id": "ur-Fon1YHkML"
      },
      "source": [
        "y_train_scores_auto1 = auto1.decision_scores_ \n",
        "#y_train_scores"
      ],
      "execution_count": null,
      "outputs": []
    },
    {
      "cell_type": "code",
      "metadata": {
        "id": "A6ORJO63H65M"
      },
      "source": [
        "# get the prediction on the test data\n",
        "y_test_pred_auto1 = auto1.predict(X_test)  # outlier labels (0 or 1)\n",
        "# clf.decision_function: Predict raw anomaly score of X using the fitted detector.\n",
        "y_test_scores_auto1 = auto1.decision_function(X_test)  # outlier scores\n",
        "\n",
        "y_test_pred_auto1 = pd.Series(y_test_pred_auto1)\n",
        "y_test_scores_auto1 = pd.Series(y_test_scores_auto1)"
      ],
      "execution_count": null,
      "outputs": []
    },
    {
      "cell_type": "code",
      "metadata": {
        "id": "ozPtyWn8I4wT"
      },
      "source": [
        "y_test_scores_auto1 = pd.Series(y_test_scores_auto1)"
      ],
      "execution_count": null,
      "outputs": []
    },
    {
      "cell_type": "code",
      "metadata": {
        "id": "fpiaFyfNIPYn",
        "outputId": "f9173e27-834f-42cd-e7b9-617dea9b287a",
        "colab": {
          "base_uri": "https://localhost:8080/",
          "height": 68
        }
      },
      "source": [
        "y_test_pred_auto1.value_counts()"
      ],
      "execution_count": null,
      "outputs": [
        {
          "output_type": "execute_result",
          "data": {
            "text/plain": [
              "0    127168\n",
              "1     14048\n",
              "dtype: int64"
            ]
          },
          "metadata": {
            "tags": []
          },
          "execution_count": 227
        }
      ]
    },
    {
      "cell_type": "code",
      "metadata": {
        "id": "UUKLgrX9IUyw",
        "outputId": "6845a604-4b08-4ff2-802c-d298a3758ddd",
        "colab": {
          "base_uri": "https://localhost:8080/",
          "height": 281
        }
      },
      "source": [
        "plt.hist(y_test_scores_auto1, bins = 100, range=(0,10))  # arguments are passed to np.histogram\n",
        "plt.title(\"Histogram for Model AUTO1 Anomaly Scores\")\n",
        "plt.show()"
      ],
      "execution_count": null,
      "outputs": [
        {
          "output_type": "display_data",
          "data": {
            "image/png": "[encoded data removed]",
            "text/plain": [
              "<Figure size 432x288 with 1 Axes>"
            ]
          },
          "metadata": {
            "tags": [],
            "needs_background": "light"
          }
        }
      ]
    },
    {
      "cell_type": "code",
      "metadata": {
        "id": "Yd70urqGesIz"
      },
      "source": [
        "df_test_auto1 = X_test1.copy()\n",
        "df_test_auto1['score'] = y_test_scores_auto1"
      ],
      "execution_count": null,
      "outputs": []
    },
    {
      "cell_type": "code",
      "metadata": {
        "id": "eSgDdOjCx1xA",
        "outputId": "372c7f11-b948-496e-8018-e39988810bf7",
        "colab": {
          "base_uri": "https://localhost:8080/",
          "height": 68
        }
      },
      "source": [
        "df_test_auto1['cluster'] = np.where(df_test_auto1['score']<1.9, 0, 1)\n",
        "df_test_auto1['cluster'].value_counts()"
      ],
      "execution_count": null,
      "outputs": [
        {
          "output_type": "execute_result",
          "data": {
            "text/plain": [
              "0    126654\n",
              "1     14562\n",
              "Name: cluster, dtype: int64"
            ]
          },
          "metadata": {
            "tags": []
          },
          "execution_count": 418
        }
      ]
    },
    {
      "cell_type": "code",
      "metadata": {
        "id": "DlhzmifxxOOF",
        "outputId": "bfc9c659-7a21-49fa-de92-5257c2ea0fa1",
        "colab": {
          "base_uri": "https://localhost:8080/",
          "height": 142
        }
      },
      "source": [
        "# describe outliers\n",
        "df_test_auto1.groupby('cluster').mean()"
      ],
      "execution_count": null,
      "outputs": [
        {
          "output_type": "execute_result",
          "data": {
            "text/html": [
              "<div>\n",
              "<style scoped>\n",
              "    .dataframe tbody tr th:only-of-type {\n",
              "        vertical-align: middle;\n",
              "    }\n",
              "\n",
              "    .dataframe tbody tr th {\n",
              "        vertical-align: top;\n",
              "    }\n",
              "\n",
              "    .dataframe thead th {\n",
              "        text-align: right;\n",
              "    }\n",
              "</style>\n",
              "<table border=\"1\" class=\"dataframe\">\n",
              "  <thead>\n",
              "    <tr style=\"text-align: right;\">\n",
              "      <th></th>\n",
              "      <th>0</th>\n",
              "      <th>1</th>\n",
              "      <th>2</th>\n",
              "      <th>3</th>\n",
              "      <th>4</th>\n",
              "      <th>5</th>\n",
              "      <th>6</th>\n",
              "      <th>7</th>\n",
              "      <th>8</th>\n",
              "      <th>score</th>\n",
              "    </tr>\n",
              "    <tr>\n",
              "      <th>cluster</th>\n",
              "      <th></th>\n",
              "      <th></th>\n",
              "      <th></th>\n",
              "      <th></th>\n",
              "      <th></th>\n",
              "      <th></th>\n",
              "      <th></th>\n",
              "      <th></th>\n",
              "      <th></th>\n",
              "      <th></th>\n",
              "    </tr>\n",
              "  </thead>\n",
              "  <tbody>\n",
              "    <tr>\n",
              "      <th>0</th>\n",
              "      <td>-0.046241</td>\n",
              "      <td>-0.096950</td>\n",
              "      <td>-0.177105</td>\n",
              "      <td>-0.19046</td>\n",
              "      <td>-0.078523</td>\n",
              "      <td>-0.053362</td>\n",
              "      <td>-0.168350</td>\n",
              "      <td>-0.030370</td>\n",
              "      <td>-0.209664</td>\n",
              "      <td>1.227581</td>\n",
              "    </tr>\n",
              "    <tr>\n",
              "      <th>1</th>\n",
              "      <td>0.425858</td>\n",
              "      <td>0.837513</td>\n",
              "      <td>1.550403</td>\n",
              "      <td>1.64892</td>\n",
              "      <td>0.660723</td>\n",
              "      <td>0.477163</td>\n",
              "      <td>1.443747</td>\n",
              "      <td>0.276295</td>\n",
              "      <td>1.821325</td>\n",
              "      <td>4.782680</td>\n",
              "    </tr>\n",
              "  </tbody>\n",
              "</table>\n",
              "</div>"
            ],
            "text/plain": [
              "                0         1         2  ...         7         8     score\n",
              "cluster                                ...                              \n",
              "0       -0.046241 -0.096950 -0.177105  ... -0.030370 -0.209664  1.227581\n",
              "1        0.425858  0.837513  1.550403  ...  0.276295  1.821325  4.782680\n",
              "\n",
              "[2 rows x 10 columns]"
            ]
          },
          "metadata": {
            "tags": []
          },
          "execution_count": 419
        }
      ]
    },
    {
      "cell_type": "markdown",
      "metadata": {
        "id": "uHJGBcPt__G8"
      },
      "source": [
        "Out of 141216 test data, 14562 transactional data are labeled to be outliers (10.31%)"
      ]
    },
    {
      "cell_type": "markdown",
      "metadata": {
        "id": "v4P7d0p8en0t"
      },
      "source": [
        "### Auto-encoder Model2"
      ]
    },
    {
      "cell_type": "code",
      "metadata": {
        "id": "TqA7wrPT7AKb",
        "outputId": "cdbb6982-09c3-47e4-bcec-7b9dd0192f6c",
        "colab": {
          "base_uri": "https://localhost:8080/",
          "height": 1000
        }
      },
      "source": [
        "auto2 = AutoEncoder(hidden_neurons =[9, 4, 2, 4, 9])\n",
        "auto2.fit(X_train)"
      ],
      "execution_count": null,
      "outputs": [
        {
          "output_type": "stream",
          "text": [
            "Model: \"sequential_1\"\n",
            "_________________________________________________________________\n",
            "Layer (type)                 Output Shape              Param #   \n",
            "=================================================================\n",
            "dense_7 (Dense)              (None, 9)                 90        \n",
            "_________________________________________________________________\n",
            "dropout_6 (Dropout)          (None, 9)                 0         \n",
            "_________________________________________________________________\n",
            "dense_8 (Dense)              (None, 9)                 90        \n",
            "_________________________________________________________________\n",
            "dropout_7 (Dropout)          (None, 9)                 0         \n",
            "_________________________________________________________________\n",
            "dense_9 (Dense)              (None, 9)                 90        \n",
            "_________________________________________________________________\n",
            "dropout_8 (Dropout)          (None, 9)                 0         \n",
            "_________________________________________________________________\n",
            "dense_10 (Dense)             (None, 4)                 40        \n",
            "_________________________________________________________________\n",
            "dropout_9 (Dropout)          (None, 4)                 0         \n",
            "_________________________________________________________________\n",
            "dense_11 (Dense)             (None, 2)                 10        \n",
            "_________________________________________________________________\n",
            "dropout_10 (Dropout)         (None, 2)                 0         \n",
            "_________________________________________________________________\n",
            "dense_12 (Dense)             (None, 4)                 12        \n",
            "_________________________________________________________________\n",
            "dropout_11 (Dropout)         (None, 4)                 0         \n",
            "_________________________________________________________________\n",
            "dense_13 (Dense)             (None, 9)                 45        \n",
            "_________________________________________________________________\n",
            "dropout_12 (Dropout)         (None, 9)                 0         \n",
            "_________________________________________________________________\n",
            "dense_14 (Dense)             (None, 9)                 90        \n",
            "=================================================================\n",
            "Total params: 467\n",
            "Trainable params: 467\n",
            "Non-trainable params: 0\n",
            "_________________________________________________________________\n",
            "None\n",
            "Epoch 1/100\n",
            "8064/8064 [==============================] - 16s 2ms/step - loss: 1.1529 - val_loss: 1.0093\n",
            "Epoch 2/100\n",
            "8064/8064 [==============================] - 15s 2ms/step - loss: 1.0342 - val_loss: 0.9296\n",
            "Epoch 3/100\n",
            "8064/8064 [==============================] - 15s 2ms/step - loss: 0.9819 - val_loss: 0.9122\n",
            "Epoch 4/100\n",
            "8064/8064 [==============================] - 15s 2ms/step - loss: 0.9669 - val_loss: 0.9152\n",
            "Epoch 5/100\n",
            "8064/8064 [==============================] - 15s 2ms/step - loss: 0.9588 - val_loss: 0.9147\n",
            "Epoch 6/100\n",
            "8064/8064 [==============================] - 15s 2ms/step - loss: 0.9487 - val_loss: 0.9102\n",
            "Epoch 7/100\n",
            "8064/8064 [==============================] - 15s 2ms/step - loss: 0.9388 - val_loss: 0.9073\n",
            "Epoch 8/100\n",
            "8064/8064 [==============================] - 15s 2ms/step - loss: 0.9429 - val_loss: 0.9055\n",
            "Epoch 9/100\n",
            "8064/8064 [==============================] - 15s 2ms/step - loss: 0.9373 - val_loss: 0.9058\n",
            "Epoch 10/100\n",
            "8064/8064 [==============================] - 15s 2ms/step - loss: 0.9349 - val_loss: 0.9094\n",
            "Epoch 11/100\n",
            "8064/8064 [==============================] - 15s 2ms/step - loss: 0.9362 - val_loss: 0.9048\n",
            "Epoch 12/100\n",
            "8064/8064 [==============================] - 15s 2ms/step - loss: 0.9354 - val_loss: 0.9040\n",
            "Epoch 13/100\n",
            "8064/8064 [==============================] - 15s 2ms/step - loss: 0.9348 - val_loss: 0.9076\n",
            "Epoch 14/100\n",
            "8064/8064 [==============================] - 14s 2ms/step - loss: 0.9385 - val_loss: 0.9072\n",
            "Epoch 15/100\n",
            "8064/8064 [==============================] - 14s 2ms/step - loss: 0.9371 - val_loss: 0.9113\n",
            "Epoch 16/100\n",
            "8064/8064 [==============================] - 14s 2ms/step - loss: 0.9346 - val_loss: 0.8983\n",
            "Epoch 17/100\n",
            "8064/8064 [==============================] - 15s 2ms/step - loss: 0.9365 - val_loss: 0.9077\n",
            "Epoch 18/100\n",
            "8064/8064 [==============================] - 14s 2ms/step - loss: 0.9340 - val_loss: 0.9103\n",
            "Epoch 19/100\n",
            "8064/8064 [==============================] - 15s 2ms/step - loss: 0.9360 - val_loss: 0.9079\n",
            "Epoch 20/100\n",
            "8064/8064 [==============================] - 15s 2ms/step - loss: 0.9429 - val_loss: 0.9014\n",
            "Epoch 21/100\n",
            "8064/8064 [==============================] - 16s 2ms/step - loss: 0.9450 - val_loss: 0.9098\n",
            "Epoch 22/100\n",
            "8064/8064 [==============================] - 16s 2ms/step - loss: 0.9471 - val_loss: 0.9122\n",
            "Epoch 23/100\n",
            "8064/8064 [==============================] - 15s 2ms/step - loss: 0.9467 - val_loss: 0.9157\n",
            "Epoch 24/100\n",
            "8064/8064 [==============================] - 15s 2ms/step - loss: 0.9464 - val_loss: 0.9120\n",
            "Epoch 25/100\n",
            "8064/8064 [==============================] - 15s 2ms/step - loss: 0.9460 - val_loss: 0.9041\n",
            "Epoch 26/100\n",
            "8064/8064 [==============================] - 15s 2ms/step - loss: 0.9470 - val_loss: 0.9063\n",
            "Epoch 27/100\n",
            "8064/8064 [==============================] - 15s 2ms/step - loss: 0.9460 - val_loss: 0.9123\n",
            "Epoch 28/100\n",
            "8064/8064 [==============================] - 15s 2ms/step - loss: 0.9474 - val_loss: 0.9059\n",
            "Epoch 29/100\n",
            "8064/8064 [==============================] - 15s 2ms/step - loss: 0.9457 - val_loss: 0.9060\n",
            "Epoch 30/100\n",
            "8064/8064 [==============================] - 15s 2ms/step - loss: 0.9451 - val_loss: 0.9165\n",
            "Epoch 31/100\n",
            "8064/8064 [==============================] - 15s 2ms/step - loss: 0.9451 - val_loss: 0.9039\n",
            "Epoch 32/100\n",
            "8064/8064 [==============================] - 16s 2ms/step - loss: 0.9467 - val_loss: 0.9080\n",
            "Epoch 33/100\n",
            "8064/8064 [==============================] - 15s 2ms/step - loss: 0.9450 - val_loss: 0.9024\n",
            "Epoch 34/100\n",
            "8064/8064 [==============================] - 15s 2ms/step - loss: 0.9489 - val_loss: 0.9121\n",
            "Epoch 35/100\n",
            "8064/8064 [==============================] - 15s 2ms/step - loss: 0.9468 - val_loss: 0.9240\n",
            "Epoch 36/100\n",
            "8064/8064 [==============================] - 15s 2ms/step - loss: 0.9462 - val_loss: 0.9045\n",
            "Epoch 37/100\n",
            "8064/8064 [==============================] - 15s 2ms/step - loss: 0.9452 - val_loss: 0.9106\n",
            "Epoch 38/100\n",
            "8064/8064 [==============================] - 15s 2ms/step - loss: 0.9460 - val_loss: 0.9049\n",
            "Epoch 39/100\n",
            "8064/8064 [==============================] - 16s 2ms/step - loss: 0.9466 - val_loss: 0.9098\n",
            "Epoch 40/100\n",
            "8064/8064 [==============================] - 15s 2ms/step - loss: 0.9511 - val_loss: 0.9957\n",
            "Epoch 41/100\n",
            "8064/8064 [==============================] - 16s 2ms/step - loss: 0.9541 - val_loss: 0.9130\n",
            "Epoch 42/100\n",
            "8064/8064 [==============================] - 17s 2ms/step - loss: 0.9466 - val_loss: 0.9117\n",
            "Epoch 43/100\n",
            "8064/8064 [==============================] - 15s 2ms/step - loss: 0.9458 - val_loss: 0.9085\n",
            "Epoch 44/100\n",
            "8064/8064 [==============================] - 15s 2ms/step - loss: 0.9466 - val_loss: 0.9065\n",
            "Epoch 45/100\n",
            "8064/8064 [==============================] - 15s 2ms/step - loss: 0.9454 - val_loss: 0.9073\n",
            "Epoch 46/100\n",
            "8064/8064 [==============================] - 15s 2ms/step - loss: 0.9453 - val_loss: 0.9018\n",
            "Epoch 47/100\n",
            "8064/8064 [==============================] - 15s 2ms/step - loss: 0.9453 - val_loss: 0.9173\n",
            "Epoch 48/100\n",
            "8064/8064 [==============================] - 15s 2ms/step - loss: 0.9457 - val_loss: 0.9018\n",
            "Epoch 49/100\n",
            "8064/8064 [==============================] - 15s 2ms/step - loss: 0.9457 - val_loss: 0.9089\n",
            "Epoch 50/100\n",
            "8064/8064 [==============================] - 15s 2ms/step - loss: 0.9456 - val_loss: 0.9154\n",
            "Epoch 51/100\n",
            "8064/8064 [==============================] - 15s 2ms/step - loss: 0.9464 - val_loss: 0.9110\n",
            "Epoch 52/100\n",
            "8064/8064 [==============================] - 17s 2ms/step - loss: 0.9466 - val_loss: 0.9107\n",
            "Epoch 53/100\n",
            "8064/8064 [==============================] - 15s 2ms/step - loss: 0.9456 - val_loss: 0.9067\n",
            "Epoch 54/100\n",
            "8064/8064 [==============================] - 15s 2ms/step - loss: 0.9457 - val_loss: 0.9036\n",
            "Epoch 55/100\n",
            "8064/8064 [==============================] - 16s 2ms/step - loss: 0.9474 - val_loss: 0.9228\n",
            "Epoch 56/100\n",
            "8064/8064 [==============================] - 15s 2ms/step - loss: 0.9461 - val_loss: 0.9033\n",
            "Epoch 57/100\n",
            "8064/8064 [==============================] - 15s 2ms/step - loss: 0.9465 - val_loss: 0.9046\n",
            "Epoch 58/100\n",
            "8064/8064 [==============================] - 14s 2ms/step - loss: 0.9469 - val_loss: 0.9025\n",
            "Epoch 59/100\n",
            "8064/8064 [==============================] - 14s 2ms/step - loss: 0.9464 - val_loss: 0.9179\n",
            "Epoch 60/100\n",
            "8064/8064 [==============================] - 15s 2ms/step - loss: 0.9466 - val_loss: 0.9085\n",
            "Epoch 61/100\n",
            "8064/8064 [==============================] - 15s 2ms/step - loss: 0.9439 - val_loss: 0.9173\n",
            "Epoch 62/100\n",
            "8064/8064 [==============================] - 15s 2ms/step - loss: 0.9464 - val_loss: 0.9079\n",
            "Epoch 63/100\n",
            "8064/8064 [==============================] - 16s 2ms/step - loss: 0.9459 - val_loss: 0.9024\n",
            "Epoch 64/100\n",
            "8064/8064 [==============================] - 15s 2ms/step - loss: 0.9437 - val_loss: 0.9099\n",
            "Epoch 65/100\n",
            "8064/8064 [==============================] - 14s 2ms/step - loss: 0.9453 - val_loss: 0.9135\n",
            "Epoch 66/100\n",
            "8064/8064 [==============================] - 14s 2ms/step - loss: 0.9465 - val_loss: 0.9058\n",
            "Epoch 67/100\n",
            "8064/8064 [==============================] - 14s 2ms/step - loss: 0.9468 - val_loss: 0.9037\n",
            "Epoch 68/100\n",
            "8064/8064 [==============================] - 14s 2ms/step - loss: 0.9468 - val_loss: 0.9114\n",
            "Epoch 69/100\n",
            "8064/8064 [==============================] - 14s 2ms/step - loss: 0.9472 - val_loss: 0.9104\n",
            "Epoch 70/100\n",
            "8064/8064 [==============================] - 14s 2ms/step - loss: 0.9462 - val_loss: 0.9009\n",
            "Epoch 71/100\n",
            "8064/8064 [==============================] - 14s 2ms/step - loss: 0.9607 - val_loss: 0.9425\n",
            "Epoch 72/100\n",
            "8064/8064 [==============================] - 14s 2ms/step - loss: 0.9493 - val_loss: 0.9053\n",
            "Epoch 73/100\n",
            "8064/8064 [==============================] - 15s 2ms/step - loss: 0.9450 - val_loss: 0.9193\n",
            "Epoch 74/100\n",
            "8064/8064 [==============================] - 14s 2ms/step - loss: 0.9469 - val_loss: 0.9179\n",
            "Epoch 75/100\n",
            "8064/8064 [==============================] - 14s 2ms/step - loss: 0.9461 - val_loss: 0.9233\n",
            "Epoch 76/100\n",
            "8064/8064 [==============================] - 19s 2ms/step - loss: 0.9466 - val_loss: 0.9099\n",
            "Epoch 77/100\n",
            "8064/8064 [==============================] - 15s 2ms/step - loss: 0.9479 - val_loss: 0.9064\n",
            "Epoch 78/100\n",
            "8064/8064 [==============================] - 15s 2ms/step - loss: 0.9469 - val_loss: 0.9015\n",
            "Epoch 79/100\n",
            "8064/8064 [==============================] - 15s 2ms/step - loss: 0.9465 - val_loss: 0.9060\n",
            "Epoch 80/100\n",
            "8064/8064 [==============================] - 16s 2ms/step - loss: 0.9484 - val_loss: 0.9107\n",
            "Epoch 81/100\n",
            "8064/8064 [==============================] - 15s 2ms/step - loss: 0.9465 - val_loss: 0.9081\n",
            "Epoch 82/100\n",
            "8064/8064 [==============================] - 15s 2ms/step - loss: 0.9467 - val_loss: 0.9015\n",
            "Epoch 83/100\n",
            "8064/8064 [==============================] - 15s 2ms/step - loss: 0.9475 - val_loss: 0.9121\n",
            "Epoch 84/100\n",
            "8064/8064 [==============================] - 16s 2ms/step - loss: 0.9458 - val_loss: 0.9253\n",
            "Epoch 85/100\n",
            "8064/8064 [==============================] - 16s 2ms/step - loss: 0.9446 - val_loss: 0.9037\n",
            "Epoch 86/100\n",
            "8064/8064 [==============================] - 15s 2ms/step - loss: 0.9558 - val_loss: 0.9119\n",
            "Epoch 87/100\n",
            "8064/8064 [==============================] - 15s 2ms/step - loss: 0.9463 - val_loss: 0.9253\n",
            "Epoch 88/100\n",
            "8064/8064 [==============================] - 15s 2ms/step - loss: 0.9451 - val_loss: 0.9014\n",
            "Epoch 89/100\n",
            "8064/8064 [==============================] - 15s 2ms/step - loss: 0.9466 - val_loss: 0.9075\n",
            "Epoch 90/100\n",
            "8064/8064 [==============================] - 15s 2ms/step - loss: 0.9471 - val_loss: 0.9056\n",
            "Epoch 91/100\n",
            "8064/8064 [==============================] - 15s 2ms/step - loss: 0.9471 - val_loss: 0.8984\n",
            "Epoch 92/100\n",
            "8064/8064 [==============================] - 15s 2ms/step - loss: 0.9462 - val_loss: 0.9092\n",
            "Epoch 93/100\n",
            "8064/8064 [==============================] - 17s 2ms/step - loss: 0.9465 - val_loss: 0.9014\n",
            "Epoch 94/100\n",
            "8064/8064 [==============================] - 16s 2ms/step - loss: 0.9551 - val_loss: 0.9018\n",
            "Epoch 95/100\n",
            "8064/8064 [==============================] - 17s 2ms/step - loss: 0.9464 - val_loss: 0.9058\n",
            "Epoch 96/100\n",
            "8064/8064 [==============================] - 16s 2ms/step - loss: 0.9476 - val_loss: 0.9191\n",
            "Epoch 97/100\n",
            "8064/8064 [==============================] - 15s 2ms/step - loss: 0.9548 - val_loss: 0.9095\n",
            "Epoch 98/100\n",
            "8064/8064 [==============================] - 16s 2ms/step - loss: 0.9478 - val_loss: 0.9062\n",
            "Epoch 99/100\n",
            "8064/8064 [==============================] - 16s 2ms/step - loss: 0.9472 - val_loss: 0.9023\n",
            "Epoch 100/100\n",
            "8064/8064 [==============================] - 15s 2ms/step - loss: 0.9459 - val_loss: 0.8997\n"
          ],
          "name": "stdout"
        },
        {
          "output_type": "execute_result",
          "data": {
            "text/plain": [
              "AutoEncoder(batch_size=32, contamination=0.1, dropout_rate=0.2, epochs=100,\n",
              "      hidden_activation='relu', hidden_neurons=[9, 4, 2, 4, 9],\n",
              "      l2_regularizer=0.1,\n",
              "      loss=<function mean_squared_error at 0x7f21d8d7f510>,\n",
              "      optimizer='adam', output_activation='sigmoid', preprocessing=True,\n",
              "      random_state=None, validation_size=0.1, verbose=1)"
            ]
          },
          "metadata": {
            "tags": []
          },
          "execution_count": 223
        }
      ]
    },
    {
      "cell_type": "code",
      "metadata": {
        "id": "DyAoEui5M_HE",
        "outputId": "755477d9-3573-4ca7-b80b-8af1eb411041",
        "colab": {
          "base_uri": "https://localhost:8080/",
          "height": 51
        }
      },
      "source": [
        "y_train_scores_auto2 = auto2.decision_scores_  # raw outlier scores\n",
        "y_train_scores_auto2"
      ],
      "execution_count": null,
      "outputs": [
        {
          "output_type": "execute_result",
          "data": {
            "text/plain": [
              "array([0.82092259, 1.09660938, 3.18918015, ..., 1.40207489, 0.7174322 ,\n",
              "       1.04036807])"
            ]
          },
          "metadata": {
            "tags": []
          },
          "execution_count": 243
        }
      ]
    },
    {
      "cell_type": "code",
      "metadata": {
        "id": "_K92gpxDNGJJ",
        "outputId": "73565d23-bfd8-40fb-92f5-4f49fa92c318",
        "colab": {
          "base_uri": "https://localhost:8080/",
          "height": 51
        }
      },
      "source": [
        "# get the prediction on the test data\n",
        "y_test_pred_auto2 = auto2.predict(X_test)  # outlier labels (0 or 1)\n",
        "# clf.decision_function: Predict raw anomaly score of X using the fitted detector.\n",
        "y_test_scores_auto2 = auto2.decision_function(X_test)  # outlier scores"
      ],
      "execution_count": null,
      "outputs": [
        {
          "output_type": "execute_result",
          "data": {
            "text/plain": [
              "array([0.78819569, 1.0883416 , 1.16594188, ..., 1.48165415, 1.27062732,\n",
              "       1.12045148])"
            ]
          },
          "metadata": {
            "tags": []
          },
          "execution_count": 244
        }
      ]
    },
    {
      "cell_type": "code",
      "metadata": {
        "id": "V2OezxiILx8b"
      },
      "source": [
        "y_test_pred_auto2 = pd.Series(y_test_pred_auto2)\n",
        "y_test_scores_auto2 = pd.Series(y_test_scores_auto2)"
      ],
      "execution_count": null,
      "outputs": []
    },
    {
      "cell_type": "code",
      "metadata": {
        "id": "cXH9h9x0dNJv",
        "outputId": "6d57edd8-741d-4638-f41a-d4faae963669",
        "colab": {
          "base_uri": "https://localhost:8080/",
          "height": 68
        }
      },
      "source": [
        "y_test_pred_auto2.value_counts()"
      ],
      "execution_count": null,
      "outputs": [
        {
          "output_type": "execute_result",
          "data": {
            "text/plain": [
              "0    127059\n",
              "1     14157\n",
              "dtype: int64"
            ]
          },
          "metadata": {
            "tags": []
          },
          "execution_count": 341
        }
      ]
    },
    {
      "cell_type": "code",
      "metadata": {
        "id": "SAHL2ph6d2Vc",
        "outputId": "8503f09e-534e-4908-d5d7-f6559f3f239d",
        "colab": {
          "base_uri": "https://localhost:8080/",
          "height": 281
        }
      },
      "source": [
        "plt.hist(y_test_scores_auto2, bins = 100, range=(0,4))  # arguments are passed to np.histogram\n",
        "plt.title(\"Histogram for Model AUTO2 Anomaly Scores\")\n",
        "plt.show()"
      ],
      "execution_count": null,
      "outputs": [
        {
          "output_type": "display_data",
          "data": {
            "image/png": "[encoded data removed]",
            "text/plain": [
              "<Figure size 432x288 with 1 Axes>"
            ]
          },
          "metadata": {
            "tags": [],
            "needs_background": "light"
          }
        }
      ]
    },
    {
      "cell_type": "code",
      "metadata": {
        "id": "GBk_9KkOdk4A",
        "outputId": "49f32ef0-b848-4d22-bb03-7d1c36bcb1df",
        "colab": {
          "base_uri": "https://localhost:8080/",
          "height": 281
        }
      },
      "source": [
        "# zoom in\n",
        "plt.hist(y_test_scores_auto2, bins = 100, range=(0,3))  # arguments are passed to np.histogram\n",
        "plt.title(\"Histogram for Model AUTO2 Anomaly Scores\")\n",
        "axes = plt.gca()\n",
        "axes.set_ylim([0,4000])\n",
        "plt.show()"
      ],
      "execution_count": null,
      "outputs": [
        {
          "output_type": "display_data",
          "data": {
            "image/png": "[encoded data removed]",
            "text/plain": [
              "<Figure size 432x288 with 1 Axes>"
            ]
          },
          "metadata": {
            "tags": [],
            "needs_background": "light"
          }
        }
      ]
    },
    {
      "cell_type": "code",
      "metadata": {
        "id": "7NcvXyyzcycm"
      },
      "source": [
        "df_test_auto2 = X_test1.copy()\n",
        "df_test_auto2['score'] = y_test_scores_auto2"
      ],
      "execution_count": null,
      "outputs": []
    },
    {
      "cell_type": "code",
      "metadata": {
        "id": "LSeKIYtzxp9f",
        "outputId": "1c75d5fc-4ae0-49f7-f53e-b36f3d88d705",
        "colab": {
          "base_uri": "https://localhost:8080/",
          "height": 68
        }
      },
      "source": [
        "df_test_auto2['cluster'] = np.where(df_test_auto2['score']<1.7, 0, 1)\n",
        "df_test_auto2['cluster'].value_counts()"
      ],
      "execution_count": null,
      "outputs": [
        {
          "output_type": "execute_result",
          "data": {
            "text/plain": [
              "0    129836\n",
              "1     11380\n",
              "Name: cluster, dtype: int64"
            ]
          },
          "metadata": {
            "tags": []
          },
          "execution_count": 414
        }
      ]
    },
    {
      "cell_type": "code",
      "metadata": {
        "id": "feso1ZRyxeyS",
        "outputId": "30e4cf01-be00-4855-8db0-633488faaee4",
        "colab": {
          "base_uri": "https://localhost:8080/",
          "height": 142
        }
      },
      "source": [
        "# describe outliers\n",
        "df_test_auto2.groupby('cluster').mean()"
      ],
      "execution_count": null,
      "outputs": [
        {
          "output_type": "execute_result",
          "data": {
            "text/html": [
              "<div>\n",
              "<style scoped>\n",
              "    .dataframe tbody tr th:only-of-type {\n",
              "        vertical-align: middle;\n",
              "    }\n",
              "\n",
              "    .dataframe tbody tr th {\n",
              "        vertical-align: top;\n",
              "    }\n",
              "\n",
              "    .dataframe thead th {\n",
              "        text-align: right;\n",
              "    }\n",
              "</style>\n",
              "<table border=\"1\" class=\"dataframe\">\n",
              "  <thead>\n",
              "    <tr style=\"text-align: right;\">\n",
              "      <th></th>\n",
              "      <th>0</th>\n",
              "      <th>1</th>\n",
              "      <th>2</th>\n",
              "      <th>3</th>\n",
              "      <th>4</th>\n",
              "      <th>5</th>\n",
              "      <th>6</th>\n",
              "      <th>7</th>\n",
              "      <th>8</th>\n",
              "      <th>score</th>\n",
              "    </tr>\n",
              "    <tr>\n",
              "      <th>cluster</th>\n",
              "      <th></th>\n",
              "      <th></th>\n",
              "      <th></th>\n",
              "      <th></th>\n",
              "      <th></th>\n",
              "      <th></th>\n",
              "      <th></th>\n",
              "      <th></th>\n",
              "      <th></th>\n",
              "      <th></th>\n",
              "    </tr>\n",
              "  </thead>\n",
              "  <tbody>\n",
              "    <tr>\n",
              "      <th>0</th>\n",
              "      <td>-0.041593</td>\n",
              "      <td>-0.087840</td>\n",
              "      <td>-0.152406</td>\n",
              "      <td>-0.161298</td>\n",
              "      <td>-0.053165</td>\n",
              "      <td>-0.046350</td>\n",
              "      <td>-0.150551</td>\n",
              "      <td>-0.026387</td>\n",
              "      <td>-0.175420</td>\n",
              "      <td>1.193271</td>\n",
              "    </tr>\n",
              "    <tr>\n",
              "      <th>1</th>\n",
              "      <td>0.504830</td>\n",
              "      <td>0.994861</td>\n",
              "      <td>1.751650</td>\n",
              "      <td>1.830523</td>\n",
              "      <td>0.578112</td>\n",
              "      <td>0.545504</td>\n",
              "      <td>1.691434</td>\n",
              "      <td>0.316606</td>\n",
              "      <td>1.998518</td>\n",
              "      <td>4.413837</td>\n",
              "    </tr>\n",
              "  </tbody>\n",
              "</table>\n",
              "</div>"
            ],
            "text/plain": [
              "                0         1         2  ...         7         8     score\n",
              "cluster                                ...                              \n",
              "0       -0.041593 -0.087840 -0.152406  ... -0.026387 -0.175420  1.193271\n",
              "1        0.504830  0.994861  1.751650  ...  0.316606  1.998518  4.413837\n",
              "\n",
              "[2 rows x 10 columns]"
            ]
          },
          "metadata": {
            "tags": []
          },
          "execution_count": 415
        }
      ]
    },
    {
      "cell_type": "markdown",
      "metadata": {
        "id": "3Bqg1s2nAc7Y"
      },
      "source": [
        "Out of 141216 test data, 11380 transactional data are labeled to be outliers (8.06%)"
      ]
    },
    {
      "cell_type": "markdown",
      "metadata": {
        "id": "O3nwzryGrN-Z"
      },
      "source": [
        "### AutoEncoder Model 3"
      ]
    },
    {
      "cell_type": "code",
      "metadata": {
        "id": "OIVGitgKBNYg",
        "outputId": "3f4faa05-77a2-4ab4-b538-0745cca7d18d",
        "colab": {
          "base_uri": "https://localhost:8080/",
          "height": 1000
        }
      },
      "source": [
        "auto3 = AutoEncoder(hidden_neurons =[9, 6, 4, 2, 4, 6, 9])\n",
        "auto3.fit(X_train)"
      ],
      "execution_count": null,
      "outputs": [
        {
          "output_type": "stream",
          "text": [
            "Model: \"sequential_2\"\n",
            "_________________________________________________________________\n",
            "Layer (type)                 Output Shape              Param #   \n",
            "=================================================================\n",
            "dense_15 (Dense)             (None, 9)                 90        \n",
            "_________________________________________________________________\n",
            "dropout_13 (Dropout)         (None, 9)                 0         \n",
            "_________________________________________________________________\n",
            "dense_16 (Dense)             (None, 9)                 90        \n",
            "_________________________________________________________________\n",
            "dropout_14 (Dropout)         (None, 9)                 0         \n",
            "_________________________________________________________________\n",
            "dense_17 (Dense)             (None, 9)                 90        \n",
            "_________________________________________________________________\n",
            "dropout_15 (Dropout)         (None, 9)                 0         \n",
            "_________________________________________________________________\n",
            "dense_18 (Dense)             (None, 6)                 60        \n",
            "_________________________________________________________________\n",
            "dropout_16 (Dropout)         (None, 6)                 0         \n",
            "_________________________________________________________________\n",
            "dense_19 (Dense)             (None, 4)                 28        \n",
            "_________________________________________________________________\n",
            "dropout_17 (Dropout)         (None, 4)                 0         \n",
            "_________________________________________________________________\n",
            "dense_20 (Dense)             (None, 2)                 10        \n",
            "_________________________________________________________________\n",
            "dropout_18 (Dropout)         (None, 2)                 0         \n",
            "_________________________________________________________________\n",
            "dense_21 (Dense)             (None, 4)                 12        \n",
            "_________________________________________________________________\n",
            "dropout_19 (Dropout)         (None, 4)                 0         \n",
            "_________________________________________________________________\n",
            "dense_22 (Dense)             (None, 6)                 30        \n",
            "_________________________________________________________________\n",
            "dropout_20 (Dropout)         (None, 6)                 0         \n",
            "_________________________________________________________________\n",
            "dense_23 (Dense)             (None, 9)                 63        \n",
            "_________________________________________________________________\n",
            "dropout_21 (Dropout)         (None, 9)                 0         \n",
            "_________________________________________________________________\n",
            "dense_24 (Dense)             (None, 9)                 90        \n",
            "=================================================================\n",
            "Total params: 563\n",
            "Trainable params: 563\n",
            "Non-trainable params: 0\n",
            "_________________________________________________________________\n",
            "None\n",
            "Epoch 1/100\n",
            "8064/8064 [==============================] - 17s 2ms/step - loss: 1.1480 - val_loss: 0.6494\n",
            "Epoch 2/100\n",
            "8064/8064 [==============================] - 16s 2ms/step - loss: 1.0634 - val_loss: 0.6466\n",
            "Epoch 3/100\n",
            "8064/8064 [==============================] - 18s 2ms/step - loss: 1.0519 - val_loss: 0.6465\n",
            "Epoch 4/100\n",
            "8064/8064 [==============================] - 17s 2ms/step - loss: 1.0435 - val_loss: 0.6464\n",
            "Epoch 5/100\n",
            "8064/8064 [==============================] - 16s 2ms/step - loss: 1.0399 - val_loss: 0.6464\n",
            "Epoch 6/100\n",
            "8064/8064 [==============================] - 16s 2ms/step - loss: 1.0393 - val_loss: 0.6464\n",
            "Epoch 7/100\n",
            "8064/8064 [==============================] - 16s 2ms/step - loss: 1.0393 - val_loss: 0.6464\n",
            "Epoch 8/100\n",
            "8064/8064 [==============================] - 17s 2ms/step - loss: 1.0393 - val_loss: 0.6464\n",
            "Epoch 9/100\n",
            "8064/8064 [==============================] - 17s 2ms/step - loss: 1.0393 - val_loss: 0.6464\n",
            "Epoch 10/100\n",
            "8064/8064 [==============================] - 17s 2ms/step - loss: 1.0393 - val_loss: 0.6464\n",
            "Epoch 11/100\n",
            "8064/8064 [==============================] - 18s 2ms/step - loss: 1.0393 - val_loss: 0.6464\n",
            "Epoch 12/100\n",
            "8064/8064 [==============================] - 17s 2ms/step - loss: 1.0393 - val_loss: 0.6464\n",
            "Epoch 13/100\n",
            "8064/8064 [==============================] - 17s 2ms/step - loss: 1.0393 - val_loss: 0.6464\n",
            "Epoch 14/100\n",
            "8064/8064 [==============================] - 20s 2ms/step - loss: 1.0393 - val_loss: 0.6464\n",
            "Epoch 15/100\n",
            "8064/8064 [==============================] - 17s 2ms/step - loss: 1.0393 - val_loss: 0.6464\n",
            "Epoch 16/100\n",
            "8064/8064 [==============================] - 16s 2ms/step - loss: 1.0393 - val_loss: 0.6464\n",
            "Epoch 17/100\n",
            "8064/8064 [==============================] - 17s 2ms/step - loss: 1.0393 - val_loss: 0.6464\n",
            "Epoch 18/100\n",
            "8064/8064 [==============================] - 17s 2ms/step - loss: 1.0393 - val_loss: 0.6464\n",
            "Epoch 19/100\n",
            "8064/8064 [==============================] - 16s 2ms/step - loss: 1.0393 - val_loss: 0.6464\n",
            "Epoch 20/100\n",
            "8064/8064 [==============================] - 17s 2ms/step - loss: 1.0393 - val_loss: 0.6464\n",
            "Epoch 21/100\n",
            "8064/8064 [==============================] - 16s 2ms/step - loss: 1.0393 - val_loss: 0.6464\n",
            "Epoch 22/100\n",
            "8064/8064 [==============================] - 18s 2ms/step - loss: 1.0393 - val_loss: 0.6464\n",
            "Epoch 23/100\n",
            "8064/8064 [==============================] - 16s 2ms/step - loss: 1.0393 - val_loss: 0.6464\n",
            "Epoch 24/100\n",
            "8064/8064 [==============================] - 17s 2ms/step - loss: 1.0393 - val_loss: 0.6464\n",
            "Epoch 25/100\n",
            "8064/8064 [==============================] - 16s 2ms/step - loss: 1.0393 - val_loss: 0.6464\n",
            "Epoch 26/100\n",
            "8064/8064 [==============================] - 16s 2ms/step - loss: 1.0393 - val_loss: 0.6464\n",
            "Epoch 27/100\n",
            "8064/8064 [==============================] - 17s 2ms/step - loss: 1.0393 - val_loss: 0.6464\n",
            "Epoch 28/100\n",
            "8064/8064 [==============================] - 16s 2ms/step - loss: 1.0393 - val_loss: 0.6464\n",
            "Epoch 29/100\n",
            "8064/8064 [==============================] - 17s 2ms/step - loss: 1.0393 - val_loss: 0.6464\n",
            "Epoch 30/100\n",
            "8064/8064 [==============================] - 16s 2ms/step - loss: 1.0393 - val_loss: 0.6464\n",
            "Epoch 31/100\n",
            "8064/8064 [==============================] - 16s 2ms/step - loss: 1.0393 - val_loss: 0.6464\n",
            "Epoch 32/100\n",
            "8064/8064 [==============================] - 17s 2ms/step - loss: 1.0393 - val_loss: 0.6464\n",
            "Epoch 33/100\n",
            "8064/8064 [==============================] - 17s 2ms/step - loss: 1.0393 - val_loss: 0.6464\n",
            "Epoch 34/100\n",
            "8064/8064 [==============================] - 16s 2ms/step - loss: 1.0393 - val_loss: 0.6464\n",
            "Epoch 35/100\n",
            "8064/8064 [==============================] - 16s 2ms/step - loss: 1.0393 - val_loss: 0.6464\n",
            "Epoch 36/100\n",
            "8064/8064 [==============================] - 15s 2ms/step - loss: 1.0393 - val_loss: 0.6464\n",
            "Epoch 37/100\n",
            "8064/8064 [==============================] - 15s 2ms/step - loss: 1.0393 - val_loss: 0.6464\n",
            "Epoch 38/100\n",
            "8064/8064 [==============================] - 16s 2ms/step - loss: 1.0393 - val_loss: 0.6464\n",
            "Epoch 39/100\n",
            "8064/8064 [==============================] - 15s 2ms/step - loss: 1.0393 - val_loss: 0.6464\n",
            "Epoch 40/100\n",
            "8064/8064 [==============================] - 15s 2ms/step - loss: 1.0393 - val_loss: 0.6464\n",
            "Epoch 41/100\n",
            "8064/8064 [==============================] - 16s 2ms/step - loss: 1.0393 - val_loss: 0.6464\n",
            "Epoch 42/100\n",
            "8064/8064 [==============================] - 16s 2ms/step - loss: 1.0393 - val_loss: 0.6464\n",
            "Epoch 43/100\n",
            "8064/8064 [==============================] - 15s 2ms/step - loss: 1.0393 - val_loss: 0.6464\n",
            "Epoch 44/100\n",
            "8064/8064 [==============================] - 16s 2ms/step - loss: 1.0393 - val_loss: 0.6464\n",
            "Epoch 45/100\n",
            "8064/8064 [==============================] - 15s 2ms/step - loss: 1.0393 - val_loss: 0.6464\n",
            "Epoch 46/100\n",
            "8064/8064 [==============================] - 15s 2ms/step - loss: 1.0393 - val_loss: 0.6464\n",
            "Epoch 47/100\n",
            "8064/8064 [==============================] - 15s 2ms/step - loss: 1.0393 - val_loss: 0.6464\n",
            "Epoch 48/100\n",
            "8064/8064 [==============================] - 16s 2ms/step - loss: 1.0393 - val_loss: 0.6464\n",
            "Epoch 49/100\n",
            "8064/8064 [==============================] - 15s 2ms/step - loss: 1.0393 - val_loss: 0.6464\n",
            "Epoch 50/100\n",
            "8064/8064 [==============================] - 15s 2ms/step - loss: 1.0393 - val_loss: 0.6464\n",
            "Epoch 51/100\n",
            "8064/8064 [==============================] - 18s 2ms/step - loss: 1.0393 - val_loss: 0.6464\n",
            "Epoch 52/100\n",
            "8064/8064 [==============================] - 16s 2ms/step - loss: 1.0393 - val_loss: 0.6464\n",
            "Epoch 53/100\n",
            "8064/8064 [==============================] - 15s 2ms/step - loss: 1.0393 - val_loss: 0.6464\n",
            "Epoch 54/100\n",
            "8064/8064 [==============================] - 15s 2ms/step - loss: 1.0393 - val_loss: 0.6464\n",
            "Epoch 55/100\n",
            "8064/8064 [==============================] - 15s 2ms/step - loss: 1.0393 - val_loss: 0.6464\n",
            "Epoch 56/100\n",
            "8064/8064 [==============================] - 15s 2ms/step - loss: 1.0393 - val_loss: 0.6464\n",
            "Epoch 57/100\n",
            "8064/8064 [==============================] - 16s 2ms/step - loss: 1.0393 - val_loss: 0.6464\n",
            "Epoch 58/100\n",
            "8064/8064 [==============================] - 15s 2ms/step - loss: 1.0393 - val_loss: 0.6464\n",
            "Epoch 59/100\n",
            "8064/8064 [==============================] - 16s 2ms/step - loss: 1.0393 - val_loss: 0.6464\n",
            "Epoch 60/100\n",
            "8064/8064 [==============================] - 15s 2ms/step - loss: 1.0393 - val_loss: 0.6464\n",
            "Epoch 61/100\n",
            "8064/8064 [==============================] - 16s 2ms/step - loss: 1.0393 - val_loss: 0.6464\n",
            "Epoch 62/100\n",
            "8064/8064 [==============================] - 17s 2ms/step - loss: 1.0393 - val_loss: 0.6464\n",
            "Epoch 63/100\n",
            "8064/8064 [==============================] - 15s 2ms/step - loss: 1.0393 - val_loss: 0.6464\n",
            "Epoch 64/100\n",
            "8064/8064 [==============================] - 15s 2ms/step - loss: 1.0393 - val_loss: 0.6464\n",
            "Epoch 65/100\n",
            "8064/8064 [==============================] - 15s 2ms/step - loss: 1.0393 - val_loss: 0.6464\n",
            "Epoch 66/100\n",
            "8064/8064 [==============================] - 16s 2ms/step - loss: 1.0393 - val_loss: 0.6464\n",
            "Epoch 67/100\n",
            "8064/8064 [==============================] - 15s 2ms/step - loss: 1.0393 - val_loss: 0.6464\n",
            "Epoch 68/100\n",
            "8064/8064 [==============================] - 17s 2ms/step - loss: 1.0393 - val_loss: 0.6464\n",
            "Epoch 69/100\n",
            "8064/8064 [==============================] - 15s 2ms/step - loss: 1.0393 - val_loss: 0.6464\n",
            "Epoch 70/100\n",
            "8064/8064 [==============================] - 15s 2ms/step - loss: 1.0393 - val_loss: 0.6464\n",
            "Epoch 71/100\n",
            "8064/8064 [==============================] - 15s 2ms/step - loss: 1.0393 - val_loss: 0.6464\n",
            "Epoch 72/100\n",
            "8064/8064 [==============================] - 16s 2ms/step - loss: 1.0393 - val_loss: 0.6464\n",
            "Epoch 73/100\n",
            "8064/8064 [==============================] - 16s 2ms/step - loss: 1.0393 - val_loss: 0.6464\n",
            "Epoch 74/100\n",
            "8064/8064 [==============================] - 16s 2ms/step - loss: 1.0393 - val_loss: 0.6464\n",
            "Epoch 75/100\n",
            "8064/8064 [==============================] - 16s 2ms/step - loss: 1.0393 - val_loss: 0.6464\n",
            "Epoch 76/100\n",
            "8064/8064 [==============================] - 16s 2ms/step - loss: 1.0393 - val_loss: 0.6464\n",
            "Epoch 77/100\n",
            "8064/8064 [==============================] - 15s 2ms/step - loss: 1.0393 - val_loss: 0.6464\n",
            "Epoch 78/100\n",
            "8064/8064 [==============================] - 15s 2ms/step - loss: 1.0393 - val_loss: 0.6464\n",
            "Epoch 79/100\n",
            "8064/8064 [==============================] - 15s 2ms/step - loss: 1.0393 - val_loss: 0.6464\n",
            "Epoch 80/100\n",
            "8064/8064 [==============================] - 15s 2ms/step - loss: 1.0393 - val_loss: 0.6464\n",
            "Epoch 81/100\n",
            "8064/8064 [==============================] - 15s 2ms/step - loss: 1.0393 - val_loss: 0.6464\n",
            "Epoch 82/100\n",
            "8064/8064 [==============================] - 16s 2ms/step - loss: 1.0393 - val_loss: 0.6464\n",
            "Epoch 83/100\n",
            "8064/8064 [==============================] - 15s 2ms/step - loss: 1.0393 - val_loss: 0.6464\n",
            "Epoch 84/100\n",
            "8064/8064 [==============================] - 15s 2ms/step - loss: 1.0393 - val_loss: 0.6464\n",
            "Epoch 85/100\n",
            "8064/8064 [==============================] - 15s 2ms/step - loss: 1.0393 - val_loss: 0.6464\n",
            "Epoch 86/100\n",
            "8064/8064 [==============================] - 15s 2ms/step - loss: 1.0393 - val_loss: 0.6464\n",
            "Epoch 87/100\n",
            "8064/8064 [==============================] - 15s 2ms/step - loss: 1.0393 - val_loss: 0.6464\n",
            "Epoch 88/100\n",
            "8064/8064 [==============================] - 16s 2ms/step - loss: 1.0393 - val_loss: 0.6464\n",
            "Epoch 89/100\n",
            "8064/8064 [==============================] - 16s 2ms/step - loss: 1.0393 - val_loss: 0.6464\n",
            "Epoch 90/100\n",
            "8064/8064 [==============================] - 15s 2ms/step - loss: 1.0393 - val_loss: 0.6464\n",
            "Epoch 91/100\n",
            "8064/8064 [==============================] - 19s 2ms/step - loss: 1.0393 - val_loss: 0.6464\n",
            "Epoch 92/100\n",
            "8064/8064 [==============================] - 15s 2ms/step - loss: 1.0393 - val_loss: 0.6464\n",
            "Epoch 93/100\n",
            "8064/8064 [==============================] - 15s 2ms/step - loss: 1.0393 - val_loss: 0.6464\n",
            "Epoch 94/100\n",
            "8064/8064 [==============================] - 15s 2ms/step - loss: 1.0393 - val_loss: 0.6464\n",
            "Epoch 95/100\n",
            "8064/8064 [==============================] - 15s 2ms/step - loss: 1.0393 - val_loss: 0.6464\n",
            "Epoch 96/100\n",
            "8064/8064 [==============================] - 15s 2ms/step - loss: 1.0393 - val_loss: 0.6464\n",
            "Epoch 97/100\n",
            "8064/8064 [==============================] - 15s 2ms/step - loss: 1.0393 - val_loss: 0.6464\n",
            "Epoch 98/100\n",
            "8064/8064 [==============================] - 15s 2ms/step - loss: 1.0393 - val_loss: 0.6464\n",
            "Epoch 99/100\n",
            "8064/8064 [==============================] - 15s 2ms/step - loss: 1.0393 - val_loss: 0.6464\n",
            "Epoch 100/100\n",
            "8064/8064 [==============================] - 15s 2ms/step - loss: 1.0393 - val_loss: 0.6464\n"
          ],
          "name": "stdout"
        },
        {
          "output_type": "execute_result",
          "data": {
            "text/plain": [
              "AutoEncoder(batch_size=32, contamination=0.1, dropout_rate=0.2, epochs=100,\n",
              "      hidden_activation='relu', hidden_neurons=[9, 6, 4, 2, 4, 6, 9],\n",
              "      l2_regularizer=0.1,\n",
              "      loss=<function mean_squared_error at 0x7f21d8d7f510>,\n",
              "      optimizer='adam', output_activation='sigmoid', preprocessing=True,\n",
              "      random_state=None, validation_size=0.1, verbose=1)"
            ]
          },
          "metadata": {
            "tags": []
          },
          "execution_count": 224
        }
      ]
    },
    {
      "cell_type": "code",
      "metadata": {
        "id": "nS58PfNOPNm7"
      },
      "source": [
        "# clf.decision_function: Predict raw anomaly score of X using the fitted detector.\n",
        "y_test_scores_auto3 = auto3.decision_function(X_test)  # outlier scores\n",
        "y_test_scores_auto3 = pd.Series(y_test_scores_auto3)"
      ],
      "execution_count": null,
      "outputs": []
    },
    {
      "cell_type": "code",
      "metadata": {
        "id": "M6w6yo4xXU66",
        "outputId": "febc8e3d-d7b6-49df-d19c-b722a649869b",
        "colab": {
          "base_uri": "https://localhost:8080/",
          "height": 221
        }
      },
      "source": [
        "y_test_pred_auto3"
      ],
      "execution_count": null,
      "outputs": [
        {
          "output_type": "execute_result",
          "data": {
            "text/plain": [
              "0         0\n",
              "1         0\n",
              "2         0\n",
              "3         0\n",
              "4         1\n",
              "         ..\n",
              "141211    0\n",
              "141212    0\n",
              "141213    0\n",
              "141214    0\n",
              "141215    0\n",
              "Length: 141216, dtype: int64"
            ]
          },
          "metadata": {
            "tags": []
          },
          "execution_count": 314
        }
      ]
    },
    {
      "cell_type": "code",
      "metadata": {
        "id": "EleurNahRHAA",
        "outputId": "3ecae937-1611-40cb-b939-596a95d0e1b8",
        "colab": {
          "base_uri": "https://localhost:8080/",
          "height": 68
        }
      },
      "source": [
        "# get the prediction on the test data\n",
        "y_test_pred_auto3 = auto3.predict(X_test)\n",
        "y_test_pred_auto3 = pd.Series(y_test_pred_auto3)\n",
        "y_test_pred_auto3.value_counts()"
      ],
      "execution_count": null,
      "outputs": [
        {
          "output_type": "execute_result",
          "data": {
            "text/plain": [
              "0    127167\n",
              "1     14049\n",
              "dtype: int64"
            ]
          },
          "metadata": {
            "tags": []
          },
          "execution_count": 263
        }
      ]
    },
    {
      "cell_type": "code",
      "metadata": {
        "id": "-JadpMmHPcEW",
        "outputId": "bdd19848-00a2-4f1a-fdde-0db1f80608f0",
        "colab": {
          "base_uri": "https://localhost:8080/",
          "height": 281
        }
      },
      "source": [
        "import matplotlib.pyplot as plt\n",
        "plt.hist(y_test_scores_auto3, bins = 50, range=(0,10))  \n",
        "plt.title(\"Histogram with Model AUTO3 Anomaly Scores\")\n",
        "plt.show()"
      ],
      "execution_count": null,
      "outputs": [
        {
          "output_type": "display_data",
          "data": {
            "image/png": "[encoded data removed]",
            "text/plain": [
              "<Figure size 432x288 with 1 Axes>"
            ]
          },
          "metadata": {
            "tags": [],
            "needs_background": "light"
          }
        }
      ]
    },
    {
      "cell_type": "code",
      "metadata": {
        "id": "URzkhPkISDEt"
      },
      "source": [
        "df_test_auto3 = X_test1.copy()\n",
        "df_test_auto3['score'] = y_test_scores_auto3"
      ],
      "execution_count": null,
      "outputs": []
    },
    {
      "cell_type": "code",
      "metadata": {
        "id": "75EML9vXyB78",
        "outputId": "33416b3a-ba33-4620-ae18-2aac3d1ca83a",
        "colab": {
          "base_uri": "https://localhost:8080/",
          "height": 68
        }
      },
      "source": [
        "df_test_auto3['cluster'] = np.where(df_test_auto3['score']<1.9, 0, 1)\n",
        "df_test_auto3['cluster'].value_counts()"
      ],
      "execution_count": null,
      "outputs": [
        {
          "output_type": "execute_result",
          "data": {
            "text/plain": [
              "0    126646\n",
              "1     14570\n",
              "Name: cluster, dtype: int64"
            ]
          },
          "metadata": {
            "tags": []
          },
          "execution_count": 422
        }
      ]
    },
    {
      "cell_type": "code",
      "metadata": {
        "id": "UMlpW76mx-Lq",
        "outputId": "77d9523a-6efe-49a1-aac0-4d01f8e3b9b1",
        "colab": {
          "base_uri": "https://localhost:8080/",
          "height": 142
        }
      },
      "source": [
        "# describe outliers\n",
        "df_test_auto3.groupby('cluster').mean()"
      ],
      "execution_count": null,
      "outputs": [
        {
          "output_type": "execute_result",
          "data": {
            "text/html": [
              "<div>\n",
              "<style scoped>\n",
              "    .dataframe tbody tr th:only-of-type {\n",
              "        vertical-align: middle;\n",
              "    }\n",
              "\n",
              "    .dataframe tbody tr th {\n",
              "        vertical-align: top;\n",
              "    }\n",
              "\n",
              "    .dataframe thead th {\n",
              "        text-align: right;\n",
              "    }\n",
              "</style>\n",
              "<table border=\"1\" class=\"dataframe\">\n",
              "  <thead>\n",
              "    <tr style=\"text-align: right;\">\n",
              "      <th></th>\n",
              "      <th>0</th>\n",
              "      <th>1</th>\n",
              "      <th>2</th>\n",
              "      <th>3</th>\n",
              "      <th>4</th>\n",
              "      <th>5</th>\n",
              "      <th>6</th>\n",
              "      <th>7</th>\n",
              "      <th>8</th>\n",
              "      <th>score</th>\n",
              "    </tr>\n",
              "    <tr>\n",
              "      <th>cluster</th>\n",
              "      <th></th>\n",
              "      <th></th>\n",
              "      <th></th>\n",
              "      <th></th>\n",
              "      <th></th>\n",
              "      <th></th>\n",
              "      <th></th>\n",
              "      <th></th>\n",
              "      <th></th>\n",
              "      <th></th>\n",
              "    </tr>\n",
              "  </thead>\n",
              "  <tbody>\n",
              "    <tr>\n",
              "      <th>0</th>\n",
              "      <td>-0.046251</td>\n",
              "      <td>-0.096972</td>\n",
              "      <td>-0.177154</td>\n",
              "      <td>-0.190526</td>\n",
              "      <td>-0.078568</td>\n",
              "      <td>-0.053374</td>\n",
              "      <td>-0.168385</td>\n",
              "      <td>-0.030378</td>\n",
              "      <td>-0.209719</td>\n",
              "      <td>1.227181</td>\n",
              "    </tr>\n",
              "    <tr>\n",
              "      <th>1</th>\n",
              "      <td>0.425686</td>\n",
              "      <td>0.837189</td>\n",
              "      <td>1.549882</td>\n",
              "      <td>1.648485</td>\n",
              "      <td>0.660709</td>\n",
              "      <td>0.476973</td>\n",
              "      <td>1.443166</td>\n",
              "      <td>0.276197</td>\n",
              "      <td>1.820688</td>\n",
              "      <td>4.782017</td>\n",
              "    </tr>\n",
              "  </tbody>\n",
              "</table>\n",
              "</div>"
            ],
            "text/plain": [
              "                0         1         2  ...         7         8     score\n",
              "cluster                                ...                              \n",
              "0       -0.046251 -0.096972 -0.177154  ... -0.030378 -0.209719  1.227181\n",
              "1        0.425686  0.837189  1.549882  ...  0.276197  1.820688  4.782017\n",
              "\n",
              "[2 rows x 10 columns]"
            ]
          },
          "metadata": {
            "tags": []
          },
          "execution_count": 423
        }
      ]
    },
    {
      "cell_type": "markdown",
      "metadata": {
        "id": "ZcC-JtPzAqPk"
      },
      "source": [
        "Out of 141216 test data, 14570 transactional data are labeled to be outliers (10.32%)"
      ]
    },
    {
      "cell_type": "markdown",
      "metadata": {
        "id": "wEGfhlIsfPjW"
      },
      "source": [
        "### Achieve Model Stability \n",
        "by Aggregating Multiple Models\n",
        "Unsupervised techniques can detect many outliers. But due to its unspervised nature it is not stable, meaning overfitting to a specific dataset.\n",
        "The solution is to train multiple models then aggregate the scores.\n",
        "\n",
        "There are four methods to aggregate the outcome:\n",
        "\n",
        "(1) Average: average scores of all detectors\n",
        "\n",
        "(2) Maximum of Maximum (MOM)\n",
        "\n",
        "(3) Average of Maximum (AOM)\n",
        "\n",
        "(4) Maximum of Average (MOA)"
      ]
    },
    {
      "cell_type": "code",
      "metadata": {
        "id": "5czFUrnnfjKK"
      },
      "source": [
        "from pyod.models.combination import aom, moa, average, maximization\n",
        "\n",
        "# Put all the predictions in a data frame\n",
        "train_scores_auto = pd.DataFrame({'auto1': auto1.decision_scores_,\n",
        "                             'auto2': auto2.decision_scores_,\n",
        "                             'auto3': auto3.decision_scores_\n",
        "                            })\n",
        "\n",
        "test_scores_auto  = pd.DataFrame({'auto1': auto1.decision_function(X_test),\n",
        "                             'auto2': auto2.decision_function(X_test),\n",
        "                             'auto3': auto3.decision_function(X_test) \n",
        "                            })"
      ],
      "execution_count": null,
      "outputs": []
    },
    {
      "cell_type": "code",
      "metadata": {
        "id": "rN9f9COBf_Vf"
      },
      "source": [
        "train_scores_auto.head()"
      ],
      "execution_count": null,
      "outputs": []
    },
    {
      "cell_type": "code",
      "metadata": {
        "id": "72qBfURKgFfN"
      },
      "source": [
        "test_scores_auto.head()"
      ],
      "execution_count": null,
      "outputs": []
    },
    {
      "cell_type": "code",
      "metadata": {
        "id": "A5lXtkj-gMpu"
      },
      "source": [
        "# Although we did standardization before, it was for the variables.\n",
        "# Now we do the standardization for the decision scores\n",
        "train_scores_norm_auto, test_scores_norm_auto = standardizer(train_scores_auto,test_scores_auto)"
      ],
      "execution_count": null,
      "outputs": []
    },
    {
      "cell_type": "code",
      "metadata": {
        "id": "IaIgJ2TmgUA9"
      },
      "source": [
        "train_scores_norm_auto.shape"
      ],
      "execution_count": null,
      "outputs": []
    },
    {
      "cell_type": "markdown",
      "metadata": {
        "id": "xedTZq70gZzt"
      },
      "source": [
        "Average\n",
        "\n",
        "The \"average\" function in PyOD averages the outlier scores from multiple estimators."
      ]
    },
    {
      "cell_type": "code",
      "metadata": {
        "id": "Yp_bu-d-gbh6"
      },
      "source": [
        "# Combination by average\n",
        "y_by_average_auto = average(test_scores_norm_auto)\n",
        "y_by_average_auto[1:10]"
      ],
      "execution_count": null,
      "outputs": []
    },
    {
      "cell_type": "code",
      "metadata": {
        "id": "JLuWYVK7gr7m"
      },
      "source": [
        "# Combination by average\n",
        "y_by_average_auto = average(test_scores_norm_auto)\n",
        "             \n",
        "import matplotlib.pyplot as plt\n",
        "plt.hist(y_by_average_auto, bins = 50, range=(0,10))  # arguments are passed to np.histogram\n",
        "plt.title(\"Combination by average - AutoEncoder\")\n",
        "plt.show()"
      ],
      "execution_count": null,
      "outputs": []
    },
    {
      "cell_type": "code",
      "metadata": {
        "id": "7KrCIrFJCira"
      },
      "source": [
        "#zoom in\n",
        "plt.hist(y_by_average_auto, bins = 50, range=(0,2))  # arguments are passed to np.histogram\n",
        "plt.title(\"Combination by average - AutoEncoder\")\n",
        "axes = plt.gca()\n",
        "axes.set_ylim([0,4000])\n",
        "plt.show()"
      ],
      "execution_count": null,
      "outputs": []
    },
    {
      "cell_type": "code",
      "metadata": {
        "id": "_sZAXdRPh0hz"
      },
      "source": [
        "df_test_autoavg = X_test1.copy()\n",
        "df_test_autoavg['score'] = y_by_average_auto"
      ],
      "execution_count": null,
      "outputs": []
    },
    {
      "cell_type": "code",
      "metadata": {
        "id": "KF8fnvEmCMmk"
      },
      "source": [
        "df_test_autoavg['cluster'] = np.where(df_test_autoavg['score']<0.2, 0, 1)\n",
        "df_test_autoavg['cluster'].value_counts()"
      ],
      "execution_count": null,
      "outputs": []
    },
    {
      "cell_type": "code",
      "metadata": {
        "id": "gR-ZjK05CTwT"
      },
      "source": [
        "df_test_autoavg.groupby('cluster').mean()"
      ],
      "execution_count": null,
      "outputs": []
    },
    {
      "cell_type": "markdown",
      "metadata": {
        "id": "9wbvJXa_BClQ"
      },
      "source": [
        "Out of 141216 test data, 11826 transactional data are labeled to be outliers (8.37%). "
      ]
    },
    {
      "cell_type": "markdown",
      "metadata": {
        "id": "6E5AgmCluCBT"
      },
      "source": [
        "Maximum of maximum\n",
        "\n",
        "Merge the outlier scores from multiple estimators by taking the maximum."
      ]
    },
    {
      "cell_type": "code",
      "metadata": {
        "id": "-qN6Ckh-t_5D"
      },
      "source": [
        "# Combination by max\n",
        "y_by_maximization_auto = maximization(test_scores_norm_auto)\n",
        "\n",
        "import matplotlib.pyplot as plt\n",
        "plt.hist(y_by_maximization_auto, bins = 50, range=(0,2))  # arguments are passed to np.histogram\n",
        "plt.title(\"Combination by max\")\n",
        "plt.show()"
      ],
      "execution_count": null,
      "outputs": []
    },
    {
      "cell_type": "code",
      "metadata": {
        "id": "3t40ycsCwThP"
      },
      "source": [
        "df_test_automax = X_test1.copy()\n",
        "df_test_automax['score'] = y_by_maximization_auto"
      ],
      "execution_count": null,
      "outputs": []
    },
    {
      "cell_type": "code",
      "metadata": {
        "id": "yEjLr5ckCCX-"
      },
      "source": [
        "df_test_automax['y_by_maximization_cluster'] = np.where(df_test_automax['score']<0.2, 0, 1)\n",
        "df_test_automax['y_by_maximization_cluster'].value_counts()"
      ],
      "execution_count": null,
      "outputs": []
    },
    {
      "cell_type": "code",
      "metadata": {
        "id": "K3YICGcFC1G4"
      },
      "source": [
        "df_test_automax.groupby('y_by_maximization_cluster').mean()"
      ],
      "execution_count": null,
      "outputs": []
    },
    {
      "cell_type": "markdown",
      "metadata": {
        "id": "9DMUhnoLCwTn"
      },
      "source": [
        "Out of 141216 test data,13031 are labeled to be anomalies (9.22%)"
      ]
    },
    {
      "cell_type": "markdown",
      "metadata": {
        "id": "L5MfTuq3C_px"
      },
      "source": [
        "### AutoEncoder Conclusion\n",
        "\n",
        "The general statistis of the IForest result is:\n",
        "\n",
        "*   Outlier group contains around than 10% of overall test transaction data\n",
        "*   For all these models, the summary statistics show that cluster 1 (outlier group) has all positive values for these standardized values.\n",
        "*   For the outlier cluster, the largest average value is column 8, which is the ratio of each transaction comparing to the cardholder historical average spending. This means that anomalous transactions tend to have a large number for this ratio. \n",
        "*   For the outlier cluster, the small average value is column 7, which is the percentage of each transaction exceed the minimum amount for each agent. This indicates that this feature may not be a strong indicator of anomalies.\n"
      ]
    },
    {
      "cell_type": "markdown",
      "metadata": {
        "id": "lG0lGhv8F6T_"
      },
      "source": [
        "## KNN\n"
      ]
    },
    {
      "cell_type": "markdown",
      "metadata": {
        "id": "654JzSpsNI2x"
      },
      "source": [
        "### KNN Model 1: Default"
      ]
    },
    {
      "cell_type": "code",
      "metadata": {
        "id": "26g6HvtwF-D7"
      },
      "source": [
        "# train kNN detector\n",
        "from pyod.models.knn import KNN\n",
        "clf_name = 'KNN'\n",
        "knn = KNN()\n",
        "knn.fit(X_train)\n",
        "# If you want to see the predictions of the training data, you can use this way:\n",
        "y_train_scores_knn = knn.decision_scores_"
      ],
      "execution_count": null,
      "outputs": []
    },
    {
      "cell_type": "code",
      "metadata": {
        "id": "Wrm15VS5dBzW"
      },
      "source": [
        "# get the prediction labels and outlier scores of the training data\n",
        "y_train_pred = knn.labels_  # binary labels (0: inliers, 1: outliers)"
      ],
      "execution_count": null,
      "outputs": []
    },
    {
      "cell_type": "code",
      "metadata": {
        "id": "OCj1ayKd1m5j",
        "outputId": "a840f9f5-0b0e-4dc9-dc1b-1c442911cd81",
        "colab": {
          "base_uri": "https://localhost:8080/",
          "height": 34
        }
      },
      "source": [
        "# Now we have the trained K-NN model, let's apply to the test data to get the predictions\n",
        "y_test_pred_knn = knn.predict(X_test) # outlier labels (0 or 1)\n",
        "unique, counts = np.unique(y_test_pred_knn, return_counts=True)\n",
        "dict(zip(unique, counts))"
      ],
      "execution_count": null,
      "outputs": [
        {
          "output_type": "execute_result",
          "data": {
            "text/plain": [
              "{0: 127155, 1: 14061}"
            ]
          },
          "metadata": {
            "tags": []
          },
          "execution_count": 70
        }
      ]
    },
    {
      "cell_type": "code",
      "metadata": {
        "id": "uof_-JtddhVf"
      },
      "source": [
        "print(\"\\nOn Training Data:\")\n",
        "evaluate_print(clf_name, y_train, y_train_scores)\n",
        "print(\"\\nOn Test Data:\")\n",
        "evaluate_print(clf_name, y_test, y_test_scores)"
      ],
      "execution_count": null,
      "outputs": []
    },
    {
      "cell_type": "code",
      "metadata": {
        "id": "-U8QiZY9IPr0",
        "outputId": "c1bb9990-d591-4192-de96-8be0017232d6",
        "colab": {
          "base_uri": "https://localhost:8080/",
          "height": 281
        }
      },
      "source": [
        "import matplotlib.pyplot as plt\n",
        "plt.hist(y_test_scores_knn, bins=40, range = (0,3))  # arguments are passed to np.histogram\n",
        "plt.title(\"Histogram with 40 bins\")\n",
        "axes = plt.gca()\n",
        "axes.set_ylim([0,10000])\n",
        "plt.show()"
      ],
      "execution_count": null,
      "outputs": [
        {
          "output_type": "display_data",
          "data": {
            "image/png": "[encoded data removed]",
            "text/plain": [
              "<Figure size 432x288 with 1 Axes>"
            ]
          },
          "metadata": {
            "tags": [],
            "needs_background": "light"
          }
        }
      ]
    },
    {
      "cell_type": "markdown",
      "metadata": {
        "id": "JmiaES122gC-"
      },
      "source": [
        "1 is the cutting point"
      ]
    },
    {
      "cell_type": "code",
      "metadata": {
        "id": "ymLXojAZJdbR"
      },
      "source": [
        "df_test_knn1 = X_test1.copy()\n",
        "df_test_knn1['score'] = y_test_scores_knn"
      ],
      "execution_count": null,
      "outputs": []
    },
    {
      "cell_type": "code",
      "metadata": {
        "id": "_i9YwHou2a3P",
        "outputId": "0b1411b1-8849-465c-a4b8-a2074f37d8fa",
        "colab": {
          "base_uri": "https://localhost:8080/",
          "height": 68
        }
      },
      "source": [
        "df_test_knn1['cluster'] = np.where(df_test_knn1['score']<1, 0, 1)\n",
        "df_test_knn1['cluster'].value_counts()"
      ],
      "execution_count": null,
      "outputs": [
        {
          "output_type": "execute_result",
          "data": {
            "text/plain": [
              "0    139778\n",
              "1      1438\n",
              "Name: cluster, dtype: int64"
            ]
          },
          "metadata": {
            "tags": []
          },
          "execution_count": 75
        }
      ]
    },
    {
      "cell_type": "code",
      "metadata": {
        "id": "i3nC4yfv2l5G",
        "outputId": "a79e149f-cfd2-44a9-df35-416dabb756fe",
        "colab": {
          "base_uri": "https://localhost:8080/",
          "height": 142
        }
      },
      "source": [
        "# Now let's show the summary statistics:\n",
        "df_test_knn1.groupby('cluster').mean()"
      ],
      "execution_count": null,
      "outputs": [
        {
          "output_type": "execute_result",
          "data": {
            "text/html": [
              "<div>\n",
              "<style scoped>\n",
              "    .dataframe tbody tr th:only-of-type {\n",
              "        vertical-align: middle;\n",
              "    }\n",
              "\n",
              "    .dataframe tbody tr th {\n",
              "        vertical-align: top;\n",
              "    }\n",
              "\n",
              "    .dataframe thead th {\n",
              "        text-align: right;\n",
              "    }\n",
              "</style>\n",
              "<table border=\"1\" class=\"dataframe\">\n",
              "  <thead>\n",
              "    <tr style=\"text-align: right;\">\n",
              "      <th></th>\n",
              "      <th>0</th>\n",
              "      <th>1</th>\n",
              "      <th>2</th>\n",
              "      <th>3</th>\n",
              "      <th>4</th>\n",
              "      <th>5</th>\n",
              "      <th>6</th>\n",
              "      <th>7</th>\n",
              "      <th>score</th>\n",
              "    </tr>\n",
              "    <tr>\n",
              "      <th>cluster</th>\n",
              "      <th></th>\n",
              "      <th></th>\n",
              "      <th></th>\n",
              "      <th></th>\n",
              "      <th></th>\n",
              "      <th></th>\n",
              "      <th></th>\n",
              "      <th></th>\n",
              "      <th></th>\n",
              "    </tr>\n",
              "  </thead>\n",
              "  <tbody>\n",
              "    <tr>\n",
              "      <th>0</th>\n",
              "      <td>-0.022198</td>\n",
              "      <td>-0.054724</td>\n",
              "      <td>-0.050588</td>\n",
              "      <td>-0.010272</td>\n",
              "      <td>-0.046414</td>\n",
              "      <td>-0.020208</td>\n",
              "      <td>-0.040081</td>\n",
              "      <td>-0.012594</td>\n",
              "      <td>0.08704</td>\n",
              "    </tr>\n",
              "    <tr>\n",
              "      <th>1</th>\n",
              "      <td>2.397406</td>\n",
              "      <td>5.420862</td>\n",
              "      <td>4.840157</td>\n",
              "      <td>0.773320</td>\n",
              "      <td>4.488896</td>\n",
              "      <td>2.096372</td>\n",
              "      <td>3.688457</td>\n",
              "      <td>1.347186</td>\n",
              "      <td>3.12318</td>\n",
              "    </tr>\n",
              "  </tbody>\n",
              "</table>\n",
              "</div>"
            ],
            "text/plain": [
              "                0         1         2  ...         6         7    score\n",
              "cluster                                ...                             \n",
              "0       -0.022198 -0.054724 -0.050588  ... -0.040081 -0.012594  0.08704\n",
              "1        2.397406  5.420862  4.840157  ...  3.688457  1.347186  3.12318\n",
              "\n",
              "[2 rows x 9 columns]"
            ]
          },
          "metadata": {
            "tags": []
          },
          "execution_count": 77
        }
      ]
    },
    {
      "cell_type": "markdown",
      "metadata": {
        "id": "F_vdyNumIrtJ"
      },
      "source": [
        "By selecting 1 as the cut off point, out of 141216 creditcard transaction data, 1438 (1.02%) of the data is labeled to be outliers. "
      ]
    },
    {
      "cell_type": "code",
      "metadata": {
        "id": "Ho9NLEEDMBfW",
        "outputId": "9e5e2683-8c2c-4046-bade-431141de0277",
        "colab": {
          "base_uri": "https://localhost:8080/"
        }
      },
      "source": [
        "ccard3.columns"
      ],
      "execution_count": 97,
      "outputs": [
        {
          "output_type": "execute_result",
          "data": {
            "text/plain": [
              "Index(['Amount', 'Agency_Merchant_AvgSpending_Ratio',\n",
              "       'Agency_Merchant_Monthly_AvgSpending_Ratio',\n",
              "       'Monthly_Max_VendorSpending_Ratio', 'cardholer_AvgSpending_Ratio',\n",
              "       'Agency_AvgSpending_Ratio', 'Agency_MaxSpending_Ratio',\n",
              "       'Agency_Exceed_MinSpending_Percentage'],\n",
              "      dtype='object')"
            ]
          },
          "metadata": {
            "tags": []
          },
          "execution_count": 97
        }
      ]
    },
    {
      "cell_type": "markdown",
      "metadata": {
        "id": "BqyaFXMAKUlr"
      },
      "source": [
        "### KNN Model 2-5 Achieve Model Stability by Aggregating Multiple Models\n",
        "*   Average\n",
        "*   Maximum of Maximum (MOM)\n",
        "*   Average of Maximum (AOM)\n",
        "*   Maximum of Average (MOA)"
      ]
    },
    {
      "cell_type": "code",
      "metadata": {
        "id": "jiAFlhl0LTTg"
      },
      "source": [
        "X_train_norm, X_test_norm = standardizer(X_train, X_test)"
      ],
      "execution_count": null,
      "outputs": []
    },
    {
      "cell_type": "code",
      "metadata": {
        "id": "C6layKgo2uHe"
      },
      "source": [
        "# Test a range of k-neighbors from 10 to 190, with a 20 gap. There will be 10 k-NN models.\n",
        "n_clf = 10\n",
        "k_list = [10, 30, 50, 70, 90, 110, 130, 150, 170, 190]"
      ],
      "execution_count": null,
      "outputs": []
    },
    {
      "cell_type": "code",
      "metadata": {
        "id": "DjJcvFMZ2_k9",
        "outputId": "abae6aa7-b32c-47ff-cd39-5653e94989c1",
        "colab": {
          "base_uri": "https://localhost:8080/",
          "height": 34
        }
      },
      "source": [
        "# Just prepare data frames so we can store the model results\n",
        "train_scores = np.zeros([X_train.shape[0], n_clf])\n",
        "test_scores = np.zeros([X_test.shape[0], n_clf])\n",
        "train_scores.shape"
      ],
      "execution_count": null,
      "outputs": [
        {
          "output_type": "execute_result",
          "data": {
            "text/plain": [
              "(286711, 10)"
            ]
          },
          "metadata": {
            "tags": []
          },
          "execution_count": 80
        }
      ]
    },
    {
      "cell_type": "code",
      "metadata": {
        "id": "i9rOMCXeKky1"
      },
      "source": [
        "# Modeling\n",
        "for i in range(n_clf):\n",
        "    k = k_list[i]\n",
        "    clf = KNN(n_neighbors=k, method='largest')\n",
        "    clf.fit(X_train)\n",
        "\n",
        "    # Store the results in each column:\n",
        "    train_scores[:, i] = clf.decision_scores_\n",
        "    test_scores[:, i] = clf.decision_function(X_test) "
      ],
      "execution_count": null,
      "outputs": []
    },
    {
      "cell_type": "code",
      "metadata": {
        "id": "yVZYOyaM3x45"
      },
      "source": [
        "from pyod.utils.utility import standardizer\n",
        "# Decision scores have to be normalized before combination\n",
        "train_scores_norm, test_scores_norm = standardizer(train_scores,test_scores)"
      ],
      "execution_count": null,
      "outputs": []
    },
    {
      "cell_type": "code",
      "metadata": {
        "id": "iC5IIxBT_Gj_",
        "outputId": "10ac7a21-ed64-49b6-a7ce-36eb3b75edde",
        "colab": {
          "base_uri": "https://localhost:8080/",
          "height": 71
        }
      },
      "source": [
        "from pyod.models.combination import aom, moa, average, maximization"
      ],
      "execution_count": null,
      "outputs": [
        {
          "output_type": "stream",
          "text": [
            "/usr/local/lib/python3.6/dist-packages/sklearn/utils/deprecation.py:144: FutureWarning: The sklearn.utils.testing module is  deprecated in version 0.22 and will be removed in version 0.24. The corresponding classes / functions should instead be imported from sklearn.utils. Anything that cannot be imported from sklearn.utils is now part of the private API.\n",
            "  warnings.warn(message, FutureWarning)\n"
          ],
          "name": "stderr"
        }
      ]
    },
    {
      "cell_type": "code",
      "metadata": {
        "id": "wpQVVxUnDyc1"
      },
      "source": [
        "# Combination by average\n",
        "# The test_scores_norm is 500 x 20. The \"average\" function will take the average of the 20 columns. The result \"y_by_average\" is a single column: \n",
        "y_by_average = average(test_scores_norm)"
      ],
      "execution_count": null,
      "outputs": []
    },
    {
      "cell_type": "code",
      "metadata": {
        "id": "Wu0MRueWCodf",
        "outputId": "fee87e1a-ce0b-48e9-b63c-d79bc83074bf",
        "colab": {
          "base_uri": "https://localhost:8080/",
          "height": 281
        }
      },
      "source": [
        "plt.hist(y_by_average, bins=40, range=(0,6)) # arguments are passed to np.histogram\n",
        "plt.title(\"Combination by average\")\n",
        "axes = plt.gca()\n",
        "axes.set_ylim([0,6000])\n",
        "plt.show()"
      ],
      "execution_count": null,
      "outputs": [
        {
          "output_type": "display_data",
          "data": {
            "image/png": "[encoded data removed]",
            "text/plain": [
              "<Figure size 432x288 with 1 Axes>"
            ]
          },
          "metadata": {
            "tags": [],
            "needs_background": "light"
          }
        }
      ]
    },
    {
      "cell_type": "markdown",
      "metadata": {
        "id": "BiMWgILoJLUT"
      },
      "source": [
        "Cutting point is set to be 2"
      ]
    },
    {
      "cell_type": "code",
      "metadata": {
        "id": "hJ9WNPhM_R5H"
      },
      "source": [
        "df_test_avg = pd.DataFrame(X_test)\n",
        "df_test_avg['score'] = y_by_average"
      ],
      "execution_count": null,
      "outputs": []
    },
    {
      "cell_type": "code",
      "metadata": {
        "id": "RVF1QsUTEXBw",
        "outputId": "d22ffbf2-87f2-419a-ab7a-2eb85625d2d1",
        "colab": {
          "base_uri": "https://localhost:8080/",
          "height": 68
        }
      },
      "source": [
        "df_test_avg['cluster'] = np.where(df_test_avg['score']<2, 0, 1)\n",
        "df_test_avg['cluster'].value_counts()"
      ],
      "execution_count": null,
      "outputs": [
        {
          "output_type": "execute_result",
          "data": {
            "text/plain": [
              "0    140597\n",
              "1       619\n",
              "Name: cluster, dtype: int64"
            ]
          },
          "metadata": {
            "tags": []
          },
          "execution_count": 101
        }
      ]
    },
    {
      "cell_type": "code",
      "metadata": {
        "id": "7v14XBbMEldO",
        "outputId": "73ffbb12-df29-4f6b-e250-c63ffdd81e03",
        "colab": {
          "base_uri": "https://localhost:8080/",
          "height": 142
        }
      },
      "source": [
        "df_test_avg.groupby('cluster').mean()"
      ],
      "execution_count": null,
      "outputs": [
        {
          "output_type": "execute_result",
          "data": {
            "text/html": [
              "<div>\n",
              "<style scoped>\n",
              "    .dataframe tbody tr th:only-of-type {\n",
              "        vertical-align: middle;\n",
              "    }\n",
              "\n",
              "    .dataframe tbody tr th {\n",
              "        vertical-align: top;\n",
              "    }\n",
              "\n",
              "    .dataframe thead th {\n",
              "        text-align: right;\n",
              "    }\n",
              "</style>\n",
              "<table border=\"1\" class=\"dataframe\">\n",
              "  <thead>\n",
              "    <tr style=\"text-align: right;\">\n",
              "      <th></th>\n",
              "      <th>0</th>\n",
              "      <th>1</th>\n",
              "      <th>2</th>\n",
              "      <th>3</th>\n",
              "      <th>4</th>\n",
              "      <th>5</th>\n",
              "      <th>6</th>\n",
              "      <th>7</th>\n",
              "      <th>score</th>\n",
              "    </tr>\n",
              "    <tr>\n",
              "      <th>cluster</th>\n",
              "      <th></th>\n",
              "      <th></th>\n",
              "      <th></th>\n",
              "      <th></th>\n",
              "      <th></th>\n",
              "      <th></th>\n",
              "      <th></th>\n",
              "      <th></th>\n",
              "      <th></th>\n",
              "    </tr>\n",
              "  </thead>\n",
              "  <tbody>\n",
              "    <tr>\n",
              "      <th>0</th>\n",
              "      <td>-0.017347</td>\n",
              "      <td>-0.034699</td>\n",
              "      <td>-0.03109</td>\n",
              "      <td>-0.006164</td>\n",
              "      <td>-0.026001</td>\n",
              "      <td>-0.014615</td>\n",
              "      <td>-0.028805</td>\n",
              "      <td>-0.009562</td>\n",
              "      <td>-0.024268</td>\n",
              "    </tr>\n",
              "    <tr>\n",
              "      <th>1</th>\n",
              "      <td>4.496958</td>\n",
              "      <td>8.117028</td>\n",
              "      <td>6.88241</td>\n",
              "      <td>0.877108</td>\n",
              "      <td>5.853094</td>\n",
              "      <td>3.626448</td>\n",
              "      <td>6.060457</td>\n",
              "      <td>2.457625</td>\n",
              "      <td>6.161408</td>\n",
              "    </tr>\n",
              "  </tbody>\n",
              "</table>\n",
              "</div>"
            ],
            "text/plain": [
              "                0         1        2  ...         6         7     score\n",
              "cluster                               ...                              \n",
              "0       -0.017347 -0.034699 -0.03109  ... -0.028805 -0.009562 -0.024268\n",
              "1        4.496958  8.117028  6.88241  ...  6.060457  2.457625  6.161408\n",
              "\n",
              "[2 rows x 9 columns]"
            ]
          },
          "metadata": {
            "tags": []
          },
          "execution_count": 102
        }
      ]
    },
    {
      "cell_type": "markdown",
      "metadata": {
        "id": "sML7SF4-JH5P"
      },
      "source": [
        "By selecting 2 as the cut off point, out of 141216 creditcard transaction data, 619 (0.44%) of the data is labeled to be outliers. "
      ]
    },
    {
      "cell_type": "markdown",
      "metadata": {
        "id": "1_lydTnQ_TLl"
      },
      "source": [
        "Method 2: The Maximum of Maximum (MOM)"
      ]
    },
    {
      "cell_type": "code",
      "metadata": {
        "id": "vuOFkIZZHF3P"
      },
      "source": [
        "# Combination by mom\n",
        "y_by_maximization = maximization(test_scores_norm)"
      ],
      "execution_count": null,
      "outputs": []
    },
    {
      "cell_type": "code",
      "metadata": {
        "id": "70vbUs0sHSX3",
        "outputId": "478afded-dfcd-4d48-bb07-32f8a9495ad2",
        "colab": {
          "base_uri": "https://localhost:8080/",
          "height": 281
        }
      },
      "source": [
        "plt.hist(y_by_maximization, bins=40,range=(0,8))  # arguments are passed to np.histogram\n",
        "plt.title(\"Combination by max\")\n",
        "axes = plt.gca()\n",
        "axes.set_ylim([0,6000])\n",
        "plt.show()"
      ],
      "execution_count": null,
      "outputs": [
        {
          "output_type": "display_data",
          "data": {
            "image/png": "[encoded data removed]",
            "text/plain": [
              "<Figure size 432x288 with 1 Axes>"
            ]
          },
          "metadata": {
            "tags": [],
            "needs_background": "light"
          }
        }
      ]
    },
    {
      "cell_type": "markdown",
      "metadata": {
        "id": "iwAPpIlzI68Y"
      },
      "source": [
        "2 is the cutting point"
      ]
    },
    {
      "cell_type": "code",
      "metadata": {
        "id": "MG6SL0S6I836"
      },
      "source": [
        "df_test_max = pd.DataFrame(X_test)\n",
        "df_test_max['score'] = y_by_maximization"
      ],
      "execution_count": null,
      "outputs": []
    },
    {
      "cell_type": "code",
      "metadata": {
        "id": "iQYP0M7MJIFV",
        "outputId": "767f1f1b-964e-48ba-c2d5-acdfeccba743",
        "colab": {
          "base_uri": "https://localhost:8080/",
          "height": 68
        }
      },
      "source": [
        "df_test_max['cluster'] = np.where(df_test_max['score']<2, 0, 1)\n",
        "df_test_max['cluster'].value_counts()"
      ],
      "execution_count": null,
      "outputs": [
        {
          "output_type": "execute_result",
          "data": {
            "text/plain": [
              "0    140451\n",
              "1       765\n",
              "Name: cluster, dtype: int64"
            ]
          },
          "metadata": {
            "tags": []
          },
          "execution_count": 115
        }
      ]
    },
    {
      "cell_type": "code",
      "metadata": {
        "id": "-jmGoHitJPle",
        "outputId": "8dde476b-2945-40a9-c0f8-1382fbcd0606",
        "colab": {
          "base_uri": "https://localhost:8080/",
          "height": 142
        }
      },
      "source": [
        "df_test_max.groupby('cluster').mean()"
      ],
      "execution_count": null,
      "outputs": [
        {
          "output_type": "execute_result",
          "data": {
            "text/html": [
              "<div>\n",
              "<style scoped>\n",
              "    .dataframe tbody tr th:only-of-type {\n",
              "        vertical-align: middle;\n",
              "    }\n",
              "\n",
              "    .dataframe tbody tr th {\n",
              "        vertical-align: top;\n",
              "    }\n",
              "\n",
              "    .dataframe thead th {\n",
              "        text-align: right;\n",
              "    }\n",
              "</style>\n",
              "<table border=\"1\" class=\"dataframe\">\n",
              "  <thead>\n",
              "    <tr style=\"text-align: right;\">\n",
              "      <th></th>\n",
              "      <th>0</th>\n",
              "      <th>1</th>\n",
              "      <th>2</th>\n",
              "      <th>3</th>\n",
              "      <th>4</th>\n",
              "      <th>5</th>\n",
              "      <th>6</th>\n",
              "      <th>7</th>\n",
              "      <th>score</th>\n",
              "    </tr>\n",
              "    <tr>\n",
              "      <th>cluster</th>\n",
              "      <th></th>\n",
              "      <th></th>\n",
              "      <th></th>\n",
              "      <th></th>\n",
              "      <th></th>\n",
              "      <th></th>\n",
              "      <th></th>\n",
              "      <th></th>\n",
              "      <th></th>\n",
              "    </tr>\n",
              "  </thead>\n",
              "  <tbody>\n",
              "    <tr>\n",
              "      <th>0</th>\n",
              "      <td>-0.018225</td>\n",
              "      <td>-0.038645</td>\n",
              "      <td>-0.035048</td>\n",
              "      <td>-0.007054</td>\n",
              "      <td>-0.030745</td>\n",
              "      <td>-0.015612</td>\n",
              "      <td>-0.034048</td>\n",
              "      <td>-0.010058</td>\n",
              "      <td>0.000756</td>\n",
              "    </tr>\n",
              "    <tr>\n",
              "      <th>1</th>\n",
              "      <td>3.796680</td>\n",
              "      <td>7.285841</td>\n",
              "      <td>6.289672</td>\n",
              "      <td>0.871857</td>\n",
              "      <td>5.602010</td>\n",
              "      <td>3.114550</td>\n",
              "      <td>5.861014</td>\n",
              "      <td>2.077943</td>\n",
              "      <td>6.045548</td>\n",
              "    </tr>\n",
              "  </tbody>\n",
              "</table>\n",
              "</div>"
            ],
            "text/plain": [
              "                0         1         2  ...         6         7     score\n",
              "cluster                                ...                              \n",
              "0       -0.018225 -0.038645 -0.035048  ... -0.034048 -0.010058  0.000756\n",
              "1        3.796680  7.285841  6.289672  ...  5.861014  2.077943  6.045548\n",
              "\n",
              "[2 rows x 9 columns]"
            ]
          },
          "metadata": {
            "tags": []
          },
          "execution_count": 116
        }
      ]
    },
    {
      "cell_type": "markdown",
      "metadata": {
        "id": "XfwhI-wqJrZ3"
      },
      "source": [
        "By selecting 2 as the cut off point, out of 141216 creditcard transaction data, 765 (0.54%) of the data is labeled to be outliers. "
      ]
    },
    {
      "cell_type": "markdown",
      "metadata": {
        "id": "AYO2eFxF_b6G"
      },
      "source": [
        "Method 3: The Average of Maximum (AOM)"
      ]
    },
    {
      "cell_type": "code",
      "metadata": {
        "id": "Osq32C_rHPNw"
      },
      "source": [
        "# Combination by aom\n",
        "y_by_aom = aom(test_scores_norm, n_buckets=5)"
      ],
      "execution_count": null,
      "outputs": []
    },
    {
      "cell_type": "code",
      "metadata": {
        "id": "yZ_qKnKbIoyy",
        "outputId": "8f5dda3e-60fc-47c0-865e-e6d2b3d26b72",
        "colab": {
          "base_uri": "https://localhost:8080/",
          "height": 281
        }
      },
      "source": [
        "plt.hist(y_by_aom, bins=40,range=(0,8))  # arguments are passed to np.histogram\n",
        "plt.title(\"Average of Maximum\")\n",
        "axes = plt.gca()\n",
        "axes.set_ylim([0,6000])\n",
        "plt.show()"
      ],
      "execution_count": null,
      "outputs": [
        {
          "output_type": "display_data",
          "data": {
            "image/png": "[encoded data removed]",
            "text/plain": [
              "<Figure size 432x288 with 1 Axes>"
            ]
          },
          "metadata": {
            "tags": [],
            "needs_background": "light"
          }
        }
      ]
    },
    {
      "cell_type": "markdown",
      "metadata": {
        "id": "cWfDNrTTKH0P"
      },
      "source": [
        "2 is the cutting point"
      ]
    },
    {
      "cell_type": "code",
      "metadata": {
        "id": "-WsyS6T-JhNZ"
      },
      "source": [
        "df_test_aom = pd.DataFrame(X_test)\n",
        "df_test_aom['score'] = y_by_aom"
      ],
      "execution_count": null,
      "outputs": []
    },
    {
      "cell_type": "code",
      "metadata": {
        "id": "K6ztJFvjJ2Zw",
        "outputId": "055b8041-7e23-48ca-a468-4f1973e57624",
        "colab": {
          "base_uri": "https://localhost:8080/",
          "height": 68
        }
      },
      "source": [
        "df_test_aom['cluster'] = np.where(df_test_aom['score']<2, 0, 1)\n",
        "df_test_aom['cluster'].value_counts()"
      ],
      "execution_count": null,
      "outputs": [
        {
          "output_type": "execute_result",
          "data": {
            "text/plain": [
              "0    140530\n",
              "1       686\n",
              "Name: cluster, dtype: int64"
            ]
          },
          "metadata": {
            "tags": []
          },
          "execution_count": 121
        }
      ]
    },
    {
      "cell_type": "code",
      "metadata": {
        "id": "uLc2RxVbKETU",
        "outputId": "a6084855-7ec4-4075-848e-6afbbf790099",
        "colab": {
          "base_uri": "https://localhost:8080/",
          "height": 142
        }
      },
      "source": [
        "df_test_aom.groupby('cluster').mean()"
      ],
      "execution_count": null,
      "outputs": [
        {
          "output_type": "execute_result",
          "data": {
            "text/html": [
              "<div>\n",
              "<style scoped>\n",
              "    .dataframe tbody tr th:only-of-type {\n",
              "        vertical-align: middle;\n",
              "    }\n",
              "\n",
              "    .dataframe tbody tr th {\n",
              "        vertical-align: top;\n",
              "    }\n",
              "\n",
              "    .dataframe thead th {\n",
              "        text-align: right;\n",
              "    }\n",
              "</style>\n",
              "<table border=\"1\" class=\"dataframe\">\n",
              "  <thead>\n",
              "    <tr style=\"text-align: right;\">\n",
              "      <th></th>\n",
              "      <th>0</th>\n",
              "      <th>1</th>\n",
              "      <th>2</th>\n",
              "      <th>3</th>\n",
              "      <th>4</th>\n",
              "      <th>5</th>\n",
              "      <th>6</th>\n",
              "      <th>7</th>\n",
              "      <th>score</th>\n",
              "    </tr>\n",
              "    <tr>\n",
              "      <th>cluster</th>\n",
              "      <th></th>\n",
              "      <th></th>\n",
              "      <th></th>\n",
              "      <th></th>\n",
              "      <th></th>\n",
              "      <th></th>\n",
              "      <th></th>\n",
              "      <th></th>\n",
              "      <th></th>\n",
              "    </tr>\n",
              "  </thead>\n",
              "  <tbody>\n",
              "    <tr>\n",
              "      <th>0</th>\n",
              "      <td>-0.017737</td>\n",
              "      <td>-0.036543</td>\n",
              "      <td>-0.033038</td>\n",
              "      <td>-0.006539</td>\n",
              "      <td>-0.028223</td>\n",
              "      <td>-0.015082</td>\n",
              "      <td>-0.031055</td>\n",
              "      <td>-0.009800</td>\n",
              "      <td>-0.018113</td>\n",
              "    </tr>\n",
              "    <tr>\n",
              "      <th>1</th>\n",
              "      <td>4.136004</td>\n",
              "      <td>7.698614</td>\n",
              "      <td>6.606273</td>\n",
              "      <td>0.867536</td>\n",
              "      <td>5.733954</td>\n",
              "      <td>3.366554</td>\n",
              "      <td>5.926822</td>\n",
              "      <td>2.265557</td>\n",
              "      <td>6.053452</td>\n",
              "    </tr>\n",
              "  </tbody>\n",
              "</table>\n",
              "</div>"
            ],
            "text/plain": [
              "                0         1         2  ...         6         7     score\n",
              "cluster                                ...                              \n",
              "0       -0.017737 -0.036543 -0.033038  ... -0.031055 -0.009800 -0.018113\n",
              "1        4.136004  7.698614  6.606273  ...  5.926822  2.265557  6.053452\n",
              "\n",
              "[2 rows x 9 columns]"
            ]
          },
          "metadata": {
            "tags": []
          },
          "execution_count": 122
        }
      ]
    },
    {
      "cell_type": "markdown",
      "metadata": {
        "id": "M9XEroBvJ60X"
      },
      "source": [
        "By selecting 2 as the cut off point, out of 141216 creditcard transaction data, 686 (0.49%) of the data is labeled to be outliers."
      ]
    },
    {
      "cell_type": "markdown",
      "metadata": {
        "id": "8y2_Wyz5_hIA"
      },
      "source": [
        "Method 4: The maximum of average (MOA)"
      ]
    },
    {
      "cell_type": "code",
      "metadata": {
        "id": "FA4yHqq4IjRf"
      },
      "source": [
        "# Combination by moa\n",
        "y_by_moa = moa(test_scores_norm, n_buckets=5)"
      ],
      "execution_count": null,
      "outputs": []
    },
    {
      "cell_type": "code",
      "metadata": {
        "id": "4IHydKFkMscR",
        "outputId": "a27dd13d-6d47-4c8d-cbf2-5ab9ed73baf4",
        "colab": {
          "base_uri": "https://localhost:8080/",
          "height": 281
        }
      },
      "source": [
        "plt.hist(y_by_moa, bins=40,range=(0,8))  # arguments are passed to np.histogram\n",
        "plt.title(\"Maximum of Average\")\n",
        "axes = plt.gca()\n",
        "axes.set_ylim([0,1000])\n",
        "plt.show()"
      ],
      "execution_count": null,
      "outputs": [
        {
          "output_type": "display_data",
          "data": {
            "image/png": "[encoded data removed]",
            "text/plain": [
              "<Figure size 432x288 with 1 Axes>"
            ]
          },
          "metadata": {
            "tags": [],
            "needs_background": "light"
          }
        }
      ]
    },
    {
      "cell_type": "code",
      "metadata": {
        "id": "AIch6jFzMhS4"
      },
      "source": [
        "df_test_moa = pd.DataFrame(X_test)\n",
        "df_test_moa['score'] = y_by_moa"
      ],
      "execution_count": null,
      "outputs": []
    },
    {
      "cell_type": "code",
      "metadata": {
        "id": "GgwK7qAfRSuY",
        "outputId": "c74b667f-1734-4770-bf92-d1218839d8e4",
        "colab": {
          "base_uri": "https://localhost:8080/",
          "height": 68
        }
      },
      "source": [
        "df_test_moa['cluster'] = np.where(df_test_moa['score']<3, 0, 1)\n",
        "df_test_moa['cluster'].value_counts()"
      ],
      "execution_count": null,
      "outputs": [
        {
          "output_type": "execute_result",
          "data": {
            "text/plain": [
              "0    140818\n",
              "1       398\n",
              "Name: cluster, dtype: int64"
            ]
          },
          "metadata": {
            "tags": []
          },
          "execution_count": 134
        }
      ]
    },
    {
      "cell_type": "code",
      "metadata": {
        "id": "_MT-8_p_Twg8",
        "outputId": "4464cc9d-46c6-40d3-f3a7-d6566b25df32",
        "colab": {
          "base_uri": "https://localhost:8080/",
          "height": 142
        }
      },
      "source": [
        "df_test_moa.groupby('cluster').mean()"
      ],
      "execution_count": null,
      "outputs": [
        {
          "output_type": "execute_result",
          "data": {
            "text/html": [
              "<div>\n",
              "<style scoped>\n",
              "    .dataframe tbody tr th:only-of-type {\n",
              "        vertical-align: middle;\n",
              "    }\n",
              "\n",
              "    .dataframe tbody tr th {\n",
              "        vertical-align: top;\n",
              "    }\n",
              "\n",
              "    .dataframe thead th {\n",
              "        text-align: right;\n",
              "    }\n",
              "</style>\n",
              "<table border=\"1\" class=\"dataframe\">\n",
              "  <thead>\n",
              "    <tr style=\"text-align: right;\">\n",
              "      <th></th>\n",
              "      <th>0</th>\n",
              "      <th>1</th>\n",
              "      <th>2</th>\n",
              "      <th>3</th>\n",
              "      <th>4</th>\n",
              "      <th>5</th>\n",
              "      <th>6</th>\n",
              "      <th>7</th>\n",
              "      <th>score</th>\n",
              "    </tr>\n",
              "    <tr>\n",
              "      <th>cluster</th>\n",
              "      <th></th>\n",
              "      <th></th>\n",
              "      <th></th>\n",
              "      <th></th>\n",
              "      <th></th>\n",
              "      <th></th>\n",
              "      <th></th>\n",
              "      <th></th>\n",
              "      <th></th>\n",
              "    </tr>\n",
              "  </thead>\n",
              "  <tbody>\n",
              "    <tr>\n",
              "      <th>0</th>\n",
              "      <td>-0.015203</td>\n",
              "      <td>-0.027701</td>\n",
              "      <td>-0.024416</td>\n",
              "      <td>-0.004825</td>\n",
              "      <td>-0.019518</td>\n",
              "      <td>-0.012286</td>\n",
              "      <td>-0.020099</td>\n",
              "      <td>-0.008352</td>\n",
              "      <td>-0.008835</td>\n",
              "    </tr>\n",
              "    <tr>\n",
              "      <th>1</th>\n",
              "      <td>6.245086</td>\n",
              "      <td>10.167806</td>\n",
              "      <td>8.360121</td>\n",
              "      <td>0.893870</td>\n",
              "      <td>6.823794</td>\n",
              "      <td>4.824038</td>\n",
              "      <td>6.361606</td>\n",
              "      <td>3.399749</td>\n",
              "      <td>8.972887</td>\n",
              "    </tr>\n",
              "  </tbody>\n",
              "</table>\n",
              "</div>"
            ],
            "text/plain": [
              "                0          1         2  ...         6         7     score\n",
              "cluster                                 ...                              \n",
              "0       -0.015203  -0.027701 -0.024416  ... -0.020099 -0.008352 -0.008835\n",
              "1        6.245086  10.167806  8.360121  ...  6.361606  3.399749  8.972887\n",
              "\n",
              "[2 rows x 9 columns]"
            ]
          },
          "metadata": {
            "tags": []
          },
          "execution_count": 135
        }
      ]
    },
    {
      "cell_type": "markdown",
      "metadata": {
        "id": "wyjx1WU4KMsm"
      },
      "source": [
        "By selecting 3 as the cut off point, out of 141216 creditcard transaction data, 398 (0.28%) of the data is labeled to be outliers. "
      ]
    },
    {
      "cell_type": "markdown",
      "metadata": {
        "id": "z5rYcBvoK3mr"
      },
      "source": [
        "### KNN Conclusion\n",
        "\n",
        "The general statistis of knn result is:\n",
        "\n",
        "*   Outlier group contains less than 1% of overall test transaction data\n",
        "*   For all these models, the summary statistics show that cluster 1 (outlier group) has all positive values for these standardized values.\n",
        "*   All methods have a similar anomaly score cutting point (either 1, 2, or 3), and the anomaly percentage is roughly the same as well.\n",
        "*   For all methods, in the outlier cluster, the largest mean value is column index 1, which is the ratio of each transaction comparing to the average spending on each merchant for each agent. This means that anomalous transactions tend to have a large number for this ratio.\n",
        "*   For all methods, in the outlier cluster, the smallest mean value is column index 3, which is the ratio of each transaction comparing to the monthly maximum spending at each vendor for each agent. This indicates that this feature may not be a strong indicator of anomalies."
      ]
    },
    {
      "cell_type": "markdown",
      "metadata": {
        "id": "qXgOvi8oVZ5M"
      },
      "source": [
        "## PCA"
      ]
    },
    {
      "cell_type": "code",
      "metadata": {
        "id": "U9APoapEfubv"
      },
      "source": [
        "# PyOD\n",
        "from pyod.utils.data import generate_data, get_outliers_inliers\n",
        "from pyod.models.pca import PCA\n",
        "from pyod.utils.data import evaluate_print\n",
        "from pyod.utils.example import visualize"
      ],
      "execution_count": 22,
      "outputs": []
    },
    {
      "cell_type": "markdown",
      "metadata": {
        "id": "oGvMJ55WCp_V"
      },
      "source": [
        "### PCA model 1: Keep all PCs"
      ]
    },
    {
      "cell_type": "code",
      "metadata": {
        "id": "t4Q41FFKgexB",
        "outputId": "fab46d6f-7738-4beb-f763-b3698a5fdace",
        "colab": {
          "base_uri": "https://localhost:8080/"
        }
      },
      "source": [
        "pca = PCA()\n",
        "pca.fit(X_train)"
      ],
      "execution_count": 32,
      "outputs": [
        {
          "output_type": "execute_result",
          "data": {
            "text/plain": [
              "PCA(contamination=0.1, copy=True, iterated_power='auto', n_components=None,\n",
              "  n_selected_components=None, random_state=None, standardization=True,\n",
              "  svd_solver='auto', tol=0.0, weighted=True, whiten=False)"
            ]
          },
          "metadata": {
            "tags": []
          },
          "execution_count": 32
        }
      ]
    },
    {
      "cell_type": "code",
      "metadata": {
        "id": "_qmW_LUDg8Z7"
      },
      "source": [
        "df_train = pd.DataFrame(X_train)"
      ],
      "execution_count": 33,
      "outputs": []
    },
    {
      "cell_type": "code",
      "metadata": {
        "id": "D4Ln5rhygsmw"
      },
      "source": [
        "y_train_pred_pca = pca.labels_\n",
        "y_train_scores_pca = pca.decision_scores_"
      ],
      "execution_count": 35,
      "outputs": []
    },
    {
      "cell_type": "code",
      "metadata": {
        "id": "8PibIWF66osk"
      },
      "source": [
        "y_test_pred_pca = pca.predict(X_test1)"
      ],
      "execution_count": 62,
      "outputs": []
    },
    {
      "cell_type": "code",
      "metadata": {
        "id": "ZhVBt4nJ9XJj"
      },
      "source": [
        "y_test_scores_pca = pca.decision_function(X_test1)"
      ],
      "execution_count": 63,
      "outputs": []
    },
    {
      "cell_type": "code",
      "metadata": {
        "id": "Al0A22uy9gMN"
      },
      "source": [
        "y_test_scores_pca = pd.Series(y_test_scores_pca)\n",
        "y_test_pred_pca = pd.Series(y_test_pred_pca)"
      ],
      "execution_count": 64,
      "outputs": []
    },
    {
      "cell_type": "code",
      "metadata": {
        "id": "ahOXC7xM97Ca",
        "outputId": "922cfb71-77e8-405a-aeed-abaa66b137fe",
        "colab": {
          "base_uri": "https://localhost:8080/"
        }
      },
      "source": [
        "y_test_scores_pca"
      ],
      "execution_count": 65,
      "outputs": [
        {
          "output_type": "execute_result",
          "data": {
            "text/plain": [
              "0         1303.577935\n",
              "1         1501.458927\n",
              "2         1560.913058\n",
              "3         1378.223892\n",
              "4         4696.697677\n",
              "             ...     \n",
              "141211    1540.705200\n",
              "141212    1447.958336\n",
              "141213    1824.176967\n",
              "141214    1639.332240\n",
              "141215    1535.986702\n",
              "Length: 141216, dtype: float64"
            ]
          },
          "metadata": {
            "tags": []
          },
          "execution_count": 65
        }
      ]
    },
    {
      "cell_type": "code",
      "metadata": {
        "id": "-LOHyXv76xMJ",
        "outputId": "97e519d9-e423-4077-c3db-b1c8adff4f2a",
        "colab": {
          "base_uri": "https://localhost:8080/"
        }
      },
      "source": [
        "unique,counts = np.unique(y_test_pred_pca,return_counts=True)\n",
        "dict(zip(unique,counts))"
      ],
      "execution_count": 66,
      "outputs": [
        {
          "output_type": "execute_result",
          "data": {
            "text/plain": [
              "{0: 127131, 1: 14085}"
            ]
          },
          "metadata": {
            "tags": []
          },
          "execution_count": 66
        }
      ]
    },
    {
      "cell_type": "code",
      "metadata": {
        "id": "JGbRBDBp7Jxw",
        "outputId": "1c4b08a3-28fa-4675-a8bf-3d19cb723fd4",
        "colab": {
          "base_uri": "https://localhost:8080/",
          "height": 281
        }
      },
      "source": [
        "import matplotlib.pyplot as plt\n",
        "plt.hist(y_test_scores_pca, bins=40,range=(0,100000))  # arguments are passed to np.histogram\n",
        "plt.title(\"Histogram with 40 bins\")\n",
        "axes = plt.gca()\n",
        "axes.set_ylim([0,2000])\n",
        "plt.show()"
      ],
      "execution_count": 67,
      "outputs": [
        {
          "output_type": "display_data",
          "data": {
            "image/png": "[encoded data removed]",
            "text/plain": [
              "<Figure size 432x288 with 1 Axes>"
            ]
          },
          "metadata": {
            "tags": [],
            "needs_background": "light"
          }
        }
      ]
    },
    {
      "cell_type": "code",
      "metadata": {
        "id": "Rn1J7Umx90CC"
      },
      "source": [
        "df_test_pca_all = X_test1.copy()\n",
        "df_test_pca_all['score'] = y_test_scores_pca"
      ],
      "execution_count": 54,
      "outputs": []
    },
    {
      "cell_type": "code",
      "metadata": {
        "id": "s7o_Omk_-lO9",
        "outputId": "1441136d-70dc-49ad-b356-fed24e15d2f2",
        "colab": {
          "base_uri": "https://localhost:8080/"
        }
      },
      "source": [
        "df_test_pca_all['cluster'] = np.where(df_test_pca_all['score']<20000, 0, 1)\n",
        "df_test_pca_all['cluster'].value_counts()"
      ],
      "execution_count": 56,
      "outputs": [
        {
          "output_type": "execute_result",
          "data": {
            "text/plain": [
              "0    141003\n",
              "1       213\n",
              "Name: cluster, dtype: int64"
            ]
          },
          "metadata": {
            "tags": []
          },
          "execution_count": 56
        }
      ]
    },
    {
      "cell_type": "code",
      "metadata": {
        "id": "83hCTtHSEIoZ",
        "outputId": "e7965135-1b2e-4b10-c747-8dc3dd18cb6d",
        "colab": {
          "base_uri": "https://localhost:8080/",
          "height": 142
        }
      },
      "source": [
        "df_test_pca_all.groupby('cluster').mean()"
      ],
      "execution_count": 74,
      "outputs": [
        {
          "output_type": "execute_result",
          "data": {
            "text/html": [
              "<div>\n",
              "<style scoped>\n",
              "    .dataframe tbody tr th:only-of-type {\n",
              "        vertical-align: middle;\n",
              "    }\n",
              "\n",
              "    .dataframe tbody tr th {\n",
              "        vertical-align: top;\n",
              "    }\n",
              "\n",
              "    .dataframe thead th {\n",
              "        text-align: right;\n",
              "    }\n",
              "</style>\n",
              "<table border=\"1\" class=\"dataframe\">\n",
              "  <thead>\n",
              "    <tr style=\"text-align: right;\">\n",
              "      <th></th>\n",
              "      <th>0</th>\n",
              "      <th>1</th>\n",
              "      <th>2</th>\n",
              "      <th>3</th>\n",
              "      <th>4</th>\n",
              "      <th>5</th>\n",
              "      <th>6</th>\n",
              "      <th>7</th>\n",
              "      <th>score</th>\n",
              "    </tr>\n",
              "    <tr>\n",
              "      <th>cluster</th>\n",
              "      <th></th>\n",
              "      <th></th>\n",
              "      <th></th>\n",
              "      <th></th>\n",
              "      <th></th>\n",
              "      <th></th>\n",
              "      <th></th>\n",
              "      <th></th>\n",
              "      <th></th>\n",
              "    </tr>\n",
              "  </thead>\n",
              "  <tbody>\n",
              "    <tr>\n",
              "      <th>0</th>\n",
              "      <td>-0.011868</td>\n",
              "      <td>-0.018477</td>\n",
              "      <td>-0.016026</td>\n",
              "      <td>-0.003701</td>\n",
              "      <td>-0.012202</td>\n",
              "      <td>-0.009596</td>\n",
              "      <td>-0.016179</td>\n",
              "      <td>-0.006770</td>\n",
              "      <td>1900.386591</td>\n",
              "    </tr>\n",
              "    <tr>\n",
              "      <th>1</th>\n",
              "      <td>9.475105</td>\n",
              "      <td>12.916847</td>\n",
              "      <td>10.088152</td>\n",
              "      <td>0.929748</td>\n",
              "      <td>7.924053</td>\n",
              "      <td>7.244051</td>\n",
              "      <td>9.309008</td>\n",
              "      <td>5.312578</td>\n",
              "      <td>36388.097721</td>\n",
              "    </tr>\n",
              "  </tbody>\n",
              "</table>\n",
              "</div>"
            ],
            "text/plain": [
              "                0          1          2  ...         6         7         score\n",
              "cluster                                  ...                                  \n",
              "0       -0.011868  -0.018477  -0.016026  ... -0.016179 -0.006770   1900.386591\n",
              "1        9.475105  12.916847  10.088152  ...  9.309008  5.312578  36388.097721\n",
              "\n",
              "[2 rows x 9 columns]"
            ]
          },
          "metadata": {
            "tags": []
          },
          "execution_count": 74
        }
      ]
    },
    {
      "cell_type": "markdown",
      "metadata": {
        "id": "vYQWREhqNY7P"
      },
      "source": [
        "By selecting 20000 as the cut off point, out of 141216 creditcard transaction data, 213 (0.15%) of the data is labeled to be outliers."
      ]
    },
    {
      "cell_type": "code",
      "metadata": {
        "id": "6z7uP2hjWqvx",
        "outputId": "cf2fe7c0-2ff7-4e31-a302-a4a70550f1cb",
        "colab": {
          "base_uri": "https://localhost:8080/"
        }
      },
      "source": [
        "explained_variance = pca.explained_variance_ratio_\n",
        "explained_variance"
      ],
      "execution_count": 34,
      "outputs": [
        {
          "output_type": "execute_result",
          "data": {
            "text/plain": [
              "array([0.43945093, 0.2408685 , 0.11505971, 0.10592424, 0.05792456,\n",
              "       0.02769317, 0.01191797, 0.00116092])"
            ]
          },
          "metadata": {
            "tags": []
          },
          "execution_count": 34
        }
      ]
    },
    {
      "cell_type": "markdown",
      "metadata": {
        "id": "ohcwnfPscciq"
      },
      "source": [
        "The first four PCs explain more than 90% variance. \n",
        "The first five PCs explain more than 95% variance.\n",
        "The next step is to take a look at these two results"
      ]
    },
    {
      "cell_type": "markdown",
      "metadata": {
        "id": "DPLIJ9suCiWe"
      },
      "source": [
        "### PCA model 2: Only keep the first four PCs (>90% variance)"
      ]
    },
    {
      "cell_type": "code",
      "metadata": {
        "id": "kWByhgsRBsPi",
        "outputId": "c81fabe8-4c98-4452-aa4f-55015f34da9f",
        "colab": {
          "base_uri": "https://localhost:8080/"
        }
      },
      "source": [
        "pca2 = PCA(n_components=4)\n",
        "pca2.fit(X_train)"
      ],
      "execution_count": 58,
      "outputs": [
        {
          "output_type": "execute_result",
          "data": {
            "text/plain": [
              "PCA(contamination=0.1, copy=True, iterated_power='auto', n_components=4,\n",
              "  n_selected_components=None, random_state=None, standardization=True,\n",
              "  svd_solver='auto', tol=0.0, weighted=True, whiten=False)"
            ]
          },
          "metadata": {
            "tags": []
          },
          "execution_count": 58
        }
      ]
    },
    {
      "cell_type": "code",
      "metadata": {
        "id": "R_3gccCNB6Op",
        "outputId": "3ca2b900-7138-45a0-f2fc-84bd4ea2d35d",
        "colab": {
          "base_uri": "https://localhost:8080/"
        }
      },
      "source": [
        "explained_variance2 = pca2.explained_variance_ratio_\n",
        "explained_variance2"
      ],
      "execution_count": 59,
      "outputs": [
        {
          "output_type": "execute_result",
          "data": {
            "text/plain": [
              "array([0.43945093, 0.2408685 , 0.11505971, 0.10592424])"
            ]
          },
          "metadata": {
            "tags": []
          },
          "execution_count": 59
        }
      ]
    },
    {
      "cell_type": "code",
      "metadata": {
        "id": "3YsEyUrNDFJ1"
      },
      "source": [
        "y_test_scores_pca2 = pca2.decision_function(X_test1)\n",
        "y_test_scores_pca2 = pd.Series(y_test_scores_pca2)"
      ],
      "execution_count": 68,
      "outputs": []
    },
    {
      "cell_type": "code",
      "metadata": {
        "id": "7nKeHyPxDnOO",
        "outputId": "efa774c8-690d-4526-efaa-460594761e5a",
        "colab": {
          "base_uri": "https://localhost:8080/",
          "height": 281
        }
      },
      "source": [
        "plt.hist(y_test_scores_pca2, bins=40,range=(0,1000))  # arguments are passed to np.histogram\n",
        "plt.title(\"Histogram with 40 bins\")\n",
        "axes = plt.gca()\n",
        "axes.set_ylim([0,10000])\n",
        "plt.show()"
      ],
      "execution_count": 71,
      "outputs": [
        {
          "output_type": "display_data",
          "data": {
            "image/png": "[encoded data removed]",
            "text/plain": [
              "<Figure size 432x288 with 1 Axes>"
            ]
          },
          "metadata": {
            "tags": [],
            "needs_background": "light"
          }
        }
      ]
    },
    {
      "cell_type": "code",
      "metadata": {
        "id": "LItJ3V5VDzyn"
      },
      "source": [
        "df_test_pca2 = X_test1.copy()\n",
        "df_test_pca2['score'] = y_test_scores_pca2"
      ],
      "execution_count": 72,
      "outputs": []
    },
    {
      "cell_type": "code",
      "metadata": {
        "id": "llZCvuU-D854",
        "outputId": "18d829cf-7982-4bb4-e5b2-fa75c6a38ad9",
        "colab": {
          "base_uri": "https://localhost:8080/"
        }
      },
      "source": [
        "df_test_pca2['cluster'] = np.where(df_test_pca2['score']<300, 0, 1)\n",
        "df_test_pca2['cluster'].value_counts()"
      ],
      "execution_count": 73,
      "outputs": [
        {
          "output_type": "execute_result",
          "data": {
            "text/plain": [
              "0    140618\n",
              "1       598\n",
              "Name: cluster, dtype: int64"
            ]
          },
          "metadata": {
            "tags": []
          },
          "execution_count": 73
        }
      ]
    },
    {
      "cell_type": "code",
      "metadata": {
        "id": "wHi0Pu2JEQQH",
        "outputId": "2a4caab9-1af1-4218-86ce-004ca163f56b",
        "colab": {
          "base_uri": "https://localhost:8080/",
          "height": 142
        }
      },
      "source": [
        "df_test_pca2.groupby('cluster').mean()"
      ],
      "execution_count": 75,
      "outputs": [
        {
          "output_type": "execute_result",
          "data": {
            "text/html": [
              "<div>\n",
              "<style scoped>\n",
              "    .dataframe tbody tr th:only-of-type {\n",
              "        vertical-align: middle;\n",
              "    }\n",
              "\n",
              "    .dataframe tbody tr th {\n",
              "        vertical-align: top;\n",
              "    }\n",
              "\n",
              "    .dataframe thead th {\n",
              "        text-align: right;\n",
              "    }\n",
              "</style>\n",
              "<table border=\"1\" class=\"dataframe\">\n",
              "  <thead>\n",
              "    <tr style=\"text-align: right;\">\n",
              "      <th></th>\n",
              "      <th>0</th>\n",
              "      <th>1</th>\n",
              "      <th>2</th>\n",
              "      <th>3</th>\n",
              "      <th>4</th>\n",
              "      <th>5</th>\n",
              "      <th>6</th>\n",
              "      <th>7</th>\n",
              "      <th>score</th>\n",
              "    </tr>\n",
              "    <tr>\n",
              "      <th>cluster</th>\n",
              "      <th></th>\n",
              "      <th></th>\n",
              "      <th></th>\n",
              "      <th></th>\n",
              "      <th></th>\n",
              "      <th></th>\n",
              "      <th></th>\n",
              "      <th></th>\n",
              "      <th></th>\n",
              "    </tr>\n",
              "  </thead>\n",
              "  <tbody>\n",
              "    <tr>\n",
              "      <th>0</th>\n",
              "      <td>-0.015322</td>\n",
              "      <td>-0.032840</td>\n",
              "      <td>-0.030078</td>\n",
              "      <td>-0.006146</td>\n",
              "      <td>-0.025696</td>\n",
              "      <td>-0.013422</td>\n",
              "      <td>-0.034456</td>\n",
              "      <td>-0.008532</td>\n",
              "      <td>43.084384</td>\n",
              "    </tr>\n",
              "    <tr>\n",
              "      <th>1</th>\n",
              "      <td>4.179275</td>\n",
              "      <td>7.966288</td>\n",
              "      <td>6.887247</td>\n",
              "      <td>0.903942</td>\n",
              "      <td>5.987738</td>\n",
              "      <td>3.473666</td>\n",
              "      <td>7.603173</td>\n",
              "      <td>2.302208</td>\n",
              "      <td>550.600372</td>\n",
              "    </tr>\n",
              "  </tbody>\n",
              "</table>\n",
              "</div>"
            ],
            "text/plain": [
              "                0         1         2  ...         6         7       score\n",
              "cluster                                ...                                \n",
              "0       -0.015322 -0.032840 -0.030078  ... -0.034456 -0.008532   43.084384\n",
              "1        4.179275  7.966288  6.887247  ...  7.603173  2.302208  550.600372\n",
              "\n",
              "[2 rows x 9 columns]"
            ]
          },
          "metadata": {
            "tags": []
          },
          "execution_count": 75
        }
      ]
    },
    {
      "cell_type": "markdown",
      "metadata": {
        "id": "DH-BQQVtNki-"
      },
      "source": [
        "By selecting 300 as the cut off point, out of 141216 creditcard transaction data, 598 (0.42%) of the data is labeled to be outliers."
      ]
    },
    {
      "cell_type": "markdown",
      "metadata": {
        "id": "9n7UAGUoETIJ"
      },
      "source": [
        "### PCA model 3: Only keep the first five PCs (>95% variance)"
      ]
    },
    {
      "cell_type": "code",
      "metadata": {
        "id": "PrA0pLxoEj1B",
        "outputId": "094263ad-d88d-4e4a-af53-d77a76cadff7",
        "colab": {
          "base_uri": "https://localhost:8080/"
        }
      },
      "source": [
        "pca3 = PCA(n_components=5)\n",
        "pca3.fit(X_train)"
      ],
      "execution_count": 76,
      "outputs": [
        {
          "output_type": "execute_result",
          "data": {
            "text/plain": [
              "PCA(contamination=0.1, copy=True, iterated_power='auto', n_components=5,\n",
              "  n_selected_components=None, random_state=None, standardization=True,\n",
              "  svd_solver='auto', tol=0.0, weighted=True, whiten=False)"
            ]
          },
          "metadata": {
            "tags": []
          },
          "execution_count": 76
        }
      ]
    },
    {
      "cell_type": "code",
      "metadata": {
        "id": "hIJC42CiEpyV",
        "outputId": "1fad8cdb-8f9b-47c6-8a17-3b4e2e52e828",
        "colab": {
          "base_uri": "https://localhost:8080/"
        }
      },
      "source": [
        "explained_variance3 = pca3.explained_variance_ratio_\n",
        "explained_variance3"
      ],
      "execution_count": 77,
      "outputs": [
        {
          "output_type": "execute_result",
          "data": {
            "text/plain": [
              "array([0.43945093, 0.2408685 , 0.11505971, 0.10592424, 0.05792456])"
            ]
          },
          "metadata": {
            "tags": []
          },
          "execution_count": 77
        }
      ]
    },
    {
      "cell_type": "code",
      "metadata": {
        "id": "LFoH4si9EyVa"
      },
      "source": [
        "y_test_scores_pca3 = pca3.decision_function(X_test1)\n",
        "y_test_scores_pca3 = pd.Series(y_test_scores_pca3)"
      ],
      "execution_count": 78,
      "outputs": []
    },
    {
      "cell_type": "code",
      "metadata": {
        "id": "NRYXR7VPE4PX",
        "outputId": "1d27e918-2e15-4c63-b1c8-9296f1e5c254",
        "colab": {
          "base_uri": "https://localhost:8080/",
          "height": 281
        }
      },
      "source": [
        "plt.hist(y_test_scores_pca3, bins=25,range=(0,1000))  # arguments are passed to np.histogram\n",
        "plt.title(\"Histogram with 40 bins\")\n",
        "axes = plt.gca()\n",
        "axes.set_ylim([0,2000])\n",
        "plt.show()"
      ],
      "execution_count": 88,
      "outputs": [
        {
          "output_type": "display_data",
          "data": {
            "image/png": "[encoded data removed]",
            "text/plain": [
              "<Figure size 432x288 with 1 Axes>"
            ]
          },
          "metadata": {
            "tags": [],
            "needs_background": "light"
          }
        }
      ]
    },
    {
      "cell_type": "code",
      "metadata": {
        "id": "Qthjddx9E8SQ"
      },
      "source": [
        "df_test_pca3 = X_test1.copy()\n",
        "df_test_pca3['score'] = y_test_scores_pca3"
      ],
      "execution_count": 89,
      "outputs": []
    },
    {
      "cell_type": "code",
      "metadata": {
        "id": "-RmcE0n8FSfF",
        "outputId": "e51157c2-810a-4d7d-8e37-5fad6896a074",
        "colab": {
          "base_uri": "https://localhost:8080/"
        }
      },
      "source": [
        "df_test_pca3['cluster'] = np.where(df_test_pca3['score']<600, 0, 1)\n",
        "df_test_pca3['cluster'].value_counts()"
      ],
      "execution_count": 99,
      "outputs": [
        {
          "output_type": "execute_result",
          "data": {
            "text/plain": [
              "0    140794\n",
              "1       422\n",
              "Name: cluster, dtype: int64"
            ]
          },
          "metadata": {
            "tags": []
          },
          "execution_count": 99
        }
      ]
    },
    {
      "cell_type": "code",
      "metadata": {
        "id": "TaNK9BLXFXka",
        "outputId": "a4448155-d4e0-4990-d816-237f104b464c",
        "colab": {
          "base_uri": "https://localhost:8080/",
          "height": 142
        }
      },
      "source": [
        "df_test_pca3.groupby('cluster').mean()"
      ],
      "execution_count": 91,
      "outputs": [
        {
          "output_type": "execute_result",
          "data": {
            "text/html": [
              "<div>\n",
              "<style scoped>\n",
              "    .dataframe tbody tr th:only-of-type {\n",
              "        vertical-align: middle;\n",
              "    }\n",
              "\n",
              "    .dataframe tbody tr th {\n",
              "        vertical-align: top;\n",
              "    }\n",
              "\n",
              "    .dataframe thead th {\n",
              "        text-align: right;\n",
              "    }\n",
              "</style>\n",
              "<table border=\"1\" class=\"dataframe\">\n",
              "  <thead>\n",
              "    <tr style=\"text-align: right;\">\n",
              "      <th></th>\n",
              "      <th>0</th>\n",
              "      <th>1</th>\n",
              "      <th>2</th>\n",
              "      <th>3</th>\n",
              "      <th>4</th>\n",
              "      <th>5</th>\n",
              "      <th>6</th>\n",
              "      <th>7</th>\n",
              "      <th>score</th>\n",
              "    </tr>\n",
              "    <tr>\n",
              "      <th>cluster</th>\n",
              "      <th></th>\n",
              "      <th></th>\n",
              "      <th></th>\n",
              "      <th></th>\n",
              "      <th></th>\n",
              "      <th></th>\n",
              "      <th></th>\n",
              "      <th></th>\n",
              "      <th></th>\n",
              "    </tr>\n",
              "  </thead>\n",
              "  <tbody>\n",
              "    <tr>\n",
              "      <th>0</th>\n",
              "      <td>-0.013805</td>\n",
              "      <td>-0.027517</td>\n",
              "      <td>-0.025079</td>\n",
              "      <td>-0.005043</td>\n",
              "      <td>-0.019376</td>\n",
              "      <td>-0.011847</td>\n",
              "      <td>-0.026951</td>\n",
              "      <td>-0.007831</td>\n",
              "      <td>75.028351</td>\n",
              "    </tr>\n",
              "    <tr>\n",
              "      <th>1</th>\n",
              "      <td>5.422556</td>\n",
              "      <td>9.526543</td>\n",
              "      <td>8.104235</td>\n",
              "      <td>0.915218</td>\n",
              "      <td>6.387275</td>\n",
              "      <td>4.402471</td>\n",
              "      <td>8.284546</td>\n",
              "      <td>3.032020</td>\n",
              "      <td>1098.420905</td>\n",
              "    </tr>\n",
              "  </tbody>\n",
              "</table>\n",
              "</div>"
            ],
            "text/plain": [
              "                0         1         2  ...         6         7        score\n",
              "cluster                                ...                                 \n",
              "0       -0.013805 -0.027517 -0.025079  ... -0.026951 -0.007831    75.028351\n",
              "1        5.422556  9.526543  8.104235  ...  8.284546  3.032020  1098.420905\n",
              "\n",
              "[2 rows x 9 columns]"
            ]
          },
          "metadata": {
            "tags": []
          },
          "execution_count": 91
        }
      ]
    },
    {
      "cell_type": "markdown",
      "metadata": {
        "id": "5TXt4cOTNwLB"
      },
      "source": [
        "By selecting 600 as the cut off point, out of 141216 creditcard transaction data, 422 (0.3%) of the data is labeled to be outliers."
      ]
    },
    {
      "cell_type": "markdown",
      "metadata": {
        "id": "oAueUNIHMzQL"
      },
      "source": [
        "### PCA Conclusion\n",
        "\n",
        "The general statistis of knn result is:\n",
        "\n",
        "*   Outlier group contains less than 0.5% of overall test transaction data\n",
        "*   In PCA model 1, when not changing the default parameters, the anomaly scores are very high. In model 2 and 3, when selecting the top 4 or 5 PCs, the anomaly score droped. \n",
        "*   For all these models, the summary statistics show that cluster 1 (outlier group) has all positive values for these standardized values.\n",
        "*   For all methods, in the outlier cluster, the largest mean value is column index 1, which is the ratio of each transaction comparing to the average spending on each merchant for each agent. This means that anomalous transactions tend to have a large number for this ratio. \n",
        "*   For all methods, in the outlier cluster, the smallest mean value is column index 3, which is the ratio of each transaction comparing to the monthly maximum spending at each vendor for each agent. This indicates that this feature may not be a strong indicator of anomalies."
      ]
    },
    {
      "cell_type": "markdown",
      "metadata": {
        "id": "lmdN9AUtPHrK"
      },
      "source": [
        "## KNN & PCA Comparison \n",
        "*   The results of KNN and PCA are interesting, as both models indicate that anomaly group's column index 1 (ratio of each transaction comparing to the average spending on each merchant for each agent) has the largest value and column index 3 (the ratio of each transaction comparing to the monthly maximum spending at each vendor for each agent) has the smallest value.\n",
        "*   If only choose one method of out these two, PCA is preferred because its anomaly score is higher.\n",
        "\n"
      ]
    }
  ]
}