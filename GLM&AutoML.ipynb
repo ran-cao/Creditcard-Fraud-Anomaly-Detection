{
  "nbformat": 4,
  "nbformat_minor": 0,
  "metadata": {
    "colab": {
      "name": "GLM&AutoML.ipynb",
      "provenance": [],
      "collapsed_sections": [
        "7nT545EpOgA_"
      ],
      "authorship_tag": "ABX9TyNjkROzy9mIpmBj+X0PXk8W",
      "include_colab_link": true
    },
    "kernelspec": {
      "name": "python3",
      "display_name": "Python 3"
    }
  },
  "cells": [
    {
      "cell_type": "markdown",
      "metadata": {
        "id": "view-in-github",
        "colab_type": "text"
      },
      "source": [
        "<a href=\"https://colab.research.google.com/github/ran-cao/Creditcard-Fraud-Anomaly-Detection/blob/master/GLM%26AutoML.ipynb\" target=\"_parent\"><img src=\"https://colab.research.google.com/assets/colab-badge.svg\" alt=\"Open In Colab\"/></a>"
      ]
    },
    {
      "cell_type": "code",
      "metadata": {
        "id": "s7JPKvA28koX"
      },
      "source": [
        "import pandas as pd\n",
        "import numpy as np\n",
        "from sklearn.manifold import TSNE"
      ],
      "execution_count": null,
      "outputs": []
    },
    {
      "cell_type": "code",
      "metadata": {
        "id": "0M_VYHph8WeF",
        "colab": {
          "base_uri": "https://localhost:8080/"
        },
        "outputId": "cce40eb4-c30a-4117-c26f-9dfd0ce76bf1"
      },
      "source": [
        "from google.colab import drive\n",
        "drive.mount('/content/gdrive', force_remount= True)"
      ],
      "execution_count": null,
      "outputs": [
        {
          "output_type": "stream",
          "text": [
            "Mounted at /content/gdrive\n"
          ],
          "name": "stdout"
        }
      ]
    },
    {
      "cell_type": "code",
      "metadata": {
        "id": "ZkqWMhv88a8m"
      },
      "source": [
        "loan_data = pd.read_csv('/content/gdrive/My Drive/anomaly detection/XYZloan_default_selected_vars.csv')"
      ],
      "execution_count": null,
      "outputs": []
    },
    {
      "cell_type": "code",
      "metadata": {
        "id": "Fk2MiNuh8nft",
        "colab": {
          "base_uri": "https://localhost:8080/",
          "height": 355
        },
        "outputId": "fe590901-b13e-4b99-a8b9-7304fb581873"
      },
      "source": [
        "loan_data.head(5)"
      ],
      "execution_count": null,
      "outputs": [
        {
          "output_type": "execute_result",
          "data": {
            "text/html": [
              "<div>\n",
              "<style scoped>\n",
              "    .dataframe tbody tr th:only-of-type {\n",
              "        vertical-align: middle;\n",
              "    }\n",
              "\n",
              "    .dataframe tbody tr th {\n",
              "        vertical-align: top;\n",
              "    }\n",
              "\n",
              "    .dataframe thead th {\n",
              "        text-align: right;\n",
              "    }\n",
              "</style>\n",
              "<table border=\"1\" class=\"dataframe\">\n",
              "  <thead>\n",
              "    <tr style=\"text-align: right;\">\n",
              "      <th></th>\n",
              "      <th>Unnamed: 0</th>\n",
              "      <th>Unnamed: 0.1</th>\n",
              "      <th>id</th>\n",
              "      <th>loan_default</th>\n",
              "      <th>AP001</th>\n",
              "      <th>AP002</th>\n",
              "      <th>AP003</th>\n",
              "      <th>AP004</th>\n",
              "      <th>AP005</th>\n",
              "      <th>AP006</th>\n",
              "      <th>AP007</th>\n",
              "      <th>AP008</th>\n",
              "      <th>AP009</th>\n",
              "      <th>TD001</th>\n",
              "      <th>TD002</th>\n",
              "      <th>TD005</th>\n",
              "      <th>TD006</th>\n",
              "      <th>TD009</th>\n",
              "      <th>TD010</th>\n",
              "      <th>TD013</th>\n",
              "      <th>TD014</th>\n",
              "      <th>TD015</th>\n",
              "      <th>TD022</th>\n",
              "      <th>TD023</th>\n",
              "      <th>TD024</th>\n",
              "      <th>TD025</th>\n",
              "      <th>TD026</th>\n",
              "      <th>TD027</th>\n",
              "      <th>TD028</th>\n",
              "      <th>TD029</th>\n",
              "      <th>TD044</th>\n",
              "      <th>TD048</th>\n",
              "      <th>TD051</th>\n",
              "      <th>TD054</th>\n",
              "      <th>TD055</th>\n",
              "      <th>TD061</th>\n",
              "      <th>TD062</th>\n",
              "      <th>CR004</th>\n",
              "      <th>CR005</th>\n",
              "      <th>CR009</th>\n",
              "      <th>...</th>\n",
              "      <th>PA030</th>\n",
              "      <th>PA031</th>\n",
              "      <th>CD008</th>\n",
              "      <th>CD018</th>\n",
              "      <th>CD071</th>\n",
              "      <th>CD072</th>\n",
              "      <th>CD088</th>\n",
              "      <th>CD100</th>\n",
              "      <th>CD101</th>\n",
              "      <th>CD106</th>\n",
              "      <th>CD107</th>\n",
              "      <th>CD108</th>\n",
              "      <th>CD113</th>\n",
              "      <th>CD114</th>\n",
              "      <th>CD115</th>\n",
              "      <th>CD117</th>\n",
              "      <th>CD118</th>\n",
              "      <th>CD120</th>\n",
              "      <th>CD121</th>\n",
              "      <th>CD123</th>\n",
              "      <th>CD130</th>\n",
              "      <th>CD131</th>\n",
              "      <th>CD132</th>\n",
              "      <th>CD133</th>\n",
              "      <th>CD135</th>\n",
              "      <th>CD136</th>\n",
              "      <th>CD137</th>\n",
              "      <th>CD152</th>\n",
              "      <th>CD153</th>\n",
              "      <th>CD160</th>\n",
              "      <th>CD162</th>\n",
              "      <th>CD164</th>\n",
              "      <th>CD166</th>\n",
              "      <th>CD167</th>\n",
              "      <th>CD169</th>\n",
              "      <th>CD170</th>\n",
              "      <th>CD172</th>\n",
              "      <th>CD173</th>\n",
              "      <th>MB005</th>\n",
              "      <th>MB007</th>\n",
              "    </tr>\n",
              "  </thead>\n",
              "  <tbody>\n",
              "    <tr>\n",
              "      <th>0</th>\n",
              "      <td>0</td>\n",
              "      <td>1</td>\n",
              "      <td>1</td>\n",
              "      <td>1</td>\n",
              "      <td>31</td>\n",
              "      <td>2</td>\n",
              "      <td>1</td>\n",
              "      <td>12</td>\n",
              "      <td>2017/7/6 10:21</td>\n",
              "      <td>ios</td>\n",
              "      <td>3</td>\n",
              "      <td>3</td>\n",
              "      <td>1</td>\n",
              "      <td>1</td>\n",
              "      <td>1</td>\n",
              "      <td>4</td>\n",
              "      <td>1</td>\n",
              "      <td>5</td>\n",
              "      <td>1</td>\n",
              "      <td>14</td>\n",
              "      <td>2</td>\n",
              "      <td>2</td>\n",
              "      <td>10.0</td>\n",
              "      <td>9.0</td>\n",
              "      <td>6.0</td>\n",
              "      <td>0.0</td>\n",
              "      <td>0.0</td>\n",
              "      <td>0.0</td>\n",
              "      <td>0.0</td>\n",
              "      <td>6.0</td>\n",
              "      <td>NaN</td>\n",
              "      <td>NaN</td>\n",
              "      <td>NaN</td>\n",
              "      <td>NaN</td>\n",
              "      <td>NaN</td>\n",
              "      <td>NaN</td>\n",
              "      <td>NaN</td>\n",
              "      <td>2</td>\n",
              "      <td>1</td>\n",
              "      <td>35807</td>\n",
              "      <td>...</td>\n",
              "      <td>-98.0</td>\n",
              "      <td>-98.0</td>\n",
              "      <td>13840.0</td>\n",
              "      <td>172.0</td>\n",
              "      <td>0.0</td>\n",
              "      <td>0.0</td>\n",
              "      <td>0.0</td>\n",
              "      <td>0.0</td>\n",
              "      <td>0.0</td>\n",
              "      <td>1.0</td>\n",
              "      <td>0.0</td>\n",
              "      <td>1.0</td>\n",
              "      <td>0.0</td>\n",
              "      <td>1.0</td>\n",
              "      <td>57.0</td>\n",
              "      <td>48.0</td>\n",
              "      <td>95.0</td>\n",
              "      <td>79.0</td>\n",
              "      <td>125.0</td>\n",
              "      <td>103.0</td>\n",
              "      <td>43.0</td>\n",
              "      <td>55.0</td>\n",
              "      <td>56.0</td>\n",
              "      <td>52.0</td>\n",
              "      <td>65.0</td>\n",
              "      <td>91.0</td>\n",
              "      <td>96.0</td>\n",
              "      <td>10900.0</td>\n",
              "      <td>12757.0</td>\n",
              "      <td>8.0</td>\n",
              "      <td>13.0</td>\n",
              "      <td>13.0</td>\n",
              "      <td>0.0</td>\n",
              "      <td>0.0</td>\n",
              "      <td>1449.0</td>\n",
              "      <td>1449.0</td>\n",
              "      <td>2249.0</td>\n",
              "      <td>2249.0</td>\n",
              "      <td>7.0</td>\n",
              "      <td>IPHONE7</td>\n",
              "    </tr>\n",
              "    <tr>\n",
              "      <th>1</th>\n",
              "      <td>1</td>\n",
              "      <td>2</td>\n",
              "      <td>2</td>\n",
              "      <td>0</td>\n",
              "      <td>27</td>\n",
              "      <td>1</td>\n",
              "      <td>1</td>\n",
              "      <td>12</td>\n",
              "      <td>2017/4/6 12:51</td>\n",
              "      <td>h5</td>\n",
              "      <td>5</td>\n",
              "      <td>4</td>\n",
              "      <td>0</td>\n",
              "      <td>2</td>\n",
              "      <td>0</td>\n",
              "      <td>3</td>\n",
              "      <td>1</td>\n",
              "      <td>3</td>\n",
              "      <td>1</td>\n",
              "      <td>3</td>\n",
              "      <td>2</td>\n",
              "      <td>0</td>\n",
              "      <td>15.0</td>\n",
              "      <td>6.0</td>\n",
              "      <td>0.0</td>\n",
              "      <td>0.0</td>\n",
              "      <td>0.0</td>\n",
              "      <td>0.0</td>\n",
              "      <td>0.0</td>\n",
              "      <td>6.0</td>\n",
              "      <td>NaN</td>\n",
              "      <td>NaN</td>\n",
              "      <td>NaN</td>\n",
              "      <td>NaN</td>\n",
              "      <td>NaN</td>\n",
              "      <td>NaN</td>\n",
              "      <td>NaN</td>\n",
              "      <td>3</td>\n",
              "      <td>1</td>\n",
              "      <td>7254</td>\n",
              "      <td>...</td>\n",
              "      <td>-98.0</td>\n",
              "      <td>-98.0</td>\n",
              "      <td>-99.0</td>\n",
              "      <td>-99.0</td>\n",
              "      <td>-99.0</td>\n",
              "      <td>-99.0</td>\n",
              "      <td>-99.0</td>\n",
              "      <td>-99.0</td>\n",
              "      <td>-99.0</td>\n",
              "      <td>-99.0</td>\n",
              "      <td>-99.0</td>\n",
              "      <td>-99.0</td>\n",
              "      <td>-99.0</td>\n",
              "      <td>-99.0</td>\n",
              "      <td>-99.0</td>\n",
              "      <td>-99.0</td>\n",
              "      <td>-99.0</td>\n",
              "      <td>-99.0</td>\n",
              "      <td>-99.0</td>\n",
              "      <td>-99.0</td>\n",
              "      <td>-99.0</td>\n",
              "      <td>-99.0</td>\n",
              "      <td>-99.0</td>\n",
              "      <td>-99.0</td>\n",
              "      <td>-99.0</td>\n",
              "      <td>-99.0</td>\n",
              "      <td>-99.0</td>\n",
              "      <td>-99.0</td>\n",
              "      <td>-99.0</td>\n",
              "      <td>-99.0</td>\n",
              "      <td>-99.0</td>\n",
              "      <td>-99.0</td>\n",
              "      <td>-99.0</td>\n",
              "      <td>-99.0</td>\n",
              "      <td>-99.0</td>\n",
              "      <td>-99.0</td>\n",
              "      <td>-99.0</td>\n",
              "      <td>-99.0</td>\n",
              "      <td>NaN</td>\n",
              "      <td>WEB</td>\n",
              "    </tr>\n",
              "    <tr>\n",
              "      <th>2</th>\n",
              "      <td>2</td>\n",
              "      <td>3</td>\n",
              "      <td>3</td>\n",
              "      <td>0</td>\n",
              "      <td>33</td>\n",
              "      <td>1</td>\n",
              "      <td>4</td>\n",
              "      <td>12</td>\n",
              "      <td>2017/7/1 14:11</td>\n",
              "      <td>h5</td>\n",
              "      <td>4</td>\n",
              "      <td>2</td>\n",
              "      <td>0</td>\n",
              "      <td>2</td>\n",
              "      <td>1</td>\n",
              "      <td>4</td>\n",
              "      <td>1</td>\n",
              "      <td>5</td>\n",
              "      <td>1</td>\n",
              "      <td>9</td>\n",
              "      <td>1</td>\n",
              "      <td>2</td>\n",
              "      <td>15.0</td>\n",
              "      <td>9.0</td>\n",
              "      <td>2.0</td>\n",
              "      <td>0.0</td>\n",
              "      <td>0.0</td>\n",
              "      <td>0.0</td>\n",
              "      <td>0.0</td>\n",
              "      <td>6.0</td>\n",
              "      <td>NaN</td>\n",
              "      <td>NaN</td>\n",
              "      <td>NaN</td>\n",
              "      <td>NaN</td>\n",
              "      <td>NaN</td>\n",
              "      <td>NaN</td>\n",
              "      <td>NaN</td>\n",
              "      <td>2</td>\n",
              "      <td>2</td>\n",
              "      <td>30377</td>\n",
              "      <td>...</td>\n",
              "      <td>-98.0</td>\n",
              "      <td>-98.0</td>\n",
              "      <td>2454.0</td>\n",
              "      <td>13.0</td>\n",
              "      <td>0.0</td>\n",
              "      <td>0.0</td>\n",
              "      <td>0.0</td>\n",
              "      <td>0.0</td>\n",
              "      <td>0.0</td>\n",
              "      <td>0.0</td>\n",
              "      <td>0.0</td>\n",
              "      <td>0.0</td>\n",
              "      <td>0.0</td>\n",
              "      <td>0.0</td>\n",
              "      <td>13.0</td>\n",
              "      <td>13.0</td>\n",
              "      <td>20.0</td>\n",
              "      <td>20.0</td>\n",
              "      <td>23.0</td>\n",
              "      <td>21.0</td>\n",
              "      <td>11.0</td>\n",
              "      <td>9.0</td>\n",
              "      <td>10.0</td>\n",
              "      <td>12.0</td>\n",
              "      <td>13.0</td>\n",
              "      <td>9.0</td>\n",
              "      <td>11.0</td>\n",
              "      <td>3807.0</td>\n",
              "      <td>2314.0</td>\n",
              "      <td>0.0</td>\n",
              "      <td>3.0</td>\n",
              "      <td>2.0</td>\n",
              "      <td>33.0</td>\n",
              "      <td>0.0</td>\n",
              "      <td>33.0</td>\n",
              "      <td>0.0</td>\n",
              "      <td>143.0</td>\n",
              "      <td>110.0</td>\n",
              "      <td>8.0</td>\n",
              "      <td>WEB</td>\n",
              "    </tr>\n",
              "    <tr>\n",
              "      <th>3</th>\n",
              "      <td>3</td>\n",
              "      <td>4</td>\n",
              "      <td>4</td>\n",
              "      <td>0</td>\n",
              "      <td>34</td>\n",
              "      <td>2</td>\n",
              "      <td>4</td>\n",
              "      <td>12</td>\n",
              "      <td>2017/7/7 10:10</td>\n",
              "      <td>android</td>\n",
              "      <td>5</td>\n",
              "      <td>5</td>\n",
              "      <td>0</td>\n",
              "      <td>0</td>\n",
              "      <td>0</td>\n",
              "      <td>0</td>\n",
              "      <td>0</td>\n",
              "      <td>0</td>\n",
              "      <td>0</td>\n",
              "      <td>1</td>\n",
              "      <td>1</td>\n",
              "      <td>0</td>\n",
              "      <td>NaN</td>\n",
              "      <td>NaN</td>\n",
              "      <td>NaN</td>\n",
              "      <td>0.0</td>\n",
              "      <td>0.0</td>\n",
              "      <td>0.0</td>\n",
              "      <td>0.0</td>\n",
              "      <td>6.0</td>\n",
              "      <td>NaN</td>\n",
              "      <td>NaN</td>\n",
              "      <td>NaN</td>\n",
              "      <td>NaN</td>\n",
              "      <td>NaN</td>\n",
              "      <td>NaN</td>\n",
              "      <td>NaN</td>\n",
              "      <td>2</td>\n",
              "      <td>1</td>\n",
              "      <td>0</td>\n",
              "      <td>...</td>\n",
              "      <td>-98.0</td>\n",
              "      <td>-98.0</td>\n",
              "      <td>0.0</td>\n",
              "      <td>0.0</td>\n",
              "      <td>0.0</td>\n",
              "      <td>0.0</td>\n",
              "      <td>0.0</td>\n",
              "      <td>0.0</td>\n",
              "      <td>0.0</td>\n",
              "      <td>0.0</td>\n",
              "      <td>0.0</td>\n",
              "      <td>0.0</td>\n",
              "      <td>0.0</td>\n",
              "      <td>0.0</td>\n",
              "      <td>0.0</td>\n",
              "      <td>0.0</td>\n",
              "      <td>0.0</td>\n",
              "      <td>0.0</td>\n",
              "      <td>0.0</td>\n",
              "      <td>0.0</td>\n",
              "      <td>0.0</td>\n",
              "      <td>0.0</td>\n",
              "      <td>0.0</td>\n",
              "      <td>0.0</td>\n",
              "      <td>0.0</td>\n",
              "      <td>0.0</td>\n",
              "      <td>0.0</td>\n",
              "      <td>0.0</td>\n",
              "      <td>0.0</td>\n",
              "      <td>0.0</td>\n",
              "      <td>0.0</td>\n",
              "      <td>0.0</td>\n",
              "      <td>0.0</td>\n",
              "      <td>0.0</td>\n",
              "      <td>0.0</td>\n",
              "      <td>0.0</td>\n",
              "      <td>0.0</td>\n",
              "      <td>0.0</td>\n",
              "      <td>10.0</td>\n",
              "      <td>OPPO</td>\n",
              "    </tr>\n",
              "    <tr>\n",
              "      <th>4</th>\n",
              "      <td>4</td>\n",
              "      <td>5</td>\n",
              "      <td>5</td>\n",
              "      <td>0</td>\n",
              "      <td>47</td>\n",
              "      <td>2</td>\n",
              "      <td>1</td>\n",
              "      <td>12</td>\n",
              "      <td>2017/7/6 14:37</td>\n",
              "      <td>h5</td>\n",
              "      <td>4</td>\n",
              "      <td>4</td>\n",
              "      <td>1</td>\n",
              "      <td>2</td>\n",
              "      <td>0</td>\n",
              "      <td>2</td>\n",
              "      <td>1</td>\n",
              "      <td>2</td>\n",
              "      <td>1</td>\n",
              "      <td>2</td>\n",
              "      <td>1</td>\n",
              "      <td>0</td>\n",
              "      <td>10.0</td>\n",
              "      <td>3.0</td>\n",
              "      <td>0.0</td>\n",
              "      <td>0.0</td>\n",
              "      <td>0.0</td>\n",
              "      <td>0.0</td>\n",
              "      <td>0.0</td>\n",
              "      <td>6.0</td>\n",
              "      <td>NaN</td>\n",
              "      <td>NaN</td>\n",
              "      <td>NaN</td>\n",
              "      <td>NaN</td>\n",
              "      <td>NaN</td>\n",
              "      <td>NaN</td>\n",
              "      <td>NaN</td>\n",
              "      <td>4</td>\n",
              "      <td>2</td>\n",
              "      <td>0</td>\n",
              "      <td>...</td>\n",
              "      <td>-99.0</td>\n",
              "      <td>-99.0</td>\n",
              "      <td>-99.0</td>\n",
              "      <td>-99.0</td>\n",
              "      <td>-99.0</td>\n",
              "      <td>-99.0</td>\n",
              "      <td>-99.0</td>\n",
              "      <td>-99.0</td>\n",
              "      <td>-99.0</td>\n",
              "      <td>-99.0</td>\n",
              "      <td>-99.0</td>\n",
              "      <td>-99.0</td>\n",
              "      <td>-99.0</td>\n",
              "      <td>-99.0</td>\n",
              "      <td>-99.0</td>\n",
              "      <td>-99.0</td>\n",
              "      <td>-99.0</td>\n",
              "      <td>-99.0</td>\n",
              "      <td>-99.0</td>\n",
              "      <td>-99.0</td>\n",
              "      <td>-99.0</td>\n",
              "      <td>-99.0</td>\n",
              "      <td>-99.0</td>\n",
              "      <td>-99.0</td>\n",
              "      <td>-99.0</td>\n",
              "      <td>-99.0</td>\n",
              "      <td>-99.0</td>\n",
              "      <td>-99.0</td>\n",
              "      <td>-99.0</td>\n",
              "      <td>-99.0</td>\n",
              "      <td>-99.0</td>\n",
              "      <td>-99.0</td>\n",
              "      <td>-99.0</td>\n",
              "      <td>-99.0</td>\n",
              "      <td>-99.0</td>\n",
              "      <td>-99.0</td>\n",
              "      <td>-99.0</td>\n",
              "      <td>-99.0</td>\n",
              "      <td>NaN</td>\n",
              "      <td>WEB</td>\n",
              "    </tr>\n",
              "  </tbody>\n",
              "</table>\n",
              "<p>5 rows × 89 columns</p>\n",
              "</div>"
            ],
            "text/plain": [
              "   Unnamed: 0  Unnamed: 0.1  id  loan_default  ...   CD172   CD173  MB005    MB007\n",
              "0           0             1   1             1  ...  2249.0  2249.0    7.0  IPHONE7\n",
              "1           1             2   2             0  ...   -99.0   -99.0    NaN      WEB\n",
              "2           2             3   3             0  ...   143.0   110.0    8.0      WEB\n",
              "3           3             4   4             0  ...     0.0     0.0   10.0     OPPO\n",
              "4           4             5   5             0  ...   -99.0   -99.0    NaN      WEB\n",
              "\n",
              "[5 rows x 89 columns]"
            ]
          },
          "metadata": {
            "tags": []
          },
          "execution_count": 5
        }
      ]
    },
    {
      "cell_type": "markdown",
      "metadata": {
        "id": "VhPmm8I_OUPD"
      },
      "source": [
        "# Data Preparation"
      ]
    },
    {
      "cell_type": "markdown",
      "metadata": {
        "id": "7nT545EpOgA_"
      },
      "source": [
        "## Part1: Use the raw dataset"
      ]
    },
    {
      "cell_type": "code",
      "metadata": {
        "id": "gkNYk3NKBXXe"
      },
      "source": [
        "from sklearn.model_selection import train_test_split\n",
        "train, test = train_test_split(\n",
        "     loan_data, test_size=0.40, random_state=42)"
      ],
      "execution_count": null,
      "outputs": []
    },
    {
      "cell_type": "code",
      "metadata": {
        "id": "IFh5SjuHBldJ",
        "colab": {
          "base_uri": "https://localhost:8080/"
        },
        "outputId": "a65a0bc6-a762-472d-9a80-c1545bfc3448"
      },
      "source": [
        "train.shape"
      ],
      "execution_count": null,
      "outputs": [
        {
          "output_type": "execute_result",
          "data": {
            "text/plain": [
              "(48000, 89)"
            ]
          },
          "metadata": {
            "tags": []
          },
          "execution_count": 12
        }
      ]
    },
    {
      "cell_type": "code",
      "metadata": {
        "id": "QlRW8uWLBpcR",
        "colab": {
          "base_uri": "https://localhost:8080/",
          "height": 204
        },
        "outputId": "59540a69-dbf8-4d97-aa20-a98bb88e58da"
      },
      "source": [
        "var = pd.DataFrame(train.dtypes).reset_index()\n",
        "var.head()"
      ],
      "execution_count": null,
      "outputs": [
        {
          "output_type": "execute_result",
          "data": {
            "text/html": [
              "<div>\n",
              "<style scoped>\n",
              "    .dataframe tbody tr th:only-of-type {\n",
              "        vertical-align: middle;\n",
              "    }\n",
              "\n",
              "    .dataframe tbody tr th {\n",
              "        vertical-align: top;\n",
              "    }\n",
              "\n",
              "    .dataframe thead th {\n",
              "        text-align: right;\n",
              "    }\n",
              "</style>\n",
              "<table border=\"1\" class=\"dataframe\">\n",
              "  <thead>\n",
              "    <tr style=\"text-align: right;\">\n",
              "      <th></th>\n",
              "      <th>index</th>\n",
              "      <th>0</th>\n",
              "    </tr>\n",
              "  </thead>\n",
              "  <tbody>\n",
              "    <tr>\n",
              "      <th>0</th>\n",
              "      <td>Unnamed: 0</td>\n",
              "      <td>int64</td>\n",
              "    </tr>\n",
              "    <tr>\n",
              "      <th>1</th>\n",
              "      <td>Unnamed: 0.1</td>\n",
              "      <td>int64</td>\n",
              "    </tr>\n",
              "    <tr>\n",
              "      <th>2</th>\n",
              "      <td>id</td>\n",
              "      <td>int64</td>\n",
              "    </tr>\n",
              "    <tr>\n",
              "      <th>3</th>\n",
              "      <td>loan_default</td>\n",
              "      <td>int64</td>\n",
              "    </tr>\n",
              "    <tr>\n",
              "      <th>4</th>\n",
              "      <td>AP001</td>\n",
              "      <td>int64</td>\n",
              "    </tr>\n",
              "  </tbody>\n",
              "</table>\n",
              "</div>"
            ],
            "text/plain": [
              "          index      0\n",
              "0    Unnamed: 0  int64\n",
              "1  Unnamed: 0.1  int64\n",
              "2            id  int64\n",
              "3  loan_default  int64\n",
              "4         AP001  int64"
            ]
          },
          "metadata": {
            "tags": []
          },
          "execution_count": 6
        }
      ]
    },
    {
      "cell_type": "code",
      "metadata": {
        "id": "f6PhEnDwBzDr",
        "colab": {
          "base_uri": "https://localhost:8080/",
          "height": 204
        },
        "outputId": "c87553d8-513a-4de2-a2c1-c9646d68d3a6"
      },
      "source": [
        "var.columns = ['varname','dtype'] \n",
        "var['source'] = var['varname'].str[:2]\n",
        "var.head()"
      ],
      "execution_count": null,
      "outputs": [
        {
          "output_type": "execute_result",
          "data": {
            "text/html": [
              "<div>\n",
              "<style scoped>\n",
              "    .dataframe tbody tr th:only-of-type {\n",
              "        vertical-align: middle;\n",
              "    }\n",
              "\n",
              "    .dataframe tbody tr th {\n",
              "        vertical-align: top;\n",
              "    }\n",
              "\n",
              "    .dataframe thead th {\n",
              "        text-align: right;\n",
              "    }\n",
              "</style>\n",
              "<table border=\"1\" class=\"dataframe\">\n",
              "  <thead>\n",
              "    <tr style=\"text-align: right;\">\n",
              "      <th></th>\n",
              "      <th>varname</th>\n",
              "      <th>dtype</th>\n",
              "      <th>source</th>\n",
              "    </tr>\n",
              "  </thead>\n",
              "  <tbody>\n",
              "    <tr>\n",
              "      <th>0</th>\n",
              "      <td>Unnamed: 0</td>\n",
              "      <td>int64</td>\n",
              "      <td>Un</td>\n",
              "    </tr>\n",
              "    <tr>\n",
              "      <th>1</th>\n",
              "      <td>Unnamed: 0.1</td>\n",
              "      <td>int64</td>\n",
              "      <td>Un</td>\n",
              "    </tr>\n",
              "    <tr>\n",
              "      <th>2</th>\n",
              "      <td>id</td>\n",
              "      <td>int64</td>\n",
              "      <td>id</td>\n",
              "    </tr>\n",
              "    <tr>\n",
              "      <th>3</th>\n",
              "      <td>loan_default</td>\n",
              "      <td>int64</td>\n",
              "      <td>lo</td>\n",
              "    </tr>\n",
              "    <tr>\n",
              "      <th>4</th>\n",
              "      <td>AP001</td>\n",
              "      <td>int64</td>\n",
              "      <td>AP</td>\n",
              "    </tr>\n",
              "  </tbody>\n",
              "</table>\n",
              "</div>"
            ],
            "text/plain": [
              "        varname  dtype source\n",
              "0    Unnamed: 0  int64     Un\n",
              "1  Unnamed: 0.1  int64     Un\n",
              "2            id  int64     id\n",
              "3  loan_default  int64     lo\n",
              "4         AP001  int64     AP"
            ]
          },
          "metadata": {
            "tags": []
          },
          "execution_count": 7
        }
      ]
    },
    {
      "cell_type": "code",
      "metadata": {
        "id": "dOsRYuMFB7j9",
        "colab": {
          "base_uri": "https://localhost:8080/"
        },
        "outputId": "32ccb0ab-f1b2-4320-8a17-0e70cf11636c"
      },
      "source": [
        "var['source'].value_counts()"
      ],
      "execution_count": null,
      "outputs": [
        {
          "output_type": "execute_result",
          "data": {
            "text/plain": [
              "CD    36\n",
              "TD    24\n",
              "AP     9\n",
              "CR     8\n",
              "PA     6\n",
              "Un     2\n",
              "MB     2\n",
              "lo     1\n",
              "id     1\n",
              "Name: source, dtype: int64"
            ]
          },
          "metadata": {
            "tags": []
          },
          "execution_count": 8
        }
      ]
    },
    {
      "cell_type": "code",
      "metadata": {
        "id": "jb5v7rWKCAwh",
        "colab": {
          "base_uri": "https://localhost:8080/"
        },
        "outputId": "3ecb5a47-4ab8-4dfb-8f33-0e18996254ba"
      },
      "source": [
        "train['AP004'].unique()"
      ],
      "execution_count": null,
      "outputs": [
        {
          "output_type": "execute_result",
          "data": {
            "text/plain": [
              "array([12,  9,  3,  6])"
            ]
          },
          "metadata": {
            "tags": []
          },
          "execution_count": 21
        }
      ]
    },
    {
      "cell_type": "code",
      "metadata": {
        "id": "C4GlHWLoCU1N",
        "colab": {
          "base_uri": "https://localhost:8080/",
          "height": 282
        },
        "outputId": "0637db24-1e2e-45e7-8e6f-84bf9be6b3f0"
      },
      "source": [
        "train['AP004'].hist()"
      ],
      "execution_count": null,
      "outputs": [
        {
          "output_type": "execute_result",
          "data": {
            "text/plain": [
              "<matplotlib.axes._subplots.AxesSubplot at 0x7f955316c0b8>"
            ]
          },
          "metadata": {
            "tags": []
          },
          "execution_count": 22
        },
        {
          "output_type": "display_data",
          "data": {
            "image/png": "[encoded data removed]",
            "text/plain": [
              "<Figure size 432x288 with 1 Axes>"
            ]
          },
          "metadata": {
            "tags": [],
            "needs_background": "light"
          }
        }
      ]
    },
    {
      "cell_type": "code",
      "metadata": {
        "id": "dI7KIg8ZCkbM",
        "colab": {
          "base_uri": "https://localhost:8080/"
        },
        "outputId": "3e4aaccf-cde1-4c45-a7be-21e49fff95c1"
      },
      "source": [
        "train['loan_default'].value_counts(dropna=False)"
      ],
      "execution_count": null,
      "outputs": [
        {
          "output_type": "execute_result",
          "data": {
            "text/plain": [
              "0    38736\n",
              "1     9264\n",
              "Name: loan_default, dtype: int64"
            ]
          },
          "metadata": {
            "tags": []
          },
          "execution_count": 25
        }
      ]
    },
    {
      "cell_type": "code",
      "metadata": {
        "id": "EUE4Kd5bCAGz"
      },
      "source": [
        "MB_list = list(var[var['source']=='MB']['varname'])\n",
        "AP_list = list(var[var['source']=='AP']['varname'])\n",
        "TD_list = list(var[var['source']=='TD']['varname'])\n",
        "CR_list = list(var[var['source']=='CR']['varname'])\n",
        "PA_list = list(var[var['source']=='PA']['varname'])\n",
        "CD_list = list(var[var['source']=='CD']['varname'])"
      ],
      "execution_count": null,
      "outputs": []
    },
    {
      "cell_type": "code",
      "metadata": {
        "id": "IA5GHnvC7PGy"
      },
      "source": [
        "import h2o\n",
        "from h2o.estimators.random_forest import H2ORandomForestEstimator"
      ],
      "execution_count": null,
      "outputs": []
    },
    {
      "cell_type": "code",
      "metadata": {
        "id": "LUYmN7v3DDuY",
        "colab": {
          "base_uri": "https://localhost:8080/",
          "height": 545
        },
        "outputId": "e24d307d-0926-4eb2-9c4a-071ba2080751"
      },
      "source": [
        "h2o.init()"
      ],
      "execution_count": null,
      "outputs": [
        {
          "output_type": "stream",
          "text": [
            "Checking whether there is an H2O instance running at http://localhost:54321 ..... not found.\n",
            "Attempting to start a local H2O server...\n",
            "  Java Version: openjdk version \"11.0.9\" 2020-10-20; OpenJDK Runtime Environment (build 11.0.9+11-Ubuntu-0ubuntu1.18.04.1); OpenJDK 64-Bit Server VM (build 11.0.9+11-Ubuntu-0ubuntu1.18.04.1, mixed mode, sharing)\n",
            "  Starting server from /usr/local/lib/python3.6/dist-packages/h2o/backend/bin/h2o.jar\n",
            "  Ice root: /tmp/tmp_cst1lgp\n",
            "  JVM stdout: /tmp/tmp_cst1lgp/h2o_unknownUser_started_from_python.out\n",
            "  JVM stderr: /tmp/tmp_cst1lgp/h2o_unknownUser_started_from_python.err\n",
            "  Server is running at http://127.0.0.1:54321\n",
            "Connecting to H2O server at http://127.0.0.1:54321 ... successful.\n"
          ],
          "name": "stdout"
        },
        {
          "output_type": "display_data",
          "data": {
            "text/html": [
              "<div style=\"overflow:auto\"><table style=\"width:50%\"><tr><td>H2O_cluster_uptime:</td>\n",
              "<td>02 secs</td></tr>\n",
              "<tr><td>H2O_cluster_timezone:</td>\n",
              "<td>Etc/UTC</td></tr>\n",
              "<tr><td>H2O_data_parsing_timezone:</td>\n",
              "<td>UTC</td></tr>\n",
              "<tr><td>H2O_cluster_version:</td>\n",
              "<td>3.30.1.3</td></tr>\n",
              "<tr><td>H2O_cluster_version_age:</td>\n",
              "<td>1 month and 5 days </td></tr>\n",
              "<tr><td>H2O_cluster_name:</td>\n",
              "<td>H2O_from_python_unknownUser_zuzxcs</td></tr>\n",
              "<tr><td>H2O_cluster_total_nodes:</td>\n",
              "<td>1</td></tr>\n",
              "<tr><td>H2O_cluster_free_memory:</td>\n",
              "<td>3.180 Gb</td></tr>\n",
              "<tr><td>H2O_cluster_total_cores:</td>\n",
              "<td>2</td></tr>\n",
              "<tr><td>H2O_cluster_allowed_cores:</td>\n",
              "<td>2</td></tr>\n",
              "<tr><td>H2O_cluster_status:</td>\n",
              "<td>accepting new members, healthy</td></tr>\n",
              "<tr><td>H2O_connection_url:</td>\n",
              "<td>http://127.0.0.1:54321</td></tr>\n",
              "<tr><td>H2O_connection_proxy:</td>\n",
              "<td>{\"http\": null, \"https\": null}</td></tr>\n",
              "<tr><td>H2O_internal_security:</td>\n",
              "<td>False</td></tr>\n",
              "<tr><td>H2O_API_Extensions:</td>\n",
              "<td>Amazon S3, XGBoost, Algos, AutoML, Core V3, TargetEncoder, Core V4</td></tr>\n",
              "<tr><td>Python_version:</td>\n",
              "<td>3.6.9 final</td></tr></table></div>"
            ],
            "text/plain": [
              "--------------------------  ------------------------------------------------------------------\n",
              "H2O_cluster_uptime:         02 secs\n",
              "H2O_cluster_timezone:       Etc/UTC\n",
              "H2O_data_parsing_timezone:  UTC\n",
              "H2O_cluster_version:        3.30.1.3\n",
              "H2O_cluster_version_age:    1 month and 5 days\n",
              "H2O_cluster_name:           H2O_from_python_unknownUser_zuzxcs\n",
              "H2O_cluster_total_nodes:    1\n",
              "H2O_cluster_free_memory:    3.180 Gb\n",
              "H2O_cluster_total_cores:    2\n",
              "H2O_cluster_allowed_cores:  2\n",
              "H2O_cluster_status:         accepting new members, healthy\n",
              "H2O_connection_url:         http://127.0.0.1:54321\n",
              "H2O_connection_proxy:       {\"http\": null, \"https\": null}\n",
              "H2O_internal_security:      False\n",
              "H2O_API_Extensions:         Amazon S3, XGBoost, Algos, AutoML, Core V3, TargetEncoder, Core V4\n",
              "Python_version:             3.6.9 final\n",
              "--------------------------  ------------------------------------------------------------------"
            ]
          },
          "metadata": {
            "tags": []
          }
        }
      ]
    },
    {
      "cell_type": "markdown",
      "metadata": {
        "id": "bObXTsnQuJnW"
      },
      "source": [
        "Portion"
      ]
    },
    {
      "cell_type": "code",
      "metadata": {
        "id": "KSmIwI7_Cpoh",
        "colab": {
          "base_uri": "https://localhost:8080/"
        },
        "outputId": "b71503d8-661e-4254-db6d-3895e0565120"
      },
      "source": [
        "train_smpl = train.sample(frac=0.1, random_state=1)\n",
        "test_smpl = test.sample(frac=0.1, random_state=1)\n",
        "train_hex = h2o.H2OFrame(train_smpl)\n",
        "test_hex = h2o.H2OFrame(test_smpl)\n"
      ],
      "execution_count": null,
      "outputs": [
        {
          "output_type": "stream",
          "text": [
            "Parse progress: |█████████████████████████████████████████████████████████| 100%\n",
            "Parse progress: |█████████████████████████████████████████████████████████| 100%\n"
          ],
          "name": "stdout"
        }
      ]
    },
    {
      "cell_type": "markdown",
      "metadata": {
        "id": "H8iviPWmuLPH"
      },
      "source": [
        "Whole Dataset"
      ]
    },
    {
      "cell_type": "code",
      "metadata": {
        "id": "7DRwVRFDNKvw",
        "colab": {
          "base_uri": "https://localhost:8080/"
        },
        "outputId": "40eec3b0-c532-4f32-f40b-8b87c3e29394"
      },
      "source": [
        "df_hex = h2o.H2OFrame(loan_data)\n",
        "train_hex2 = h2o.H2OFrame(train)\n",
        "test_hex2 = h2o.H2OFrame(test)"
      ],
      "execution_count": null,
      "outputs": [
        {
          "output_type": "stream",
          "text": [
            "Parse progress: |█████████████████████████████████████████████████████████| 100%\n",
            "Parse progress: |█████████████████████████████████████████████████████████| 100%\n",
            "Parse progress: |█████████████████████████████████████████████████████████| 100%\n"
          ],
          "name": "stdout"
        }
      ]
    },
    {
      "cell_type": "markdown",
      "metadata": {
        "id": "ELB2YbPUOrHe"
      },
      "source": [
        "## Part2: Data Cleaning: drop variable, compute NA, Encoding"
      ]
    },
    {
      "cell_type": "markdown",
      "metadata": {
        "id": "T83s5o4puNMP"
      },
      "source": [
        "Drop the time"
      ]
    },
    {
      "cell_type": "code",
      "metadata": {
        "id": "1cXkuJS520-Z"
      },
      "source": [
        "loan_data2 = loan_data.drop('AP005',axis=1)"
      ],
      "execution_count": null,
      "outputs": []
    },
    {
      "cell_type": "code",
      "metadata": {
        "id": "gfl6qPaI2eH_",
        "colab": {
          "base_uri": "https://localhost:8080/",
          "height": 270
        },
        "outputId": "16e1f4c3-f229-43b9-a45a-1dcd261db572"
      },
      "source": [
        "loan_data2.head(5)"
      ],
      "execution_count": null,
      "outputs": [
        {
          "output_type": "execute_result",
          "data": {
            "text/html": [
              "<div>\n",
              "<style scoped>\n",
              "    .dataframe tbody tr th:only-of-type {\n",
              "        vertical-align: middle;\n",
              "    }\n",
              "\n",
              "    .dataframe tbody tr th {\n",
              "        vertical-align: top;\n",
              "    }\n",
              "\n",
              "    .dataframe thead th {\n",
              "        text-align: right;\n",
              "    }\n",
              "</style>\n",
              "<table border=\"1\" class=\"dataframe\">\n",
              "  <thead>\n",
              "    <tr style=\"text-align: right;\">\n",
              "      <th></th>\n",
              "      <th>Unnamed: 0</th>\n",
              "      <th>Unnamed: 0.1</th>\n",
              "      <th>id</th>\n",
              "      <th>loan_default</th>\n",
              "      <th>AP001</th>\n",
              "      <th>AP002</th>\n",
              "      <th>AP003</th>\n",
              "      <th>AP004</th>\n",
              "      <th>AP006</th>\n",
              "      <th>AP007</th>\n",
              "      <th>AP008</th>\n",
              "      <th>AP009</th>\n",
              "      <th>TD001</th>\n",
              "      <th>TD002</th>\n",
              "      <th>TD005</th>\n",
              "      <th>TD006</th>\n",
              "      <th>TD009</th>\n",
              "      <th>TD010</th>\n",
              "      <th>TD013</th>\n",
              "      <th>TD014</th>\n",
              "      <th>TD015</th>\n",
              "      <th>TD022</th>\n",
              "      <th>TD023</th>\n",
              "      <th>TD024</th>\n",
              "      <th>TD025</th>\n",
              "      <th>TD026</th>\n",
              "      <th>TD027</th>\n",
              "      <th>TD028</th>\n",
              "      <th>TD029</th>\n",
              "      <th>TD044</th>\n",
              "      <th>TD048</th>\n",
              "      <th>TD051</th>\n",
              "      <th>TD054</th>\n",
              "      <th>TD055</th>\n",
              "      <th>TD061</th>\n",
              "      <th>TD062</th>\n",
              "      <th>CR004</th>\n",
              "      <th>CR005</th>\n",
              "      <th>CR009</th>\n",
              "      <th>CR012</th>\n",
              "      <th>...</th>\n",
              "      <th>PA030</th>\n",
              "      <th>PA031</th>\n",
              "      <th>CD008</th>\n",
              "      <th>CD018</th>\n",
              "      <th>CD071</th>\n",
              "      <th>CD072</th>\n",
              "      <th>CD088</th>\n",
              "      <th>CD100</th>\n",
              "      <th>CD101</th>\n",
              "      <th>CD106</th>\n",
              "      <th>CD107</th>\n",
              "      <th>CD108</th>\n",
              "      <th>CD113</th>\n",
              "      <th>CD114</th>\n",
              "      <th>CD115</th>\n",
              "      <th>CD117</th>\n",
              "      <th>CD118</th>\n",
              "      <th>CD120</th>\n",
              "      <th>CD121</th>\n",
              "      <th>CD123</th>\n",
              "      <th>CD130</th>\n",
              "      <th>CD131</th>\n",
              "      <th>CD132</th>\n",
              "      <th>CD133</th>\n",
              "      <th>CD135</th>\n",
              "      <th>CD136</th>\n",
              "      <th>CD137</th>\n",
              "      <th>CD152</th>\n",
              "      <th>CD153</th>\n",
              "      <th>CD160</th>\n",
              "      <th>CD162</th>\n",
              "      <th>CD164</th>\n",
              "      <th>CD166</th>\n",
              "      <th>CD167</th>\n",
              "      <th>CD169</th>\n",
              "      <th>CD170</th>\n",
              "      <th>CD172</th>\n",
              "      <th>CD173</th>\n",
              "      <th>MB005</th>\n",
              "      <th>MB007</th>\n",
              "    </tr>\n",
              "  </thead>\n",
              "  <tbody>\n",
              "    <tr>\n",
              "      <th>0</th>\n",
              "      <td>0</td>\n",
              "      <td>1</td>\n",
              "      <td>1</td>\n",
              "      <td>1</td>\n",
              "      <td>31</td>\n",
              "      <td>2</td>\n",
              "      <td>1</td>\n",
              "      <td>12</td>\n",
              "      <td>ios</td>\n",
              "      <td>3</td>\n",
              "      <td>3</td>\n",
              "      <td>1</td>\n",
              "      <td>1</td>\n",
              "      <td>1</td>\n",
              "      <td>4</td>\n",
              "      <td>1</td>\n",
              "      <td>5</td>\n",
              "      <td>1</td>\n",
              "      <td>14</td>\n",
              "      <td>2</td>\n",
              "      <td>2</td>\n",
              "      <td>10.0</td>\n",
              "      <td>9.0</td>\n",
              "      <td>6.0</td>\n",
              "      <td>0.0</td>\n",
              "      <td>0.0</td>\n",
              "      <td>0.0</td>\n",
              "      <td>0.0</td>\n",
              "      <td>6.0</td>\n",
              "      <td>NaN</td>\n",
              "      <td>NaN</td>\n",
              "      <td>NaN</td>\n",
              "      <td>NaN</td>\n",
              "      <td>NaN</td>\n",
              "      <td>NaN</td>\n",
              "      <td>NaN</td>\n",
              "      <td>2</td>\n",
              "      <td>1</td>\n",
              "      <td>35807</td>\n",
              "      <td>0</td>\n",
              "      <td>...</td>\n",
              "      <td>-98.0</td>\n",
              "      <td>-98.0</td>\n",
              "      <td>13840.0</td>\n",
              "      <td>172.0</td>\n",
              "      <td>0.0</td>\n",
              "      <td>0.0</td>\n",
              "      <td>0.0</td>\n",
              "      <td>0.0</td>\n",
              "      <td>0.0</td>\n",
              "      <td>1.0</td>\n",
              "      <td>0.0</td>\n",
              "      <td>1.0</td>\n",
              "      <td>0.0</td>\n",
              "      <td>1.0</td>\n",
              "      <td>57.0</td>\n",
              "      <td>48.0</td>\n",
              "      <td>95.0</td>\n",
              "      <td>79.0</td>\n",
              "      <td>125.0</td>\n",
              "      <td>103.0</td>\n",
              "      <td>43.0</td>\n",
              "      <td>55.0</td>\n",
              "      <td>56.0</td>\n",
              "      <td>52.0</td>\n",
              "      <td>65.0</td>\n",
              "      <td>91.0</td>\n",
              "      <td>96.0</td>\n",
              "      <td>10900.0</td>\n",
              "      <td>12757.0</td>\n",
              "      <td>8.0</td>\n",
              "      <td>13.0</td>\n",
              "      <td>13.0</td>\n",
              "      <td>0.0</td>\n",
              "      <td>0.0</td>\n",
              "      <td>1449.0</td>\n",
              "      <td>1449.0</td>\n",
              "      <td>2249.0</td>\n",
              "      <td>2249.0</td>\n",
              "      <td>7.0</td>\n",
              "      <td>IPHONE7</td>\n",
              "    </tr>\n",
              "    <tr>\n",
              "      <th>1</th>\n",
              "      <td>1</td>\n",
              "      <td>2</td>\n",
              "      <td>2</td>\n",
              "      <td>0</td>\n",
              "      <td>27</td>\n",
              "      <td>1</td>\n",
              "      <td>1</td>\n",
              "      <td>12</td>\n",
              "      <td>h5</td>\n",
              "      <td>5</td>\n",
              "      <td>4</td>\n",
              "      <td>0</td>\n",
              "      <td>2</td>\n",
              "      <td>0</td>\n",
              "      <td>3</td>\n",
              "      <td>1</td>\n",
              "      <td>3</td>\n",
              "      <td>1</td>\n",
              "      <td>3</td>\n",
              "      <td>2</td>\n",
              "      <td>0</td>\n",
              "      <td>15.0</td>\n",
              "      <td>6.0</td>\n",
              "      <td>0.0</td>\n",
              "      <td>0.0</td>\n",
              "      <td>0.0</td>\n",
              "      <td>0.0</td>\n",
              "      <td>0.0</td>\n",
              "      <td>6.0</td>\n",
              "      <td>NaN</td>\n",
              "      <td>NaN</td>\n",
              "      <td>NaN</td>\n",
              "      <td>NaN</td>\n",
              "      <td>NaN</td>\n",
              "      <td>NaN</td>\n",
              "      <td>NaN</td>\n",
              "      <td>3</td>\n",
              "      <td>1</td>\n",
              "      <td>7254</td>\n",
              "      <td>0</td>\n",
              "      <td>...</td>\n",
              "      <td>-98.0</td>\n",
              "      <td>-98.0</td>\n",
              "      <td>-99.0</td>\n",
              "      <td>-99.0</td>\n",
              "      <td>-99.0</td>\n",
              "      <td>-99.0</td>\n",
              "      <td>-99.0</td>\n",
              "      <td>-99.0</td>\n",
              "      <td>-99.0</td>\n",
              "      <td>-99.0</td>\n",
              "      <td>-99.0</td>\n",
              "      <td>-99.0</td>\n",
              "      <td>-99.0</td>\n",
              "      <td>-99.0</td>\n",
              "      <td>-99.0</td>\n",
              "      <td>-99.0</td>\n",
              "      <td>-99.0</td>\n",
              "      <td>-99.0</td>\n",
              "      <td>-99.0</td>\n",
              "      <td>-99.0</td>\n",
              "      <td>-99.0</td>\n",
              "      <td>-99.0</td>\n",
              "      <td>-99.0</td>\n",
              "      <td>-99.0</td>\n",
              "      <td>-99.0</td>\n",
              "      <td>-99.0</td>\n",
              "      <td>-99.0</td>\n",
              "      <td>-99.0</td>\n",
              "      <td>-99.0</td>\n",
              "      <td>-99.0</td>\n",
              "      <td>-99.0</td>\n",
              "      <td>-99.0</td>\n",
              "      <td>-99.0</td>\n",
              "      <td>-99.0</td>\n",
              "      <td>-99.0</td>\n",
              "      <td>-99.0</td>\n",
              "      <td>-99.0</td>\n",
              "      <td>-99.0</td>\n",
              "      <td>NaN</td>\n",
              "      <td>WEB</td>\n",
              "    </tr>\n",
              "    <tr>\n",
              "      <th>2</th>\n",
              "      <td>2</td>\n",
              "      <td>3</td>\n",
              "      <td>3</td>\n",
              "      <td>0</td>\n",
              "      <td>33</td>\n",
              "      <td>1</td>\n",
              "      <td>4</td>\n",
              "      <td>12</td>\n",
              "      <td>h5</td>\n",
              "      <td>4</td>\n",
              "      <td>2</td>\n",
              "      <td>0</td>\n",
              "      <td>2</td>\n",
              "      <td>1</td>\n",
              "      <td>4</td>\n",
              "      <td>1</td>\n",
              "      <td>5</td>\n",
              "      <td>1</td>\n",
              "      <td>9</td>\n",
              "      <td>1</td>\n",
              "      <td>2</td>\n",
              "      <td>15.0</td>\n",
              "      <td>9.0</td>\n",
              "      <td>2.0</td>\n",
              "      <td>0.0</td>\n",
              "      <td>0.0</td>\n",
              "      <td>0.0</td>\n",
              "      <td>0.0</td>\n",
              "      <td>6.0</td>\n",
              "      <td>NaN</td>\n",
              "      <td>NaN</td>\n",
              "      <td>NaN</td>\n",
              "      <td>NaN</td>\n",
              "      <td>NaN</td>\n",
              "      <td>NaN</td>\n",
              "      <td>NaN</td>\n",
              "      <td>2</td>\n",
              "      <td>2</td>\n",
              "      <td>30377</td>\n",
              "      <td>0</td>\n",
              "      <td>...</td>\n",
              "      <td>-98.0</td>\n",
              "      <td>-98.0</td>\n",
              "      <td>2454.0</td>\n",
              "      <td>13.0</td>\n",
              "      <td>0.0</td>\n",
              "      <td>0.0</td>\n",
              "      <td>0.0</td>\n",
              "      <td>0.0</td>\n",
              "      <td>0.0</td>\n",
              "      <td>0.0</td>\n",
              "      <td>0.0</td>\n",
              "      <td>0.0</td>\n",
              "      <td>0.0</td>\n",
              "      <td>0.0</td>\n",
              "      <td>13.0</td>\n",
              "      <td>13.0</td>\n",
              "      <td>20.0</td>\n",
              "      <td>20.0</td>\n",
              "      <td>23.0</td>\n",
              "      <td>21.0</td>\n",
              "      <td>11.0</td>\n",
              "      <td>9.0</td>\n",
              "      <td>10.0</td>\n",
              "      <td>12.0</td>\n",
              "      <td>13.0</td>\n",
              "      <td>9.0</td>\n",
              "      <td>11.0</td>\n",
              "      <td>3807.0</td>\n",
              "      <td>2314.0</td>\n",
              "      <td>0.0</td>\n",
              "      <td>3.0</td>\n",
              "      <td>2.0</td>\n",
              "      <td>33.0</td>\n",
              "      <td>0.0</td>\n",
              "      <td>33.0</td>\n",
              "      <td>0.0</td>\n",
              "      <td>143.0</td>\n",
              "      <td>110.0</td>\n",
              "      <td>8.0</td>\n",
              "      <td>WEB</td>\n",
              "    </tr>\n",
              "    <tr>\n",
              "      <th>3</th>\n",
              "      <td>3</td>\n",
              "      <td>4</td>\n",
              "      <td>4</td>\n",
              "      <td>0</td>\n",
              "      <td>34</td>\n",
              "      <td>2</td>\n",
              "      <td>4</td>\n",
              "      <td>12</td>\n",
              "      <td>android</td>\n",
              "      <td>5</td>\n",
              "      <td>5</td>\n",
              "      <td>0</td>\n",
              "      <td>0</td>\n",
              "      <td>0</td>\n",
              "      <td>0</td>\n",
              "      <td>0</td>\n",
              "      <td>0</td>\n",
              "      <td>0</td>\n",
              "      <td>1</td>\n",
              "      <td>1</td>\n",
              "      <td>0</td>\n",
              "      <td>NaN</td>\n",
              "      <td>NaN</td>\n",
              "      <td>NaN</td>\n",
              "      <td>0.0</td>\n",
              "      <td>0.0</td>\n",
              "      <td>0.0</td>\n",
              "      <td>0.0</td>\n",
              "      <td>6.0</td>\n",
              "      <td>NaN</td>\n",
              "      <td>NaN</td>\n",
              "      <td>NaN</td>\n",
              "      <td>NaN</td>\n",
              "      <td>NaN</td>\n",
              "      <td>NaN</td>\n",
              "      <td>NaN</td>\n",
              "      <td>2</td>\n",
              "      <td>1</td>\n",
              "      <td>0</td>\n",
              "      <td>0</td>\n",
              "      <td>...</td>\n",
              "      <td>-98.0</td>\n",
              "      <td>-98.0</td>\n",
              "      <td>0.0</td>\n",
              "      <td>0.0</td>\n",
              "      <td>0.0</td>\n",
              "      <td>0.0</td>\n",
              "      <td>0.0</td>\n",
              "      <td>0.0</td>\n",
              "      <td>0.0</td>\n",
              "      <td>0.0</td>\n",
              "      <td>0.0</td>\n",
              "      <td>0.0</td>\n",
              "      <td>0.0</td>\n",
              "      <td>0.0</td>\n",
              "      <td>0.0</td>\n",
              "      <td>0.0</td>\n",
              "      <td>0.0</td>\n",
              "      <td>0.0</td>\n",
              "      <td>0.0</td>\n",
              "      <td>0.0</td>\n",
              "      <td>0.0</td>\n",
              "      <td>0.0</td>\n",
              "      <td>0.0</td>\n",
              "      <td>0.0</td>\n",
              "      <td>0.0</td>\n",
              "      <td>0.0</td>\n",
              "      <td>0.0</td>\n",
              "      <td>0.0</td>\n",
              "      <td>0.0</td>\n",
              "      <td>0.0</td>\n",
              "      <td>0.0</td>\n",
              "      <td>0.0</td>\n",
              "      <td>0.0</td>\n",
              "      <td>0.0</td>\n",
              "      <td>0.0</td>\n",
              "      <td>0.0</td>\n",
              "      <td>0.0</td>\n",
              "      <td>0.0</td>\n",
              "      <td>10.0</td>\n",
              "      <td>OPPO</td>\n",
              "    </tr>\n",
              "    <tr>\n",
              "      <th>4</th>\n",
              "      <td>4</td>\n",
              "      <td>5</td>\n",
              "      <td>5</td>\n",
              "      <td>0</td>\n",
              "      <td>47</td>\n",
              "      <td>2</td>\n",
              "      <td>1</td>\n",
              "      <td>12</td>\n",
              "      <td>h5</td>\n",
              "      <td>4</td>\n",
              "      <td>4</td>\n",
              "      <td>1</td>\n",
              "      <td>2</td>\n",
              "      <td>0</td>\n",
              "      <td>2</td>\n",
              "      <td>1</td>\n",
              "      <td>2</td>\n",
              "      <td>1</td>\n",
              "      <td>2</td>\n",
              "      <td>1</td>\n",
              "      <td>0</td>\n",
              "      <td>10.0</td>\n",
              "      <td>3.0</td>\n",
              "      <td>0.0</td>\n",
              "      <td>0.0</td>\n",
              "      <td>0.0</td>\n",
              "      <td>0.0</td>\n",
              "      <td>0.0</td>\n",
              "      <td>6.0</td>\n",
              "      <td>NaN</td>\n",
              "      <td>NaN</td>\n",
              "      <td>NaN</td>\n",
              "      <td>NaN</td>\n",
              "      <td>NaN</td>\n",
              "      <td>NaN</td>\n",
              "      <td>NaN</td>\n",
              "      <td>4</td>\n",
              "      <td>2</td>\n",
              "      <td>0</td>\n",
              "      <td>0</td>\n",
              "      <td>...</td>\n",
              "      <td>-99.0</td>\n",
              "      <td>-99.0</td>\n",
              "      <td>-99.0</td>\n",
              "      <td>-99.0</td>\n",
              "      <td>-99.0</td>\n",
              "      <td>-99.0</td>\n",
              "      <td>-99.0</td>\n",
              "      <td>-99.0</td>\n",
              "      <td>-99.0</td>\n",
              "      <td>-99.0</td>\n",
              "      <td>-99.0</td>\n",
              "      <td>-99.0</td>\n",
              "      <td>-99.0</td>\n",
              "      <td>-99.0</td>\n",
              "      <td>-99.0</td>\n",
              "      <td>-99.0</td>\n",
              "      <td>-99.0</td>\n",
              "      <td>-99.0</td>\n",
              "      <td>-99.0</td>\n",
              "      <td>-99.0</td>\n",
              "      <td>-99.0</td>\n",
              "      <td>-99.0</td>\n",
              "      <td>-99.0</td>\n",
              "      <td>-99.0</td>\n",
              "      <td>-99.0</td>\n",
              "      <td>-99.0</td>\n",
              "      <td>-99.0</td>\n",
              "      <td>-99.0</td>\n",
              "      <td>-99.0</td>\n",
              "      <td>-99.0</td>\n",
              "      <td>-99.0</td>\n",
              "      <td>-99.0</td>\n",
              "      <td>-99.0</td>\n",
              "      <td>-99.0</td>\n",
              "      <td>-99.0</td>\n",
              "      <td>-99.0</td>\n",
              "      <td>-99.0</td>\n",
              "      <td>-99.0</td>\n",
              "      <td>NaN</td>\n",
              "      <td>WEB</td>\n",
              "    </tr>\n",
              "  </tbody>\n",
              "</table>\n",
              "<p>5 rows × 88 columns</p>\n",
              "</div>"
            ],
            "text/plain": [
              "   Unnamed: 0  Unnamed: 0.1  id  loan_default  ...   CD172   CD173  MB005    MB007\n",
              "0           0             1   1             1  ...  2249.0  2249.0    7.0  IPHONE7\n",
              "1           1             2   2             0  ...   -99.0   -99.0    NaN      WEB\n",
              "2           2             3   3             0  ...   143.0   110.0    8.0      WEB\n",
              "3           3             4   4             0  ...     0.0     0.0   10.0     OPPO\n",
              "4           4             5   5             0  ...   -99.0   -99.0    NaN      WEB\n",
              "\n",
              "[5 rows x 88 columns]"
            ]
          },
          "metadata": {
            "tags": []
          },
          "execution_count": 6
        }
      ]
    },
    {
      "cell_type": "markdown",
      "metadata": {
        "id": "pwxtjPji2I5D"
      },
      "source": [
        "One hot encoding for variable \"AP006\""
      ]
    },
    {
      "cell_type": "code",
      "metadata": {
        "id": "xTpcFDzs2IJl",
        "colab": {
          "base_uri": "https://localhost:8080/",
          "height": 204
        },
        "outputId": "afecfce4-76d0-4fad-95ef-d69a998337f9"
      },
      "source": [
        "dummies = pd.get_dummies(loan_data2['AP006'],dummy_na=True)\n",
        "dummies.head()"
      ],
      "execution_count": null,
      "outputs": [
        {
          "output_type": "execute_result",
          "data": {
            "text/html": [
              "<div>\n",
              "<style scoped>\n",
              "    .dataframe tbody tr th:only-of-type {\n",
              "        vertical-align: middle;\n",
              "    }\n",
              "\n",
              "    .dataframe tbody tr th {\n",
              "        vertical-align: top;\n",
              "    }\n",
              "\n",
              "    .dataframe thead th {\n",
              "        text-align: right;\n",
              "    }\n",
              "</style>\n",
              "<table border=\"1\" class=\"dataframe\">\n",
              "  <thead>\n",
              "    <tr style=\"text-align: right;\">\n",
              "      <th></th>\n",
              "      <th>android</th>\n",
              "      <th>api</th>\n",
              "      <th>h5</th>\n",
              "      <th>ios</th>\n",
              "      <th>NaN</th>\n",
              "    </tr>\n",
              "  </thead>\n",
              "  <tbody>\n",
              "    <tr>\n",
              "      <th>0</th>\n",
              "      <td>0</td>\n",
              "      <td>0</td>\n",
              "      <td>0</td>\n",
              "      <td>1</td>\n",
              "      <td>0</td>\n",
              "    </tr>\n",
              "    <tr>\n",
              "      <th>1</th>\n",
              "      <td>0</td>\n",
              "      <td>0</td>\n",
              "      <td>1</td>\n",
              "      <td>0</td>\n",
              "      <td>0</td>\n",
              "    </tr>\n",
              "    <tr>\n",
              "      <th>2</th>\n",
              "      <td>0</td>\n",
              "      <td>0</td>\n",
              "      <td>1</td>\n",
              "      <td>0</td>\n",
              "      <td>0</td>\n",
              "    </tr>\n",
              "    <tr>\n",
              "      <th>3</th>\n",
              "      <td>1</td>\n",
              "      <td>0</td>\n",
              "      <td>0</td>\n",
              "      <td>0</td>\n",
              "      <td>0</td>\n",
              "    </tr>\n",
              "    <tr>\n",
              "      <th>4</th>\n",
              "      <td>0</td>\n",
              "      <td>0</td>\n",
              "      <td>1</td>\n",
              "      <td>0</td>\n",
              "      <td>0</td>\n",
              "    </tr>\n",
              "  </tbody>\n",
              "</table>\n",
              "</div>"
            ],
            "text/plain": [
              "   android  api  h5  ios  NaN\n",
              "0        0    0   0    1    0\n",
              "1        0    0   1    0    0\n",
              "2        0    0   1    0    0\n",
              "3        1    0   0    0    0\n",
              "4        0    0   1    0    0"
            ]
          },
          "metadata": {
            "tags": []
          },
          "execution_count": 7
        }
      ]
    },
    {
      "cell_type": "code",
      "metadata": {
        "id": "mKotOxwj-sMA"
      },
      "source": [
        "dummies.columns = ['AP006_android', 'AP006_api', 'AP006_h5','AP006_ios','AP006_nan']"
      ],
      "execution_count": null,
      "outputs": []
    },
    {
      "cell_type": "code",
      "metadata": {
        "id": "lpNx5cAp3mOR"
      },
      "source": [
        "loan_data3 = pd.concat([loan_data2, dummies], axis=1)"
      ],
      "execution_count": null,
      "outputs": []
    },
    {
      "cell_type": "code",
      "metadata": {
        "id": "FcxFtmyj93TL",
        "colab": {
          "base_uri": "https://localhost:8080/"
        },
        "outputId": "28084656-2b11-45a3-9852-634b38860e93"
      },
      "source": [
        "loan_data3.columns"
      ],
      "execution_count": null,
      "outputs": [
        {
          "output_type": "execute_result",
          "data": {
            "text/plain": [
              "Index(['Unnamed: 0', 'Unnamed: 0.1', 'id', 'loan_default', 'AP001', 'AP002',\n",
              "       'AP003', 'AP004', 'AP006', 'AP007', 'AP008', 'AP009', 'TD001', 'TD002',\n",
              "       'TD005', 'TD006', 'TD009', 'TD010', 'TD013', 'TD014', 'TD015', 'TD022',\n",
              "       'TD023', 'TD024', 'TD025', 'TD026', 'TD027', 'TD028', 'TD029', 'TD044',\n",
              "       'TD048', 'TD051', 'TD054', 'TD055', 'TD061', 'TD062', 'CR004', 'CR005',\n",
              "       'CR009', 'CR012', 'CR015', 'CR017', 'CR018', 'CR019', 'PA022', 'PA023',\n",
              "       'PA028', 'PA029', 'PA030', 'PA031', 'CD008', 'CD018', 'CD071', 'CD072',\n",
              "       'CD088', 'CD100', 'CD101', 'CD106', 'CD107', 'CD108', 'CD113', 'CD114',\n",
              "       'CD115', 'CD117', 'CD118', 'CD120', 'CD121', 'CD123', 'CD130', 'CD131',\n",
              "       'CD132', 'CD133', 'CD135', 'CD136', 'CD137', 'CD152', 'CD153', 'CD160',\n",
              "       'CD162', 'CD164', 'CD166', 'CD167', 'CD169', 'CD170', 'CD172', 'CD173',\n",
              "       'MB005', 'MB007', 'AP006_android', 'AP006_api', 'AP006_h5', 'AP006_ios',\n",
              "       'AP006_nan'],\n",
              "      dtype='object')"
            ]
          },
          "metadata": {
            "tags": []
          },
          "execution_count": 10
        }
      ]
    },
    {
      "cell_type": "code",
      "metadata": {
        "id": "9izFEAG33YbS",
        "colab": {
          "base_uri": "https://localhost:8080/",
          "height": 239
        },
        "outputId": "e45e1587-e324-4ed5-8ef1-109d5b620e78"
      },
      "source": [
        "loan_data3 = loan_data3.drop(['AP006','AP006_nan'], axis=1)\n",
        "loan_data3.head(4)"
      ],
      "execution_count": null,
      "outputs": [
        {
          "output_type": "execute_result",
          "data": {
            "text/html": [
              "<div>\n",
              "<style scoped>\n",
              "    .dataframe tbody tr th:only-of-type {\n",
              "        vertical-align: middle;\n",
              "    }\n",
              "\n",
              "    .dataframe tbody tr th {\n",
              "        vertical-align: top;\n",
              "    }\n",
              "\n",
              "    .dataframe thead th {\n",
              "        text-align: right;\n",
              "    }\n",
              "</style>\n",
              "<table border=\"1\" class=\"dataframe\">\n",
              "  <thead>\n",
              "    <tr style=\"text-align: right;\">\n",
              "      <th></th>\n",
              "      <th>Unnamed: 0</th>\n",
              "      <th>Unnamed: 0.1</th>\n",
              "      <th>id</th>\n",
              "      <th>loan_default</th>\n",
              "      <th>AP001</th>\n",
              "      <th>AP002</th>\n",
              "      <th>AP003</th>\n",
              "      <th>AP004</th>\n",
              "      <th>AP007</th>\n",
              "      <th>AP008</th>\n",
              "      <th>AP009</th>\n",
              "      <th>TD001</th>\n",
              "      <th>TD002</th>\n",
              "      <th>TD005</th>\n",
              "      <th>TD006</th>\n",
              "      <th>TD009</th>\n",
              "      <th>TD010</th>\n",
              "      <th>TD013</th>\n",
              "      <th>TD014</th>\n",
              "      <th>TD015</th>\n",
              "      <th>TD022</th>\n",
              "      <th>TD023</th>\n",
              "      <th>TD024</th>\n",
              "      <th>TD025</th>\n",
              "      <th>TD026</th>\n",
              "      <th>TD027</th>\n",
              "      <th>TD028</th>\n",
              "      <th>TD029</th>\n",
              "      <th>TD044</th>\n",
              "      <th>TD048</th>\n",
              "      <th>TD051</th>\n",
              "      <th>TD054</th>\n",
              "      <th>TD055</th>\n",
              "      <th>TD061</th>\n",
              "      <th>TD062</th>\n",
              "      <th>CR004</th>\n",
              "      <th>CR005</th>\n",
              "      <th>CR009</th>\n",
              "      <th>CR012</th>\n",
              "      <th>CR015</th>\n",
              "      <th>...</th>\n",
              "      <th>CD071</th>\n",
              "      <th>CD072</th>\n",
              "      <th>CD088</th>\n",
              "      <th>CD100</th>\n",
              "      <th>CD101</th>\n",
              "      <th>CD106</th>\n",
              "      <th>CD107</th>\n",
              "      <th>CD108</th>\n",
              "      <th>CD113</th>\n",
              "      <th>CD114</th>\n",
              "      <th>CD115</th>\n",
              "      <th>CD117</th>\n",
              "      <th>CD118</th>\n",
              "      <th>CD120</th>\n",
              "      <th>CD121</th>\n",
              "      <th>CD123</th>\n",
              "      <th>CD130</th>\n",
              "      <th>CD131</th>\n",
              "      <th>CD132</th>\n",
              "      <th>CD133</th>\n",
              "      <th>CD135</th>\n",
              "      <th>CD136</th>\n",
              "      <th>CD137</th>\n",
              "      <th>CD152</th>\n",
              "      <th>CD153</th>\n",
              "      <th>CD160</th>\n",
              "      <th>CD162</th>\n",
              "      <th>CD164</th>\n",
              "      <th>CD166</th>\n",
              "      <th>CD167</th>\n",
              "      <th>CD169</th>\n",
              "      <th>CD170</th>\n",
              "      <th>CD172</th>\n",
              "      <th>CD173</th>\n",
              "      <th>MB005</th>\n",
              "      <th>MB007</th>\n",
              "      <th>AP006_android</th>\n",
              "      <th>AP006_api</th>\n",
              "      <th>AP006_h5</th>\n",
              "      <th>AP006_ios</th>\n",
              "    </tr>\n",
              "  </thead>\n",
              "  <tbody>\n",
              "    <tr>\n",
              "      <th>0</th>\n",
              "      <td>0</td>\n",
              "      <td>1</td>\n",
              "      <td>1</td>\n",
              "      <td>1</td>\n",
              "      <td>31</td>\n",
              "      <td>2</td>\n",
              "      <td>1</td>\n",
              "      <td>12</td>\n",
              "      <td>3</td>\n",
              "      <td>3</td>\n",
              "      <td>1</td>\n",
              "      <td>1</td>\n",
              "      <td>1</td>\n",
              "      <td>4</td>\n",
              "      <td>1</td>\n",
              "      <td>5</td>\n",
              "      <td>1</td>\n",
              "      <td>14</td>\n",
              "      <td>2</td>\n",
              "      <td>2</td>\n",
              "      <td>10.0</td>\n",
              "      <td>9.0</td>\n",
              "      <td>6.0</td>\n",
              "      <td>0.0</td>\n",
              "      <td>0.0</td>\n",
              "      <td>0.0</td>\n",
              "      <td>0.0</td>\n",
              "      <td>6.0</td>\n",
              "      <td>NaN</td>\n",
              "      <td>NaN</td>\n",
              "      <td>NaN</td>\n",
              "      <td>NaN</td>\n",
              "      <td>NaN</td>\n",
              "      <td>NaN</td>\n",
              "      <td>NaN</td>\n",
              "      <td>2</td>\n",
              "      <td>1</td>\n",
              "      <td>35807</td>\n",
              "      <td>0</td>\n",
              "      <td>4</td>\n",
              "      <td>...</td>\n",
              "      <td>0.0</td>\n",
              "      <td>0.0</td>\n",
              "      <td>0.0</td>\n",
              "      <td>0.0</td>\n",
              "      <td>0.0</td>\n",
              "      <td>1.0</td>\n",
              "      <td>0.0</td>\n",
              "      <td>1.0</td>\n",
              "      <td>0.0</td>\n",
              "      <td>1.0</td>\n",
              "      <td>57.0</td>\n",
              "      <td>48.0</td>\n",
              "      <td>95.0</td>\n",
              "      <td>79.0</td>\n",
              "      <td>125.0</td>\n",
              "      <td>103.0</td>\n",
              "      <td>43.0</td>\n",
              "      <td>55.0</td>\n",
              "      <td>56.0</td>\n",
              "      <td>52.0</td>\n",
              "      <td>65.0</td>\n",
              "      <td>91.0</td>\n",
              "      <td>96.0</td>\n",
              "      <td>10900.0</td>\n",
              "      <td>12757.0</td>\n",
              "      <td>8.0</td>\n",
              "      <td>13.0</td>\n",
              "      <td>13.0</td>\n",
              "      <td>0.0</td>\n",
              "      <td>0.0</td>\n",
              "      <td>1449.0</td>\n",
              "      <td>1449.0</td>\n",
              "      <td>2249.0</td>\n",
              "      <td>2249.0</td>\n",
              "      <td>7.0</td>\n",
              "      <td>IPHONE7</td>\n",
              "      <td>0</td>\n",
              "      <td>0</td>\n",
              "      <td>0</td>\n",
              "      <td>1</td>\n",
              "    </tr>\n",
              "    <tr>\n",
              "      <th>1</th>\n",
              "      <td>1</td>\n",
              "      <td>2</td>\n",
              "      <td>2</td>\n",
              "      <td>0</td>\n",
              "      <td>27</td>\n",
              "      <td>1</td>\n",
              "      <td>1</td>\n",
              "      <td>12</td>\n",
              "      <td>5</td>\n",
              "      <td>4</td>\n",
              "      <td>0</td>\n",
              "      <td>2</td>\n",
              "      <td>0</td>\n",
              "      <td>3</td>\n",
              "      <td>1</td>\n",
              "      <td>3</td>\n",
              "      <td>1</td>\n",
              "      <td>3</td>\n",
              "      <td>2</td>\n",
              "      <td>0</td>\n",
              "      <td>15.0</td>\n",
              "      <td>6.0</td>\n",
              "      <td>0.0</td>\n",
              "      <td>0.0</td>\n",
              "      <td>0.0</td>\n",
              "      <td>0.0</td>\n",
              "      <td>0.0</td>\n",
              "      <td>6.0</td>\n",
              "      <td>NaN</td>\n",
              "      <td>NaN</td>\n",
              "      <td>NaN</td>\n",
              "      <td>NaN</td>\n",
              "      <td>NaN</td>\n",
              "      <td>NaN</td>\n",
              "      <td>NaN</td>\n",
              "      <td>3</td>\n",
              "      <td>1</td>\n",
              "      <td>7254</td>\n",
              "      <td>0</td>\n",
              "      <td>6</td>\n",
              "      <td>...</td>\n",
              "      <td>-99.0</td>\n",
              "      <td>-99.0</td>\n",
              "      <td>-99.0</td>\n",
              "      <td>-99.0</td>\n",
              "      <td>-99.0</td>\n",
              "      <td>-99.0</td>\n",
              "      <td>-99.0</td>\n",
              "      <td>-99.0</td>\n",
              "      <td>-99.0</td>\n",
              "      <td>-99.0</td>\n",
              "      <td>-99.0</td>\n",
              "      <td>-99.0</td>\n",
              "      <td>-99.0</td>\n",
              "      <td>-99.0</td>\n",
              "      <td>-99.0</td>\n",
              "      <td>-99.0</td>\n",
              "      <td>-99.0</td>\n",
              "      <td>-99.0</td>\n",
              "      <td>-99.0</td>\n",
              "      <td>-99.0</td>\n",
              "      <td>-99.0</td>\n",
              "      <td>-99.0</td>\n",
              "      <td>-99.0</td>\n",
              "      <td>-99.0</td>\n",
              "      <td>-99.0</td>\n",
              "      <td>-99.0</td>\n",
              "      <td>-99.0</td>\n",
              "      <td>-99.0</td>\n",
              "      <td>-99.0</td>\n",
              "      <td>-99.0</td>\n",
              "      <td>-99.0</td>\n",
              "      <td>-99.0</td>\n",
              "      <td>-99.0</td>\n",
              "      <td>-99.0</td>\n",
              "      <td>NaN</td>\n",
              "      <td>WEB</td>\n",
              "      <td>0</td>\n",
              "      <td>0</td>\n",
              "      <td>1</td>\n",
              "      <td>0</td>\n",
              "    </tr>\n",
              "    <tr>\n",
              "      <th>2</th>\n",
              "      <td>2</td>\n",
              "      <td>3</td>\n",
              "      <td>3</td>\n",
              "      <td>0</td>\n",
              "      <td>33</td>\n",
              "      <td>1</td>\n",
              "      <td>4</td>\n",
              "      <td>12</td>\n",
              "      <td>4</td>\n",
              "      <td>2</td>\n",
              "      <td>0</td>\n",
              "      <td>2</td>\n",
              "      <td>1</td>\n",
              "      <td>4</td>\n",
              "      <td>1</td>\n",
              "      <td>5</td>\n",
              "      <td>1</td>\n",
              "      <td>9</td>\n",
              "      <td>1</td>\n",
              "      <td>2</td>\n",
              "      <td>15.0</td>\n",
              "      <td>9.0</td>\n",
              "      <td>2.0</td>\n",
              "      <td>0.0</td>\n",
              "      <td>0.0</td>\n",
              "      <td>0.0</td>\n",
              "      <td>0.0</td>\n",
              "      <td>6.0</td>\n",
              "      <td>NaN</td>\n",
              "      <td>NaN</td>\n",
              "      <td>NaN</td>\n",
              "      <td>NaN</td>\n",
              "      <td>NaN</td>\n",
              "      <td>NaN</td>\n",
              "      <td>NaN</td>\n",
              "      <td>2</td>\n",
              "      <td>2</td>\n",
              "      <td>30377</td>\n",
              "      <td>0</td>\n",
              "      <td>2</td>\n",
              "      <td>...</td>\n",
              "      <td>0.0</td>\n",
              "      <td>0.0</td>\n",
              "      <td>0.0</td>\n",
              "      <td>0.0</td>\n",
              "      <td>0.0</td>\n",
              "      <td>0.0</td>\n",
              "      <td>0.0</td>\n",
              "      <td>0.0</td>\n",
              "      <td>0.0</td>\n",
              "      <td>0.0</td>\n",
              "      <td>13.0</td>\n",
              "      <td>13.0</td>\n",
              "      <td>20.0</td>\n",
              "      <td>20.0</td>\n",
              "      <td>23.0</td>\n",
              "      <td>21.0</td>\n",
              "      <td>11.0</td>\n",
              "      <td>9.0</td>\n",
              "      <td>10.0</td>\n",
              "      <td>12.0</td>\n",
              "      <td>13.0</td>\n",
              "      <td>9.0</td>\n",
              "      <td>11.0</td>\n",
              "      <td>3807.0</td>\n",
              "      <td>2314.0</td>\n",
              "      <td>0.0</td>\n",
              "      <td>3.0</td>\n",
              "      <td>2.0</td>\n",
              "      <td>33.0</td>\n",
              "      <td>0.0</td>\n",
              "      <td>33.0</td>\n",
              "      <td>0.0</td>\n",
              "      <td>143.0</td>\n",
              "      <td>110.0</td>\n",
              "      <td>8.0</td>\n",
              "      <td>WEB</td>\n",
              "      <td>0</td>\n",
              "      <td>0</td>\n",
              "      <td>1</td>\n",
              "      <td>0</td>\n",
              "    </tr>\n",
              "    <tr>\n",
              "      <th>3</th>\n",
              "      <td>3</td>\n",
              "      <td>4</td>\n",
              "      <td>4</td>\n",
              "      <td>0</td>\n",
              "      <td>34</td>\n",
              "      <td>2</td>\n",
              "      <td>4</td>\n",
              "      <td>12</td>\n",
              "      <td>5</td>\n",
              "      <td>5</td>\n",
              "      <td>0</td>\n",
              "      <td>0</td>\n",
              "      <td>0</td>\n",
              "      <td>0</td>\n",
              "      <td>0</td>\n",
              "      <td>0</td>\n",
              "      <td>0</td>\n",
              "      <td>1</td>\n",
              "      <td>1</td>\n",
              "      <td>0</td>\n",
              "      <td>NaN</td>\n",
              "      <td>NaN</td>\n",
              "      <td>NaN</td>\n",
              "      <td>0.0</td>\n",
              "      <td>0.0</td>\n",
              "      <td>0.0</td>\n",
              "      <td>0.0</td>\n",
              "      <td>6.0</td>\n",
              "      <td>NaN</td>\n",
              "      <td>NaN</td>\n",
              "      <td>NaN</td>\n",
              "      <td>NaN</td>\n",
              "      <td>NaN</td>\n",
              "      <td>NaN</td>\n",
              "      <td>NaN</td>\n",
              "      <td>2</td>\n",
              "      <td>1</td>\n",
              "      <td>0</td>\n",
              "      <td>0</td>\n",
              "      <td>5</td>\n",
              "      <td>...</td>\n",
              "      <td>0.0</td>\n",
              "      <td>0.0</td>\n",
              "      <td>0.0</td>\n",
              "      <td>0.0</td>\n",
              "      <td>0.0</td>\n",
              "      <td>0.0</td>\n",
              "      <td>0.0</td>\n",
              "      <td>0.0</td>\n",
              "      <td>0.0</td>\n",
              "      <td>0.0</td>\n",
              "      <td>0.0</td>\n",
              "      <td>0.0</td>\n",
              "      <td>0.0</td>\n",
              "      <td>0.0</td>\n",
              "      <td>0.0</td>\n",
              "      <td>0.0</td>\n",
              "      <td>0.0</td>\n",
              "      <td>0.0</td>\n",
              "      <td>0.0</td>\n",
              "      <td>0.0</td>\n",
              "      <td>0.0</td>\n",
              "      <td>0.0</td>\n",
              "      <td>0.0</td>\n",
              "      <td>0.0</td>\n",
              "      <td>0.0</td>\n",
              "      <td>0.0</td>\n",
              "      <td>0.0</td>\n",
              "      <td>0.0</td>\n",
              "      <td>0.0</td>\n",
              "      <td>0.0</td>\n",
              "      <td>0.0</td>\n",
              "      <td>0.0</td>\n",
              "      <td>0.0</td>\n",
              "      <td>0.0</td>\n",
              "      <td>10.0</td>\n",
              "      <td>OPPO</td>\n",
              "      <td>1</td>\n",
              "      <td>0</td>\n",
              "      <td>0</td>\n",
              "      <td>0</td>\n",
              "    </tr>\n",
              "  </tbody>\n",
              "</table>\n",
              "<p>4 rows × 91 columns</p>\n",
              "</div>"
            ],
            "text/plain": [
              "   Unnamed: 0  Unnamed: 0.1  id  ...  AP006_api  AP006_h5  AP006_ios\n",
              "0           0             1   1  ...          0         0          1\n",
              "1           1             2   2  ...          0         1          0\n",
              "2           2             3   3  ...          0         1          0\n",
              "3           3             4   4  ...          0         0          0\n",
              "\n",
              "[4 rows x 91 columns]"
            ]
          },
          "metadata": {
            "tags": []
          },
          "execution_count": 11
        }
      ]
    },
    {
      "cell_type": "markdown",
      "metadata": {
        "id": "0Qg5vICj7Kh9"
      },
      "source": [
        "WEIGHT OF EVIDENCE (WOE) ENCODING for variable \"MB007\""
      ]
    },
    {
      "cell_type": "code",
      "metadata": {
        "colab": {
          "base_uri": "https://localhost:8080/"
        },
        "id": "696XKGdN5f9s",
        "outputId": "2602f15f-4f02-407c-ea87-2f4688831688"
      },
      "source": [
        "! pip3 install category_encoders"
      ],
      "execution_count": null,
      "outputs": [
        {
          "output_type": "stream",
          "text": [
            "Collecting category_encoders\n",
            "\u001b[?25l  Downloading https://files.pythonhosted.org/packages/44/57/fcef41c248701ee62e8325026b90c432adea35555cbc870aff9cfba23727/category_encoders-2.2.2-py2.py3-none-any.whl (80kB)\n",
            "\r\u001b[K     |████                            | 10kB 15.8MB/s eta 0:00:01\r\u001b[K     |████████▏                       | 20kB 19.8MB/s eta 0:00:01\r\u001b[K     |████████████▏                   | 30kB 12.0MB/s eta 0:00:01\r\u001b[K     |████████████████▎               | 40kB 8.9MB/s eta 0:00:01\r\u001b[K     |████████████████████▎           | 51kB 4.4MB/s eta 0:00:01\r\u001b[K     |████████████████████████▍       | 61kB 4.4MB/s eta 0:00:01\r\u001b[K     |████████████████████████████▍   | 71kB 4.9MB/s eta 0:00:01\r\u001b[K     |████████████████████████████████| 81kB 3.2MB/s \n",
            "\u001b[?25hRequirement already satisfied: pandas>=0.21.1 in /usr/local/lib/python3.6/dist-packages (from category_encoders) (1.1.4)\n",
            "Requirement already satisfied: statsmodels>=0.9.0 in /usr/local/lib/python3.6/dist-packages (from category_encoders) (0.10.2)\n",
            "Requirement already satisfied: scikit-learn>=0.20.0 in /usr/local/lib/python3.6/dist-packages (from category_encoders) (0.22.2.post1)\n",
            "Requirement already satisfied: scipy>=1.0.0 in /usr/local/lib/python3.6/dist-packages (from category_encoders) (1.4.1)\n",
            "Requirement already satisfied: numpy>=1.14.0 in /usr/local/lib/python3.6/dist-packages (from category_encoders) (1.18.5)\n",
            "Requirement already satisfied: patsy>=0.5.1 in /usr/local/lib/python3.6/dist-packages (from category_encoders) (0.5.1)\n",
            "Requirement already satisfied: pytz>=2017.2 in /usr/local/lib/python3.6/dist-packages (from pandas>=0.21.1->category_encoders) (2018.9)\n",
            "Requirement already satisfied: python-dateutil>=2.7.3 in /usr/local/lib/python3.6/dist-packages (from pandas>=0.21.1->category_encoders) (2.8.1)\n",
            "Requirement already satisfied: joblib>=0.11 in /usr/local/lib/python3.6/dist-packages (from scikit-learn>=0.20.0->category_encoders) (0.17.0)\n",
            "Requirement already satisfied: six in /usr/local/lib/python3.6/dist-packages (from patsy>=0.5.1->category_encoders) (1.15.0)\n",
            "Installing collected packages: category-encoders\n",
            "Successfully installed category-encoders-2.2.2\n"
          ],
          "name": "stdout"
        }
      ]
    },
    {
      "cell_type": "code",
      "metadata": {
        "id": "BN0ibkqp6ExY",
        "colab": {
          "base_uri": "https://localhost:8080/"
        },
        "outputId": "bba87a71-e079-428e-de8e-0a9ca3e32bcf"
      },
      "source": [
        "import category_encoders as ce"
      ],
      "execution_count": null,
      "outputs": [
        {
          "output_type": "stream",
          "text": [
            "/usr/local/lib/python3.6/dist-packages/statsmodels/tools/_testing.py:19: FutureWarning: pandas.util.testing is deprecated. Use the functions in the public API at pandas.testing instead.\n",
            "  import pandas.util.testing as tm\n"
          ],
          "name": "stderr"
        }
      ]
    },
    {
      "cell_type": "code",
      "metadata": {
        "id": "23FWk8YL5zKP",
        "colab": {
          "base_uri": "https://localhost:8080/",
          "height": 473
        },
        "outputId": "a46e3518-c311-45c7-880b-1b499ae9b2ca"
      },
      "source": [
        "ec = ce.WOEEncoder()\n",
        "loan_data3['MB007'] = loan_data3['MB007'].fillna('NoData')\n",
        "X = loan_data3['MB007']\n",
        "y = loan_data3['loan_default']\n",
        "X_WOE = ec.fit(X, y)\n",
        "X_cleaned = ec.transform(X)\n",
        "X_cleaned.round(2)"
      ],
      "execution_count": null,
      "outputs": [
        {
          "output_type": "stream",
          "text": [
            "/usr/local/lib/python3.6/dist-packages/category_encoders/utils.py:21: FutureWarning: is_categorical is deprecated and will be removed in a future version.  Use is_categorical_dtype instead\n",
            "  elif pd.api.types.is_categorical(cols):\n"
          ],
          "name": "stderr"
        },
        {
          "output_type": "execute_result",
          "data": {
            "text/html": [
              "<div>\n",
              "<style scoped>\n",
              "    .dataframe tbody tr th:only-of-type {\n",
              "        vertical-align: middle;\n",
              "    }\n",
              "\n",
              "    .dataframe tbody tr th {\n",
              "        vertical-align: top;\n",
              "    }\n",
              "\n",
              "    .dataframe thead th {\n",
              "        text-align: right;\n",
              "    }\n",
              "</style>\n",
              "<table border=\"1\" class=\"dataframe\">\n",
              "  <thead>\n",
              "    <tr style=\"text-align: right;\">\n",
              "      <th></th>\n",
              "      <th>MB007</th>\n",
              "    </tr>\n",
              "  </thead>\n",
              "  <tbody>\n",
              "    <tr>\n",
              "      <th>0</th>\n",
              "      <td>-0.08</td>\n",
              "    </tr>\n",
              "    <tr>\n",
              "      <th>1</th>\n",
              "      <td>-0.04</td>\n",
              "    </tr>\n",
              "    <tr>\n",
              "      <th>2</th>\n",
              "      <td>-0.04</td>\n",
              "    </tr>\n",
              "    <tr>\n",
              "      <th>3</th>\n",
              "      <td>0.30</td>\n",
              "    </tr>\n",
              "    <tr>\n",
              "      <th>4</th>\n",
              "      <td>-0.04</td>\n",
              "    </tr>\n",
              "    <tr>\n",
              "      <th>...</th>\n",
              "      <td>...</td>\n",
              "    </tr>\n",
              "    <tr>\n",
              "      <th>79995</th>\n",
              "      <td>0.30</td>\n",
              "    </tr>\n",
              "    <tr>\n",
              "      <th>79996</th>\n",
              "      <td>-0.08</td>\n",
              "    </tr>\n",
              "    <tr>\n",
              "      <th>79997</th>\n",
              "      <td>0.29</td>\n",
              "    </tr>\n",
              "    <tr>\n",
              "      <th>79998</th>\n",
              "      <td>0.06</td>\n",
              "    </tr>\n",
              "    <tr>\n",
              "      <th>79999</th>\n",
              "      <td>-0.04</td>\n",
              "    </tr>\n",
              "  </tbody>\n",
              "</table>\n",
              "<p>80000 rows × 1 columns</p>\n",
              "</div>"
            ],
            "text/plain": [
              "       MB007\n",
              "0      -0.08\n",
              "1      -0.04\n",
              "2      -0.04\n",
              "3       0.30\n",
              "4      -0.04\n",
              "...      ...\n",
              "79995   0.30\n",
              "79996  -0.08\n",
              "79997   0.29\n",
              "79998   0.06\n",
              "79999  -0.04\n",
              "\n",
              "[80000 rows x 1 columns]"
            ]
          },
          "metadata": {
            "tags": []
          },
          "execution_count": 15
        }
      ]
    },
    {
      "cell_type": "code",
      "metadata": {
        "id": "9Nn1nAkW7f0p"
      },
      "source": [
        "loan_data3 = loan_data3.drop('MB007', axis=1)"
      ],
      "execution_count": null,
      "outputs": []
    },
    {
      "cell_type": "code",
      "metadata": {
        "id": "bllnD1wf7XcX"
      },
      "source": [
        "loan_data3 = pd.concat([loan_data3, X_cleaned], axis=1)"
      ],
      "execution_count": null,
      "outputs": []
    },
    {
      "cell_type": "code",
      "metadata": {
        "id": "60Y0dk167by6",
        "colab": {
          "base_uri": "https://localhost:8080/",
          "height": 239
        },
        "outputId": "5e3de868-ccca-455e-8176-1907c58cbb34"
      },
      "source": [
        "loan_data3.head(4)"
      ],
      "execution_count": null,
      "outputs": [
        {
          "output_type": "execute_result",
          "data": {
            "text/html": [
              "<div>\n",
              "<style scoped>\n",
              "    .dataframe tbody tr th:only-of-type {\n",
              "        vertical-align: middle;\n",
              "    }\n",
              "\n",
              "    .dataframe tbody tr th {\n",
              "        vertical-align: top;\n",
              "    }\n",
              "\n",
              "    .dataframe thead th {\n",
              "        text-align: right;\n",
              "    }\n",
              "</style>\n",
              "<table border=\"1\" class=\"dataframe\">\n",
              "  <thead>\n",
              "    <tr style=\"text-align: right;\">\n",
              "      <th></th>\n",
              "      <th>Unnamed: 0</th>\n",
              "      <th>Unnamed: 0.1</th>\n",
              "      <th>id</th>\n",
              "      <th>loan_default</th>\n",
              "      <th>AP001</th>\n",
              "      <th>AP002</th>\n",
              "      <th>AP003</th>\n",
              "      <th>AP004</th>\n",
              "      <th>AP007</th>\n",
              "      <th>AP008</th>\n",
              "      <th>AP009</th>\n",
              "      <th>TD001</th>\n",
              "      <th>TD002</th>\n",
              "      <th>TD005</th>\n",
              "      <th>TD006</th>\n",
              "      <th>TD009</th>\n",
              "      <th>TD010</th>\n",
              "      <th>TD013</th>\n",
              "      <th>TD014</th>\n",
              "      <th>TD015</th>\n",
              "      <th>TD022</th>\n",
              "      <th>TD023</th>\n",
              "      <th>TD024</th>\n",
              "      <th>TD025</th>\n",
              "      <th>TD026</th>\n",
              "      <th>TD027</th>\n",
              "      <th>TD028</th>\n",
              "      <th>TD029</th>\n",
              "      <th>TD044</th>\n",
              "      <th>TD048</th>\n",
              "      <th>TD051</th>\n",
              "      <th>TD054</th>\n",
              "      <th>TD055</th>\n",
              "      <th>TD061</th>\n",
              "      <th>TD062</th>\n",
              "      <th>CR004</th>\n",
              "      <th>CR005</th>\n",
              "      <th>CR009</th>\n",
              "      <th>CR012</th>\n",
              "      <th>CR015</th>\n",
              "      <th>...</th>\n",
              "      <th>CD071</th>\n",
              "      <th>CD072</th>\n",
              "      <th>CD088</th>\n",
              "      <th>CD100</th>\n",
              "      <th>CD101</th>\n",
              "      <th>CD106</th>\n",
              "      <th>CD107</th>\n",
              "      <th>CD108</th>\n",
              "      <th>CD113</th>\n",
              "      <th>CD114</th>\n",
              "      <th>CD115</th>\n",
              "      <th>CD117</th>\n",
              "      <th>CD118</th>\n",
              "      <th>CD120</th>\n",
              "      <th>CD121</th>\n",
              "      <th>CD123</th>\n",
              "      <th>CD130</th>\n",
              "      <th>CD131</th>\n",
              "      <th>CD132</th>\n",
              "      <th>CD133</th>\n",
              "      <th>CD135</th>\n",
              "      <th>CD136</th>\n",
              "      <th>CD137</th>\n",
              "      <th>CD152</th>\n",
              "      <th>CD153</th>\n",
              "      <th>CD160</th>\n",
              "      <th>CD162</th>\n",
              "      <th>CD164</th>\n",
              "      <th>CD166</th>\n",
              "      <th>CD167</th>\n",
              "      <th>CD169</th>\n",
              "      <th>CD170</th>\n",
              "      <th>CD172</th>\n",
              "      <th>CD173</th>\n",
              "      <th>MB005</th>\n",
              "      <th>AP006_android</th>\n",
              "      <th>AP006_api</th>\n",
              "      <th>AP006_h5</th>\n",
              "      <th>AP006_ios</th>\n",
              "      <th>MB007</th>\n",
              "    </tr>\n",
              "  </thead>\n",
              "  <tbody>\n",
              "    <tr>\n",
              "      <th>0</th>\n",
              "      <td>0</td>\n",
              "      <td>1</td>\n",
              "      <td>1</td>\n",
              "      <td>1</td>\n",
              "      <td>31</td>\n",
              "      <td>2</td>\n",
              "      <td>1</td>\n",
              "      <td>12</td>\n",
              "      <td>3</td>\n",
              "      <td>3</td>\n",
              "      <td>1</td>\n",
              "      <td>1</td>\n",
              "      <td>1</td>\n",
              "      <td>4</td>\n",
              "      <td>1</td>\n",
              "      <td>5</td>\n",
              "      <td>1</td>\n",
              "      <td>14</td>\n",
              "      <td>2</td>\n",
              "      <td>2</td>\n",
              "      <td>10.0</td>\n",
              "      <td>9.0</td>\n",
              "      <td>6.0</td>\n",
              "      <td>0.0</td>\n",
              "      <td>0.0</td>\n",
              "      <td>0.0</td>\n",
              "      <td>0.0</td>\n",
              "      <td>6.0</td>\n",
              "      <td>NaN</td>\n",
              "      <td>NaN</td>\n",
              "      <td>NaN</td>\n",
              "      <td>NaN</td>\n",
              "      <td>NaN</td>\n",
              "      <td>NaN</td>\n",
              "      <td>NaN</td>\n",
              "      <td>2</td>\n",
              "      <td>1</td>\n",
              "      <td>35807</td>\n",
              "      <td>0</td>\n",
              "      <td>4</td>\n",
              "      <td>...</td>\n",
              "      <td>0.0</td>\n",
              "      <td>0.0</td>\n",
              "      <td>0.0</td>\n",
              "      <td>0.0</td>\n",
              "      <td>0.0</td>\n",
              "      <td>1.0</td>\n",
              "      <td>0.0</td>\n",
              "      <td>1.0</td>\n",
              "      <td>0.0</td>\n",
              "      <td>1.0</td>\n",
              "      <td>57.0</td>\n",
              "      <td>48.0</td>\n",
              "      <td>95.0</td>\n",
              "      <td>79.0</td>\n",
              "      <td>125.0</td>\n",
              "      <td>103.0</td>\n",
              "      <td>43.0</td>\n",
              "      <td>55.0</td>\n",
              "      <td>56.0</td>\n",
              "      <td>52.0</td>\n",
              "      <td>65.0</td>\n",
              "      <td>91.0</td>\n",
              "      <td>96.0</td>\n",
              "      <td>10900.0</td>\n",
              "      <td>12757.0</td>\n",
              "      <td>8.0</td>\n",
              "      <td>13.0</td>\n",
              "      <td>13.0</td>\n",
              "      <td>0.0</td>\n",
              "      <td>0.0</td>\n",
              "      <td>1449.0</td>\n",
              "      <td>1449.0</td>\n",
              "      <td>2249.0</td>\n",
              "      <td>2249.0</td>\n",
              "      <td>7.0</td>\n",
              "      <td>0</td>\n",
              "      <td>0</td>\n",
              "      <td>0</td>\n",
              "      <td>1</td>\n",
              "      <td>-0.078644</td>\n",
              "    </tr>\n",
              "    <tr>\n",
              "      <th>1</th>\n",
              "      <td>1</td>\n",
              "      <td>2</td>\n",
              "      <td>2</td>\n",
              "      <td>0</td>\n",
              "      <td>27</td>\n",
              "      <td>1</td>\n",
              "      <td>1</td>\n",
              "      <td>12</td>\n",
              "      <td>5</td>\n",
              "      <td>4</td>\n",
              "      <td>0</td>\n",
              "      <td>2</td>\n",
              "      <td>0</td>\n",
              "      <td>3</td>\n",
              "      <td>1</td>\n",
              "      <td>3</td>\n",
              "      <td>1</td>\n",
              "      <td>3</td>\n",
              "      <td>2</td>\n",
              "      <td>0</td>\n",
              "      <td>15.0</td>\n",
              "      <td>6.0</td>\n",
              "      <td>0.0</td>\n",
              "      <td>0.0</td>\n",
              "      <td>0.0</td>\n",
              "      <td>0.0</td>\n",
              "      <td>0.0</td>\n",
              "      <td>6.0</td>\n",
              "      <td>NaN</td>\n",
              "      <td>NaN</td>\n",
              "      <td>NaN</td>\n",
              "      <td>NaN</td>\n",
              "      <td>NaN</td>\n",
              "      <td>NaN</td>\n",
              "      <td>NaN</td>\n",
              "      <td>3</td>\n",
              "      <td>1</td>\n",
              "      <td>7254</td>\n",
              "      <td>0</td>\n",
              "      <td>6</td>\n",
              "      <td>...</td>\n",
              "      <td>-99.0</td>\n",
              "      <td>-99.0</td>\n",
              "      <td>-99.0</td>\n",
              "      <td>-99.0</td>\n",
              "      <td>-99.0</td>\n",
              "      <td>-99.0</td>\n",
              "      <td>-99.0</td>\n",
              "      <td>-99.0</td>\n",
              "      <td>-99.0</td>\n",
              "      <td>-99.0</td>\n",
              "      <td>-99.0</td>\n",
              "      <td>-99.0</td>\n",
              "      <td>-99.0</td>\n",
              "      <td>-99.0</td>\n",
              "      <td>-99.0</td>\n",
              "      <td>-99.0</td>\n",
              "      <td>-99.0</td>\n",
              "      <td>-99.0</td>\n",
              "      <td>-99.0</td>\n",
              "      <td>-99.0</td>\n",
              "      <td>-99.0</td>\n",
              "      <td>-99.0</td>\n",
              "      <td>-99.0</td>\n",
              "      <td>-99.0</td>\n",
              "      <td>-99.0</td>\n",
              "      <td>-99.0</td>\n",
              "      <td>-99.0</td>\n",
              "      <td>-99.0</td>\n",
              "      <td>-99.0</td>\n",
              "      <td>-99.0</td>\n",
              "      <td>-99.0</td>\n",
              "      <td>-99.0</td>\n",
              "      <td>-99.0</td>\n",
              "      <td>-99.0</td>\n",
              "      <td>NaN</td>\n",
              "      <td>0</td>\n",
              "      <td>0</td>\n",
              "      <td>1</td>\n",
              "      <td>0</td>\n",
              "      <td>-0.039837</td>\n",
              "    </tr>\n",
              "    <tr>\n",
              "      <th>2</th>\n",
              "      <td>2</td>\n",
              "      <td>3</td>\n",
              "      <td>3</td>\n",
              "      <td>0</td>\n",
              "      <td>33</td>\n",
              "      <td>1</td>\n",
              "      <td>4</td>\n",
              "      <td>12</td>\n",
              "      <td>4</td>\n",
              "      <td>2</td>\n",
              "      <td>0</td>\n",
              "      <td>2</td>\n",
              "      <td>1</td>\n",
              "      <td>4</td>\n",
              "      <td>1</td>\n",
              "      <td>5</td>\n",
              "      <td>1</td>\n",
              "      <td>9</td>\n",
              "      <td>1</td>\n",
              "      <td>2</td>\n",
              "      <td>15.0</td>\n",
              "      <td>9.0</td>\n",
              "      <td>2.0</td>\n",
              "      <td>0.0</td>\n",
              "      <td>0.0</td>\n",
              "      <td>0.0</td>\n",
              "      <td>0.0</td>\n",
              "      <td>6.0</td>\n",
              "      <td>NaN</td>\n",
              "      <td>NaN</td>\n",
              "      <td>NaN</td>\n",
              "      <td>NaN</td>\n",
              "      <td>NaN</td>\n",
              "      <td>NaN</td>\n",
              "      <td>NaN</td>\n",
              "      <td>2</td>\n",
              "      <td>2</td>\n",
              "      <td>30377</td>\n",
              "      <td>0</td>\n",
              "      <td>2</td>\n",
              "      <td>...</td>\n",
              "      <td>0.0</td>\n",
              "      <td>0.0</td>\n",
              "      <td>0.0</td>\n",
              "      <td>0.0</td>\n",
              "      <td>0.0</td>\n",
              "      <td>0.0</td>\n",
              "      <td>0.0</td>\n",
              "      <td>0.0</td>\n",
              "      <td>0.0</td>\n",
              "      <td>0.0</td>\n",
              "      <td>13.0</td>\n",
              "      <td>13.0</td>\n",
              "      <td>20.0</td>\n",
              "      <td>20.0</td>\n",
              "      <td>23.0</td>\n",
              "      <td>21.0</td>\n",
              "      <td>11.0</td>\n",
              "      <td>9.0</td>\n",
              "      <td>10.0</td>\n",
              "      <td>12.0</td>\n",
              "      <td>13.0</td>\n",
              "      <td>9.0</td>\n",
              "      <td>11.0</td>\n",
              "      <td>3807.0</td>\n",
              "      <td>2314.0</td>\n",
              "      <td>0.0</td>\n",
              "      <td>3.0</td>\n",
              "      <td>2.0</td>\n",
              "      <td>33.0</td>\n",
              "      <td>0.0</td>\n",
              "      <td>33.0</td>\n",
              "      <td>0.0</td>\n",
              "      <td>143.0</td>\n",
              "      <td>110.0</td>\n",
              "      <td>8.0</td>\n",
              "      <td>0</td>\n",
              "      <td>0</td>\n",
              "      <td>1</td>\n",
              "      <td>0</td>\n",
              "      <td>-0.039837</td>\n",
              "    </tr>\n",
              "    <tr>\n",
              "      <th>3</th>\n",
              "      <td>3</td>\n",
              "      <td>4</td>\n",
              "      <td>4</td>\n",
              "      <td>0</td>\n",
              "      <td>34</td>\n",
              "      <td>2</td>\n",
              "      <td>4</td>\n",
              "      <td>12</td>\n",
              "      <td>5</td>\n",
              "      <td>5</td>\n",
              "      <td>0</td>\n",
              "      <td>0</td>\n",
              "      <td>0</td>\n",
              "      <td>0</td>\n",
              "      <td>0</td>\n",
              "      <td>0</td>\n",
              "      <td>0</td>\n",
              "      <td>1</td>\n",
              "      <td>1</td>\n",
              "      <td>0</td>\n",
              "      <td>NaN</td>\n",
              "      <td>NaN</td>\n",
              "      <td>NaN</td>\n",
              "      <td>0.0</td>\n",
              "      <td>0.0</td>\n",
              "      <td>0.0</td>\n",
              "      <td>0.0</td>\n",
              "      <td>6.0</td>\n",
              "      <td>NaN</td>\n",
              "      <td>NaN</td>\n",
              "      <td>NaN</td>\n",
              "      <td>NaN</td>\n",
              "      <td>NaN</td>\n",
              "      <td>NaN</td>\n",
              "      <td>NaN</td>\n",
              "      <td>2</td>\n",
              "      <td>1</td>\n",
              "      <td>0</td>\n",
              "      <td>0</td>\n",
              "      <td>5</td>\n",
              "      <td>...</td>\n",
              "      <td>0.0</td>\n",
              "      <td>0.0</td>\n",
              "      <td>0.0</td>\n",
              "      <td>0.0</td>\n",
              "      <td>0.0</td>\n",
              "      <td>0.0</td>\n",
              "      <td>0.0</td>\n",
              "      <td>0.0</td>\n",
              "      <td>0.0</td>\n",
              "      <td>0.0</td>\n",
              "      <td>0.0</td>\n",
              "      <td>0.0</td>\n",
              "      <td>0.0</td>\n",
              "      <td>0.0</td>\n",
              "      <td>0.0</td>\n",
              "      <td>0.0</td>\n",
              "      <td>0.0</td>\n",
              "      <td>0.0</td>\n",
              "      <td>0.0</td>\n",
              "      <td>0.0</td>\n",
              "      <td>0.0</td>\n",
              "      <td>0.0</td>\n",
              "      <td>0.0</td>\n",
              "      <td>0.0</td>\n",
              "      <td>0.0</td>\n",
              "      <td>0.0</td>\n",
              "      <td>0.0</td>\n",
              "      <td>0.0</td>\n",
              "      <td>0.0</td>\n",
              "      <td>0.0</td>\n",
              "      <td>0.0</td>\n",
              "      <td>0.0</td>\n",
              "      <td>0.0</td>\n",
              "      <td>0.0</td>\n",
              "      <td>10.0</td>\n",
              "      <td>1</td>\n",
              "      <td>0</td>\n",
              "      <td>0</td>\n",
              "      <td>0</td>\n",
              "      <td>0.303513</td>\n",
              "    </tr>\n",
              "  </tbody>\n",
              "</table>\n",
              "<p>4 rows × 91 columns</p>\n",
              "</div>"
            ],
            "text/plain": [
              "   Unnamed: 0  Unnamed: 0.1  id  ...  AP006_h5  AP006_ios     MB007\n",
              "0           0             1   1  ...         0          1 -0.078644\n",
              "1           1             2   2  ...         1          0 -0.039837\n",
              "2           2             3   3  ...         1          0 -0.039837\n",
              "3           3             4   4  ...         0          0  0.303513\n",
              "\n",
              "[4 rows x 91 columns]"
            ]
          },
          "metadata": {
            "tags": []
          },
          "execution_count": 18
        }
      ]
    },
    {
      "cell_type": "markdown",
      "metadata": {
        "id": "d0ReZWQsN_pu"
      },
      "source": [
        "Find -99, -98 etc and replace these numbers with NA"
      ]
    },
    {
      "cell_type": "code",
      "metadata": {
        "colab": {
          "base_uri": "https://localhost:8080/"
        },
        "id": "A9CKw_QgOGbP",
        "outputId": "d4148077-b1e4-456a-fc89-b630625246bd"
      },
      "source": [
        "unique_elements, counts_elements = np.unique(loan_data3, return_counts=True)\n",
        "print(\"Frequency of unique values of the said array:\")\n",
        "print(np.asarray((unique_elements, counts_elements)))"
      ],
      "execution_count": null,
      "outputs": [
        {
          "output_type": "stream",
          "text": [
            "Frequency of unique values of the said array:\n",
            "[[-9.90000e+01 -9.80000e+01 -1.00000e+00 ...          nan          nan\n",
            "           nan]\n",
            " [ 1.28256e+05  2.27615e+05  1.06643e+05 ...  1.00000e+00  1.00000e+00\n",
            "   1.00000e+00]]\n"
          ],
          "name": "stdout"
        }
      ]
    },
    {
      "cell_type": "code",
      "metadata": {
        "id": "PLgB_0m8Oae2"
      },
      "source": [
        "loan_data3 = loan_data3.replace([-99,-98],np.nan)"
      ],
      "execution_count": null,
      "outputs": []
    },
    {
      "cell_type": "markdown",
      "metadata": {
        "id": "uUNk_H3kAku-"
      },
      "source": [
        "Calculating the missing values "
      ]
    },
    {
      "cell_type": "code",
      "metadata": {
        "id": "N6CtOFfBAnK4"
      },
      "source": [
        "# fill na with max\n",
        "for i in loan_data3.columns:\n",
        "  loan_data3[i] =  loan_data3[i].fillna(loan_data3[i].max())"
      ],
      "execution_count": null,
      "outputs": []
    },
    {
      "cell_type": "code",
      "metadata": {
        "id": "0Mbx_VzhDMmV",
        "colab": {
          "base_uri": "https://localhost:8080/",
          "height": 270
        },
        "outputId": "41b2dba2-539b-402a-d4ee-1c16b205bb55"
      },
      "source": [
        "loan_data3.head(5)"
      ],
      "execution_count": null,
      "outputs": [
        {
          "output_type": "execute_result",
          "data": {
            "text/html": [
              "<div>\n",
              "<style scoped>\n",
              "    .dataframe tbody tr th:only-of-type {\n",
              "        vertical-align: middle;\n",
              "    }\n",
              "\n",
              "    .dataframe tbody tr th {\n",
              "        vertical-align: top;\n",
              "    }\n",
              "\n",
              "    .dataframe thead th {\n",
              "        text-align: right;\n",
              "    }\n",
              "</style>\n",
              "<table border=\"1\" class=\"dataframe\">\n",
              "  <thead>\n",
              "    <tr style=\"text-align: right;\">\n",
              "      <th></th>\n",
              "      <th>Unnamed: 0</th>\n",
              "      <th>Unnamed: 0.1</th>\n",
              "      <th>id</th>\n",
              "      <th>loan_default</th>\n",
              "      <th>AP001</th>\n",
              "      <th>AP002</th>\n",
              "      <th>AP003</th>\n",
              "      <th>AP004</th>\n",
              "      <th>AP007</th>\n",
              "      <th>AP008</th>\n",
              "      <th>AP009</th>\n",
              "      <th>TD001</th>\n",
              "      <th>TD002</th>\n",
              "      <th>TD005</th>\n",
              "      <th>TD006</th>\n",
              "      <th>TD009</th>\n",
              "      <th>TD010</th>\n",
              "      <th>TD013</th>\n",
              "      <th>TD014</th>\n",
              "      <th>TD015</th>\n",
              "      <th>TD022</th>\n",
              "      <th>TD023</th>\n",
              "      <th>TD024</th>\n",
              "      <th>TD025</th>\n",
              "      <th>TD026</th>\n",
              "      <th>TD027</th>\n",
              "      <th>TD028</th>\n",
              "      <th>TD029</th>\n",
              "      <th>TD044</th>\n",
              "      <th>TD048</th>\n",
              "      <th>TD051</th>\n",
              "      <th>TD054</th>\n",
              "      <th>TD055</th>\n",
              "      <th>TD061</th>\n",
              "      <th>TD062</th>\n",
              "      <th>CR004</th>\n",
              "      <th>CR005</th>\n",
              "      <th>CR009</th>\n",
              "      <th>CR012</th>\n",
              "      <th>CR015</th>\n",
              "      <th>...</th>\n",
              "      <th>CD071</th>\n",
              "      <th>CD072</th>\n",
              "      <th>CD088</th>\n",
              "      <th>CD100</th>\n",
              "      <th>CD101</th>\n",
              "      <th>CD106</th>\n",
              "      <th>CD107</th>\n",
              "      <th>CD108</th>\n",
              "      <th>CD113</th>\n",
              "      <th>CD114</th>\n",
              "      <th>CD115</th>\n",
              "      <th>CD117</th>\n",
              "      <th>CD118</th>\n",
              "      <th>CD120</th>\n",
              "      <th>CD121</th>\n",
              "      <th>CD123</th>\n",
              "      <th>CD130</th>\n",
              "      <th>CD131</th>\n",
              "      <th>CD132</th>\n",
              "      <th>CD133</th>\n",
              "      <th>CD135</th>\n",
              "      <th>CD136</th>\n",
              "      <th>CD137</th>\n",
              "      <th>CD152</th>\n",
              "      <th>CD153</th>\n",
              "      <th>CD160</th>\n",
              "      <th>CD162</th>\n",
              "      <th>CD164</th>\n",
              "      <th>CD166</th>\n",
              "      <th>CD167</th>\n",
              "      <th>CD169</th>\n",
              "      <th>CD170</th>\n",
              "      <th>CD172</th>\n",
              "      <th>CD173</th>\n",
              "      <th>MB005</th>\n",
              "      <th>AP006_android</th>\n",
              "      <th>AP006_api</th>\n",
              "      <th>AP006_h5</th>\n",
              "      <th>AP006_ios</th>\n",
              "      <th>MB007</th>\n",
              "    </tr>\n",
              "  </thead>\n",
              "  <tbody>\n",
              "    <tr>\n",
              "      <th>0</th>\n",
              "      <td>0</td>\n",
              "      <td>1</td>\n",
              "      <td>1</td>\n",
              "      <td>1</td>\n",
              "      <td>31</td>\n",
              "      <td>2</td>\n",
              "      <td>1</td>\n",
              "      <td>12</td>\n",
              "      <td>3</td>\n",
              "      <td>3</td>\n",
              "      <td>1</td>\n",
              "      <td>1</td>\n",
              "      <td>1</td>\n",
              "      <td>4</td>\n",
              "      <td>1</td>\n",
              "      <td>5</td>\n",
              "      <td>1</td>\n",
              "      <td>14</td>\n",
              "      <td>2</td>\n",
              "      <td>2</td>\n",
              "      <td>10.0</td>\n",
              "      <td>9.0</td>\n",
              "      <td>6.0</td>\n",
              "      <td>0.0</td>\n",
              "      <td>0.0</td>\n",
              "      <td>0.0</td>\n",
              "      <td>0.0</td>\n",
              "      <td>6.0</td>\n",
              "      <td>20.0</td>\n",
              "      <td>60.0</td>\n",
              "      <td>20.0</td>\n",
              "      <td>60.0</td>\n",
              "      <td>30.0</td>\n",
              "      <td>2.0</td>\n",
              "      <td>30.0</td>\n",
              "      <td>2</td>\n",
              "      <td>1</td>\n",
              "      <td>35807</td>\n",
              "      <td>0</td>\n",
              "      <td>4</td>\n",
              "      <td>...</td>\n",
              "      <td>0.0</td>\n",
              "      <td>0.0</td>\n",
              "      <td>0.0</td>\n",
              "      <td>0.0</td>\n",
              "      <td>0.0</td>\n",
              "      <td>1.0</td>\n",
              "      <td>0.0</td>\n",
              "      <td>1.0</td>\n",
              "      <td>0.0</td>\n",
              "      <td>1.0</td>\n",
              "      <td>57.0</td>\n",
              "      <td>48.0</td>\n",
              "      <td>95.0</td>\n",
              "      <td>79.0</td>\n",
              "      <td>125.0</td>\n",
              "      <td>103.0</td>\n",
              "      <td>43.0</td>\n",
              "      <td>55.0</td>\n",
              "      <td>56.0</td>\n",
              "      <td>52.0</td>\n",
              "      <td>65.0</td>\n",
              "      <td>91.0</td>\n",
              "      <td>96.0</td>\n",
              "      <td>10900.0</td>\n",
              "      <td>12757.0</td>\n",
              "      <td>8.0</td>\n",
              "      <td>13.0</td>\n",
              "      <td>13.0</td>\n",
              "      <td>0.0</td>\n",
              "      <td>0.0</td>\n",
              "      <td>1449.0</td>\n",
              "      <td>1449.0</td>\n",
              "      <td>2249.0</td>\n",
              "      <td>2249.0</td>\n",
              "      <td>7.0</td>\n",
              "      <td>0</td>\n",
              "      <td>0</td>\n",
              "      <td>0</td>\n",
              "      <td>1</td>\n",
              "      <td>-0.078644</td>\n",
              "    </tr>\n",
              "    <tr>\n",
              "      <th>1</th>\n",
              "      <td>1</td>\n",
              "      <td>2</td>\n",
              "      <td>2</td>\n",
              "      <td>0</td>\n",
              "      <td>27</td>\n",
              "      <td>1</td>\n",
              "      <td>1</td>\n",
              "      <td>12</td>\n",
              "      <td>5</td>\n",
              "      <td>4</td>\n",
              "      <td>0</td>\n",
              "      <td>2</td>\n",
              "      <td>0</td>\n",
              "      <td>3</td>\n",
              "      <td>1</td>\n",
              "      <td>3</td>\n",
              "      <td>1</td>\n",
              "      <td>3</td>\n",
              "      <td>2</td>\n",
              "      <td>0</td>\n",
              "      <td>15.0</td>\n",
              "      <td>6.0</td>\n",
              "      <td>0.0</td>\n",
              "      <td>0.0</td>\n",
              "      <td>0.0</td>\n",
              "      <td>0.0</td>\n",
              "      <td>0.0</td>\n",
              "      <td>6.0</td>\n",
              "      <td>20.0</td>\n",
              "      <td>60.0</td>\n",
              "      <td>20.0</td>\n",
              "      <td>60.0</td>\n",
              "      <td>30.0</td>\n",
              "      <td>2.0</td>\n",
              "      <td>30.0</td>\n",
              "      <td>3</td>\n",
              "      <td>1</td>\n",
              "      <td>7254</td>\n",
              "      <td>0</td>\n",
              "      <td>6</td>\n",
              "      <td>...</td>\n",
              "      <td>1123.0</td>\n",
              "      <td>784.0</td>\n",
              "      <td>1416.0</td>\n",
              "      <td>1958.0</td>\n",
              "      <td>1003.0</td>\n",
              "      <td>2717.0</td>\n",
              "      <td>1367.0</td>\n",
              "      <td>1596.0</td>\n",
              "      <td>60.0</td>\n",
              "      <td>90.0</td>\n",
              "      <td>979.0</td>\n",
              "      <td>613.0</td>\n",
              "      <td>1602.0</td>\n",
              "      <td>1045.0</td>\n",
              "      <td>2106.0</td>\n",
              "      <td>1199.0</td>\n",
              "      <td>982.0</td>\n",
              "      <td>1025.0</td>\n",
              "      <td>2780.0</td>\n",
              "      <td>2067.0</td>\n",
              "      <td>1372.0</td>\n",
              "      <td>1526.0</td>\n",
              "      <td>3849.0</td>\n",
              "      <td>1285469.0</td>\n",
              "      <td>2617892.0</td>\n",
              "      <td>1061.0</td>\n",
              "      <td>2792.0</td>\n",
              "      <td>1579.0</td>\n",
              "      <td>48585.0</td>\n",
              "      <td>29664.0</td>\n",
              "      <td>88364.0</td>\n",
              "      <td>54651.0</td>\n",
              "      <td>125352.0</td>\n",
              "      <td>87312.0</td>\n",
              "      <td>47.0</td>\n",
              "      <td>0</td>\n",
              "      <td>0</td>\n",
              "      <td>1</td>\n",
              "      <td>0</td>\n",
              "      <td>-0.039837</td>\n",
              "    </tr>\n",
              "    <tr>\n",
              "      <th>2</th>\n",
              "      <td>2</td>\n",
              "      <td>3</td>\n",
              "      <td>3</td>\n",
              "      <td>0</td>\n",
              "      <td>33</td>\n",
              "      <td>1</td>\n",
              "      <td>4</td>\n",
              "      <td>12</td>\n",
              "      <td>4</td>\n",
              "      <td>2</td>\n",
              "      <td>0</td>\n",
              "      <td>2</td>\n",
              "      <td>1</td>\n",
              "      <td>4</td>\n",
              "      <td>1</td>\n",
              "      <td>5</td>\n",
              "      <td>1</td>\n",
              "      <td>9</td>\n",
              "      <td>1</td>\n",
              "      <td>2</td>\n",
              "      <td>15.0</td>\n",
              "      <td>9.0</td>\n",
              "      <td>2.0</td>\n",
              "      <td>0.0</td>\n",
              "      <td>0.0</td>\n",
              "      <td>0.0</td>\n",
              "      <td>0.0</td>\n",
              "      <td>6.0</td>\n",
              "      <td>20.0</td>\n",
              "      <td>60.0</td>\n",
              "      <td>20.0</td>\n",
              "      <td>60.0</td>\n",
              "      <td>30.0</td>\n",
              "      <td>2.0</td>\n",
              "      <td>30.0</td>\n",
              "      <td>2</td>\n",
              "      <td>2</td>\n",
              "      <td>30377</td>\n",
              "      <td>0</td>\n",
              "      <td>2</td>\n",
              "      <td>...</td>\n",
              "      <td>0.0</td>\n",
              "      <td>0.0</td>\n",
              "      <td>0.0</td>\n",
              "      <td>0.0</td>\n",
              "      <td>0.0</td>\n",
              "      <td>0.0</td>\n",
              "      <td>0.0</td>\n",
              "      <td>0.0</td>\n",
              "      <td>0.0</td>\n",
              "      <td>0.0</td>\n",
              "      <td>13.0</td>\n",
              "      <td>13.0</td>\n",
              "      <td>20.0</td>\n",
              "      <td>20.0</td>\n",
              "      <td>23.0</td>\n",
              "      <td>21.0</td>\n",
              "      <td>11.0</td>\n",
              "      <td>9.0</td>\n",
              "      <td>10.0</td>\n",
              "      <td>12.0</td>\n",
              "      <td>13.0</td>\n",
              "      <td>9.0</td>\n",
              "      <td>11.0</td>\n",
              "      <td>3807.0</td>\n",
              "      <td>2314.0</td>\n",
              "      <td>0.0</td>\n",
              "      <td>3.0</td>\n",
              "      <td>2.0</td>\n",
              "      <td>33.0</td>\n",
              "      <td>0.0</td>\n",
              "      <td>33.0</td>\n",
              "      <td>0.0</td>\n",
              "      <td>143.0</td>\n",
              "      <td>110.0</td>\n",
              "      <td>8.0</td>\n",
              "      <td>0</td>\n",
              "      <td>0</td>\n",
              "      <td>1</td>\n",
              "      <td>0</td>\n",
              "      <td>-0.039837</td>\n",
              "    </tr>\n",
              "    <tr>\n",
              "      <th>3</th>\n",
              "      <td>3</td>\n",
              "      <td>4</td>\n",
              "      <td>4</td>\n",
              "      <td>0</td>\n",
              "      <td>34</td>\n",
              "      <td>2</td>\n",
              "      <td>4</td>\n",
              "      <td>12</td>\n",
              "      <td>5</td>\n",
              "      <td>5</td>\n",
              "      <td>0</td>\n",
              "      <td>0</td>\n",
              "      <td>0</td>\n",
              "      <td>0</td>\n",
              "      <td>0</td>\n",
              "      <td>0</td>\n",
              "      <td>0</td>\n",
              "      <td>1</td>\n",
              "      <td>1</td>\n",
              "      <td>0</td>\n",
              "      <td>30.0</td>\n",
              "      <td>30.0</td>\n",
              "      <td>30.0</td>\n",
              "      <td>0.0</td>\n",
              "      <td>0.0</td>\n",
              "      <td>0.0</td>\n",
              "      <td>0.0</td>\n",
              "      <td>6.0</td>\n",
              "      <td>20.0</td>\n",
              "      <td>60.0</td>\n",
              "      <td>20.0</td>\n",
              "      <td>60.0</td>\n",
              "      <td>30.0</td>\n",
              "      <td>2.0</td>\n",
              "      <td>30.0</td>\n",
              "      <td>2</td>\n",
              "      <td>1</td>\n",
              "      <td>0</td>\n",
              "      <td>0</td>\n",
              "      <td>5</td>\n",
              "      <td>...</td>\n",
              "      <td>0.0</td>\n",
              "      <td>0.0</td>\n",
              "      <td>0.0</td>\n",
              "      <td>0.0</td>\n",
              "      <td>0.0</td>\n",
              "      <td>0.0</td>\n",
              "      <td>0.0</td>\n",
              "      <td>0.0</td>\n",
              "      <td>0.0</td>\n",
              "      <td>0.0</td>\n",
              "      <td>0.0</td>\n",
              "      <td>0.0</td>\n",
              "      <td>0.0</td>\n",
              "      <td>0.0</td>\n",
              "      <td>0.0</td>\n",
              "      <td>0.0</td>\n",
              "      <td>0.0</td>\n",
              "      <td>0.0</td>\n",
              "      <td>0.0</td>\n",
              "      <td>0.0</td>\n",
              "      <td>0.0</td>\n",
              "      <td>0.0</td>\n",
              "      <td>0.0</td>\n",
              "      <td>0.0</td>\n",
              "      <td>0.0</td>\n",
              "      <td>0.0</td>\n",
              "      <td>0.0</td>\n",
              "      <td>0.0</td>\n",
              "      <td>0.0</td>\n",
              "      <td>0.0</td>\n",
              "      <td>0.0</td>\n",
              "      <td>0.0</td>\n",
              "      <td>0.0</td>\n",
              "      <td>0.0</td>\n",
              "      <td>10.0</td>\n",
              "      <td>1</td>\n",
              "      <td>0</td>\n",
              "      <td>0</td>\n",
              "      <td>0</td>\n",
              "      <td>0.303513</td>\n",
              "    </tr>\n",
              "    <tr>\n",
              "      <th>4</th>\n",
              "      <td>4</td>\n",
              "      <td>5</td>\n",
              "      <td>5</td>\n",
              "      <td>0</td>\n",
              "      <td>47</td>\n",
              "      <td>2</td>\n",
              "      <td>1</td>\n",
              "      <td>12</td>\n",
              "      <td>4</td>\n",
              "      <td>4</td>\n",
              "      <td>1</td>\n",
              "      <td>2</td>\n",
              "      <td>0</td>\n",
              "      <td>2</td>\n",
              "      <td>1</td>\n",
              "      <td>2</td>\n",
              "      <td>1</td>\n",
              "      <td>2</td>\n",
              "      <td>1</td>\n",
              "      <td>0</td>\n",
              "      <td>10.0</td>\n",
              "      <td>3.0</td>\n",
              "      <td>0.0</td>\n",
              "      <td>0.0</td>\n",
              "      <td>0.0</td>\n",
              "      <td>0.0</td>\n",
              "      <td>0.0</td>\n",
              "      <td>6.0</td>\n",
              "      <td>20.0</td>\n",
              "      <td>60.0</td>\n",
              "      <td>20.0</td>\n",
              "      <td>60.0</td>\n",
              "      <td>30.0</td>\n",
              "      <td>2.0</td>\n",
              "      <td>30.0</td>\n",
              "      <td>4</td>\n",
              "      <td>2</td>\n",
              "      <td>0</td>\n",
              "      <td>0</td>\n",
              "      <td>6</td>\n",
              "      <td>...</td>\n",
              "      <td>1123.0</td>\n",
              "      <td>784.0</td>\n",
              "      <td>1416.0</td>\n",
              "      <td>1958.0</td>\n",
              "      <td>1003.0</td>\n",
              "      <td>2717.0</td>\n",
              "      <td>1367.0</td>\n",
              "      <td>1596.0</td>\n",
              "      <td>60.0</td>\n",
              "      <td>90.0</td>\n",
              "      <td>979.0</td>\n",
              "      <td>613.0</td>\n",
              "      <td>1602.0</td>\n",
              "      <td>1045.0</td>\n",
              "      <td>2106.0</td>\n",
              "      <td>1199.0</td>\n",
              "      <td>982.0</td>\n",
              "      <td>1025.0</td>\n",
              "      <td>2780.0</td>\n",
              "      <td>2067.0</td>\n",
              "      <td>1372.0</td>\n",
              "      <td>1526.0</td>\n",
              "      <td>3849.0</td>\n",
              "      <td>1285469.0</td>\n",
              "      <td>2617892.0</td>\n",
              "      <td>1061.0</td>\n",
              "      <td>2792.0</td>\n",
              "      <td>1579.0</td>\n",
              "      <td>48585.0</td>\n",
              "      <td>29664.0</td>\n",
              "      <td>88364.0</td>\n",
              "      <td>54651.0</td>\n",
              "      <td>125352.0</td>\n",
              "      <td>87312.0</td>\n",
              "      <td>47.0</td>\n",
              "      <td>0</td>\n",
              "      <td>0</td>\n",
              "      <td>1</td>\n",
              "      <td>0</td>\n",
              "      <td>-0.039837</td>\n",
              "    </tr>\n",
              "  </tbody>\n",
              "</table>\n",
              "<p>5 rows × 91 columns</p>\n",
              "</div>"
            ],
            "text/plain": [
              "   Unnamed: 0  Unnamed: 0.1  id  ...  AP006_h5  AP006_ios     MB007\n",
              "0           0             1   1  ...         0          1 -0.078644\n",
              "1           1             2   2  ...         1          0 -0.039837\n",
              "2           2             3   3  ...         1          0 -0.039837\n",
              "3           3             4   4  ...         0          0  0.303513\n",
              "4           4             5   5  ...         1          0 -0.039837\n",
              "\n",
              "[5 rows x 91 columns]"
            ]
          },
          "metadata": {
            "tags": []
          },
          "execution_count": 60
        }
      ]
    },
    {
      "cell_type": "markdown",
      "metadata": {
        "id": "b4Amb0bB782Q"
      },
      "source": [
        "## Split the data"
      ]
    },
    {
      "cell_type": "code",
      "metadata": {
        "id": "vr-hnJLM2658"
      },
      "source": [
        "from sklearn.model_selection import train_test_split\n",
        "train2, test2 = train_test_split(\n",
        "     loan_data3, test_size=0.40, random_state=42)"
      ],
      "execution_count": null,
      "outputs": []
    },
    {
      "cell_type": "code",
      "metadata": {
        "colab": {
          "base_uri": "https://localhost:8080/"
        },
        "id": "_dHi8uNODkrx",
        "outputId": "c4a65cdf-4287-4b17-ee2f-1e2fd71eacb4"
      },
      "source": [
        "! pip3 install h2o"
      ],
      "execution_count": null,
      "outputs": [
        {
          "output_type": "stream",
          "text": [
            "Collecting h2o\n",
            "\u001b[?25l  Downloading https://files.pythonhosted.org/packages/bb/55/494a42e7509d0874aa444ae4cad0bc7439c936b40e563550fbfabb540275/h2o-3.30.1.3.tar.gz (129.4MB)\n",
            "\u001b[K     |████████████████████████████████| 129.4MB 75kB/s \n",
            "\u001b[?25hRequirement already satisfied: requests in /usr/local/lib/python3.6/dist-packages (from h2o) (2.23.0)\n",
            "Requirement already satisfied: tabulate in /usr/local/lib/python3.6/dist-packages (from h2o) (0.8.7)\n",
            "Requirement already satisfied: future in /usr/local/lib/python3.6/dist-packages (from h2o) (0.16.0)\n",
            "Collecting colorama>=0.3.8\n",
            "  Downloading https://files.pythonhosted.org/packages/44/98/5b86278fbbf250d239ae0ecb724f8572af1c91f4a11edf4d36a206189440/colorama-0.4.4-py2.py3-none-any.whl\n",
            "Requirement already satisfied: certifi>=2017.4.17 in /usr/local/lib/python3.6/dist-packages (from requests->h2o) (2020.11.8)\n",
            "Requirement already satisfied: urllib3!=1.25.0,!=1.25.1,<1.26,>=1.21.1 in /usr/local/lib/python3.6/dist-packages (from requests->h2o) (1.24.3)\n",
            "Requirement already satisfied: idna<3,>=2.5 in /usr/local/lib/python3.6/dist-packages (from requests->h2o) (2.10)\n",
            "Requirement already satisfied: chardet<4,>=3.0.2 in /usr/local/lib/python3.6/dist-packages (from requests->h2o) (3.0.4)\n",
            "Building wheels for collected packages: h2o\n",
            "  Building wheel for h2o (setup.py) ... \u001b[?25l\u001b[?25hdone\n",
            "  Created wheel for h2o: filename=h2o-3.30.1.3-py2.py3-none-any.whl size=129446676 sha256=2af49881771881b31f68e28112550f9a32142b10fb0deef51e1f0971e3890471\n",
            "  Stored in directory: /root/.cache/pip/wheels/3d/e6/07/53ce9be9cb61b33a79cb3ed1fc39f2dae84f6ee6fe1e373e5e\n",
            "Successfully built h2o\n",
            "Installing collected packages: colorama, h2o\n",
            "Successfully installed colorama-0.4.4 h2o-3.30.1.3\n"
          ],
          "name": "stdout"
        }
      ]
    },
    {
      "cell_type": "code",
      "metadata": {
        "id": "n0HVRXjoG3YX",
        "colab": {
          "base_uri": "https://localhost:8080/",
          "height": 545
        },
        "outputId": "64ba3ba8-e58f-4f62-f8ea-d649062ea5c0"
      },
      "source": [
        "import h2o\n",
        "h2o.init()"
      ],
      "execution_count": null,
      "outputs": [
        {
          "output_type": "stream",
          "text": [
            "Checking whether there is an H2O instance running at http://localhost:54321 ..... not found.\n",
            "Attempting to start a local H2O server...\n",
            "  Java Version: openjdk version \"11.0.9.1\" 2020-11-04; OpenJDK Runtime Environment (build 11.0.9.1+1-Ubuntu-0ubuntu1.18.04); OpenJDK 64-Bit Server VM (build 11.0.9.1+1-Ubuntu-0ubuntu1.18.04, mixed mode, sharing)\n",
            "  Starting server from /usr/local/lib/python3.6/dist-packages/h2o/backend/bin/h2o.jar\n",
            "  Ice root: /tmp/tmpatsdhnbk\n",
            "  JVM stdout: /tmp/tmpatsdhnbk/h2o_unknownUser_started_from_python.out\n",
            "  JVM stderr: /tmp/tmpatsdhnbk/h2o_unknownUser_started_from_python.err\n",
            "  Server is running at http://127.0.0.1:54321\n",
            "Connecting to H2O server at http://127.0.0.1:54321 ... successful.\n"
          ],
          "name": "stdout"
        },
        {
          "output_type": "display_data",
          "data": {
            "text/html": [
              "<div style=\"overflow:auto\"><table style=\"width:50%\"><tr><td>H2O_cluster_uptime:</td>\n",
              "<td>03 secs</td></tr>\n",
              "<tr><td>H2O_cluster_timezone:</td>\n",
              "<td>Etc/UTC</td></tr>\n",
              "<tr><td>H2O_data_parsing_timezone:</td>\n",
              "<td>UTC</td></tr>\n",
              "<tr><td>H2O_cluster_version:</td>\n",
              "<td>3.30.1.3</td></tr>\n",
              "<tr><td>H2O_cluster_version_age:</td>\n",
              "<td>1 month and 26 days </td></tr>\n",
              "<tr><td>H2O_cluster_name:</td>\n",
              "<td>H2O_from_python_unknownUser_w3rcqd</td></tr>\n",
              "<tr><td>H2O_cluster_total_nodes:</td>\n",
              "<td>1</td></tr>\n",
              "<tr><td>H2O_cluster_free_memory:</td>\n",
              "<td>3.180 Gb</td></tr>\n",
              "<tr><td>H2O_cluster_total_cores:</td>\n",
              "<td>2</td></tr>\n",
              "<tr><td>H2O_cluster_allowed_cores:</td>\n",
              "<td>2</td></tr>\n",
              "<tr><td>H2O_cluster_status:</td>\n",
              "<td>accepting new members, healthy</td></tr>\n",
              "<tr><td>H2O_connection_url:</td>\n",
              "<td>http://127.0.0.1:54321</td></tr>\n",
              "<tr><td>H2O_connection_proxy:</td>\n",
              "<td>{\"http\": null, \"https\": null}</td></tr>\n",
              "<tr><td>H2O_internal_security:</td>\n",
              "<td>False</td></tr>\n",
              "<tr><td>H2O_API_Extensions:</td>\n",
              "<td>Amazon S3, XGBoost, Algos, AutoML, Core V3, TargetEncoder, Core V4</td></tr>\n",
              "<tr><td>Python_version:</td>\n",
              "<td>3.6.9 final</td></tr></table></div>"
            ],
            "text/plain": [
              "--------------------------  ------------------------------------------------------------------\n",
              "H2O_cluster_uptime:         03 secs\n",
              "H2O_cluster_timezone:       Etc/UTC\n",
              "H2O_data_parsing_timezone:  UTC\n",
              "H2O_cluster_version:        3.30.1.3\n",
              "H2O_cluster_version_age:    1 month and 26 days\n",
              "H2O_cluster_name:           H2O_from_python_unknownUser_w3rcqd\n",
              "H2O_cluster_total_nodes:    1\n",
              "H2O_cluster_free_memory:    3.180 Gb\n",
              "H2O_cluster_total_cores:    2\n",
              "H2O_cluster_allowed_cores:  2\n",
              "H2O_cluster_status:         accepting new members, healthy\n",
              "H2O_connection_url:         http://127.0.0.1:54321\n",
              "H2O_connection_proxy:       {\"http\": null, \"https\": null}\n",
              "H2O_internal_security:      False\n",
              "H2O_API_Extensions:         Amazon S3, XGBoost, Algos, AutoML, Core V3, TargetEncoder, Core V4\n",
              "Python_version:             3.6.9 final\n",
              "--------------------------  ------------------------------------------------------------------"
            ]
          },
          "metadata": {
            "tags": []
          }
        }
      ]
    },
    {
      "cell_type": "code",
      "metadata": {
        "id": "uRWOwOoEt2ty",
        "colab": {
          "base_uri": "https://localhost:8080/"
        },
        "outputId": "dc255b57-8bdf-4aed-ebbc-89e6a608cc0d"
      },
      "source": [
        "train_smp2 = train2.sample(frac=0.1, random_state=1)\n",
        "test_smp2 = test2.sample(frac=0.1, random_state=1)\n",
        "train_hex22 = h2o.H2OFrame(train_smp2)\n",
        "test_hex22 = h2o.H2OFrame(test_smp2)"
      ],
      "execution_count": null,
      "outputs": [
        {
          "output_type": "stream",
          "text": [
            "Parse progress: |█████████████████████████████████████████████████████████| 100%\n",
            "Parse progress: |█████████████████████████████████████████████████████████| 100%\n"
          ],
          "name": "stdout"
        }
      ]
    },
    {
      "cell_type": "code",
      "metadata": {
        "id": "I4Z22ak3ueDn",
        "colab": {
          "base_uri": "https://localhost:8080/"
        },
        "outputId": "112040f0-008e-4e93-dc22-b887abfa3450"
      },
      "source": [
        "train_hex222 = h2o.H2OFrame(train2)\n",
        "test_hex222 = h2o.H2OFrame(test2)"
      ],
      "execution_count": null,
      "outputs": [
        {
          "output_type": "stream",
          "text": [
            "Parse progress: |█████████████████████████████████████████████████████████| 100%\n",
            "Parse progress: |█████████████████████████████████████████████████████████| 100%\n"
          ],
          "name": "stdout"
        }
      ]
    },
    {
      "cell_type": "code",
      "metadata": {
        "id": "zkGD0KJEDVt4"
      },
      "source": [
        "target='loan_default'"
      ],
      "execution_count": null,
      "outputs": []
    },
    {
      "cell_type": "code",
      "metadata": {
        "id": "k9T2onTR8ZA7",
        "colab": {
          "base_uri": "https://localhost:8080/",
          "height": 204
        },
        "outputId": "e5831d04-0fe5-4f63-e762-55778eb33fa0"
      },
      "source": [
        "var2 = pd.DataFrame(train2.dtypes).reset_index()\n",
        "var2.head()"
      ],
      "execution_count": null,
      "outputs": [
        {
          "output_type": "execute_result",
          "data": {
            "text/html": [
              "<div>\n",
              "<style scoped>\n",
              "    .dataframe tbody tr th:only-of-type {\n",
              "        vertical-align: middle;\n",
              "    }\n",
              "\n",
              "    .dataframe tbody tr th {\n",
              "        vertical-align: top;\n",
              "    }\n",
              "\n",
              "    .dataframe thead th {\n",
              "        text-align: right;\n",
              "    }\n",
              "</style>\n",
              "<table border=\"1\" class=\"dataframe\">\n",
              "  <thead>\n",
              "    <tr style=\"text-align: right;\">\n",
              "      <th></th>\n",
              "      <th>index</th>\n",
              "      <th>0</th>\n",
              "    </tr>\n",
              "  </thead>\n",
              "  <tbody>\n",
              "    <tr>\n",
              "      <th>0</th>\n",
              "      <td>Unnamed: 0</td>\n",
              "      <td>int64</td>\n",
              "    </tr>\n",
              "    <tr>\n",
              "      <th>1</th>\n",
              "      <td>Unnamed: 0.1</td>\n",
              "      <td>int64</td>\n",
              "    </tr>\n",
              "    <tr>\n",
              "      <th>2</th>\n",
              "      <td>id</td>\n",
              "      <td>int64</td>\n",
              "    </tr>\n",
              "    <tr>\n",
              "      <th>3</th>\n",
              "      <td>loan_default</td>\n",
              "      <td>int64</td>\n",
              "    </tr>\n",
              "    <tr>\n",
              "      <th>4</th>\n",
              "      <td>AP001</td>\n",
              "      <td>int64</td>\n",
              "    </tr>\n",
              "  </tbody>\n",
              "</table>\n",
              "</div>"
            ],
            "text/plain": [
              "          index      0\n",
              "0    Unnamed: 0  int64\n",
              "1  Unnamed: 0.1  int64\n",
              "2            id  int64\n",
              "3  loan_default  int64\n",
              "4         AP001  int64"
            ]
          },
          "metadata": {
            "tags": []
          },
          "execution_count": 27
        }
      ]
    },
    {
      "cell_type": "code",
      "metadata": {
        "id": "VY6uasuq8d0a",
        "colab": {
          "base_uri": "https://localhost:8080/",
          "height": 204
        },
        "outputId": "66309c86-cf4f-4197-e517-0e49f7322a5e"
      },
      "source": [
        "var2.columns = ['varname','dtype'] \n",
        "var2['source'] = var2['varname'].str[:2]\n",
        "var2.head()"
      ],
      "execution_count": null,
      "outputs": [
        {
          "output_type": "execute_result",
          "data": {
            "text/html": [
              "<div>\n",
              "<style scoped>\n",
              "    .dataframe tbody tr th:only-of-type {\n",
              "        vertical-align: middle;\n",
              "    }\n",
              "\n",
              "    .dataframe tbody tr th {\n",
              "        vertical-align: top;\n",
              "    }\n",
              "\n",
              "    .dataframe thead th {\n",
              "        text-align: right;\n",
              "    }\n",
              "</style>\n",
              "<table border=\"1\" class=\"dataframe\">\n",
              "  <thead>\n",
              "    <tr style=\"text-align: right;\">\n",
              "      <th></th>\n",
              "      <th>varname</th>\n",
              "      <th>dtype</th>\n",
              "      <th>source</th>\n",
              "    </tr>\n",
              "  </thead>\n",
              "  <tbody>\n",
              "    <tr>\n",
              "      <th>0</th>\n",
              "      <td>Unnamed: 0</td>\n",
              "      <td>int64</td>\n",
              "      <td>Un</td>\n",
              "    </tr>\n",
              "    <tr>\n",
              "      <th>1</th>\n",
              "      <td>Unnamed: 0.1</td>\n",
              "      <td>int64</td>\n",
              "      <td>Un</td>\n",
              "    </tr>\n",
              "    <tr>\n",
              "      <th>2</th>\n",
              "      <td>id</td>\n",
              "      <td>int64</td>\n",
              "      <td>id</td>\n",
              "    </tr>\n",
              "    <tr>\n",
              "      <th>3</th>\n",
              "      <td>loan_default</td>\n",
              "      <td>int64</td>\n",
              "      <td>lo</td>\n",
              "    </tr>\n",
              "    <tr>\n",
              "      <th>4</th>\n",
              "      <td>AP001</td>\n",
              "      <td>int64</td>\n",
              "      <td>AP</td>\n",
              "    </tr>\n",
              "  </tbody>\n",
              "</table>\n",
              "</div>"
            ],
            "text/plain": [
              "        varname  dtype source\n",
              "0    Unnamed: 0  int64     Un\n",
              "1  Unnamed: 0.1  int64     Un\n",
              "2            id  int64     id\n",
              "3  loan_default  int64     lo\n",
              "4         AP001  int64     AP"
            ]
          },
          "metadata": {
            "tags": []
          },
          "execution_count": 28
        }
      ]
    },
    {
      "cell_type": "code",
      "metadata": {
        "id": "IctZc9Q5BB9k",
        "colab": {
          "base_uri": "https://localhost:8080/"
        },
        "outputId": "72a7cd2c-46fc-441b-d1e4-a9b1fbb5b269"
      },
      "source": [
        "var2['source'].value_counts()"
      ],
      "execution_count": null,
      "outputs": [
        {
          "output_type": "execute_result",
          "data": {
            "text/plain": [
              "CD    36\n",
              "TD    24\n",
              "AP    11\n",
              "CR     8\n",
              "PA     6\n",
              "Un     2\n",
              "MB     2\n",
              "lo     1\n",
              "id     1\n",
              "Name: source, dtype: int64"
            ]
          },
          "metadata": {
            "tags": []
          },
          "execution_count": 29
        }
      ]
    },
    {
      "cell_type": "code",
      "metadata": {
        "id": "PzS9wV33BHIo"
      },
      "source": [
        "MB_list2 = list(var2[var2['source']=='MB']['varname'])\n",
        "AP_list2 = list(var2[var2['source']=='AP']['varname'])\n",
        "TD_list2 = list(var2[var2['source']=='TD']['varname'])\n",
        "CR_list2 = list(var2[var2['source']=='CR']['varname'])\n",
        "PA_list2 = list(var2[var2['source']=='PA']['varname'])\n",
        "CD_list2 = list(var2[var2['source']=='CD']['varname'])"
      ],
      "execution_count": null,
      "outputs": []
    },
    {
      "cell_type": "code",
      "metadata": {
        "id": "EEwwT-1uDbbE"
      },
      "source": [
        "predictors = CR_list2 + TD_list2 + AP_list2 + MB_list2 + CD_list2 + PA_list2 "
      ],
      "execution_count": null,
      "outputs": []
    },
    {
      "cell_type": "markdown",
      "metadata": {
        "id": "752kj8AVGlj4"
      },
      "source": [
        "# Selected variables by Lasso method"
      ]
    },
    {
      "cell_type": "code",
      "metadata": {
        "id": "XeKk8TNDDL1o"
      },
      "source": [
        "X = loan_data3.drop(\"loan_default\",1)   #Feature Matrix\n",
        "y = loan_data3[\"loan_default\"]          #Target Variable"
      ],
      "execution_count": null,
      "outputs": []
    },
    {
      "cell_type": "code",
      "metadata": {
        "id": "wv4iBD6kJ8II"
      },
      "source": [
        "from sklearn.linear_model import LassoCV"
      ],
      "execution_count": null,
      "outputs": []
    },
    {
      "cell_type": "code",
      "metadata": {
        "colab": {
          "base_uri": "https://localhost:8080/"
        },
        "id": "7Xf-y1jDJval",
        "outputId": "6df07586-e3a3-47a8-8e76-ea5f894c946e"
      },
      "source": [
        "reg = LassoCV(max_iter=1000000000)\n",
        "reg.fit(X, y)\n",
        "print(\"Best alpha using built-in LassoCV: %f\" % reg.alpha_)\n",
        "print(\"Best score using built-in LassoCV: %f\" %reg.score(X,y))\n",
        "coef = pd.Series(reg.coef_, index = X.columns)"
      ],
      "execution_count": null,
      "outputs": [
        {
          "output_type": "stream",
          "text": [
            "Best alpha using built-in LassoCV: 1.138037\n",
            "Best score using built-in LassoCV: 0.012427\n"
          ],
          "name": "stdout"
        }
      ]
    },
    {
      "cell_type": "code",
      "metadata": {
        "colab": {
          "base_uri": "https://localhost:8080/"
        },
        "id": "_lg5k5vFKy8P",
        "outputId": "1bbbaede-f41b-46d2-943d-5a001018d96e"
      },
      "source": [
        "print(\"Lasso picked \" + str(sum(coef != 0)) + \" variables and eliminated the other \" +  str(sum(coef == 0)) + \" variables\")"
      ],
      "execution_count": null,
      "outputs": [
        {
          "output_type": "stream",
          "text": [
            "Lasso picked 16 variables and eliminated the other 74 variables\n"
          ],
          "name": "stdout"
        }
      ]
    },
    {
      "cell_type": "code",
      "metadata": {
        "colab": {
          "base_uri": "https://localhost:8080/",
          "height": 1000
        },
        "id": "EbGk7-jaK1PZ",
        "outputId": "cc06d763-500f-4e49-daac-ebd00af8cabb"
      },
      "source": [
        "imp_coef = coef.sort_values()\n",
        "import matplotlib \n",
        "matplotlib.rcParams['figure.figsize'] = (8.0, 20.0)\n",
        "imp_coef.plot(kind = \"barh\")"
      ],
      "execution_count": null,
      "outputs": [
        {
          "output_type": "execute_result",
          "data": {
            "text/plain": [
              "<matplotlib.axes._subplots.AxesSubplot at 0x7f19c89fecf8>"
            ]
          },
          "metadata": {
            "tags": []
          },
          "execution_count": 90
        },
        {
          "output_type": "display_data",
          "data": {
            "image/png": "[encoded data removed]",
            "text/plain": [
              "<Figure size 576x1440 with 1 Axes>"
            ]
          },
          "metadata": {
            "tags": [],
            "needs_background": "light"
          }
        }
      ]
    },
    {
      "cell_type": "code",
      "metadata": {
        "colab": {
          "base_uri": "https://localhost:8080/"
        },
        "id": "0u8WHDGvLD0n",
        "outputId": "6b2c2274-a8b5-4d8a-ff7c-3933d16f7ac3"
      },
      "source": [
        "coef[coef != 0].index"
      ],
      "execution_count": null,
      "outputs": [
        {
          "output_type": "execute_result",
          "data": {
            "text/plain": [
              "Index(['Unnamed: 0', 'Unnamed: 0.1', 'id', 'CR009', 'PA028', 'PA029', 'PA030',\n",
              "       'PA031', 'CD008', 'CD121', 'CD123', 'CD152', 'CD153', 'CD167', 'CD170',\n",
              "       'CD173'],\n",
              "      dtype='object')"
            ]
          },
          "metadata": {
            "tags": []
          },
          "execution_count": 96
        }
      ]
    },
    {
      "cell_type": "markdown",
      "metadata": {
        "id": "b-0qSG-sLcDv"
      },
      "source": [
        "Only using these 16 variables, then delete unnamed & id which left 13 variables"
      ]
    },
    {
      "cell_type": "code",
      "metadata": {
        "colab": {
          "base_uri": "https://localhost:8080/",
          "height": 204
        },
        "id": "Td8uggcXLavR",
        "outputId": "a64a58be-ea6c-450c-b989-52fd5058f51b"
      },
      "source": [
        "loan_data4 = loan_data3[['loan_default','CR009', 'PA028', 'PA029', 'PA030',\n",
        "       'PA031', 'CD008', 'CD121', 'CD123', 'CD152', 'CD153', 'CD167', 'CD170',\n",
        "       'CD173']]\n",
        "\n",
        "loan_data4.head(5)"
      ],
      "execution_count": null,
      "outputs": [
        {
          "output_type": "execute_result",
          "data": {
            "text/html": [
              "<div>\n",
              "<style scoped>\n",
              "    .dataframe tbody tr th:only-of-type {\n",
              "        vertical-align: middle;\n",
              "    }\n",
              "\n",
              "    .dataframe tbody tr th {\n",
              "        vertical-align: top;\n",
              "    }\n",
              "\n",
              "    .dataframe thead th {\n",
              "        text-align: right;\n",
              "    }\n",
              "</style>\n",
              "<table border=\"1\" class=\"dataframe\">\n",
              "  <thead>\n",
              "    <tr style=\"text-align: right;\">\n",
              "      <th></th>\n",
              "      <th>loan_default</th>\n",
              "      <th>CR009</th>\n",
              "      <th>PA028</th>\n",
              "      <th>PA029</th>\n",
              "      <th>PA030</th>\n",
              "      <th>PA031</th>\n",
              "      <th>CD008</th>\n",
              "      <th>CD121</th>\n",
              "      <th>CD123</th>\n",
              "      <th>CD152</th>\n",
              "      <th>CD153</th>\n",
              "      <th>CD167</th>\n",
              "      <th>CD170</th>\n",
              "      <th>CD173</th>\n",
              "    </tr>\n",
              "  </thead>\n",
              "  <tbody>\n",
              "    <tr>\n",
              "      <th>0</th>\n",
              "      <td>1</td>\n",
              "      <td>35807</td>\n",
              "      <td>3257.0</td>\n",
              "      <td>2872.0</td>\n",
              "      <td>3257.0</td>\n",
              "      <td>4739.0</td>\n",
              "      <td>13840.0</td>\n",
              "      <td>125.0</td>\n",
              "      <td>103.0</td>\n",
              "      <td>10900.0</td>\n",
              "      <td>12757.0</td>\n",
              "      <td>0.0</td>\n",
              "      <td>1449.0</td>\n",
              "      <td>2249.0</td>\n",
              "    </tr>\n",
              "    <tr>\n",
              "      <th>1</th>\n",
              "      <td>0</td>\n",
              "      <td>7254</td>\n",
              "      <td>3257.0</td>\n",
              "      <td>2872.0</td>\n",
              "      <td>3257.0</td>\n",
              "      <td>4739.0</td>\n",
              "      <td>651174.0</td>\n",
              "      <td>2106.0</td>\n",
              "      <td>1199.0</td>\n",
              "      <td>1285469.0</td>\n",
              "      <td>2617892.0</td>\n",
              "      <td>29664.0</td>\n",
              "      <td>54651.0</td>\n",
              "      <td>87312.0</td>\n",
              "    </tr>\n",
              "    <tr>\n",
              "      <th>2</th>\n",
              "      <td>0</td>\n",
              "      <td>30377</td>\n",
              "      <td>3257.0</td>\n",
              "      <td>2872.0</td>\n",
              "      <td>3257.0</td>\n",
              "      <td>4739.0</td>\n",
              "      <td>2454.0</td>\n",
              "      <td>23.0</td>\n",
              "      <td>21.0</td>\n",
              "      <td>3807.0</td>\n",
              "      <td>2314.0</td>\n",
              "      <td>0.0</td>\n",
              "      <td>0.0</td>\n",
              "      <td>110.0</td>\n",
              "    </tr>\n",
              "    <tr>\n",
              "      <th>3</th>\n",
              "      <td>0</td>\n",
              "      <td>0</td>\n",
              "      <td>3257.0</td>\n",
              "      <td>2872.0</td>\n",
              "      <td>3257.0</td>\n",
              "      <td>4739.0</td>\n",
              "      <td>0.0</td>\n",
              "      <td>0.0</td>\n",
              "      <td>0.0</td>\n",
              "      <td>0.0</td>\n",
              "      <td>0.0</td>\n",
              "      <td>0.0</td>\n",
              "      <td>0.0</td>\n",
              "      <td>0.0</td>\n",
              "    </tr>\n",
              "    <tr>\n",
              "      <th>4</th>\n",
              "      <td>0</td>\n",
              "      <td>0</td>\n",
              "      <td>3257.0</td>\n",
              "      <td>2872.0</td>\n",
              "      <td>3257.0</td>\n",
              "      <td>4739.0</td>\n",
              "      <td>651174.0</td>\n",
              "      <td>2106.0</td>\n",
              "      <td>1199.0</td>\n",
              "      <td>1285469.0</td>\n",
              "      <td>2617892.0</td>\n",
              "      <td>29664.0</td>\n",
              "      <td>54651.0</td>\n",
              "      <td>87312.0</td>\n",
              "    </tr>\n",
              "  </tbody>\n",
              "</table>\n",
              "</div>"
            ],
            "text/plain": [
              "   loan_default  CR009   PA028   PA029  ...      CD153    CD167    CD170    CD173\n",
              "0             1  35807  3257.0  2872.0  ...    12757.0      0.0   1449.0   2249.0\n",
              "1             0   7254  3257.0  2872.0  ...  2617892.0  29664.0  54651.0  87312.0\n",
              "2             0  30377  3257.0  2872.0  ...     2314.0      0.0      0.0    110.0\n",
              "3             0      0  3257.0  2872.0  ...        0.0      0.0      0.0      0.0\n",
              "4             0      0  3257.0  2872.0  ...  2617892.0  29664.0  54651.0  87312.0\n",
              "\n",
              "[5 rows x 14 columns]"
            ]
          },
          "metadata": {
            "tags": []
          },
          "execution_count": 97
        }
      ]
    },
    {
      "cell_type": "code",
      "metadata": {
        "id": "HzjFmSAHOi61"
      },
      "source": [
        "from sklearn.model_selection import train_test_split\n",
        "train3, test3 = train_test_split(\n",
        "     loan_data4, test_size=0.40, random_state=42)"
      ],
      "execution_count": null,
      "outputs": []
    },
    {
      "cell_type": "code",
      "metadata": {
        "colab": {
          "base_uri": "https://localhost:8080/"
        },
        "id": "3KDIcJJiOoar",
        "outputId": "1348a420-febc-45c9-f09c-23308b88cd11"
      },
      "source": [
        "train_smp3 = train3.sample(frac=0.1, random_state=1)\n",
        "test_smp3 = test3.sample(frac=0.1, random_state=1)\n",
        "train_hex3 = h2o.H2OFrame(train_smp3)\n",
        "test_hex3 = h2o.H2OFrame(test_smp3)"
      ],
      "execution_count": null,
      "outputs": [
        {
          "output_type": "stream",
          "text": [
            "Parse progress: |█████████████████████████████████████████████████████████| 100%\n",
            "Parse progress: |█████████████████████████████████████████████████████████| 100%\n"
          ],
          "name": "stdout"
        }
      ]
    },
    {
      "cell_type": "code",
      "metadata": {
        "colab": {
          "base_uri": "https://localhost:8080/"
        },
        "id": "dGEx6QwROulW",
        "outputId": "fc2dd2e4-12ea-4660-a738-a3a1ae803b57"
      },
      "source": [
        "train_hex33 = h2o.H2OFrame(train3)\n",
        "test_hex33 = h2o.H2OFrame(test3)\n"
      ],
      "execution_count": null,
      "outputs": [
        {
          "output_type": "stream",
          "text": [
            "Parse progress: |█████████████████████████████████████████████████████████| 100%\n",
            "Parse progress: |█████████████████████████████████████████████████████████| 100%\n"
          ],
          "name": "stdout"
        }
      ]
    },
    {
      "cell_type": "code",
      "metadata": {
        "colab": {
          "base_uri": "https://localhost:8080/"
        },
        "id": "rP8EPYoOOzRu",
        "outputId": "803a17af-f6f4-46d3-e154-1d7e690f326d"
      },
      "source": [
        "var3 = pd.DataFrame(train3.dtypes).reset_index()\n",
        "var3.columns = ['varname','dtype'] \n",
        "var3['source'] = var3['varname'].str[:2]\n",
        "\n",
        "var3['source'].value_counts()"
      ],
      "execution_count": null,
      "outputs": [
        {
          "output_type": "execute_result",
          "data": {
            "text/plain": [
              "CD    8\n",
              "PA    4\n",
              "CR    1\n",
              "lo    1\n",
              "Name: source, dtype: int64"
            ]
          },
          "metadata": {
            "tags": []
          },
          "execution_count": 101
        }
      ]
    },
    {
      "cell_type": "code",
      "metadata": {
        "id": "1hE9H5dcO3Wy"
      },
      "source": [
        "CR_list = list(var3[var3['source']=='CR']['varname'])\n",
        "PA_list = list(var3[var3['source']=='PA']['varname'])\n",
        "CD_list = list(var3[var3['source']=='CD']['varname'])"
      ],
      "execution_count": null,
      "outputs": []
    },
    {
      "cell_type": "code",
      "metadata": {
        "id": "l9-PwoVFPDYr"
      },
      "source": [
        "predictors2 = CR_list + CD_list + PA_list"
      ],
      "execution_count": null,
      "outputs": []
    },
    {
      "cell_type": "markdown",
      "metadata": {
        "id": "avKPImDhJEEl"
      },
      "source": [
        "#GLM"
      ]
    },
    {
      "cell_type": "markdown",
      "metadata": {
        "id": "3QKwt-21N5Es"
      },
      "source": [
        "## Start with using all variables"
      ]
    },
    {
      "cell_type": "markdown",
      "metadata": {
        "id": "frkRp7r1OFVl"
      },
      "source": [
        "### benchmark"
      ]
    },
    {
      "cell_type": "code",
      "metadata": {
        "id": "eXsHT2mj7UZr"
      },
      "source": [
        "from h2o.estimators.gbm import H2OGradientBoostingEstimator\n",
        "from h2o.estimators.random_forest import H2ORandomForestEstimator\n",
        "from h2o.estimators.glm import H2OGeneralizedLinearEstimator"
      ],
      "execution_count": null,
      "outputs": []
    },
    {
      "cell_type": "code",
      "metadata": {
        "id": "J3sQlTDdJF_y",
        "colab": {
          "base_uri": "https://localhost:8080/"
        },
        "outputId": "fee5bd2d-e15d-4d9e-8090-a8446148b8d0"
      },
      "source": [
        "glm_v1 = H2OGeneralizedLinearEstimator(family= \"binomial\", lambda_ = 0.05) #, compute_p_values = True)\n",
        "glm_v1.train(predictors,target,training_frame=train_hex22)"
      ],
      "execution_count": null,
      "outputs": [
        {
          "output_type": "stream",
          "text": [
            "/usr/local/lib/python3.6/dist-packages/h2o/estimators/estimator_base.py:200: RuntimeWarning: Dropping bad and constant columns: [TD054, TD051, TD062, TD061, CR012, TD029, TD028, TD027, TD026, TD048, TD025, TD044, TD055]\n",
            "  warnings.warn(mesg[\"message\"], RuntimeWarning)\n"
          ],
          "name": "stderr"
        },
        {
          "output_type": "stream",
          "text": [
            "glm Model Build progress: |███████████████████████████████████████████████| 100%\n"
          ],
          "name": "stdout"
        }
      ]
    },
    {
      "cell_type": "code",
      "metadata": {
        "id": "0K-nGnxBJxtZ",
        "colab": {
          "base_uri": "https://localhost:8080/",
          "height": 267
        },
        "outputId": "2dbcea61-52cb-4469-f560-0be8e85a0e0b"
      },
      "source": [
        "glm_v1.predict(test_hex22)"
      ],
      "execution_count": null,
      "outputs": [
        {
          "output_type": "stream",
          "text": [
            "glm prediction progress: |████████████████████████████████████████████████| 100%\n"
          ],
          "name": "stdout"
        },
        {
          "output_type": "display_data",
          "data": {
            "text/html": [
              "<table>\n",
              "<thead>\n",
              "<tr><th style=\"text-align: right;\">  predict</th><th style=\"text-align: right;\">      p0</th><th style=\"text-align: right;\">      p1</th></tr>\n",
              "</thead>\n",
              "<tbody>\n",
              "<tr><td style=\"text-align: right;\">        1</td><td style=\"text-align: right;\">0.792482</td><td style=\"text-align: right;\">0.207518</td></tr>\n",
              "<tr><td style=\"text-align: right;\">        1</td><td style=\"text-align: right;\">0.801945</td><td style=\"text-align: right;\">0.198055</td></tr>\n",
              "<tr><td style=\"text-align: right;\">        0</td><td style=\"text-align: right;\">0.826475</td><td style=\"text-align: right;\">0.173525</td></tr>\n",
              "<tr><td style=\"text-align: right;\">        0</td><td style=\"text-align: right;\">0.827784</td><td style=\"text-align: right;\">0.172216</td></tr>\n",
              "<tr><td style=\"text-align: right;\">        0</td><td style=\"text-align: right;\">0.828533</td><td style=\"text-align: right;\">0.171467</td></tr>\n",
              "<tr><td style=\"text-align: right;\">        1</td><td style=\"text-align: right;\">0.79072 </td><td style=\"text-align: right;\">0.20928 </td></tr>\n",
              "<tr><td style=\"text-align: right;\">        0</td><td style=\"text-align: right;\">0.825058</td><td style=\"text-align: right;\">0.174942</td></tr>\n",
              "<tr><td style=\"text-align: right;\">        1</td><td style=\"text-align: right;\">0.773909</td><td style=\"text-align: right;\">0.226091</td></tr>\n",
              "<tr><td style=\"text-align: right;\">        0</td><td style=\"text-align: right;\">0.826605</td><td style=\"text-align: right;\">0.173395</td></tr>\n",
              "<tr><td style=\"text-align: right;\">        0</td><td style=\"text-align: right;\">0.842324</td><td style=\"text-align: right;\">0.157676</td></tr>\n",
              "</tbody>\n",
              "</table>"
            ]
          },
          "metadata": {
            "tags": []
          }
        },
        {
          "output_type": "execute_result",
          "data": {
            "text/plain": [
              ""
            ]
          },
          "metadata": {
            "tags": []
          },
          "execution_count": 35
        }
      ]
    },
    {
      "cell_type": "code",
      "metadata": {
        "id": "H4-WDzObJ1xH",
        "colab": {
          "base_uri": "https://localhost:8080/",
          "height": 267
        },
        "outputId": "77b42197-515d-42dd-ef7c-c2a6a7ea7ba4"
      },
      "source": [
        "glm_v1.predict(test_hex22)['p1']"
      ],
      "execution_count": null,
      "outputs": [
        {
          "output_type": "stream",
          "text": [
            "glm prediction progress: |████████████████████████████████████████████████| 100%\n"
          ],
          "name": "stdout"
        },
        {
          "output_type": "display_data",
          "data": {
            "text/html": [
              "<table>\n",
              "<thead>\n",
              "<tr><th style=\"text-align: right;\">      p1</th></tr>\n",
              "</thead>\n",
              "<tbody>\n",
              "<tr><td style=\"text-align: right;\">0.207518</td></tr>\n",
              "<tr><td style=\"text-align: right;\">0.198055</td></tr>\n",
              "<tr><td style=\"text-align: right;\">0.173525</td></tr>\n",
              "<tr><td style=\"text-align: right;\">0.172216</td></tr>\n",
              "<tr><td style=\"text-align: right;\">0.171467</td></tr>\n",
              "<tr><td style=\"text-align: right;\">0.20928 </td></tr>\n",
              "<tr><td style=\"text-align: right;\">0.174942</td></tr>\n",
              "<tr><td style=\"text-align: right;\">0.226091</td></tr>\n",
              "<tr><td style=\"text-align: right;\">0.173395</td></tr>\n",
              "<tr><td style=\"text-align: right;\">0.157676</td></tr>\n",
              "</tbody>\n",
              "</table>"
            ]
          },
          "metadata": {
            "tags": []
          }
        },
        {
          "output_type": "execute_result",
          "data": {
            "text/plain": [
              ""
            ]
          },
          "metadata": {
            "tags": []
          },
          "execution_count": 36
        }
      ]
    },
    {
      "cell_type": "code",
      "metadata": {
        "id": "RkSt_K3FJ4EJ",
        "colab": {
          "base_uri": "https://localhost:8080/",
          "height": 221
        },
        "outputId": "5533419b-855e-4424-e4ad-59d28363fc75"
      },
      "source": [
        "predictions = glm_v1.predict(test_hex22)['p1']\n",
        "test_scores = test_hex22['loan_default'].cbind(predictions).as_data_frame()\n",
        "test_scores.head()"
      ],
      "execution_count": null,
      "outputs": [
        {
          "output_type": "stream",
          "text": [
            "glm prediction progress: |████████████████████████████████████████████████| 100%\n"
          ],
          "name": "stdout"
        },
        {
          "output_type": "execute_result",
          "data": {
            "text/html": [
              "<div>\n",
              "<style scoped>\n",
              "    .dataframe tbody tr th:only-of-type {\n",
              "        vertical-align: middle;\n",
              "    }\n",
              "\n",
              "    .dataframe tbody tr th {\n",
              "        vertical-align: top;\n",
              "    }\n",
              "\n",
              "    .dataframe thead th {\n",
              "        text-align: right;\n",
              "    }\n",
              "</style>\n",
              "<table border=\"1\" class=\"dataframe\">\n",
              "  <thead>\n",
              "    <tr style=\"text-align: right;\">\n",
              "      <th></th>\n",
              "      <th>loan_default</th>\n",
              "      <th>p1</th>\n",
              "    </tr>\n",
              "  </thead>\n",
              "  <tbody>\n",
              "    <tr>\n",
              "      <th>0</th>\n",
              "      <td>0</td>\n",
              "      <td>0.207518</td>\n",
              "    </tr>\n",
              "    <tr>\n",
              "      <th>1</th>\n",
              "      <td>0</td>\n",
              "      <td>0.198055</td>\n",
              "    </tr>\n",
              "    <tr>\n",
              "      <th>2</th>\n",
              "      <td>0</td>\n",
              "      <td>0.173525</td>\n",
              "    </tr>\n",
              "    <tr>\n",
              "      <th>3</th>\n",
              "      <td>0</td>\n",
              "      <td>0.172216</td>\n",
              "    </tr>\n",
              "    <tr>\n",
              "      <th>4</th>\n",
              "      <td>0</td>\n",
              "      <td>0.171467</td>\n",
              "    </tr>\n",
              "  </tbody>\n",
              "</table>\n",
              "</div>"
            ],
            "text/plain": [
              "   loan_default        p1\n",
              "0             0  0.207518\n",
              "1             0  0.198055\n",
              "2             0  0.173525\n",
              "3             0  0.172216\n",
              "4             0  0.171467"
            ]
          },
          "metadata": {
            "tags": []
          },
          "execution_count": 37
        }
      ]
    },
    {
      "cell_type": "code",
      "metadata": {
        "id": "1DDWwFQrJ_8U",
        "colab": {
          "base_uri": "https://localhost:8080/",
          "height": 427
        },
        "outputId": "42168ed0-4c7d-4d15-f7b5-1f5c4d0bee8c"
      },
      "source": [
        "def createGains(model):\n",
        "    predictions = model.predict(test_hex22)['p1']\n",
        "    test_scores = test_hex22['loan_default'].cbind(predictions).as_data_frame()\n",
        "\n",
        "    #sort on prediction (descending), add id, and decile for groups containing 1/10 of datapoints\n",
        "    test_scores = test_scores.sort_values(by='p1',ascending=False)\n",
        "    test_scores['row_id'] = range(0,0+len(test_scores))\n",
        "    test_scores['decile'] = ( test_scores['row_id'] / (len(test_scores)/10) ).astype(int)\n",
        "    #see count by decile\n",
        "    test_scores.loc[test_scores['decile'] == 10]=9\n",
        "    test_scores['decile'].value_counts()\n",
        "\n",
        "    #create gains table\n",
        "    gains = test_scores.groupby('decile')['loan_default'].agg(['count','sum'])\n",
        "    gains.columns = ['count','actual']\n",
        "    gains\n",
        "\n",
        "    #add features to gains table\n",
        "    gains['non_actual'] = gains['count'] - gains['actual']\n",
        "    gains['cum_count'] = gains['count'].cumsum()\n",
        "    gains['cum_actual'] = gains['actual'].cumsum()\n",
        "    gains['cum_non_actual'] = gains['non_actual'].cumsum()\n",
        "    gains['percent_cum_actual'] = (gains['cum_actual'] / np.max(gains['cum_actual'])).round(2)\n",
        "    gains['percent_cum_non_actual'] = (gains['cum_non_actual'] / np.max(gains['cum_non_actual'])).round(2)\n",
        "    gains['if_random'] = np.max(gains['cum_actual']) /10 \n",
        "    gains['if_random'] = gains['if_random'].cumsum()\n",
        "    gains['lift'] = (gains['cum_actual'] / gains['if_random']).round(2)\n",
        "    gains['K_S'] = np.abs( gains['percent_cum_actual'] -  gains['percent_cum_non_actual'] ) * 100\n",
        "    gains['gain']=(gains['cum_actual']/gains['cum_count']*100).round(2)\n",
        "    gains = pd.DataFrame(gains)\n",
        "    return(gains)\n",
        "\n",
        "createGains(glm_v1)"
      ],
      "execution_count": null,
      "outputs": [
        {
          "output_type": "stream",
          "text": [
            "glm prediction progress: |████████████████████████████████████████████████| 100%\n"
          ],
          "name": "stdout"
        },
        {
          "output_type": "execute_result",
          "data": {
            "text/html": [
              "<div>\n",
              "<style scoped>\n",
              "    .dataframe tbody tr th:only-of-type {\n",
              "        vertical-align: middle;\n",
              "    }\n",
              "\n",
              "    .dataframe tbody tr th {\n",
              "        vertical-align: top;\n",
              "    }\n",
              "\n",
              "    .dataframe thead th {\n",
              "        text-align: right;\n",
              "    }\n",
              "</style>\n",
              "<table border=\"1\" class=\"dataframe\">\n",
              "  <thead>\n",
              "    <tr style=\"text-align: right;\">\n",
              "      <th></th>\n",
              "      <th>count</th>\n",
              "      <th>actual</th>\n",
              "      <th>non_actual</th>\n",
              "      <th>cum_count</th>\n",
              "      <th>cum_actual</th>\n",
              "      <th>cum_non_actual</th>\n",
              "      <th>percent_cum_actual</th>\n",
              "      <th>percent_cum_non_actual</th>\n",
              "      <th>if_random</th>\n",
              "      <th>lift</th>\n",
              "      <th>K_S</th>\n",
              "      <th>gain</th>\n",
              "    </tr>\n",
              "    <tr>\n",
              "      <th>decile</th>\n",
              "      <th></th>\n",
              "      <th></th>\n",
              "      <th></th>\n",
              "      <th></th>\n",
              "      <th></th>\n",
              "      <th></th>\n",
              "      <th></th>\n",
              "      <th></th>\n",
              "      <th></th>\n",
              "      <th></th>\n",
              "      <th></th>\n",
              "      <th></th>\n",
              "    </tr>\n",
              "  </thead>\n",
              "  <tbody>\n",
              "    <tr>\n",
              "      <th>0</th>\n",
              "      <td>320</td>\n",
              "      <td>103</td>\n",
              "      <td>217</td>\n",
              "      <td>320</td>\n",
              "      <td>103</td>\n",
              "      <td>217</td>\n",
              "      <td>0.17</td>\n",
              "      <td>0.08</td>\n",
              "      <td>60.0</td>\n",
              "      <td>1.72</td>\n",
              "      <td>9.0</td>\n",
              "      <td>32.19</td>\n",
              "    </tr>\n",
              "    <tr>\n",
              "      <th>1</th>\n",
              "      <td>320</td>\n",
              "      <td>76</td>\n",
              "      <td>244</td>\n",
              "      <td>640</td>\n",
              "      <td>179</td>\n",
              "      <td>461</td>\n",
              "      <td>0.30</td>\n",
              "      <td>0.18</td>\n",
              "      <td>120.0</td>\n",
              "      <td>1.49</td>\n",
              "      <td>12.0</td>\n",
              "      <td>27.97</td>\n",
              "    </tr>\n",
              "    <tr>\n",
              "      <th>2</th>\n",
              "      <td>320</td>\n",
              "      <td>74</td>\n",
              "      <td>246</td>\n",
              "      <td>960</td>\n",
              "      <td>253</td>\n",
              "      <td>707</td>\n",
              "      <td>0.42</td>\n",
              "      <td>0.27</td>\n",
              "      <td>180.0</td>\n",
              "      <td>1.41</td>\n",
              "      <td>15.0</td>\n",
              "      <td>26.35</td>\n",
              "    </tr>\n",
              "    <tr>\n",
              "      <th>3</th>\n",
              "      <td>320</td>\n",
              "      <td>78</td>\n",
              "      <td>242</td>\n",
              "      <td>1280</td>\n",
              "      <td>331</td>\n",
              "      <td>949</td>\n",
              "      <td>0.55</td>\n",
              "      <td>0.36</td>\n",
              "      <td>240.0</td>\n",
              "      <td>1.38</td>\n",
              "      <td>19.0</td>\n",
              "      <td>25.86</td>\n",
              "    </tr>\n",
              "    <tr>\n",
              "      <th>4</th>\n",
              "      <td>320</td>\n",
              "      <td>55</td>\n",
              "      <td>265</td>\n",
              "      <td>1600</td>\n",
              "      <td>386</td>\n",
              "      <td>1214</td>\n",
              "      <td>0.64</td>\n",
              "      <td>0.47</td>\n",
              "      <td>300.0</td>\n",
              "      <td>1.29</td>\n",
              "      <td>17.0</td>\n",
              "      <td>24.12</td>\n",
              "    </tr>\n",
              "    <tr>\n",
              "      <th>5</th>\n",
              "      <td>320</td>\n",
              "      <td>57</td>\n",
              "      <td>263</td>\n",
              "      <td>1920</td>\n",
              "      <td>443</td>\n",
              "      <td>1477</td>\n",
              "      <td>0.74</td>\n",
              "      <td>0.57</td>\n",
              "      <td>360.0</td>\n",
              "      <td>1.23</td>\n",
              "      <td>17.0</td>\n",
              "      <td>23.07</td>\n",
              "    </tr>\n",
              "    <tr>\n",
              "      <th>6</th>\n",
              "      <td>320</td>\n",
              "      <td>43</td>\n",
              "      <td>277</td>\n",
              "      <td>2240</td>\n",
              "      <td>486</td>\n",
              "      <td>1754</td>\n",
              "      <td>0.81</td>\n",
              "      <td>0.67</td>\n",
              "      <td>420.0</td>\n",
              "      <td>1.16</td>\n",
              "      <td>14.0</td>\n",
              "      <td>21.70</td>\n",
              "    </tr>\n",
              "    <tr>\n",
              "      <th>7</th>\n",
              "      <td>320</td>\n",
              "      <td>49</td>\n",
              "      <td>271</td>\n",
              "      <td>2560</td>\n",
              "      <td>535</td>\n",
              "      <td>2025</td>\n",
              "      <td>0.89</td>\n",
              "      <td>0.78</td>\n",
              "      <td>480.0</td>\n",
              "      <td>1.11</td>\n",
              "      <td>11.0</td>\n",
              "      <td>20.90</td>\n",
              "    </tr>\n",
              "    <tr>\n",
              "      <th>8</th>\n",
              "      <td>320</td>\n",
              "      <td>43</td>\n",
              "      <td>277</td>\n",
              "      <td>2880</td>\n",
              "      <td>578</td>\n",
              "      <td>2302</td>\n",
              "      <td>0.96</td>\n",
              "      <td>0.89</td>\n",
              "      <td>540.0</td>\n",
              "      <td>1.07</td>\n",
              "      <td>7.0</td>\n",
              "      <td>20.07</td>\n",
              "    </tr>\n",
              "    <tr>\n",
              "      <th>9</th>\n",
              "      <td>320</td>\n",
              "      <td>22</td>\n",
              "      <td>298</td>\n",
              "      <td>3200</td>\n",
              "      <td>600</td>\n",
              "      <td>2600</td>\n",
              "      <td>1.00</td>\n",
              "      <td>1.00</td>\n",
              "      <td>600.0</td>\n",
              "      <td>1.00</td>\n",
              "      <td>0.0</td>\n",
              "      <td>18.75</td>\n",
              "    </tr>\n",
              "  </tbody>\n",
              "</table>\n",
              "</div>"
            ],
            "text/plain": [
              "        count  actual  non_actual  cum_count  ...  if_random  lift   K_S   gain\n",
              "decile                                        ...                              \n",
              "0         320     103         217        320  ...       60.0  1.72   9.0  32.19\n",
              "1         320      76         244        640  ...      120.0  1.49  12.0  27.97\n",
              "2         320      74         246        960  ...      180.0  1.41  15.0  26.35\n",
              "3         320      78         242       1280  ...      240.0  1.38  19.0  25.86\n",
              "4         320      55         265       1600  ...      300.0  1.29  17.0  24.12\n",
              "5         320      57         263       1920  ...      360.0  1.23  17.0  23.07\n",
              "6         320      43         277       2240  ...      420.0  1.16  14.0  21.70\n",
              "7         320      49         271       2560  ...      480.0  1.11  11.0  20.90\n",
              "8         320      43         277       2880  ...      540.0  1.07   7.0  20.07\n",
              "9         320      22         298       3200  ...      600.0  1.00   0.0  18.75\n",
              "\n",
              "[10 rows x 12 columns]"
            ]
          },
          "metadata": {
            "tags": []
          },
          "execution_count": 38
        }
      ]
    },
    {
      "cell_type": "code",
      "metadata": {
        "id": "wpQWAjYqKHiW"
      },
      "source": [
        "def ROC_AUC(my_result,df,target):\n",
        "    from sklearn.metrics import roc_curve,auc\n",
        "    from sklearn.metrics import average_precision_score\n",
        "    from sklearn.metrics import precision_recall_curve\n",
        "    import matplotlib.pyplot as plt\n",
        "\n",
        "    # ROC\n",
        "    y_actual = df[target].as_data_frame()\n",
        "    y_pred = my_result.predict(df)['p1'].as_data_frame()\n",
        "    fpr = list()\n",
        "    tpr = list()\n",
        "    roc_auc = list()\n",
        "    fpr,tpr,_ = roc_curve(y_actual,y_pred)\n",
        "    roc_auc = auc(fpr,tpr)\n",
        "    \n",
        "    # Precision-Recall\n",
        "    average_precision = average_precision_score(y_actual,y_pred)\n",
        "\n",
        "    print('')\n",
        "    print('   * ROC curve: The ROC curve plots the true positive rate vs. the false rositive sate')\n",
        "    print('')\n",
        "    print('\t  * The area under the curve (AUC): A value between 0.5 (random) and 1.0 (perfect), measuring the prediction accuracy')\n",
        "    print('')\n",
        "    print('   * Recall (R) = The number of true positives / (the number of true positives + the number of false negatives)')\n",
        "    print('')\n",
        "    \n",
        "    # plotting\n",
        "    plt.figure(figsize=(10,4))\n",
        "\n",
        "    # ROC\n",
        "    plt.subplot(1,2,1)\n",
        "    plt.plot(fpr,tpr,color='darkorange',lw=2,label='ROC curve (aare=%0.2f)' % roc_auc)\n",
        "    plt.plot([0,1],[0,1],color='navy',lw=3,linestyle='--')\n",
        "    plt.xlim([0.0,1.0])\n",
        "    plt.ylim([0.0,1.05])\n",
        "    plt.xlabel('False Positive Rate')\n",
        "    plt.ylabel('True Positive Rate')\n",
        "    plt.title('Receiver operating characteristic: AUC={0:0.4f}'.format(roc_auc))\n",
        "    plt.legend(loc='lower right')\n",
        "\n",
        "    # Precision-Recall\n",
        "    plt.subplot(1,2,2)\n",
        "    precision,recall,_ = precision_recall_curve(y_actual,y_pred)\n",
        "    plt.step(recall,precision,color='b',alpha=0.2,where='post')\n",
        "    plt.fill_between(recall,precision,step='post',alpha=0.2,color='b')\n",
        "    plt.xlabel('Recall')\n",
        "    plt.ylabel('Precision')\n",
        "    plt.ylim([0.0,1.05])\n",
        "    plt.xlim([0.0,1.0])\n",
        "    plt.title('Precision-Recall curve: PR={0:0.4f}'.format(average_precision))\n",
        "    plt.show()"
      ],
      "execution_count": null,
      "outputs": []
    },
    {
      "cell_type": "code",
      "metadata": {
        "id": "s25RE6ruKOBC",
        "colab": {
          "base_uri": "https://localhost:8080/",
          "height": 431
        },
        "outputId": "5afe3c7e-cab3-4099-b919-633b9fe5924f"
      },
      "source": [
        "ROC_AUC(glm_v1,test_hex22,'loan_default')"
      ],
      "execution_count": null,
      "outputs": [
        {
          "output_type": "stream",
          "text": [
            "glm prediction progress: |████████████████████████████████████████████████| 100%\n",
            "\n",
            "   * ROC curve: The ROC curve plots the true positive rate vs. the false rositive sate\n",
            "\n",
            "\t  * The area under the curve (AUC): A value between 0.5 (random) and 1.0 (perfect), measuring the prediction accuracy\n",
            "\n",
            "   * Recall (R) = The number of true positives / (the number of true positives + the number of false negatives)\n",
            "\n"
          ],
          "name": "stdout"
        },
        {
          "output_type": "display_data",
          "data": {
            "image/png": "[encoded data removed]",
            "text/plain": [
              "<Figure size 720x288 with 2 Axes>"
            ]
          },
          "metadata": {
            "tags": [],
            "needs_background": "light"
          }
        }
      ]
    },
    {
      "cell_type": "code",
      "metadata": {
        "id": "f6nSaOGcKUjT",
        "colab": {
          "base_uri": "https://localhost:8080/",
          "height": 419
        },
        "outputId": "380e062b-8e0e-448c-e791-a4ca9a2e3480"
      },
      "source": [
        "# Print the Coefficients table\n",
        "coefs = glm_v1._model_json['output']['coefficients_table'].as_data_frame()\n",
        "coefs = pd.DataFrame(coefs)\n",
        "coefs.sort_values(by='standardized_coefficients',ascending=False)"
      ],
      "execution_count": null,
      "outputs": [
        {
          "output_type": "execute_result",
          "data": {
            "text/html": [
              "<div>\n",
              "<style scoped>\n",
              "    .dataframe tbody tr th:only-of-type {\n",
              "        vertical-align: middle;\n",
              "    }\n",
              "\n",
              "    .dataframe tbody tr th {\n",
              "        vertical-align: top;\n",
              "    }\n",
              "\n",
              "    .dataframe thead th {\n",
              "        text-align: right;\n",
              "    }\n",
              "</style>\n",
              "<table border=\"1\" class=\"dataframe\">\n",
              "  <thead>\n",
              "    <tr style=\"text-align: right;\">\n",
              "      <th></th>\n",
              "      <th>names</th>\n",
              "      <th>coefficients</th>\n",
              "      <th>standardized_coefficients</th>\n",
              "    </tr>\n",
              "  </thead>\n",
              "  <tbody>\n",
              "    <tr>\n",
              "      <th>14</th>\n",
              "      <td>TD013</td>\n",
              "      <td>0.021310</td>\n",
              "      <td>0.104039</td>\n",
              "    </tr>\n",
              "    <tr>\n",
              "      <th>4</th>\n",
              "      <td>AP004</td>\n",
              "      <td>0.038099</td>\n",
              "      <td>0.083837</td>\n",
              "    </tr>\n",
              "    <tr>\n",
              "      <th>10</th>\n",
              "      <td>TD005</td>\n",
              "      <td>0.021215</td>\n",
              "      <td>0.057565</td>\n",
              "    </tr>\n",
              "    <tr>\n",
              "      <th>12</th>\n",
              "      <td>TD009</td>\n",
              "      <td>0.009846</td>\n",
              "      <td>0.037753</td>\n",
              "    </tr>\n",
              "    <tr>\n",
              "      <th>8</th>\n",
              "      <td>TD001</td>\n",
              "      <td>0.005362</td>\n",
              "      <td>0.009584</td>\n",
              "    </tr>\n",
              "    <tr>\n",
              "      <th>...</th>\n",
              "      <td>...</td>\n",
              "      <td>...</td>\n",
              "      <td>...</td>\n",
              "    </tr>\n",
              "    <tr>\n",
              "      <th>27</th>\n",
              "      <td>PA022</td>\n",
              "      <td>0.000000</td>\n",
              "      <td>0.000000</td>\n",
              "    </tr>\n",
              "    <tr>\n",
              "      <th>26</th>\n",
              "      <td>CR019</td>\n",
              "      <td>0.000000</td>\n",
              "      <td>0.000000</td>\n",
              "    </tr>\n",
              "    <tr>\n",
              "      <th>25</th>\n",
              "      <td>CR018</td>\n",
              "      <td>0.000000</td>\n",
              "      <td>0.000000</td>\n",
              "    </tr>\n",
              "    <tr>\n",
              "      <th>3</th>\n",
              "      <td>AP003</td>\n",
              "      <td>-0.018665</td>\n",
              "      <td>-0.022141</td>\n",
              "    </tr>\n",
              "    <tr>\n",
              "      <th>0</th>\n",
              "      <td>Intercept</td>\n",
              "      <td>-2.145301</td>\n",
              "      <td>-1.476056</td>\n",
              "    </tr>\n",
              "  </tbody>\n",
              "</table>\n",
              "<p>75 rows × 3 columns</p>\n",
              "</div>"
            ],
            "text/plain": [
              "        names  coefficients  standardized_coefficients\n",
              "14      TD013      0.021310                   0.104039\n",
              "4       AP004      0.038099                   0.083837\n",
              "10      TD005      0.021215                   0.057565\n",
              "12      TD009      0.009846                   0.037753\n",
              "8       TD001      0.005362                   0.009584\n",
              "..        ...           ...                        ...\n",
              "27      PA022      0.000000                   0.000000\n",
              "26      CR019      0.000000                   0.000000\n",
              "25      CR018      0.000000                   0.000000\n",
              "3       AP003     -0.018665                  -0.022141\n",
              "0   Intercept     -2.145301                  -1.476056\n",
              "\n",
              "[75 rows x 3 columns]"
            ]
          },
          "metadata": {
            "tags": []
          },
          "execution_count": 41
        }
      ]
    },
    {
      "cell_type": "markdown",
      "metadata": {
        "id": "25TJZ-pMGftt"
      },
      "source": [
        "### Grid Search"
      ]
    },
    {
      "cell_type": "code",
      "metadata": {
        "id": "RdRzNs6n_Q60"
      },
      "source": [
        "param = { 'alpha': [x * 0.01 for x in range(0,11)]}"
      ],
      "execution_count": null,
      "outputs": []
    },
    {
      "cell_type": "code",
      "metadata": {
        "id": "pewUNv24_VwD"
      },
      "source": [
        "from h2o.grid.grid_search import H2OGridSearch"
      ],
      "execution_count": null,
      "outputs": []
    },
    {
      "cell_type": "code",
      "metadata": {
        "id": "k0SKbc5q_ScU"
      },
      "source": [
        "h20_grid = H2OGridSearch(\n",
        "model = H2OGeneralizedLinearEstimator(family = 'binomial'),\n",
        "hyper_params = param, \n",
        "search_criteria = {'strategy': \"Cartesian\"},\n",
        "grid_id = 'glm_grid1'\n",
        ")"
      ],
      "execution_count": null,
      "outputs": []
    },
    {
      "cell_type": "code",
      "metadata": {
        "colab": {
          "base_uri": "https://localhost:8080/"
        },
        "id": "eHIuRXab_ZJG",
        "outputId": "e1527820-63a1-4e55-ac60-93fa01d931db"
      },
      "source": [
        "h20_grid.train(\n",
        "x=predictors,y=target,training_frame=train_hex22,\n",
        "lambda_search = True # model parameter than we want to prefix! \n",
        ")"
      ],
      "execution_count": null,
      "outputs": [
        {
          "output_type": "stream",
          "text": [
            "glm Grid Build progress: |████████████████████████████████████████████████| 100%\n"
          ],
          "name": "stdout"
        }
      ]
    },
    {
      "cell_type": "code",
      "metadata": {
        "colab": {
          "base_uri": "https://localhost:8080/"
        },
        "id": "vyr7Dpbz_wl6",
        "outputId": "8c961747-f734-4d2d-8a70-bd6a5308f2ce"
      },
      "source": [
        "h20_grid.get_grid(sort_by='auc', decreasing=True)"
      ],
      "execution_count": null,
      "outputs": [
        {
          "output_type": "stream",
          "text": [
            "       alpha           model_ids                 auc\n",
            "0      [0.0]   glm_grid1_model_1  0.7050734699356882\n",
            "1      [0.1]  glm_grid1_model_11  0.7037930361695519\n",
            "2     [0.09]  glm_grid1_model_10  0.7036960508487496\n",
            "3     [0.08]   glm_grid1_model_9  0.7035727571931254\n",
            "4     [0.07]   glm_grid1_model_8  0.7035100438111989\n",
            "5     [0.06]   glm_grid1_model_7   0.703375657992785\n",
            "6     [0.05]   glm_grid1_model_6  0.7032527909588066\n",
            "7     [0.04]   glm_grid1_model_5  0.7029999465300871\n",
            "8     [0.03]   glm_grid1_model_4  0.7028207654388685\n",
            "9     [0.02]   glm_grid1_model_3  0.7023558900522071\n",
            "10    [0.01]   glm_grid1_model_2  0.7012089888611933\n"
          ],
          "name": "stdout"
        },
        {
          "output_type": "execute_result",
          "data": {
            "text/plain": [
              ""
            ]
          },
          "metadata": {
            "tags": []
          },
          "execution_count": 56
        }
      ]
    },
    {
      "cell_type": "markdown",
      "metadata": {
        "id": "MnafdtOcE6nW"
      },
      "source": [
        "The best result of grid search is 0.7050734699356882. Next let's check the result under random grid search."
      ]
    },
    {
      "cell_type": "markdown",
      "metadata": {
        "id": "G_L2ZlJ_AOD-"
      },
      "source": [
        "### random grid search"
      ]
    },
    {
      "cell_type": "code",
      "metadata": {
        "id": "OLJt1O_5AP2i"
      },
      "source": [
        "params = {\n",
        "   'alpha': [x * 0.01 for x in range(0,99)]\n",
        "}"
      ],
      "execution_count": null,
      "outputs": []
    },
    {
      "cell_type": "code",
      "metadata": {
        "id": "R5obt3U6ARTx"
      },
      "source": [
        "search_criteria = {'strategy': 'RandomDiscrete',\n",
        "                  'max_models': 30 # max of 30 models assessed\n",
        "                  }\n",
        "# creating the grid of GLM \n",
        "h2o_grid2 = H2OGridSearch(\n",
        "model = H2OGeneralizedLinearEstimator(family = 'binomial'),\n",
        "hyper_params = params,\n",
        "search_criteria = search_criteria,\n",
        "grid_id = 'glm_grid2')"
      ],
      "execution_count": null,
      "outputs": []
    },
    {
      "cell_type": "code",
      "metadata": {
        "colab": {
          "base_uri": "https://localhost:8080/"
        },
        "id": "MzcUCZ3xAUxL",
        "outputId": "6619cf30-dfa9-4788-b121-4a2e16b7582a"
      },
      "source": [
        "h2o_grid2.train(\n",
        "x=predictors,y=target,training_frame=train_hex22,\n",
        "lambda_search = True # model parameter than we want to prefix! \n",
        ")"
      ],
      "execution_count": null,
      "outputs": [
        {
          "output_type": "stream",
          "text": [
            "glm Grid Build progress: |████████████████████████████████████████████████| 100%\n"
          ],
          "name": "stdout"
        }
      ]
    },
    {
      "cell_type": "code",
      "metadata": {
        "colab": {
          "base_uri": "https://localhost:8080/"
        },
        "id": "iQ_sANFDAdrl",
        "outputId": "7d025c3a-be75-45a0-90a4-8b9a4083dbd5"
      },
      "source": [
        "h2o_grid2.get_grid(sort_by='auc', decreasing=True)"
      ],
      "execution_count": null,
      "outputs": [
        {
          "output_type": "stream",
          "text": [
            "                      alpha           model_ids                 auc\n",
            "0                    [0.96]  glm_grid2_model_24  0.7055057798700568\n",
            "1      [0.9500000000000001]  glm_grid2_model_28  0.7054885727970112\n",
            "2                    [0.98]  glm_grid2_model_10  0.7054855864454908\n",
            "3                    [0.86]   glm_grid2_model_7  0.7054544430653505\n",
            "4                     [0.9]  glm_grid2_model_25  0.7054473327045879\n",
            "5                    [0.97]  glm_grid2_model_13  0.7054355295057219\n",
            "6                    [0.76]  glm_grid2_model_23  0.7054231574779948\n",
            "7      [0.8200000000000001]  glm_grid2_model_27  0.7054043861255814\n",
            "8                    [0.72]  glm_grid2_model_15  0.7054018263957069\n",
            "9                    [0.71]   glm_grid2_model_4  0.7053500629693549\n",
            "10                   [0.66]   glm_grid2_model_6   0.705237008233229\n",
            "11                    [0.6]  glm_grid2_model_29  0.7052112687272682\n",
            "12                   [0.62]  glm_grid2_model_12   0.705193777239792\n",
            "13     [0.5700000000000001]  glm_grid2_model_17  0.7051781344461142\n",
            "14                   [0.51]  glm_grid2_model_21  0.7051270820558385\n",
            "15                   [0.44]  glm_grid2_model_22  0.7050747498006256\n",
            "16                   [0.52]  glm_grid2_model_19   0.705045170699853\n",
            "17                   [0.43]  glm_grid2_model_26  0.7050403356545343\n",
            "18                   [0.38]  glm_grid2_model_14  0.7049918429941331\n",
            "19                   [0.37]   glm_grid2_model_9  0.7049181796566322\n",
            "20    [0.35000000000000003]   glm_grid2_model_1  0.7049117803319457\n",
            "21                   [0.34]   glm_grid2_model_5  0.7048457961840685\n",
            "22                   [0.32]  glm_grid2_model_11  0.7047506595570644\n",
            "23                   [0.28]   glm_grid2_model_2  0.7047050110409682\n",
            "24                   [0.25]   glm_grid2_model_3  0.7045704830153391\n",
            "25                   [0.24]   glm_grid2_model_8  0.7045096183272108\n",
            "26                   [0.17]  glm_grid2_model_18  0.7041944871382106\n",
            "27                   [0.11]  glm_grid2_model_20  0.7037569155368777\n",
            "28                   [0.05]  glm_grid2_model_16  0.7032527909588066\n",
            "29                   [0.02]  glm_grid2_model_30  0.7023558900522071\n"
          ],
          "name": "stdout"
        },
        {
          "output_type": "execute_result",
          "data": {
            "text/plain": [
              ""
            ]
          },
          "metadata": {
            "tags": []
          },
          "execution_count": 61
        }
      ]
    },
    {
      "cell_type": "markdown",
      "metadata": {
        "id": "C3KIyp1YEwru"
      },
      "source": [
        "The best model has AUC of 0.7055057798700568, which is higher than the result of grid search. Next let's find out the corresponding lift value."
      ]
    },
    {
      "cell_type": "code",
      "metadata": {
        "id": "dL8KhaEiEWke"
      },
      "source": [
        "best = h2o_grid2.get_grid(sort_by='auc', decreasing=True)[0]"
      ],
      "execution_count": null,
      "outputs": []
    },
    {
      "cell_type": "code",
      "metadata": {
        "colab": {
          "base_uri": "https://localhost:8080/"
        },
        "id": "MS1dpWysCMZr",
        "outputId": "d1b741fa-91f3-42a8-8d88-4a991417aaf1"
      },
      "source": [
        "best.train(predictors,target,training_frame=train_hex22)"
      ],
      "execution_count": null,
      "outputs": [
        {
          "output_type": "stream",
          "text": [
            "/usr/local/lib/python3.6/dist-packages/h2o/estimators/estimator_base.py:200: RuntimeWarning: Dropping bad and constant columns: [TD054, TD051, TD062, TD061, CR012, TD029, TD028, TD027, TD026, TD048, TD025, TD044, TD055]\n",
            "  warnings.warn(mesg[\"message\"], RuntimeWarning)\n"
          ],
          "name": "stderr"
        },
        {
          "output_type": "stream",
          "text": [
            "glm Model Build progress: |███████████████████████████████████████████████| 100%\n"
          ],
          "name": "stdout"
        }
      ]
    },
    {
      "cell_type": "code",
      "metadata": {
        "colab": {
          "base_uri": "https://localhost:8080/",
          "height": 267
        },
        "id": "kqV1XGECDNZH",
        "outputId": "0a25ad97-02b4-4bf0-9dbf-6b078a160042"
      },
      "source": [
        "best.predict(test_hex22)"
      ],
      "execution_count": null,
      "outputs": [
        {
          "output_type": "stream",
          "text": [
            "glm prediction progress: |████████████████████████████████████████████████| 100%\n"
          ],
          "name": "stdout"
        },
        {
          "output_type": "display_data",
          "data": {
            "text/html": [
              "<table>\n",
              "<thead>\n",
              "<tr><th style=\"text-align: right;\">  predict</th></tr>\n",
              "</thead>\n",
              "<tbody>\n",
              "<tr><td style=\"text-align: right;\"> 0.398149</td></tr>\n",
              "<tr><td style=\"text-align: right;\"> 0.164598</td></tr>\n",
              "<tr><td style=\"text-align: right;\"> 0.262128</td></tr>\n",
              "<tr><td style=\"text-align: right;\"> 0.161633</td></tr>\n",
              "<tr><td style=\"text-align: right;\"> 0.135277</td></tr>\n",
              "<tr><td style=\"text-align: right;\"> 0.205918</td></tr>\n",
              "<tr><td style=\"text-align: right;\"> 0.289601</td></tr>\n",
              "<tr><td style=\"text-align: right;\"> 0.392503</td></tr>\n",
              "<tr><td style=\"text-align: right;\"> 0.110463</td></tr>\n",
              "<tr><td style=\"text-align: right;\"> 0.241292</td></tr>\n",
              "</tbody>\n",
              "</table>"
            ]
          },
          "metadata": {
            "tags": []
          }
        },
        {
          "output_type": "execute_result",
          "data": {
            "text/plain": [
              ""
            ]
          },
          "metadata": {
            "tags": []
          },
          "execution_count": 74
        }
      ]
    },
    {
      "cell_type": "code",
      "metadata": {
        "colab": {
          "base_uri": "https://localhost:8080/",
          "height": 427
        },
        "id": "dfW9zNcLDR_N",
        "outputId": "31579539-bf36-49b1-fce0-2980d199b89b"
      },
      "source": [
        "createGains(best)"
      ],
      "execution_count": null,
      "outputs": [
        {
          "output_type": "stream",
          "text": [
            "glm prediction progress: |████████████████████████████████████████████████| 100%\n"
          ],
          "name": "stdout"
        },
        {
          "output_type": "execute_result",
          "data": {
            "text/html": [
              "<div>\n",
              "<style scoped>\n",
              "    .dataframe tbody tr th:only-of-type {\n",
              "        vertical-align: middle;\n",
              "    }\n",
              "\n",
              "    .dataframe tbody tr th {\n",
              "        vertical-align: top;\n",
              "    }\n",
              "\n",
              "    .dataframe thead th {\n",
              "        text-align: right;\n",
              "    }\n",
              "</style>\n",
              "<table border=\"1\" class=\"dataframe\">\n",
              "  <thead>\n",
              "    <tr style=\"text-align: right;\">\n",
              "      <th></th>\n",
              "      <th>count</th>\n",
              "      <th>actual</th>\n",
              "      <th>non_actual</th>\n",
              "      <th>cum_count</th>\n",
              "      <th>cum_actual</th>\n",
              "      <th>cum_non_actual</th>\n",
              "      <th>percent_cum_actual</th>\n",
              "      <th>percent_cum_non_actual</th>\n",
              "      <th>if_random</th>\n",
              "      <th>lift</th>\n",
              "      <th>K_S</th>\n",
              "      <th>gain</th>\n",
              "    </tr>\n",
              "    <tr>\n",
              "      <th>decile</th>\n",
              "      <th></th>\n",
              "      <th></th>\n",
              "      <th></th>\n",
              "      <th></th>\n",
              "      <th></th>\n",
              "      <th></th>\n",
              "      <th></th>\n",
              "      <th></th>\n",
              "      <th></th>\n",
              "      <th></th>\n",
              "      <th></th>\n",
              "      <th></th>\n",
              "    </tr>\n",
              "  </thead>\n",
              "  <tbody>\n",
              "    <tr>\n",
              "      <th>0</th>\n",
              "      <td>320</td>\n",
              "      <td>122</td>\n",
              "      <td>198</td>\n",
              "      <td>320</td>\n",
              "      <td>122</td>\n",
              "      <td>198</td>\n",
              "      <td>0.20</td>\n",
              "      <td>0.08</td>\n",
              "      <td>60.0</td>\n",
              "      <td>2.03</td>\n",
              "      <td>12.0</td>\n",
              "      <td>38.12</td>\n",
              "    </tr>\n",
              "    <tr>\n",
              "      <th>1</th>\n",
              "      <td>320</td>\n",
              "      <td>98</td>\n",
              "      <td>222</td>\n",
              "      <td>640</td>\n",
              "      <td>220</td>\n",
              "      <td>420</td>\n",
              "      <td>0.37</td>\n",
              "      <td>0.16</td>\n",
              "      <td>120.0</td>\n",
              "      <td>1.83</td>\n",
              "      <td>21.0</td>\n",
              "      <td>34.38</td>\n",
              "    </tr>\n",
              "    <tr>\n",
              "      <th>2</th>\n",
              "      <td>320</td>\n",
              "      <td>77</td>\n",
              "      <td>243</td>\n",
              "      <td>960</td>\n",
              "      <td>297</td>\n",
              "      <td>663</td>\n",
              "      <td>0.50</td>\n",
              "      <td>0.26</td>\n",
              "      <td>180.0</td>\n",
              "      <td>1.65</td>\n",
              "      <td>24.0</td>\n",
              "      <td>30.94</td>\n",
              "    </tr>\n",
              "    <tr>\n",
              "      <th>3</th>\n",
              "      <td>320</td>\n",
              "      <td>67</td>\n",
              "      <td>253</td>\n",
              "      <td>1280</td>\n",
              "      <td>364</td>\n",
              "      <td>916</td>\n",
              "      <td>0.61</td>\n",
              "      <td>0.35</td>\n",
              "      <td>240.0</td>\n",
              "      <td>1.52</td>\n",
              "      <td>26.0</td>\n",
              "      <td>28.44</td>\n",
              "    </tr>\n",
              "    <tr>\n",
              "      <th>4</th>\n",
              "      <td>320</td>\n",
              "      <td>68</td>\n",
              "      <td>252</td>\n",
              "      <td>1600</td>\n",
              "      <td>432</td>\n",
              "      <td>1168</td>\n",
              "      <td>0.72</td>\n",
              "      <td>0.45</td>\n",
              "      <td>300.0</td>\n",
              "      <td>1.44</td>\n",
              "      <td>27.0</td>\n",
              "      <td>27.00</td>\n",
              "    </tr>\n",
              "    <tr>\n",
              "      <th>5</th>\n",
              "      <td>320</td>\n",
              "      <td>60</td>\n",
              "      <td>260</td>\n",
              "      <td>1920</td>\n",
              "      <td>492</td>\n",
              "      <td>1428</td>\n",
              "      <td>0.82</td>\n",
              "      <td>0.55</td>\n",
              "      <td>360.0</td>\n",
              "      <td>1.37</td>\n",
              "      <td>27.0</td>\n",
              "      <td>25.62</td>\n",
              "    </tr>\n",
              "    <tr>\n",
              "      <th>6</th>\n",
              "      <td>320</td>\n",
              "      <td>42</td>\n",
              "      <td>278</td>\n",
              "      <td>2240</td>\n",
              "      <td>534</td>\n",
              "      <td>1706</td>\n",
              "      <td>0.89</td>\n",
              "      <td>0.66</td>\n",
              "      <td>420.0</td>\n",
              "      <td>1.27</td>\n",
              "      <td>23.0</td>\n",
              "      <td>23.84</td>\n",
              "    </tr>\n",
              "    <tr>\n",
              "      <th>7</th>\n",
              "      <td>320</td>\n",
              "      <td>31</td>\n",
              "      <td>289</td>\n",
              "      <td>2560</td>\n",
              "      <td>565</td>\n",
              "      <td>1995</td>\n",
              "      <td>0.94</td>\n",
              "      <td>0.77</td>\n",
              "      <td>480.0</td>\n",
              "      <td>1.18</td>\n",
              "      <td>17.0</td>\n",
              "      <td>22.07</td>\n",
              "    </tr>\n",
              "    <tr>\n",
              "      <th>8</th>\n",
              "      <td>320</td>\n",
              "      <td>23</td>\n",
              "      <td>297</td>\n",
              "      <td>2880</td>\n",
              "      <td>588</td>\n",
              "      <td>2292</td>\n",
              "      <td>0.98</td>\n",
              "      <td>0.88</td>\n",
              "      <td>540.0</td>\n",
              "      <td>1.09</td>\n",
              "      <td>10.0</td>\n",
              "      <td>20.42</td>\n",
              "    </tr>\n",
              "    <tr>\n",
              "      <th>9</th>\n",
              "      <td>320</td>\n",
              "      <td>12</td>\n",
              "      <td>308</td>\n",
              "      <td>3200</td>\n",
              "      <td>600</td>\n",
              "      <td>2600</td>\n",
              "      <td>1.00</td>\n",
              "      <td>1.00</td>\n",
              "      <td>600.0</td>\n",
              "      <td>1.00</td>\n",
              "      <td>0.0</td>\n",
              "      <td>18.75</td>\n",
              "    </tr>\n",
              "  </tbody>\n",
              "</table>\n",
              "</div>"
            ],
            "text/plain": [
              "        count  actual  non_actual  cum_count  ...  if_random  lift   K_S   gain\n",
              "decile                                        ...                              \n",
              "0         320     122         198        320  ...       60.0  2.03  12.0  38.12\n",
              "1         320      98         222        640  ...      120.0  1.83  21.0  34.38\n",
              "2         320      77         243        960  ...      180.0  1.65  24.0  30.94\n",
              "3         320      67         253       1280  ...      240.0  1.52  26.0  28.44\n",
              "4         320      68         252       1600  ...      300.0  1.44  27.0  27.00\n",
              "5         320      60         260       1920  ...      360.0  1.37  27.0  25.62\n",
              "6         320      42         278       2240  ...      420.0  1.27  23.0  23.84\n",
              "7         320      31         289       2560  ...      480.0  1.18  17.0  22.07\n",
              "8         320      23         297       2880  ...      540.0  1.09  10.0  20.42\n",
              "9         320      12         308       3200  ...      600.0  1.00   0.0  18.75\n",
              "\n",
              "[10 rows x 12 columns]"
            ]
          },
          "metadata": {
            "tags": []
          },
          "execution_count": 75
        }
      ]
    },
    {
      "cell_type": "markdown",
      "metadata": {
        "id": "j_iDWZNPRMPz"
      },
      "source": [
        "The result is pretty good, but what if using only selected variables?"
      ]
    },
    {
      "cell_type": "markdown",
      "metadata": {
        "id": "Kuy2qCMtOJKb"
      },
      "source": [
        "## Using selected variables by Lasso"
      ]
    },
    {
      "cell_type": "markdown",
      "metadata": {
        "id": "ytsQoz58QU2l"
      },
      "source": [
        "### benchmark"
      ]
    },
    {
      "cell_type": "code",
      "metadata": {
        "colab": {
          "base_uri": "https://localhost:8080/"
        },
        "id": "GnCiPndUONtR",
        "outputId": "d0571086-13d4-47bf-9b5c-df3bb2ecdd7e"
      },
      "source": [
        "glm_v2 = H2OGeneralizedLinearEstimator(family= \"binomial\", lambda_ = 0.05) #, compute_p_values = True)\n",
        "glm_v2.train(predictors2,target,training_frame=train_hex3)"
      ],
      "execution_count": null,
      "outputs": [
        {
          "output_type": "stream",
          "text": [
            "glm Model Build progress: |███████████████████████████████████████████████| 100%\n"
          ],
          "name": "stdout"
        }
      ]
    },
    {
      "cell_type": "code",
      "metadata": {
        "colab": {
          "base_uri": "https://localhost:8080/",
          "height": 267
        },
        "id": "YuVHUlPrP56h",
        "outputId": "0842e338-5525-48de-e5e5-f039134f70ab"
      },
      "source": [
        "glm_v2.predict(test_hex3)"
      ],
      "execution_count": null,
      "outputs": [
        {
          "output_type": "stream",
          "text": [
            "glm prediction progress: |████████████████████████████████████████████████| 100%\n"
          ],
          "name": "stdout"
        },
        {
          "output_type": "display_data",
          "data": {
            "text/html": [
              "<table>\n",
              "<thead>\n",
              "<tr><th style=\"text-align: right;\">  predict</th><th style=\"text-align: right;\">      p0</th><th style=\"text-align: right;\">      p1</th></tr>\n",
              "</thead>\n",
              "<tbody>\n",
              "<tr><td style=\"text-align: right;\">        1</td><td style=\"text-align: right;\">0.812213</td><td style=\"text-align: right;\">0.187787</td></tr>\n",
              "<tr><td style=\"text-align: right;\">        1</td><td style=\"text-align: right;\">0.812213</td><td style=\"text-align: right;\">0.187787</td></tr>\n",
              "<tr><td style=\"text-align: right;\">        1</td><td style=\"text-align: right;\">0.81179 </td><td style=\"text-align: right;\">0.18821 </td></tr>\n",
              "<tr><td style=\"text-align: right;\">        1</td><td style=\"text-align: right;\">0.812213</td><td style=\"text-align: right;\">0.187787</td></tr>\n",
              "<tr><td style=\"text-align: right;\">        1</td><td style=\"text-align: right;\">0.812213</td><td style=\"text-align: right;\">0.187787</td></tr>\n",
              "<tr><td style=\"text-align: right;\">        1</td><td style=\"text-align: right;\">0.812213</td><td style=\"text-align: right;\">0.187787</td></tr>\n",
              "<tr><td style=\"text-align: right;\">        1</td><td style=\"text-align: right;\">0.812213</td><td style=\"text-align: right;\">0.187787</td></tr>\n",
              "<tr><td style=\"text-align: right;\">        1</td><td style=\"text-align: right;\">0.811786</td><td style=\"text-align: right;\">0.188214</td></tr>\n",
              "<tr><td style=\"text-align: right;\">        1</td><td style=\"text-align: right;\">0.811816</td><td style=\"text-align: right;\">0.188184</td></tr>\n",
              "<tr><td style=\"text-align: right;\">        1</td><td style=\"text-align: right;\">0.812213</td><td style=\"text-align: right;\">0.187787</td></tr>\n",
              "</tbody>\n",
              "</table>"
            ]
          },
          "metadata": {
            "tags": []
          }
        },
        {
          "output_type": "execute_result",
          "data": {
            "text/plain": [
              ""
            ]
          },
          "metadata": {
            "tags": []
          },
          "execution_count": 105
        }
      ]
    },
    {
      "cell_type": "code",
      "metadata": {
        "colab": {
          "base_uri": "https://localhost:8080/",
          "height": 427
        },
        "id": "Oc_R0cLoQA_4",
        "outputId": "48b8fffe-48df-4d79-bef3-311fad6c8b4e"
      },
      "source": [
        "def createGains(model):\n",
        "    predictions = model.predict(test_hex3)['p1']\n",
        "    test_scores = test_hex3['loan_default'].cbind(predictions).as_data_frame()\n",
        "\n",
        "    #sort on prediction (descending), add id, and decile for groups containing 1/10 of datapoints\n",
        "    test_scores = test_scores.sort_values(by='p1',ascending=False)\n",
        "    test_scores['row_id'] = range(0,0+len(test_scores))\n",
        "    test_scores['decile'] = ( test_scores['row_id'] / (len(test_scores)/10) ).astype(int)\n",
        "    #see count by decile\n",
        "    test_scores.loc[test_scores['decile'] == 10]=9\n",
        "    test_scores['decile'].value_counts()\n",
        "\n",
        "    #create gains table\n",
        "    gains = test_scores.groupby('decile')['loan_default'].agg(['count','sum'])\n",
        "    gains.columns = ['count','actual']\n",
        "    gains\n",
        "\n",
        "    #add features to gains table\n",
        "    gains['non_actual'] = gains['count'] - gains['actual']\n",
        "    gains['cum_count'] = gains['count'].cumsum()\n",
        "    gains['cum_actual'] = gains['actual'].cumsum()\n",
        "    gains['cum_non_actual'] = gains['non_actual'].cumsum()\n",
        "    gains['percent_cum_actual'] = (gains['cum_actual'] / np.max(gains['cum_actual'])).round(2)\n",
        "    gains['percent_cum_non_actual'] = (gains['cum_non_actual'] / np.max(gains['cum_non_actual'])).round(2)\n",
        "    gains['if_random'] = np.max(gains['cum_actual']) /10 \n",
        "    gains['if_random'] = gains['if_random'].cumsum()\n",
        "    gains['lift'] = (gains['cum_actual'] / gains['if_random']).round(2)\n",
        "    gains['K_S'] = np.abs( gains['percent_cum_actual'] -  gains['percent_cum_non_actual'] ) * 100\n",
        "    gains['gain']=(gains['cum_actual']/gains['cum_count']*100).round(2)\n",
        "    gains = pd.DataFrame(gains)\n",
        "    return(gains)\n",
        "\n",
        "createGains(glm_v2)"
      ],
      "execution_count": null,
      "outputs": [
        {
          "output_type": "stream",
          "text": [
            "glm prediction progress: |████████████████████████████████████████████████| 100%\n"
          ],
          "name": "stdout"
        },
        {
          "output_type": "execute_result",
          "data": {
            "text/html": [
              "<div>\n",
              "<style scoped>\n",
              "    .dataframe tbody tr th:only-of-type {\n",
              "        vertical-align: middle;\n",
              "    }\n",
              "\n",
              "    .dataframe tbody tr th {\n",
              "        vertical-align: top;\n",
              "    }\n",
              "\n",
              "    .dataframe thead th {\n",
              "        text-align: right;\n",
              "    }\n",
              "</style>\n",
              "<table border=\"1\" class=\"dataframe\">\n",
              "  <thead>\n",
              "    <tr style=\"text-align: right;\">\n",
              "      <th></th>\n",
              "      <th>count</th>\n",
              "      <th>actual</th>\n",
              "      <th>non_actual</th>\n",
              "      <th>cum_count</th>\n",
              "      <th>cum_actual</th>\n",
              "      <th>cum_non_actual</th>\n",
              "      <th>percent_cum_actual</th>\n",
              "      <th>percent_cum_non_actual</th>\n",
              "      <th>if_random</th>\n",
              "      <th>lift</th>\n",
              "      <th>K_S</th>\n",
              "      <th>gain</th>\n",
              "    </tr>\n",
              "    <tr>\n",
              "      <th>decile</th>\n",
              "      <th></th>\n",
              "      <th></th>\n",
              "      <th></th>\n",
              "      <th></th>\n",
              "      <th></th>\n",
              "      <th></th>\n",
              "      <th></th>\n",
              "      <th></th>\n",
              "      <th></th>\n",
              "      <th></th>\n",
              "      <th></th>\n",
              "      <th></th>\n",
              "    </tr>\n",
              "  </thead>\n",
              "  <tbody>\n",
              "    <tr>\n",
              "      <th>0</th>\n",
              "      <td>320</td>\n",
              "      <td>82</td>\n",
              "      <td>238</td>\n",
              "      <td>320</td>\n",
              "      <td>82</td>\n",
              "      <td>238</td>\n",
              "      <td>0.14</td>\n",
              "      <td>0.09</td>\n",
              "      <td>60.0</td>\n",
              "      <td>1.37</td>\n",
              "      <td>5.0</td>\n",
              "      <td>25.62</td>\n",
              "    </tr>\n",
              "    <tr>\n",
              "      <th>1</th>\n",
              "      <td>320</td>\n",
              "      <td>70</td>\n",
              "      <td>250</td>\n",
              "      <td>640</td>\n",
              "      <td>152</td>\n",
              "      <td>488</td>\n",
              "      <td>0.25</td>\n",
              "      <td>0.19</td>\n",
              "      <td>120.0</td>\n",
              "      <td>1.27</td>\n",
              "      <td>6.0</td>\n",
              "      <td>23.75</td>\n",
              "    </tr>\n",
              "    <tr>\n",
              "      <th>2</th>\n",
              "      <td>320</td>\n",
              "      <td>73</td>\n",
              "      <td>247</td>\n",
              "      <td>960</td>\n",
              "      <td>225</td>\n",
              "      <td>735</td>\n",
              "      <td>0.38</td>\n",
              "      <td>0.28</td>\n",
              "      <td>180.0</td>\n",
              "      <td>1.25</td>\n",
              "      <td>10.0</td>\n",
              "      <td>23.44</td>\n",
              "    </tr>\n",
              "    <tr>\n",
              "      <th>3</th>\n",
              "      <td>320</td>\n",
              "      <td>56</td>\n",
              "      <td>264</td>\n",
              "      <td>1280</td>\n",
              "      <td>281</td>\n",
              "      <td>999</td>\n",
              "      <td>0.47</td>\n",
              "      <td>0.38</td>\n",
              "      <td>240.0</td>\n",
              "      <td>1.17</td>\n",
              "      <td>9.0</td>\n",
              "      <td>21.95</td>\n",
              "    </tr>\n",
              "    <tr>\n",
              "      <th>4</th>\n",
              "      <td>320</td>\n",
              "      <td>61</td>\n",
              "      <td>259</td>\n",
              "      <td>1600</td>\n",
              "      <td>342</td>\n",
              "      <td>1258</td>\n",
              "      <td>0.57</td>\n",
              "      <td>0.48</td>\n",
              "      <td>300.0</td>\n",
              "      <td>1.14</td>\n",
              "      <td>9.0</td>\n",
              "      <td>21.38</td>\n",
              "    </tr>\n",
              "    <tr>\n",
              "      <th>5</th>\n",
              "      <td>320</td>\n",
              "      <td>48</td>\n",
              "      <td>272</td>\n",
              "      <td>1920</td>\n",
              "      <td>390</td>\n",
              "      <td>1530</td>\n",
              "      <td>0.65</td>\n",
              "      <td>0.59</td>\n",
              "      <td>360.0</td>\n",
              "      <td>1.08</td>\n",
              "      <td>6.0</td>\n",
              "      <td>20.31</td>\n",
              "    </tr>\n",
              "    <tr>\n",
              "      <th>6</th>\n",
              "      <td>320</td>\n",
              "      <td>49</td>\n",
              "      <td>271</td>\n",
              "      <td>2240</td>\n",
              "      <td>439</td>\n",
              "      <td>1801</td>\n",
              "      <td>0.73</td>\n",
              "      <td>0.69</td>\n",
              "      <td>420.0</td>\n",
              "      <td>1.05</td>\n",
              "      <td>4.0</td>\n",
              "      <td>19.60</td>\n",
              "    </tr>\n",
              "    <tr>\n",
              "      <th>7</th>\n",
              "      <td>320</td>\n",
              "      <td>51</td>\n",
              "      <td>269</td>\n",
              "      <td>2560</td>\n",
              "      <td>490</td>\n",
              "      <td>2070</td>\n",
              "      <td>0.82</td>\n",
              "      <td>0.80</td>\n",
              "      <td>480.0</td>\n",
              "      <td>1.02</td>\n",
              "      <td>2.0</td>\n",
              "      <td>19.14</td>\n",
              "    </tr>\n",
              "    <tr>\n",
              "      <th>8</th>\n",
              "      <td>320</td>\n",
              "      <td>53</td>\n",
              "      <td>267</td>\n",
              "      <td>2880</td>\n",
              "      <td>543</td>\n",
              "      <td>2337</td>\n",
              "      <td>0.90</td>\n",
              "      <td>0.90</td>\n",
              "      <td>540.0</td>\n",
              "      <td>1.01</td>\n",
              "      <td>0.0</td>\n",
              "      <td>18.85</td>\n",
              "    </tr>\n",
              "    <tr>\n",
              "      <th>9</th>\n",
              "      <td>320</td>\n",
              "      <td>57</td>\n",
              "      <td>263</td>\n",
              "      <td>3200</td>\n",
              "      <td>600</td>\n",
              "      <td>2600</td>\n",
              "      <td>1.00</td>\n",
              "      <td>1.00</td>\n",
              "      <td>600.0</td>\n",
              "      <td>1.00</td>\n",
              "      <td>0.0</td>\n",
              "      <td>18.75</td>\n",
              "    </tr>\n",
              "  </tbody>\n",
              "</table>\n",
              "</div>"
            ],
            "text/plain": [
              "        count  actual  non_actual  cum_count  ...  if_random  lift   K_S   gain\n",
              "decile                                        ...                              \n",
              "0         320      82         238        320  ...       60.0  1.37   5.0  25.62\n",
              "1         320      70         250        640  ...      120.0  1.27   6.0  23.75\n",
              "2         320      73         247        960  ...      180.0  1.25  10.0  23.44\n",
              "3         320      56         264       1280  ...      240.0  1.17   9.0  21.95\n",
              "4         320      61         259       1600  ...      300.0  1.14   9.0  21.38\n",
              "5         320      48         272       1920  ...      360.0  1.08   6.0  20.31\n",
              "6         320      49         271       2240  ...      420.0  1.05   4.0  19.60\n",
              "7         320      51         269       2560  ...      480.0  1.02   2.0  19.14\n",
              "8         320      53         267       2880  ...      540.0  1.01   0.0  18.85\n",
              "9         320      57         263       3200  ...      600.0  1.00   0.0  18.75\n",
              "\n",
              "[10 rows x 12 columns]"
            ]
          },
          "metadata": {
            "tags": []
          },
          "execution_count": 106
        }
      ]
    },
    {
      "cell_type": "code",
      "metadata": {
        "colab": {
          "base_uri": "https://localhost:8080/",
          "height": 431
        },
        "id": "4r_fgVGZQMAv",
        "outputId": "2908b73c-3116-4476-b748-a9c5340d8c3c"
      },
      "source": [
        "ROC_AUC(glm_v2,test_hex3,'loan_default')"
      ],
      "execution_count": null,
      "outputs": [
        {
          "output_type": "stream",
          "text": [
            "glm prediction progress: |████████████████████████████████████████████████| 100%\n",
            "\n",
            "   * ROC curve: The ROC curve plots the true positive rate vs. the false rositive sate\n",
            "\n",
            "\t  * The area under the curve (AUC): A value between 0.5 (random) and 1.0 (perfect), measuring the prediction accuracy\n",
            "\n",
            "   * Recall (R) = The number of true positives / (the number of true positives + the number of false negatives)\n",
            "\n"
          ],
          "name": "stdout"
        },
        {
          "output_type": "display_data",
          "data": {
            "image/png": "[encoded data removed]",
            "text/plain": [
              "<Figure size 720x288 with 2 Axes>"
            ]
          },
          "metadata": {
            "tags": [],
            "needs_background": "light"
          }
        }
      ]
    },
    {
      "cell_type": "markdown",
      "metadata": {
        "id": "yQ3SRgOoQRvY"
      },
      "source": [
        "## Apparently, using selected variables by Lasso performs worse than using all variables. Next step is to apply the best model on all data instead of a small portion."
      ]
    },
    {
      "cell_type": "code",
      "metadata": {
        "colab": {
          "base_uri": "https://localhost:8080/"
        },
        "id": "OalYD4GoRIG3",
        "outputId": "7c58268a-b17d-4727-d2c4-32e0211b1347"
      },
      "source": [
        "best.train(predictors,target,training_frame=train_hex222)"
      ],
      "execution_count": null,
      "outputs": [
        {
          "output_type": "stream",
          "text": [
            "/usr/local/lib/python3.6/dist-packages/h2o/estimators/estimator_base.py:200: RuntimeWarning: Dropping bad and constant columns: [TD054, TD051, TD062, TD061, CR012, TD029, TD028, TD027, TD026, TD048, TD025, TD044, TD055]\n",
            "  warnings.warn(mesg[\"message\"], RuntimeWarning)\n"
          ],
          "name": "stderr"
        },
        {
          "output_type": "stream",
          "text": [
            "glm Model Build progress: |███████████████████████████████████████████████| 100%\n"
          ],
          "name": "stdout"
        }
      ]
    },
    {
      "cell_type": "code",
      "metadata": {
        "colab": {
          "base_uri": "https://localhost:8080/",
          "height": 267
        },
        "id": "YHBJj3J4Rmo_",
        "outputId": "dd356193-6834-453b-a89d-bf784e29a1d1"
      },
      "source": [
        "best.predict(test_hex222)"
      ],
      "execution_count": null,
      "outputs": [
        {
          "output_type": "stream",
          "text": [
            "glm prediction progress: |████████████████████████████████████████████████| 100%\n"
          ],
          "name": "stdout"
        },
        {
          "output_type": "display_data",
          "data": {
            "text/html": [
              "<table>\n",
              "<thead>\n",
              "<tr><th style=\"text-align: right;\">  predict</th></tr>\n",
              "</thead>\n",
              "<tbody>\n",
              "<tr><td style=\"text-align: right;\">0.144922 </td></tr>\n",
              "<tr><td style=\"text-align: right;\">0.135753 </td></tr>\n",
              "<tr><td style=\"text-align: right;\">0.0598259</td></tr>\n",
              "<tr><td style=\"text-align: right;\">0.237066 </td></tr>\n",
              "<tr><td style=\"text-align: right;\">0.422766 </td></tr>\n",
              "<tr><td style=\"text-align: right;\">0.139668 </td></tr>\n",
              "<tr><td style=\"text-align: right;\">0.515701 </td></tr>\n",
              "<tr><td style=\"text-align: right;\">0.231834 </td></tr>\n",
              "<tr><td style=\"text-align: right;\">0.236572 </td></tr>\n",
              "<tr><td style=\"text-align: right;\">0.0810054</td></tr>\n",
              "</tbody>\n",
              "</table>"
            ]
          },
          "metadata": {
            "tags": []
          }
        },
        {
          "output_type": "execute_result",
          "data": {
            "text/plain": [
              ""
            ]
          },
          "metadata": {
            "tags": []
          },
          "execution_count": 113
        }
      ]
    },
    {
      "cell_type": "markdown",
      "metadata": {
        "id": "j-RC-F4N7qde"
      },
      "source": [
        "# AutoML"
      ]
    },
    {
      "cell_type": "code",
      "metadata": {
        "id": "zKCefWB67tqs"
      },
      "source": [
        "from h2o.automl import H2OAutoML"
      ],
      "execution_count": null,
      "outputs": []
    },
    {
      "cell_type": "code",
      "metadata": {
        "colab": {
          "base_uri": "https://localhost:8080/"
        },
        "id": "fWC9uVGX8Y0K",
        "outputId": "1e0ca4b4-99c0-4e8c-9fe4-4a4d4a1f95b9"
      },
      "source": [
        "# Run AutoML for 20 base models (limited to 1 hour max runtime by default)\n",
        "aml_v1 = H2OAutoML(max_runtime_secs = 60, max_models=20, seed=1)\n",
        "aml_v1.train(predictors,target,training_frame=train_hex22)"
      ],
      "execution_count": null,
      "outputs": [
        {
          "output_type": "stream",
          "text": [
            "AutoML progress: |████████████████████████████████████████████████████████| 100%\n"
          ],
          "name": "stdout"
        }
      ]
    },
    {
      "cell_type": "code",
      "metadata": {
        "colab": {
          "base_uri": "https://localhost:8080/",
          "height": 250
        },
        "id": "hRgen-F486cu",
        "outputId": "cec792c3-3016-4df1-a1d6-d027bbad62d5"
      },
      "source": [
        "aml_v1.leaderboard.head()"
      ],
      "execution_count": null,
      "outputs": [
        {
          "output_type": "display_data",
          "data": {
            "text/html": [
              "<table>\n",
              "<thead>\n",
              "<tr><th>model_id                                           </th><th style=\"text-align: right;\">  mean_residual_deviance</th><th style=\"text-align: right;\">    rmse</th><th style=\"text-align: right;\">     mse</th><th style=\"text-align: right;\">     mae</th><th style=\"text-align: right;\">   rmsle</th></tr>\n",
              "</thead>\n",
              "<tbody>\n",
              "<tr><td>StackedEnsemble_BestOfFamily_AutoML_20201124_015011</td><td style=\"text-align: right;\">                0.14475 </td><td style=\"text-align: right;\">0.38046 </td><td style=\"text-align: right;\">0.14475 </td><td style=\"text-align: right;\">0.290124</td><td style=\"text-align: right;\">0.267037</td></tr>\n",
              "<tr><td>StackedEnsemble_AllModels_AutoML_20201124_015011   </td><td style=\"text-align: right;\">                0.144781</td><td style=\"text-align: right;\">0.380501</td><td style=\"text-align: right;\">0.144781</td><td style=\"text-align: right;\">0.289879</td><td style=\"text-align: right;\">0.267102</td></tr>\n",
              "<tr><td>GLM_1_AutoML_20201124_015011                       </td><td style=\"text-align: right;\">                0.145142</td><td style=\"text-align: right;\">0.380975</td><td style=\"text-align: right;\">0.145142</td><td style=\"text-align: right;\">0.292175</td><td style=\"text-align: right;\">0.267073</td></tr>\n",
              "<tr><td>GBM_grid__1_AutoML_20201124_015011_model_1         </td><td style=\"text-align: right;\">                0.149324</td><td style=\"text-align: right;\">0.386424</td><td style=\"text-align: right;\">0.149324</td><td style=\"text-align: right;\">0.297405</td><td style=\"text-align: right;\">0.271533</td></tr>\n",
              "<tr><td>GBM_4_AutoML_20201124_015011                       </td><td style=\"text-align: right;\">                0.151133</td><td style=\"text-align: right;\">0.388758</td><td style=\"text-align: right;\">0.151133</td><td style=\"text-align: right;\">0.302781</td><td style=\"text-align: right;\">0.272459</td></tr>\n",
              "<tr><td>GBM_2_AutoML_20201124_015011                       </td><td style=\"text-align: right;\">                0.151294</td><td style=\"text-align: right;\">0.388965</td><td style=\"text-align: right;\">0.151294</td><td style=\"text-align: right;\">0.303697</td><td style=\"text-align: right;\">0.272732</td></tr>\n",
              "<tr><td>GBM_5_AutoML_20201124_015011                       </td><td style=\"text-align: right;\">                0.151324</td><td style=\"text-align: right;\">0.389004</td><td style=\"text-align: right;\">0.151324</td><td style=\"text-align: right;\">0.30388 </td><td style=\"text-align: right;\">0.272719</td></tr>\n",
              "<tr><td>GBM_grid__1_AutoML_20201124_015011_model_2         </td><td style=\"text-align: right;\">                0.151454</td><td style=\"text-align: right;\">0.389171</td><td style=\"text-align: right;\">0.151454</td><td style=\"text-align: right;\">0.303718</td><td style=\"text-align: right;\">0.272894</td></tr>\n",
              "<tr><td>GBM_3_AutoML_20201124_015011                       </td><td style=\"text-align: right;\">                0.151585</td><td style=\"text-align: right;\">0.38934 </td><td style=\"text-align: right;\">0.151585</td><td style=\"text-align: right;\">0.30346 </td><td style=\"text-align: right;\">0.272992</td></tr>\n",
              "<tr><td>GBM_1_AutoML_20201124_015011                       </td><td style=\"text-align: right;\">                0.151968</td><td style=\"text-align: right;\">0.38983 </td><td style=\"text-align: right;\">0.151968</td><td style=\"text-align: right;\">0.304345</td><td style=\"text-align: right;\">0.273424</td></tr>\n",
              "</tbody>\n",
              "</table>"
            ]
          },
          "metadata": {
            "tags": []
          }
        },
        {
          "output_type": "execute_result",
          "data": {
            "text/plain": [
              ""
            ]
          },
          "metadata": {
            "tags": []
          },
          "execution_count": 44
        }
      ]
    },
    {
      "cell_type": "code",
      "metadata": {
        "colab": {
          "base_uri": "https://localhost:8080/",
          "height": 267
        },
        "id": "sPMKaW1z89qf",
        "outputId": "e3092dcc-0be2-43dd-f6d1-d7b8ccb2c9e7"
      },
      "source": [
        "pred = aml_v1.predict(test_hex22)\n",
        "pred.head()"
      ],
      "execution_count": null,
      "outputs": [
        {
          "output_type": "stream",
          "text": [
            "stackedensemble prediction progress: |████████████████████████████████████| 100%\n"
          ],
          "name": "stdout"
        },
        {
          "output_type": "display_data",
          "data": {
            "text/html": [
              "<table>\n",
              "<thead>\n",
              "<tr><th style=\"text-align: right;\">  predict</th></tr>\n",
              "</thead>\n",
              "<tbody>\n",
              "<tr><td style=\"text-align: right;\"> 0.267052</td></tr>\n",
              "<tr><td style=\"text-align: right;\"> 0.142469</td></tr>\n",
              "<tr><td style=\"text-align: right;\"> 0.148546</td></tr>\n",
              "<tr><td style=\"text-align: right;\"> 0.192658</td></tr>\n",
              "<tr><td style=\"text-align: right;\"> 0.118979</td></tr>\n",
              "<tr><td style=\"text-align: right;\"> 0.247798</td></tr>\n",
              "<tr><td style=\"text-align: right;\"> 0.2239  </td></tr>\n",
              "<tr><td style=\"text-align: right;\"> 0.347258</td></tr>\n",
              "<tr><td style=\"text-align: right;\"> 0.113228</td></tr>\n",
              "<tr><td style=\"text-align: right;\"> 0.211364</td></tr>\n",
              "</tbody>\n",
              "</table>"
            ]
          },
          "metadata": {
            "tags": []
          }
        },
        {
          "output_type": "execute_result",
          "data": {
            "text/plain": [
              ""
            ]
          },
          "metadata": {
            "tags": []
          },
          "execution_count": 46
        }
      ]
    },
    {
      "cell_type": "code",
      "metadata": {
        "colab": {
          "base_uri": "https://localhost:8080/"
        },
        "id": "rmp5UIjS9B21",
        "outputId": "3f1808e6-1086-44d5-faa3-12329529201f"
      },
      "source": [
        "perf = aml_v1.leader.model_performance(test_hex22)\n",
        "perf"
      ],
      "execution_count": null,
      "outputs": [
        {
          "output_type": "stream",
          "text": [
            "\n",
            "ModelMetricsRegressionGLM: stackedensemble\n",
            "** Reported on test data. **\n",
            "\n",
            "MSE: 0.14312925784507066\n",
            "RMSE: 0.3783242760451286\n",
            "MAE: 0.2886649362578111\n",
            "RMSLE: 0.2655289832679062\n",
            "R^2: 0.06048487158107463\n",
            "Mean Residual Deviance: 0.14312925784507066\n",
            "Null degrees of freedom: 3199\n",
            "Residual degrees of freedom: 3195\n",
            "Null deviance: 487.50055555552717\n",
            "Residual deviance: 458.01362510422615\n",
            "AIC: 2872.383713373058\n"
          ],
          "name": "stdout"
        },
        {
          "output_type": "execute_result",
          "data": {
            "text/plain": [
              ""
            ]
          },
          "metadata": {
            "tags": []
          },
          "execution_count": 47
        }
      ]
    },
    {
      "cell_type": "code",
      "metadata": {
        "colab": {
          "base_uri": "https://localhost:8080/",
          "height": 427
        },
        "id": "X5gjeTSQ9Jom",
        "outputId": "9be93d97-538c-4f2e-9f54-f813fbc27e74"
      },
      "source": [
        "def createGains(model):\n",
        "    predictions = model.predict(test_hex22)\n",
        "    test_scores = test_hex22['loan_default'].cbind(predictions).as_data_frame()\n",
        "\n",
        "    #sort on prediction (descending), add id, and decile for groups containing 1/10 of datapoints\n",
        "    test_scores = test_scores.sort_values(by='predict',ascending=False)\n",
        "    test_scores['row_id'] = range(0,0+len(test_scores))\n",
        "    test_scores['decile'] = ( test_scores['row_id'] / (len(test_scores)/10) ).astype(int)\n",
        "    #see count by decile\n",
        "    test_scores.loc[test_scores['decile'] == 10]=9\n",
        "    test_scores['decile'].value_counts()\n",
        "\n",
        "    #create gains table\n",
        "    gains = test_scores.groupby('decile')['loan_default'].agg(['count','sum'])\n",
        "    gains.columns = ['count','actual']\n",
        "    gains\n",
        "\n",
        "    #add features to gains table\n",
        "    gains['non_actual'] = gains['count'] - gains['actual']\n",
        "    gains['cum_count'] = gains['count'].cumsum()\n",
        "    gains['cum_actual'] = gains['actual'].cumsum()\n",
        "    gains['cum_non_actual'] = gains['non_actual'].cumsum()\n",
        "    gains['percent_cum_actual'] = (gains['cum_actual'] / np.max(gains['cum_actual'])).round(2)\n",
        "    gains['percent_cum_non_actual'] = (gains['cum_non_actual'] / np.max(gains['cum_non_actual'])).round(2)\n",
        "    gains['if_random'] = np.max(gains['cum_actual']) /10 \n",
        "    gains['if_random'] = gains['if_random'].cumsum()\n",
        "    gains['lift'] = (gains['cum_actual'] / gains['if_random']).round(2)\n",
        "    gains['K_S'] = np.abs( gains['percent_cum_actual'] -  gains['percent_cum_non_actual'] ) * 100\n",
        "    gains['gain']=(gains['cum_actual']/gains['cum_count']*100).round(2)\n",
        "    gains = pd.DataFrame(gains)\n",
        "    return(gains)\n",
        "\n",
        "createGains(aml_v1)"
      ],
      "execution_count": null,
      "outputs": [
        {
          "output_type": "stream",
          "text": [
            "stackedensemble prediction progress: |████████████████████████████████████| 100%\n"
          ],
          "name": "stdout"
        },
        {
          "output_type": "execute_result",
          "data": {
            "text/html": [
              "<div>\n",
              "<style scoped>\n",
              "    .dataframe tbody tr th:only-of-type {\n",
              "        vertical-align: middle;\n",
              "    }\n",
              "\n",
              "    .dataframe tbody tr th {\n",
              "        vertical-align: top;\n",
              "    }\n",
              "\n",
              "    .dataframe thead th {\n",
              "        text-align: right;\n",
              "    }\n",
              "</style>\n",
              "<table border=\"1\" class=\"dataframe\">\n",
              "  <thead>\n",
              "    <tr style=\"text-align: right;\">\n",
              "      <th></th>\n",
              "      <th>count</th>\n",
              "      <th>actual</th>\n",
              "      <th>non_actual</th>\n",
              "      <th>cum_count</th>\n",
              "      <th>cum_actual</th>\n",
              "      <th>cum_non_actual</th>\n",
              "      <th>percent_cum_actual</th>\n",
              "      <th>percent_cum_non_actual</th>\n",
              "      <th>if_random</th>\n",
              "      <th>lift</th>\n",
              "      <th>K_S</th>\n",
              "      <th>gain</th>\n",
              "    </tr>\n",
              "    <tr>\n",
              "      <th>decile</th>\n",
              "      <th></th>\n",
              "      <th></th>\n",
              "      <th></th>\n",
              "      <th></th>\n",
              "      <th></th>\n",
              "      <th></th>\n",
              "      <th></th>\n",
              "      <th></th>\n",
              "      <th></th>\n",
              "      <th></th>\n",
              "      <th></th>\n",
              "      <th></th>\n",
              "    </tr>\n",
              "  </thead>\n",
              "  <tbody>\n",
              "    <tr>\n",
              "      <th>0</th>\n",
              "      <td>320</td>\n",
              "      <td>122</td>\n",
              "      <td>198</td>\n",
              "      <td>320</td>\n",
              "      <td>122</td>\n",
              "      <td>198</td>\n",
              "      <td>0.20</td>\n",
              "      <td>0.08</td>\n",
              "      <td>60.0</td>\n",
              "      <td>2.03</td>\n",
              "      <td>12.0</td>\n",
              "      <td>38.12</td>\n",
              "    </tr>\n",
              "    <tr>\n",
              "      <th>1</th>\n",
              "      <td>320</td>\n",
              "      <td>96</td>\n",
              "      <td>224</td>\n",
              "      <td>640</td>\n",
              "      <td>218</td>\n",
              "      <td>422</td>\n",
              "      <td>0.36</td>\n",
              "      <td>0.16</td>\n",
              "      <td>120.0</td>\n",
              "      <td>1.82</td>\n",
              "      <td>20.0</td>\n",
              "      <td>34.06</td>\n",
              "    </tr>\n",
              "    <tr>\n",
              "      <th>2</th>\n",
              "      <td>320</td>\n",
              "      <td>79</td>\n",
              "      <td>241</td>\n",
              "      <td>960</td>\n",
              "      <td>297</td>\n",
              "      <td>663</td>\n",
              "      <td>0.50</td>\n",
              "      <td>0.26</td>\n",
              "      <td>180.0</td>\n",
              "      <td>1.65</td>\n",
              "      <td>24.0</td>\n",
              "      <td>30.94</td>\n",
              "    </tr>\n",
              "    <tr>\n",
              "      <th>3</th>\n",
              "      <td>320</td>\n",
              "      <td>70</td>\n",
              "      <td>250</td>\n",
              "      <td>1280</td>\n",
              "      <td>367</td>\n",
              "      <td>913</td>\n",
              "      <td>0.61</td>\n",
              "      <td>0.35</td>\n",
              "      <td>240.0</td>\n",
              "      <td>1.53</td>\n",
              "      <td>26.0</td>\n",
              "      <td>28.67</td>\n",
              "    </tr>\n",
              "    <tr>\n",
              "      <th>4</th>\n",
              "      <td>320</td>\n",
              "      <td>62</td>\n",
              "      <td>258</td>\n",
              "      <td>1600</td>\n",
              "      <td>429</td>\n",
              "      <td>1171</td>\n",
              "      <td>0.72</td>\n",
              "      <td>0.45</td>\n",
              "      <td>300.0</td>\n",
              "      <td>1.43</td>\n",
              "      <td>27.0</td>\n",
              "      <td>26.81</td>\n",
              "    </tr>\n",
              "    <tr>\n",
              "      <th>5</th>\n",
              "      <td>320</td>\n",
              "      <td>52</td>\n",
              "      <td>268</td>\n",
              "      <td>1920</td>\n",
              "      <td>481</td>\n",
              "      <td>1439</td>\n",
              "      <td>0.80</td>\n",
              "      <td>0.55</td>\n",
              "      <td>360.0</td>\n",
              "      <td>1.34</td>\n",
              "      <td>25.0</td>\n",
              "      <td>25.05</td>\n",
              "    </tr>\n",
              "    <tr>\n",
              "      <th>6</th>\n",
              "      <td>320</td>\n",
              "      <td>39</td>\n",
              "      <td>281</td>\n",
              "      <td>2240</td>\n",
              "      <td>520</td>\n",
              "      <td>1720</td>\n",
              "      <td>0.87</td>\n",
              "      <td>0.66</td>\n",
              "      <td>420.0</td>\n",
              "      <td>1.24</td>\n",
              "      <td>21.0</td>\n",
              "      <td>23.21</td>\n",
              "    </tr>\n",
              "    <tr>\n",
              "      <th>7</th>\n",
              "      <td>320</td>\n",
              "      <td>40</td>\n",
              "      <td>280</td>\n",
              "      <td>2560</td>\n",
              "      <td>560</td>\n",
              "      <td>2000</td>\n",
              "      <td>0.93</td>\n",
              "      <td>0.77</td>\n",
              "      <td>480.0</td>\n",
              "      <td>1.17</td>\n",
              "      <td>16.0</td>\n",
              "      <td>21.88</td>\n",
              "    </tr>\n",
              "    <tr>\n",
              "      <th>8</th>\n",
              "      <td>320</td>\n",
              "      <td>32</td>\n",
              "      <td>288</td>\n",
              "      <td>2880</td>\n",
              "      <td>592</td>\n",
              "      <td>2288</td>\n",
              "      <td>0.99</td>\n",
              "      <td>0.88</td>\n",
              "      <td>540.0</td>\n",
              "      <td>1.10</td>\n",
              "      <td>11.0</td>\n",
              "      <td>20.56</td>\n",
              "    </tr>\n",
              "    <tr>\n",
              "      <th>9</th>\n",
              "      <td>320</td>\n",
              "      <td>8</td>\n",
              "      <td>312</td>\n",
              "      <td>3200</td>\n",
              "      <td>600</td>\n",
              "      <td>2600</td>\n",
              "      <td>1.00</td>\n",
              "      <td>1.00</td>\n",
              "      <td>600.0</td>\n",
              "      <td>1.00</td>\n",
              "      <td>0.0</td>\n",
              "      <td>18.75</td>\n",
              "    </tr>\n",
              "  </tbody>\n",
              "</table>\n",
              "</div>"
            ],
            "text/plain": [
              "        count  actual  non_actual  cum_count  ...  if_random  lift   K_S   gain\n",
              "decile                                        ...                              \n",
              "0         320     122         198        320  ...       60.0  2.03  12.0  38.12\n",
              "1         320      96         224        640  ...      120.0  1.82  20.0  34.06\n",
              "2         320      79         241        960  ...      180.0  1.65  24.0  30.94\n",
              "3         320      70         250       1280  ...      240.0  1.53  26.0  28.67\n",
              "4         320      62         258       1600  ...      300.0  1.43  27.0  26.81\n",
              "5         320      52         268       1920  ...      360.0  1.34  25.0  25.05\n",
              "6         320      39         281       2240  ...      420.0  1.24  21.0  23.21\n",
              "7         320      40         280       2560  ...      480.0  1.17  16.0  21.88\n",
              "8         320      32         288       2880  ...      540.0  1.10  11.0  20.56\n",
              "9         320       8         312       3200  ...      600.0  1.00   0.0  18.75\n",
              "\n",
              "[10 rows x 12 columns]"
            ]
          },
          "metadata": {
            "tags": []
          },
          "execution_count": 50
        }
      ]
    },
    {
      "cell_type": "markdown",
      "metadata": {
        "id": "QeppEWYZXVuG"
      },
      "source": [
        "The best models from AutoML and from GLM random grid search are having the same lift score"
      ]
    }
  ]
}